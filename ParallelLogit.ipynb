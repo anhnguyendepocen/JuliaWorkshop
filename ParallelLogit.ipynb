{
 "metadata": {
  "language": "Julia",
  "name": "",
  "signature": "sha256:8c18ee98abf99669183d20c2d15be43e6b515858498715e2a74379bba627a6ab"
 },
 "nbformat": 3,
 "nbformat_minor": 0,
 "worksheets": [
  {
   "cells": [
    {
     "cell_type": "heading",
     "level": 1,
     "metadata": {},
     "source": [
      "Parallelizing logistic regression"
     ]
    },
    {
     "cell_type": "markdown",
     "metadata": {},
     "source": [
      "There is considerable interest in using parallel computing to fit statistical models to \"Big Data\".  The purpose of this notebook is to provide an implementation of the IRLS ([Iteratively Reweighted Least Squares](http://en.wikipedia.org/wiki/Iteratively_reweighted_least_squares)) algorithm in [Julia](http://julialang.org) using [SharedArrays](http://docs.julialang.org/en/latest/manual/parallel-computing/#shared-arrays-experimental-unix-only-feature).  `SharedArray` objects are suitable for parallel computing using multiple processes (or, in the not-too-distant future, multiple threads) that have access to the same memory space."
     ]
    },
    {
     "cell_type": "heading",
     "level": 2,
     "metadata": {},
     "source": [
      "The IRLS algorithm"
     ]
    },
    {
     "cell_type": "markdown",
     "metadata": {},
     "source": [
      "First we establish some notation.  Logistic regression is a technique for fitting the `p`-dimensional coefficient parameter vector, $\\beta$, in a [linear predictor](http://en.wikipedia.org/wiki/Linear_predictor_function) expression, $\\eta = \\bf X\\beta$, where $\\bf X$ is the $n\\times p$ model matrix.  The $n$-dimensional observed responses, $\\bf y$, are either binary responses, recorded as 0 or 1, or the fraction of successes in a number of independent and identically distributed (i.i.d.) Bernoulli trials.  The probability model for binary responses is the [Bernoulli distribution](http://en.wikipedia.org/wiki/Bernoulli_distribution).  Because the probability of a 1 is also the expected value of the Bernoulli, we write the parameter as $\\mu$.\n",
      "\n",
      "The [Binomial distribution](http://en.wikipedia.org/wiki/Binomial_distribution) is typically written as the total number of successes in a set of $k$ i.i.d. Bernoulli trials.  For logistic regression we consider the binomial to be the distribution of the fraction of successes so that the mean, $\\mu$, satisfies $0\\le\\mu\\le1$.  The number of trials, $k_i,i=1,\\dots,n$, are the _prior weights_ in the model.\n",
      "\n",
      "As described on p. 40 of McCullagh and Nelder, _Generalized Linear Models (2nd ed.)_ (Chapman and Hall, 1989), the IRLS algorithm to determine the [maximum likelihood estimates](http://en.wikipedia.org/wiki/Maximum_likelihood) or mle's of the coefficients, $\\widehat{\\beta}$, consists of solving a weighted least squares problem in the scale of the linear predictor and using the solution as either the new parameter vector or an increment to the existing parameter vector, from which a new working residual and working weights are calculated.  They present the algorithm in terms of an \"adjusted dependent variate\" with typical value\n",
      "$$z = \\eta + \\frac{y-\\mu}{d\\eta/d\\mu}.$$\n",
      "\n",
      "The working weights are given on the inverse scale by\n",
      "$$W^{-1}=\\left(\\frac{d\\,\\eta}{d\\,\\mu}\\right)^2 v(\\mu),$$\n",
      "where $v(\\mu)$ is the variance of a Bernoulli random variable with mean $\\mu$.  That is,\n",
      "$$v(\\mu) = \\mu(1-\\mu).$$\n",
      "\n",
      "The mean, $\\mu$, and the linear predictor, $\\eta$, are related by an invertible scalar link function, $g$, and its inverse, $g^{-1}$.  For distributions like the Bernoulli and Binomial that are in the [exponential family](http://en.wikipedia.org/wiki/Exponential_family), the form of the probability mass function or probability density provides a [canonical link](http://en.wikipedia.org/wiki/Generalized_linear_model#Link_function) function, which is the _logit_ or \"log-odds\" function,\n",
      "$$g(\\mu)=\\log\\left(\\frac{\\mu}{1-\\mu}\\right),$$\n",
      "whose inverse is the _logistic_ function\n",
      "$$g^{-1}(\\mu)=\\frac{1}{1+e^{-\\eta}}.$$\n",
      "\n",
      "One of the properties of a canonical link for a member of the exponential family is that the derivative of the link, $d\\,\\eta/d\\,\\mu$, is the variance function, $v(\\mu)$.  We can take advantage of this to cancel terms in some expressions.  In particular, large values of $\\eta$ can produce values of $\\mu$ sufficiently close to 1 that $v=\\mu(1-\\mu)$ evaluates to 0 in floating point arithmetic.   Thus, we prefer to cancel out denominator terms involving $v(\\mu)$ (or, equivalently, $d\\,\\eta/d\\,\\mu$).\n",
      "\n",
      "McCullagh and Nelder provide a fixed-point version of the IRLS algorithm in which the $i+1$st parameter vector, $\\beta^{(i+1)}$, is the solution to the weighted least squares problem with normal equations\n",
      "$$\\bf X'WX\\beta^{(i+1)}=X'Wz$$\n",
      "I prefer the increment version of the algorithm in which the $i$th increment, $\\delta^{(i)}$, to the parameter vector, $\\beta$, is the solution to a weighted least squares problem involving the working residual, not the working response.  That is,\n",
      "$$\\bf X'WX\\delta^{(i)}=X'Wr$$\n",
      "where a typical element of $r$ is\n",
      "$$r = \\frac{y-\\mu}{v(\\mu)}.$$\n",
      "\n",
      "I prefer the increment form because more terms can be cancelled in that form and because a step factor can easily be incorporated into the calculation of $\\beta^{(i+1)}$.  Furthermore I prefer to use a convergence criterion that depends only on the current parameter vector and not on relative changes in the objective or the parameter vector.  Such a criterion can easily be incorporated in the increment version of the algorithm.\n",
      "\n",
      "Finally, we must evaluate the objective function, which is the deviance or negative twice the log-likelihood.  This is evaluated as the sum of the squared _deviance residuals_.  It is convenient to write the expression using an auxillary 2-argument function, `xlogy`. "
     ]
    },
    {
     "cell_type": "code",
     "collapsed": false,
     "input": [
      "xlogy(x::Float64,y::Float64) = x > 0.0 ? x*log(y) : 0.0"
     ],
     "language": "python",
     "metadata": {},
     "outputs": [
      {
       "metadata": {},
       "output_type": "pyout",
       "prompt_number": 1,
       "text": [
        "xlogy (generic function with 1 method)"
       ]
      }
     ],
     "prompt_number": 1
    },
    {
     "cell_type": "markdown",
     "metadata": {},
     "source": [
      "The nature of this function is easier to understand when you consider the 1-argument function"
     ]
    },
    {
     "cell_type": "code",
     "collapsed": false,
     "input": [
      "xlogx(x::Float64) = x > 0.0 ? x*log(x) : 0.0"
     ],
     "language": "python",
     "metadata": {},
     "outputs": [
      {
       "metadata": {},
       "output_type": "pyout",
       "prompt_number": 2,
       "text": [
        "xlogx (generic function with 1 method)"
       ]
      }
     ],
     "prompt_number": 2
    },
    {
     "cell_type": "markdown",
     "metadata": {},
     "source": [
      "which avoids evaluating the undefined result `0.0*log(0.0)` while providing the correct limit as $x\\downarrow0$.\n",
      "\n",
      "The form of Julia function definition shown here is suitable for functions that consist of a single expression.  Because all named Julia functions are generic and use multiple dispatch, these are actually method definitions.  We have specialized the argument(s) to `Float64` which is a double precision floating point value.  We do so because we use explicit constants, 0.0, in the expression of the method.  Compilation of Julia functions is enhanced if we ensure _type consistency_ in the value of the function.  That is, a `Float64` argument should always return the same result type, which will also be `Float64` for these functions.\n",
      "\n",
      "If we were to define a method for another floating point type, say `Float32` (i.e. single precision) if speed and storage stage were more important than accuracy and precision of the results, or `BigFloat`, if accuracy and precision were more important than speed and storage size, we should be careful that the result for $x\\le0$ is of the same type as that for $x>0$.  We use the trivial functions, `one(T)` and `zero(T)`, where `T` is a type, to enforce this.  Methods for these generics return the 1 or 0 element, respectively, of the indicated type.  Additional methods allow the usage `zero(x)` which returns the 0 element of the same type as `x`.\n",
      "\n",
      "Julia allows for templated argument types."
     ]
    },
    {
     "cell_type": "code",
     "collapsed": false,
     "input": [
      "xlogy{T<:FloatingPoint}(x::T,y::T) = x > zero(T) > x*log(y) : zero(T)"
     ],
     "language": "python",
     "metadata": {},
     "outputs": [
      {
       "metadata": {},
       "output_type": "pyout",
       "prompt_number": 3,
       "text": [
        "xlogy (generic function with 2 methods)"
       ]
      }
     ],
     "prompt_number": 3
    },
    {
     "cell_type": "markdown",
     "metadata": {},
     "source": [
      "will define the `xlogy` function for any floating point type."
     ]
    },
    {
     "cell_type": "heading",
     "level": 3,
     "metadata": {},
     "source": [
      "Logistic regression in a single process"
     ]
    },
    {
     "cell_type": "markdown",
     "metadata": {},
     "source": [
      "We use a Cholesky decomposition to evaluate the solution of the increment normal equations, accumulating the lower triangle of $\\bf X'WX$, and the right hand side, $\\bf X'Wr$, while iterating over the observations. To avoid allocating storage at every evaluation of this function we write it as a _mutating_ function that modifies its first two arguments. "
     ]
    },
    {
     "cell_type": "code",
     "collapsed": false,
     "input": [
      "function XtWXXtWr!{T<:FloatingPoint}(XtWX::Matrix{T},XtWr::Vector{T},\n",
      "    Xt::Matrix{T},\u03b2::Vector{T},y::Vector{T},wt::Vector{T})\n",
      "                     # check arguments\n",
      "    p,n = size(Xt); r,s = size(XtWX)\n",
      "    p == r == s == length(\u03b2) == length(XtWr) || throw(DimensionMismatch(\"\"))\n",
      "    n == length(y) == length(wt) || throw(DimensionMismatch(\"\"))\n",
      "                     # initialize output arrays and deviance\n",
      "    fill!(XtWX,zero(T))\n",
      "    fill!(XtWr,zero(T))\n",
      "    dev = zero(T)\n",
      "    \n",
      "    for i in 1:n\n",
      "        \u03b7 = zero(T)\n",
      "        for j in 1:p\n",
      "            \u03b7 += Xt[j,i] * \u03b2[j]\n",
      "        end\n",
      "        \u03bc = inv(one(T) + exp(-\u03b7))\n",
      "        om\u03bc = one(T) - \u03bc\n",
      "        yi = y[i]\n",
      "        omyi = one(T) - yi\n",
      "        wi = wt[i]\n",
      "        dev += wi * (xlogy(yi,yi/\u03bc) + xlogy(omyi,omyi/om\u03bc))\n",
      "        \u03bc\u03b7 = \u03bc * om\u03bc\n",
      "        W = wi * \u03bc\u03b7\n",
      "        for j in 1:p\n",
      "            for ii in j:p  # lower triangle of XtWX\n",
      "                XtWX[ii,j] += W*Xt[j,i]*Xt[ii,i]\n",
      "            end\n",
      "            XtWr[j] += wi*Xt[j,i]*(yi - \u03bc)\n",
      "        end\n",
      "    end\n",
      "    dev\n",
      "end"
     ],
     "language": "python",
     "metadata": {},
     "outputs": [
      {
       "metadata": {},
       "output_type": "pyout",
       "prompt_number": 4,
       "text": [
        "XtWXXtWr! (generic function with 1 method)"
       ]
      }
     ],
     "prompt_number": 4
    },
    {
     "cell_type": "markdown",
     "metadata": {},
     "source": [
      "We simulate some data and run the iterative scheme.  For the time being we will set the initial parameter value, $\\beta^{(0)}$, to be a vector of zeros."
     ]
    },
    {
     "cell_type": "code",
     "collapsed": false,
     "input": [
      "s"
     ],
     "language": "python",
     "metadata": {},
     "outputs": [],
     "prompt_number": 5
    },
    {
     "cell_type": "markdown",
     "metadata": {},
     "source": [
      "Check that these look as we would expect them to"
     ]
    },
    {
     "cell_type": "code",
     "collapsed": false,
     "input": [
      "Xt[:,1:5]"
     ],
     "language": "python",
     "metadata": {},
     "outputs": [
      {
       "metadata": {},
       "output_type": "pyout",
       "prompt_number": 6,
       "text": [
        "20x5 Array{Float64,2}:\n",
        "  1.0        1.0          1.0          1.0          1.0      \n",
        "  1.11827   -1.74977     -0.208344     0.00799128   0.789693 \n",
        "  1.08136   -0.516312     1.34935      1.11812      1.48835  \n",
        " -0.961086   0.4733      -0.396866    -0.704777     1.09898  \n",
        " -0.119137   1.52079     -0.490462     1.6894       1.19078  \n",
        "  0.247765  -0.452104    -0.483783    -0.036608    -0.0646926\n",
        " -0.473751  -1.06457      0.771133    -0.439936    -0.82374  \n",
        " -1.11822   -0.869683     0.30882      0.21882     -0.480645 \n",
        "  0.430034   0.760794    -0.486151    -0.665238    -1.68216  \n",
        " -1.12253    0.947591    -1.07777     -1.18422      1.38444  \n",
        "  0.928497   0.00705692  -0.241197     0.704911     1.19598  \n",
        "  0.292082   0.529868     1.05496     -0.223856    -0.0369678\n",
        "  0.161776   1.66172      1.00252     -1.25863     -1.38185  \n",
        "  0.305436   0.363959    -0.00335542  -0.0267826    0.352594 \n",
        " -0.8252     0.803775    -1.78596      0.652298    -0.542158 \n",
        " -0.711975   0.547975     1.85166      1.65883     -0.784645 \n",
        "  1.57619   -2.64676      0.886973     0.728398     2.0421   \n",
        " -1.32869    0.0987844    1.18718     -0.344442    -0.525211 \n",
        " -0.399876   0.914558     0.554668     0.866115     0.456851 \n",
        "  0.715079   0.576119     0.8533      -0.0963349   -0.891095 "
       ]
      }
     ],
     "prompt_number": 6
    },
    {
     "cell_type": "code",
     "collapsed": false,
     "input": [
      "show(y[1:20])"
     ],
     "language": "python",
     "metadata": {},
     "outputs": [
      {
       "output_type": "stream",
       "stream": "stdout",
       "text": [
        "[0"
       ]
      },
      {
       "output_type": "stream",
       "stream": "stdout",
       "text": [
        ".0,1.0,1.0,0.0,0.0,0.0,0.0,0.0,0.0,0.0,0.0,0.0,1.0,1.0,0.0,0.0,0.0,0.0,1.0,0.0]"
       ]
      }
     ],
     "prompt_number": 7
    },
    {
     "cell_type": "code",
     "collapsed": false,
     "input": [
      "sum(y)  # should be close to n/2"
     ],
     "language": "python",
     "metadata": {},
     "outputs": [
      {
       "metadata": {},
       "output_type": "pyout",
       "prompt_number": 8,
       "text": [
        "500434.0"
       ]
      }
     ],
     "prompt_number": 8
    },
    {
     "cell_type": "markdown",
     "metadata": {},
     "source": [
      "The values of $\\beta$, $XtWX$ and $XtWr$ will change throughout the iterations.  It may seem peculiar that we declare them as `const`.  In Julia `const` declares that the type of the variable will not change, but the individual values can."
     ]
    },
    {
     "cell_type": "code",
     "collapsed": false,
     "input": [
      "const \u03b2 = zeros(p);\n",
      "const \u03b4\u03b2 = zeros(p);\n",
      "const L = zeros(p,p);\n",
      "const XtWr = zeros(p);"
     ],
     "language": "python",
     "metadata": {},
     "outputs": [],
     "prompt_number": 9
    },
    {
     "cell_type": "code",
     "collapsed": false,
     "input": [
      "XtWXXtWr!(L,XtWr,Xt,\u03b2,y,wt)"
     ],
     "language": "python",
     "metadata": {},
     "outputs": [
      {
       "metadata": {},
       "output_type": "pyout",
       "prompt_number": 10,
       "text": [
        "693147.1805662245"
       ]
      }
     ],
     "prompt_number": 10
    },
    {
     "cell_type": "markdown",
     "metadata": {},
     "source": [
      "We use the Cholesky factorization of `XtWX` to solve the weighted least squares problem.  This is done in place, which is why we called that variable `L`.  Currently it holds $X'WX$ with only the lower triangle filled in."
     ]
    },
    {
     "cell_type": "code",
     "collapsed": false,
     "input": [
      "L"
     ],
     "language": "python",
     "metadata": {},
     "outputs": [
      {
       "metadata": {},
       "output_type": "pyout",
       "prompt_number": 11,
       "text": [
        "20x20 Array{Float64,2}:\n",
        " 250000.0           0.0           0.0      \u2026       0.0         0.0        0.0\n",
        "    476.25     250431.0           0.0              0.0         0.0        0.0\n",
        "   -134.826       250.341    250039.0              0.0         0.0        0.0\n",
        "   -199.44        428.937      -234.62             0.0         0.0        0.0\n",
        "   -526.484      -203.534       260.129            0.0         0.0        0.0\n",
        "   -238.224       -66.5572      -74.9619   \u2026       0.0         0.0        0.0\n",
        "     63.6574     -117.344       -67.748            0.0         0.0        0.0\n",
        "      1.58283    -488.716        36.7399           0.0         0.0        0.0\n",
        "     12.9425      301.11         -4.94682          0.0         0.0        0.0\n",
        "    -97.9503     -205.306       -56.497            0.0         0.0        0.0\n",
        "   -348.56       -114.294         1.41852  \u2026       0.0         0.0        0.0\n",
        "   -287.08          4.46386     175.661            0.0         0.0        0.0\n",
        "    -38.8208      231.406        41.82             0.0         0.0        0.0\n",
        "    -89.9727      146.614      -219.66             0.0         0.0        0.0\n",
        "     65.2375      223.688      -164.981            0.0         0.0        0.0\n",
        "    -26.1388      241.379       105.208    \u2026       0.0         0.0        0.0\n",
        "    307.417       -39.2459       78.8858           0.0         0.0        0.0\n",
        "    280.663       230.984       123.739       250747.0         0.0        0.0\n",
        "    588.27         40.3473       67.2641         312.438  249801.0        0.0\n",
        "    244.055      -380.515       462.448         -227.853     180.55  249850.0"
       ]
      }
     ],
     "prompt_number": 11
    },
    {
     "cell_type": "markdown",
     "metadata": {},
     "source": [
      "Methods for `cholfact!` overwrite the argument with its Cholesky factorization.  We need to specify which triangle is to be overwritten. "
     ]
    },
    {
     "cell_type": "code",
     "collapsed": false,
     "input": [
      "cholfact!(L,:L)"
     ],
     "language": "python",
     "metadata": {},
     "outputs": [
      {
       "metadata": {},
       "output_type": "pyout",
       "prompt_number": 12,
       "text": [
        "Cholesky{Float64} with factor:\n",
        "20x20 Triangular{Float64,Array{Float64,2},:L,false}:\n",
        " 500.0           0.0          0.0         \u2026    0.0         0.0         0.0  \n",
        "   0.952501    500.43         0.0              0.0         0.0         0.0  \n",
        "  -0.269652      0.500766   500.039            0.0         0.0         0.0  \n",
        "  -0.39888       0.857897    -0.470278         0.0         0.0         0.0  \n",
        "  -1.05297      -0.404714     0.520055         0.0         0.0         0.0  \n",
        "  -0.476447     -0.132093    -0.150037    \u2026    0.0         0.0         0.0  \n",
        "   0.127315     -0.234729    -0.135182         0.0         0.0         0.0  \n",
        "   0.00316567   -0.976599     0.0744538        0.0         0.0         0.0  \n",
        "   0.0258851     0.601654    -0.0104814        0.0         0.0         0.0  \n",
        "  -0.195901     -0.409885    -0.11268          0.0         0.0         0.0  \n",
        "  -0.69712      -0.227066     0.00268829  \u2026    0.0         0.0         0.0  \n",
        "  -0.57416       0.0100129    0.350976         0.0         0.0         0.0  \n",
        "  -0.0776415     0.462563     0.0831284        0.0         0.0         0.0  \n",
        "  -0.179945      0.293319    -0.439676         0.0         0.0         0.0  \n",
        "   0.130475      0.446744    -0.330313         0.0         0.0         0.0  \n",
        "  -0.0522775     0.482443     0.209889    \u2026    0.0         0.0         0.0  \n",
        "   0.614835     -0.0795947    0.158171         0.0         0.0         0.0  \n",
        "   0.561327      0.460502     0.2473         500.742       0.0         0.0  \n",
        "   1.17654       0.0783858    0.135074         0.623977  499.795       0.0  \n",
        "   0.488111     -0.761306     0.925851        -0.45406     0.361066  499.845"
       ]
      }
     ],
     "prompt_number": 12
    },
    {
     "cell_type": "markdown",
     "metadata": {},
     "source": [
      "Unfortunately, the matrix `L` will persist but not the `Cholesky` object.  We can evaluate the solution directly while obtaining the factorization.  First we need to regenerate the cross-product matrix.  We will time this operation for later comparisons."
     ]
    },
    {
     "cell_type": "code",
     "collapsed": false,
     "input": [
      "@time XtWXXtWr!(L,XtWr,Xt,\u03b2,y,wt);"
     ],
     "language": "python",
     "metadata": {},
     "outputs": [
      {
       "output_type": "stream",
       "stream": "stdout",
       "text": [
        "elapsed time: 1"
       ]
      },
      {
       "output_type": "stream",
       "stream": "stdout",
       "text": [
        ".119829143 seconds (13896 bytes allocated)\n"
       ]
      }
     ],
     "prompt_number": 13
    },
    {
     "cell_type": "code",
     "collapsed": false,
     "input": [
      "copy!(\u03b4\u03b2,cholfact!(L)\\XtWr)"
     ],
     "language": "python",
     "metadata": {},
     "outputs": [
      {
       "metadata": {},
       "output_type": "pyout",
       "prompt_number": 14,
       "text": [
        "20-element Array{Float64,1}:\n",
        "  0.001736   \n",
        "  0.00163226 \n",
        "  0.000583982\n",
        " -0.00175441 \n",
        " -0.000418045\n",
        " -0.000180181\n",
        " -0.00212878 \n",
        "  0.000653455\n",
        " -0.00044381 \n",
        " -0.00034345 \n",
        "  0.0041457  \n",
        "  3.04967e-5 \n",
        "  0.00121772 \n",
        "  0.00105051 \n",
        " -0.00209444 \n",
        "  0.0025471  \n",
        "  0.0014108  \n",
        "  0.000174793\n",
        " -1.24998e-5 \n",
        " -0.00282162 "
       ]
      }
     ],
     "prompt_number": 14
    },
    {
     "cell_type": "markdown",
     "metadata": {},
     "source": [
      "At this point we check if the increment is successful in reducing the deviance."
     ]
    },
    {
     "cell_type": "code",
     "collapsed": false,
     "input": [
      "XtWXXtWr!(L,XtWr,Xt,\u03b2+\u03b4\u03b2,y,wt)"
     ],
     "language": "python",
     "metadata": {},
     "outputs": [
      {
       "metadata": {},
       "output_type": "pyout",
       "prompt_number": 15,
       "text": [
        "693140.2742024002"
       ]
      }
     ],
     "prompt_number": 15
    },
    {
     "cell_type": "heading",
     "level": 2,
     "metadata": {},
     "source": [
      "A `LogisticRegression` type and `fit` method"
     ]
    },
    {
     "cell_type": "markdown",
     "metadata": {},
     "source": [
      "We have reached the point where it will make sense to define a `LogisticRegression` type that retains all the information for fitting the model.  In the type definition we list the names and types of the member.  It is easiest to do this in a separate file that defines a module."
     ]
    },
    {
     "cell_type": "code",
     "collapsed": false,
     "input": [
      "type LogisticRegression{T <: FloatingPoint}\n",
      "    Xt::Matrix{T}\n",
      "    y::Vector{T}\n",
      "    wt::Vector{T}\n",
      "    \u03b2::Vector{T}\n",
      "    \u03b4\u03b2::Vector{T}\n",
      "    stepfactor::T\n",
      "    L::Matrix{T}\n",
      "    XtWr::Vector{T}\n",
      "end"
     ],
     "language": "python",
     "metadata": {},
     "outputs": [],
     "prompt_number": 16
    },
    {
     "cell_type": "markdown",
     "metadata": {},
     "source": [
      "We also define a constructor for the type."
     ]
    },
    {
     "cell_type": "code",
     "collapsed": false,
     "input": [
      "function LogisticRegression{T<:FloatingPoint}(Xt::Matrix{T},y::Vector{T},wt::Vector{T})\n",
      "    p,n = size(Xt)\n",
      "    length(y) == n || throw(DimensionMismatch(\"\"))\n",
      "    length(wt) == 0 || length(wt) == n || throw(DimensionMismatch(\"\"))\n",
      "    LogisticRegression(Xt,y,wt,zeros(T,(p,)),Array(T,(p,)),one(T),Array(T,(p,p)),Array(T,(p,)))\n",
      "end\n",
      "LogisticRegression{T<:FloatingPoint}(Xt::Matrix{T},y::Vector{T}) = LogisticRegression(Xt,y,Array(T,(0,)))"
     ],
     "language": "python",
     "metadata": {},
     "outputs": [
      {
       "metadata": {},
       "output_type": "pyout",
       "prompt_number": 18,
       "text": [
        "LogisticRegression{T<:FloatingPoint} (constructor with 3 methods)"
       ]
      }
     ],
     "prompt_number": 18
    },
    {
     "cell_type": "code",
     "collapsed": false,
     "input": [
      "m1 = LogisticRegression(Xt,y,wt);"
     ],
     "language": "python",
     "metadata": {},
     "outputs": [],
     "prompt_number": 19
    },
    {
     "cell_type": "code",
     "collapsed": false,
     "input": [
      "names(m1)"
     ],
     "language": "python",
     "metadata": {},
     "outputs": [
      {
       "metadata": {},
       "output_type": "pyout",
       "prompt_number": 20,
       "text": [
        "8-element Array{Symbol,1}:\n",
        " :Xt        \n",
        " :y         \n",
        " :wt        \n",
        " :\u03b2         \n",
        " :\u03b4\u03b2        \n",
        " :stepfactor\n",
        " :L         \n",
        " :XtWr      "
       ]
      }
     ],
     "prompt_number": 20
    },
    {
     "cell_type": "code",
     "collapsed": false,
     "input": [
      "dump(m1)"
     ],
     "language": "python",
     "metadata": {},
     "outputs": [
      {
       "output_type": "stream",
       "stream": "stdout",
       "text": [
        "LogisticRegression{"
       ]
      },
      {
       "output_type": "stream",
       "stream": "stdout",
       "text": [
        "Float64} \n",
        "  Xt: Array(Float64,(20,1000000)) 20x1000000 Array{Float64,2}"
       ]
      },
      {
       "output_type": "stream",
       "stream": "stdout",
       "text": [
        ":\n",
        "  1.0        1.0          1.0         \u2026   1.0         1.0        1.0      \n",
        "  1.11827   -1.74977     -0.208344        1.01557    -0.951269   1.29262  \n",
        "  1.08136   -0.516312     1.34935        -0.334615   -0.704729  -1.72591  \n",
        " -0.961086   0.4733      -0.396866        0.226976    0.497226  -0.398258 \n",
        " -0.119137   1.52079     -0.490462        0.474224   -1.9948    -0.654006 \n",
        "  0.247765  -0.452104    -0.483783    \u2026  -0.832514   -0.52609    0.616089 \n",
        " -0.473751  -1.06457      0.771133        0.825919    0.646178  -1.213    \n",
        " -1.11822   -0.869683     0.30882         0.917495   -1.45951    1.35012  \n",
        "  0.430034   0.760794    -0.486151       -0.954589   -2.77553    1.66334  \n",
        " -1.12253    0.947591    -1.07777         1.19511    -2.858     -0.421169 \n",
        "  0.928497   0.00705692  -0.241197    \u2026   2.05734     0.358899  -0.466019 \n",
        "  0.292082   0.529868     1.05496        -0.663232    0.726475   0.0191374\n",
        "  0.161776   1.66172      1.00252        -0.266744    0.893757   0.0190211\n",
        "  0.305436   0.363959    -0.00335542     -0.682312    0.219034  -0.553178 \n",
        " -0.8252     0.803775    -1.78596         0.0166626  -0.32689    1.25577  \n",
        " -0.711975   0.547975     1.85166     \u2026  -0.641863    0.673967  -1.28488  \n",
        "  1.57619   -2.64676      0.886973        2.08432     1.20599    0.781411 \n",
        " -1.32869    0.0987844    1.18718        -0.543501    0.76477   -0.51756  \n",
        " -0.399876   0.914558     0.554668       -1.22665     1.27856    0.708355 \n",
        "  0.715079   0.576119     0.8533          1.30767    -1.11287    1.77256  \n",
        "  y: Array(Float64,(1000000,)) [0.0,1.0,1.0,0.0,0.0,0.0,0.0,0.0,0.0,0.0  \u2026  0.0,1.0,0.0,1.0,1.0,0.0,1.0,0.0,0.0,1.0]\n",
        "  wt: Array(Float64,(1000000,)) [1.0,1.0,1.0,1.0,1.0,1.0,1.0,1.0,1.0,1.0  \u2026  1.0,1.0,1.0,1.0,1.0,1.0,1.0,1.0,1.0,1.0]\n",
        "  \u03b2: Array(Float64,(20,)) [0.0,0.0,0.0,0.0,0.0,0.0,0.0,0.0,0.0,0.0,0.0,0.0,0.0,0.0,0.0,0.0,0.0,0.0,0.0,0.0]\n",
        "  \u03b4\u03b2: Array(Float64,(20,)) [1.44169e-316,1.44169e-316,5.24109e-316,5.24109e-316,9.88131e-324,2.76235e-318,9.88131e-324,9.88131e-324,6.94185e-310,6.94185e-310,5.24109e-316,5.24109e-316,9.88131e-324,2.76235e-318,9.88131e-324,9.88131e-324,5.21121e-316,1.44173e-316,5.2411e-316,5.24109e-316]\n",
        "  stepfactor: Float64 1.0\n",
        "  L: Array(Float64,(20,20)) 20x20 Array{Float64,2}:\n",
        " 1.46398e-316  1.41867e-316  0.0           \u2026  6.94168e-310  0.0         \n",
        " 0.0           0.0           5.23895e-316     0.0           2.04986e-311\n",
        " 0.0           4.06423e-316  9.88131e-324     0.0           0.0         \n",
        " 5.23894e-316  5.23895e-316  0.0              0.0           0.0         \n",
        " 2.27054e-312  2.24932e-312  0.0              2.04986e-311  7.11455e-322\n",
        " 0.0           0.0           0.0           \u2026  0.0           7.16395e-322\n",
        " 0.0           0.0           2.21341e-321     7.90505e-322  6.47524e-316\n",
        " 0.0           0.0           7.11455e-322     7.11455e-322  5.23911e-316\n",
        " 2.04986e-311  2.04986e-311  0.0              0.0           5.21238e-316\n",
        " 0.0           7.16395e-322  0.0              0.0           0.0         \n",
        " 7.90505e-322  5.25265e-316  5.23895e-316  \u2026  5.23905e-316  0.0         \n",
        " 7.11455e-322  4.24677e-316  6.94185e-310     6.94185e-310  5.21238e-316\n",
        " 0.0           5.239e-316    3.21143e-322     3.21143e-322  6.94185e-310\n",
        " 0.0           0.0           1.46398e-316     1.46398e-316  2.33132e-317\n",
        " 5.21251e-316  0.0           0.0              0.0           1.41865e-316\n",
        " 0.0           5.239e-316    5.23891e-316  \u2026  5.23834e-316  0.0         \n",
        " 5.23638e-316  6.94185e-310  5.23896e-316     5.23909e-316  0.0         \n",
        " 3.01119e-316  2.33132e-317  4.94066e-324     4.94066e-324  5.23909e-316\n",
        " 6.94185e-310  1.41865e-316  0.0              0.0           9.88131e-324\n",
        " 1.4822e-322   0.0           0.0              0.0           0.0         \n",
        "  XtWr: Array(Float64,(20,)) [5.2411e-316,5.24149e-316,1.97626e-323,2.78258e-318,1.97626e-323,1.97626e-323,5.24148e-316,0.0,5.2411e-316,5.2411e-316,9.88131e-324,2.76235e-318,9.88131e-324,9.88131e-324,5.13959e-316,6.94185e-310,5.2411e-316,5.2411e-316,9.88131e-324,2.76235e-318]\n"
       ]
      }
     ],
     "prompt_number": 21
    },
    {
     "cell_type": "code",
     "collapsed": false,
     "input": [
      "XtWXXtWr!(mm::LogisticRegression) = XtWXXtWr!(mm.L,mm.XtWr,mm.Xt,mm.\u03b2,mm.y,mm.wt)"
     ],
     "language": "python",
     "metadata": {},
     "outputs": [
      {
       "metadata": {},
       "output_type": "pyout",
       "prompt_number": 24,
       "text": [
        "XtWXXtWr! (generic function with 2 methods)"
       ]
      }
     ],
     "prompt_number": 24
    },
    {
     "cell_type": "code",
     "collapsed": false,
     "input": [
      "XtWXXtWr!(m1)"
     ],
     "language": "python",
     "metadata": {},
     "outputs": [
      {
       "metadata": {},
       "output_type": "pyout",
       "prompt_number": 25,
       "text": [
        "693147.1805662245"
       ]
      }
     ],
     "prompt_number": 25
    },
    {
     "cell_type": "code",
     "collapsed": false,
     "input": [
      "using ProfileView\n",
      "@profile XtWXXtWr!(m1)"
     ],
     "language": "python",
     "metadata": {},
     "outputs": [
      {
       "metadata": {},
       "output_type": "pyout",
       "prompt_number": 27,
       "text": [
        "693147.1805662245"
       ]
      }
     ],
     "prompt_number": 27
    },
    {
     "cell_type": "code",
     "collapsed": false,
     "input": [
      "ProfileView.view()"
     ],
     "language": "python",
     "metadata": {},
     "outputs": [
      {
       "metadata": {},
       "output_type": "pyout",
       "prompt_number": 28,
       "svg": [
        "<?xml version=\"1.0\" standalone=\"no\"?>\n",
        "<!DOCTYPE svg PUBLIC \"-//W3C//DTD SVG 1.1//EN\" \"http://www.w3.org/Graphics/SVG/1.1/DTD/svg11.dtd\">\n",
        "<svg version=\"1.1\" width=\"1200\" height=\"130\" viewBox=\"0 0 1200 130\" xmlns=\"http://www.w3.org/2000/svg\" >\n",
        "<defs >\n",
        "    <linearGradient id=\"background\" y1=\"0\" y2=\"1\" x1=\"0\" x2=\"0\" >\n",
        "        <stop stop-color=\"#eeeeee\" offset=\"5%\" />\n",
        "        <stop stop-color=\"#eeeeb0\" offset=\"95%\" />\n",
        "    </linearGradient>\n",
        "    <clipPath id=\"fig-16a06f9e8786428ab6dc3c6eaf9bf7d5-image-frame\">\n",
        "      <rect id=\"fig-16a06f9e8786428ab6dc3c6eaf9bf7d5-clip-rect\" x=\"0\" y=\"0\" width=\"1200\" height=\"130\" />\n",
        "    </clipPath>\n",
        "</defs>\n",
        "<style type=\"text/css\">\n",
        "    rect[rx]:hover { stroke:black; stroke-width:1; }\n",
        "    text:hover { stroke:black; stroke-width:1; stroke-opacity:0.35; }\n",
        "</style>\n",
        "<g id=\"fig-16a06f9e8786428ab6dc3c6eaf9bf7d5-frame\" clip-path=\"url(#fig-16a06f9e8786428ab6dc3c6eaf9bf7d5-image-frame)\">\n",
        "<rect class=\"pvbackground\" x=\"0.0\" y=\"0\" width=\"1200.0\" height=\"130.0\" fill=\"url(#background)\"  />\n",
        "<text class=\"pvbackground\" text-anchor=\"middle\" x=\"600\" y=\"24\" font-size=\"17\" font-family=\"Verdana\" fill=\"rgb(0,0,0)\"  >Profile results</text>\n",
        "<text text-anchor=\"left\" x=\"10\" y=\"113\" font-size=\"12\" font-family=\"Verdana\" fill=\"rgb(0,0,0)\"  >Function:</text>\n",
        "<text text-anchor=\"\" x=\"70\" y=\"113\" font-size=\"12\" font-family=\"Verdana\" fill=\"rgb(0,0,0)\" id=\"fig-16a06f9e8786428ab6dc3c6eaf9bf7d5-details\" > </text>\n",
        "<g id=\"fig-16a06f9e8786428ab6dc3c6eaf9bf7d5-viewport\" transform=\"scale(1)\">\n",
        "<rect vector-effect=\"non-scaling-stroke\" x=\"10.0\" y=\"75.0\" width=\"1179.480405107882\" height=\"15.0\" fill=\"rgb(120,90,252)\" rx=\"2\" ry=\"2\" data-shortinfo=\"include_string in loading.jl:97\" data-info=\"include_string in loading.jl:97\"/>\n",
        "<text text-anchor=\"\" x=\"14.0\" y=\"86.5\" font-size=\"12\" font-family=\"Verdana\" fill=\"rgb(0,0,0)\" ></text>\n",
        "<rect vector-effect=\"non-scaling-stroke\" x=\"10.0\" y=\"60.0\" width=\"590.779392338177\" height=\"15.0\" fill=\"rgb(140,0,69)\" rx=\"2\" ry=\"2\" data-shortinfo=\"anonymous in profile.jl:14\" data-info=\"anonymous in profile.jl:14\"/>\n",
        "<text text-anchor=\"\" x=\"14.0\" y=\"71.5\" font-size=\"12\" font-family=\"Verdana\" fill=\"rgb(0,0,0)\" ></text>\n",
        "<rect vector-effect=\"non-scaling-stroke\" x=\"600.779392338177\" y=\"60.0\" width=\"588.701012769705\" height=\"15.0\" fill=\"rgb(140,0,69)\" rx=\"2\" ry=\"2\" data-shortinfo=\"anonymous in profile.jl:14\" data-info=\"anonymous in profile.jl:14\"/>\n",
        "<text text-anchor=\"\" x=\"604.779392338177\" y=\"71.5\" font-size=\"12\" font-family=\"Verdana\" fill=\"rgb(0,0,0)\" ></text>\n",
        "<rect vector-effect=\"non-scaling-stroke\" x=\"10.0\" y=\"45.0\" width=\"1179.480405107882\" height=\"15.0\" fill=\"rgb(120,90,252)\" rx=\"2\" ry=\"2\" data-shortinfo=\"XtWXXtWr! in In[24]:1\" data-info=\"XtWXXtWr! in In[24]:1\"/>\n",
        "<text text-anchor=\"\" x=\"14.0\" y=\"56.5\" font-size=\"12\" font-family=\"Verdana\" fill=\"rgb(0,0,0)\" ></text>\n",
        "<rect vector-effect=\"non-scaling-stroke\" x=\"10.0\" y=\"30.0\" width=\"1.0391897842360187\" height=\"15.0\" fill=\"rgb(140,0,69)\" rx=\"2\" ry=\"2\" data-shortinfo=\"XtWXXtWr! in In[4]:15\" data-info=\"XtWXXtWr! in In[4]:15\"/>\n",
        "<text text-anchor=\"\" x=\"14.0\" y=\"41.5\" font-size=\"12\" font-family=\"Verdana\" fill=\"rgb(0,0,0)\" ></text>\n",
        "<rect vector-effect=\"non-scaling-stroke\" x=\"11.039189784236019\" y=\"30.0\" width=\"0.5195948921180111\" height=\"15.0\" fill=\"rgb(140,0,69)\" rx=\"2\" ry=\"2\" data-shortinfo=\"XtWXXtWr! in In[4]:15\" data-info=\"XtWXXtWr! in In[4]:15\"/>\n",
        "<text text-anchor=\"\" x=\"15.039189784236019\" y=\"41.5\" font-size=\"12\" font-family=\"Verdana\" fill=\"rgb(0,0,0)\" ></text>\n",
        "<rect vector-effect=\"non-scaling-stroke\" x=\"11.55878467635403\" y=\"30.0\" width=\"0.5195948921180094\" height=\"15.0\" fill=\"rgb(140,0,69)\" rx=\"2\" ry=\"2\" data-shortinfo=\"XtWXXtWr! in In[4]:15\" data-info=\"XtWXXtWr! in In[4]:15\"/>\n",
        "<text text-anchor=\"\" x=\"15.55878467635403\" y=\"41.5\" font-size=\"12\" font-family=\"Verdana\" fill=\"rgb(0,0,0)\" ></text>\n",
        "<rect vector-effect=\"non-scaling-stroke\" x=\"12.07837956847204\" y=\"30.0\" width=\"1.0391897842360187\" height=\"15.0\" fill=\"rgb(140,0,69)\" rx=\"2\" ry=\"2\" data-shortinfo=\"XtWXXtWr! in In[4]:15\" data-info=\"XtWXXtWr! in In[4]:15\"/>\n",
        "<text text-anchor=\"\" x=\"16.078379568472037\" y=\"41.5\" font-size=\"12\" font-family=\"Verdana\" fill=\"rgb(0,0,0)\" ></text>\n",
        "<rect vector-effect=\"non-scaling-stroke\" x=\"13.117569352708058\" y=\"30.0\" width=\"3.637164244826069\" height=\"15.0\" fill=\"rgb(140,0,69)\" rx=\"2\" ry=\"2\" data-shortinfo=\"XtWXXtWr! in In[4]:15\" data-info=\"XtWXXtWr! in In[4]:15\"/>\n",
        "<text text-anchor=\"\" x=\"17.11756935270806\" y=\"41.5\" font-size=\"12\" font-family=\"Verdana\" fill=\"rgb(0,0,0)\" ></text>\n",
        "<rect vector-effect=\"non-scaling-stroke\" x=\"16.754733597534127\" y=\"30.0\" width=\"1.0391897842360187\" height=\"15.0\" fill=\"rgb(140,0,69)\" rx=\"2\" ry=\"2\" data-shortinfo=\"XtWXXtWr! in In[4]:15\" data-info=\"XtWXXtWr! in In[4]:15\"/>\n",
        "<text text-anchor=\"\" x=\"20.754733597534127\" y=\"41.5\" font-size=\"12\" font-family=\"Verdana\" fill=\"rgb(0,0,0)\" ></text>\n",
        "<rect vector-effect=\"non-scaling-stroke\" x=\"17.793923381770146\" y=\"30.0\" width=\"1.5587846763540263\" height=\"15.0\" fill=\"rgb(140,0,69)\" rx=\"2\" ry=\"2\" data-shortinfo=\"XtWXXtWr! in In[4]:15\" data-info=\"XtWXXtWr! in In[4]:15\"/>\n",
        "<text text-anchor=\"\" x=\"21.793923381770146\" y=\"41.5\" font-size=\"12\" font-family=\"Verdana\" fill=\"rgb(0,0,0)\" ></text>\n",
        "<rect vector-effect=\"non-scaling-stroke\" x=\"19.352708058124172\" y=\"30.0\" width=\"2.597974460590052\" height=\"15.0\" fill=\"rgb(140,0,69)\" rx=\"2\" ry=\"2\" data-shortinfo=\"XtWXXtWr! in In[4]:15\" data-info=\"XtWXXtWr! in In[4]:15\"/>\n",
        "<text text-anchor=\"\" x=\"23.352708058124172\" y=\"41.5\" font-size=\"12\" font-family=\"Verdana\" fill=\"rgb(0,0,0)\" ></text>\n",
        "<rect vector-effect=\"non-scaling-stroke\" x=\"21.950682518714224\" y=\"30.0\" width=\"1.0391897842360187\" height=\"15.0\" fill=\"rgb(140,0,69)\" rx=\"2\" ry=\"2\" data-shortinfo=\"XtWXXtWr! in In[4]:15\" data-info=\"XtWXXtWr! in In[4]:15\"/>\n",
        "<text text-anchor=\"\" x=\"25.950682518714224\" y=\"41.5\" font-size=\"12\" font-family=\"Verdana\" fill=\"rgb(0,0,0)\" ></text>\n",
        "<rect vector-effect=\"non-scaling-stroke\" x=\"22.989872302950243\" y=\"30.0\" width=\"1.5587846763540263\" height=\"15.0\" fill=\"rgb(140,0,69)\" rx=\"2\" ry=\"2\" data-shortinfo=\"XtWXXtWr! in In[4]:15\" data-info=\"XtWXXtWr! in In[4]:15\"/>\n",
        "<text text-anchor=\"\" x=\"26.989872302950243\" y=\"41.5\" font-size=\"12\" font-family=\"Verdana\" fill=\"rgb(0,0,0)\" ></text>\n",
        "<rect vector-effect=\"non-scaling-stroke\" x=\"24.54865697930427\" y=\"30.0\" width=\"0.5195948921180111\" height=\"15.0\" fill=\"rgb(140,0,69)\" rx=\"2\" ry=\"2\" data-shortinfo=\"XtWXXtWr! in In[4]:15\" data-info=\"XtWXXtWr! in In[4]:15\"/>\n",
        "<text text-anchor=\"\" x=\"28.54865697930427\" y=\"41.5\" font-size=\"12\" font-family=\"Verdana\" fill=\"rgb(0,0,0)\" ></text>\n",
        "<rect vector-effect=\"non-scaling-stroke\" x=\"25.06825187142228\" y=\"30.0\" width=\"0.5195948921180111\" height=\"15.0\" fill=\"rgb(140,0,69)\" rx=\"2\" ry=\"2\" data-shortinfo=\"XtWXXtWr! in In[4]:15\" data-info=\"XtWXXtWr! in In[4]:15\"/>\n",
        "<text text-anchor=\"\" x=\"29.06825187142228\" y=\"41.5\" font-size=\"12\" font-family=\"Verdana\" fill=\"rgb(0,0,0)\" ></text>\n",
        "<rect vector-effect=\"non-scaling-stroke\" x=\"25.58784676354029\" y=\"30.0\" width=\"3.117569352708056\" height=\"15.0\" fill=\"rgb(140,0,69)\" rx=\"2\" ry=\"2\" data-shortinfo=\"XtWXXtWr! in In[4]:15\" data-info=\"XtWXXtWr! in In[4]:15\"/>\n",
        "<text text-anchor=\"\" x=\"29.58784676354029\" y=\"41.5\" font-size=\"12\" font-family=\"Verdana\" fill=\"rgb(0,0,0)\" ></text>\n",
        "<rect vector-effect=\"non-scaling-stroke\" x=\"28.705416116248347\" y=\"30.0\" width=\"3.1175693527080597\" height=\"15.0\" fill=\"rgb(140,0,69)\" rx=\"2\" ry=\"2\" data-shortinfo=\"XtWXXtWr! in In[4]:15\" data-info=\"XtWXXtWr! in In[4]:15\"/>\n",
        "<text text-anchor=\"\" x=\"32.705416116248344\" y=\"41.5\" font-size=\"12\" font-family=\"Verdana\" fill=\"rgb(0,0,0)\" ></text>\n",
        "<rect vector-effect=\"non-scaling-stroke\" x=\"31.822985468956407\" y=\"30.0\" width=\"1.0391897842360187\" height=\"15.0\" fill=\"rgb(140,0,69)\" rx=\"2\" ry=\"2\" data-shortinfo=\"XtWXXtWr! in In[4]:15\" data-info=\"XtWXXtWr! in In[4]:15\"/>\n",
        "<text text-anchor=\"\" x=\"35.822985468956404\" y=\"41.5\" font-size=\"12\" font-family=\"Verdana\" fill=\"rgb(0,0,0)\" ></text>\n",
        "<rect vector-effect=\"non-scaling-stroke\" x=\"32.862175253192426\" y=\"30.0\" width=\"2.597974460590045\" height=\"15.0\" fill=\"rgb(140,0,69)\" rx=\"2\" ry=\"2\" data-shortinfo=\"XtWXXtWr! in In[4]:15\" data-info=\"XtWXXtWr! in In[4]:15\"/>\n",
        "<text text-anchor=\"\" x=\"36.862175253192426\" y=\"41.5\" font-size=\"12\" font-family=\"Verdana\" fill=\"rgb(0,0,0)\" ></text>\n",
        "<rect vector-effect=\"non-scaling-stroke\" x=\"35.46014971378247\" y=\"30.0\" width=\"1.558784676354037\" height=\"15.0\" fill=\"rgb(140,0,69)\" rx=\"2\" ry=\"2\" data-shortinfo=\"XtWXXtWr! in In[4]:15\" data-info=\"XtWXXtWr! in In[4]:15\"/>\n",
        "<text text-anchor=\"\" x=\"39.46014971378247\" y=\"41.5\" font-size=\"12\" font-family=\"Verdana\" fill=\"rgb(0,0,0)\" ></text>\n",
        "<rect vector-effect=\"non-scaling-stroke\" x=\"37.01893439013651\" y=\"30.0\" width=\"0.5195948921180076\" height=\"15.0\" fill=\"rgb(140,0,69)\" rx=\"2\" ry=\"2\" data-shortinfo=\"XtWXXtWr! in In[4]:15\" data-info=\"XtWXXtWr! in In[4]:15\"/>\n",
        "<text text-anchor=\"\" x=\"41.01893439013651\" y=\"41.5\" font-size=\"12\" font-family=\"Verdana\" fill=\"rgb(0,0,0)\" ></text>\n",
        "<rect vector-effect=\"non-scaling-stroke\" x=\"37.538529282254515\" y=\"30.0\" width=\"5.715543813298105\" height=\"15.0\" fill=\"rgb(255,121,177)\" rx=\"2\" ry=\"2\" data-shortinfo=\"XtWXXtWr! in In[4]:17\" data-info=\"XtWXXtWr! in In[4]:17\"/>\n",
        "<text text-anchor=\"\" x=\"41.538529282254515\" y=\"41.5\" font-size=\"12\" font-family=\"Verdana\" fill=\"rgb(0,0,0)\" ></text>\n",
        "<rect vector-effect=\"non-scaling-stroke\" x=\"43.25407309555262\" y=\"30.0\" width=\"2.0783795684720374\" height=\"15.0\" fill=\"rgb(255,121,177)\" rx=\"2\" ry=\"2\" data-shortinfo=\"XtWXXtWr! in In[4]:17\" data-info=\"XtWXXtWr! in In[4]:17\"/>\n",
        "<text text-anchor=\"\" x=\"47.25407309555262\" y=\"41.5\" font-size=\"12\" font-family=\"Verdana\" fill=\"rgb(0,0,0)\" ></text>\n",
        "<rect vector-effect=\"non-scaling-stroke\" x=\"45.33245266402466\" y=\"30.0\" width=\"0.5195948921180076\" height=\"15.0\" fill=\"rgb(57,255,110)\" rx=\"2\" ry=\"2\" data-shortinfo=\"XtWXXtWr! in In[4]:18\" data-info=\"XtWXXtWr! in In[4]:18\"/>\n",
        "<text text-anchor=\"\" x=\"49.33245266402466\" y=\"41.5\" font-size=\"12\" font-family=\"Verdana\" fill=\"rgb(0,0,0)\" ></text>\n",
        "<rect vector-effect=\"non-scaling-stroke\" x=\"45.852047556142665\" y=\"30.0\" width=\"0.5195948921180147\" height=\"15.0\" fill=\"rgb(0,0,122)\" rx=\"2\" ry=\"2\" data-shortinfo=\"XtWXXtWr! in In[4]:19\" data-info=\"XtWXXtWr! in In[4]:19\"/>\n",
        "<text text-anchor=\"\" x=\"49.852047556142665\" y=\"41.5\" font-size=\"12\" font-family=\"Verdana\" fill=\"rgb(0,0,0)\" ></text>\n",
        "<rect vector-effect=\"non-scaling-stroke\" x=\"46.37164244826068\" y=\"30.0\" width=\"0.5195948921180076\" height=\"15.0\" fill=\"rgb(0,0,122)\" rx=\"2\" ry=\"2\" data-shortinfo=\"XtWXXtWr! in In[4]:19\" data-info=\"XtWXXtWr! in In[4]:19\"/>\n",
        "<text text-anchor=\"\" x=\"50.37164244826068\" y=\"41.5\" font-size=\"12\" font-family=\"Verdana\" fill=\"rgb(0,0,0)\" ></text>\n",
        "<rect vector-effect=\"non-scaling-stroke\" x=\"46.89123734037869\" y=\"30.0\" width=\"1.0391897842360223\" height=\"15.0\" fill=\"rgb(0,0,122)\" rx=\"2\" ry=\"2\" data-shortinfo=\"XtWXXtWr! in In[4]:19\" data-info=\"XtWXXtWr! in In[4]:19\"/>\n",
        "<text text-anchor=\"\" x=\"50.89123734037869\" y=\"41.5\" font-size=\"12\" font-family=\"Verdana\" fill=\"rgb(0,0,0)\" ></text>\n",
        "<rect vector-effect=\"non-scaling-stroke\" x=\"47.93042712461471\" y=\"30.0\" width=\"0.5195948921180076\" height=\"15.0\" fill=\"rgb(0,88,98)\" rx=\"2\" ry=\"2\" data-shortinfo=\"XtWXXtWr! in In[4]:21\" data-info=\"XtWXXtWr! in In[4]:21\"/>\n",
        "<text text-anchor=\"\" x=\"51.93042712461471\" y=\"41.5\" font-size=\"12\" font-family=\"Verdana\" fill=\"rgb(0,0,0)\" ></text>\n",
        "<rect vector-effect=\"non-scaling-stroke\" x=\"48.45002201673272\" y=\"30.0\" width=\"1.0391897842360223\" height=\"15.0\" fill=\"rgb(140,0,69)\" rx=\"2\" ry=\"2\" data-shortinfo=\"XtWXXtWr! in In[4]:22\" data-info=\"XtWXXtWr! in In[4]:22\"/>\n",
        "<text text-anchor=\"\" x=\"52.45002201673272\" y=\"41.5\" font-size=\"12\" font-family=\"Verdana\" fill=\"rgb(0,0,0)\" ></text>\n",
        "<rect vector-effect=\"non-scaling-stroke\" x=\"49.48921180096874\" y=\"30.0\" width=\"2.0783795684720374\" height=\"15.0\" fill=\"rgb(140,0,69)\" rx=\"2\" ry=\"2\" data-shortinfo=\"XtWXXtWr! in In[4]:22\" data-info=\"XtWXXtWr! in In[4]:22\"/>\n",
        "<text text-anchor=\"\" x=\"53.48921180096874\" y=\"41.5\" font-size=\"12\" font-family=\"Verdana\" fill=\"rgb(0,0,0)\" ></text>\n",
        "<rect vector-effect=\"non-scaling-stroke\" x=\"51.56759136944078\" y=\"30.0\" width=\"3.1175693527080597\" height=\"15.0\" fill=\"rgb(140,0,69)\" rx=\"2\" ry=\"2\" data-shortinfo=\"XtWXXtWr! in In[4]:22\" data-info=\"XtWXXtWr! in In[4]:22\"/>\n",
        "<text text-anchor=\"\" x=\"55.56759136944078\" y=\"41.5\" font-size=\"12\" font-family=\"Verdana\" fill=\"rgb(0,0,0)\" ></text>\n",
        "<rect vector-effect=\"non-scaling-stroke\" x=\"54.68516072214884\" y=\"30.0\" width=\"0.5195948921180076\" height=\"15.0\" fill=\"rgb(140,0,69)\" rx=\"2\" ry=\"2\" data-shortinfo=\"XtWXXtWr! in In[4]:22\" data-info=\"XtWXXtWr! in In[4]:22\"/>\n",
        "<text text-anchor=\"\" x=\"58.68516072214884\" y=\"41.5\" font-size=\"12\" font-family=\"Verdana\" fill=\"rgb(0,0,0)\" ></text>\n",
        "<rect vector-effect=\"non-scaling-stroke\" x=\"55.204755614266844\" y=\"30.0\" width=\"3.6371642448260673\" height=\"15.0\" fill=\"rgb(140,0,69)\" rx=\"2\" ry=\"2\" data-shortinfo=\"XtWXXtWr! in In[4]:22\" data-info=\"XtWXXtWr! in In[4]:22\"/>\n",
        "<text text-anchor=\"\" x=\"59.204755614266844\" y=\"41.5\" font-size=\"12\" font-family=\"Verdana\" fill=\"rgb(0,0,0)\" ></text>\n",
        "<rect vector-effect=\"non-scaling-stroke\" x=\"58.84191985909291\" y=\"30.0\" width=\"1.5587846763540298\" height=\"15.0\" fill=\"rgb(140,0,69)\" rx=\"2\" ry=\"2\" data-shortinfo=\"XtWXXtWr! in In[4]:22\" data-info=\"XtWXXtWr! in In[4]:22\"/>\n",
        "<text text-anchor=\"\" x=\"62.84191985909291\" y=\"41.5\" font-size=\"12\" font-family=\"Verdana\" fill=\"rgb(0,0,0)\" ></text>\n",
        "<rect vector-effect=\"non-scaling-stroke\" x=\"60.40070453544694\" y=\"30.0\" width=\"0.5195948921180076\" height=\"15.0\" fill=\"rgb(140,0,69)\" rx=\"2\" ry=\"2\" data-shortinfo=\"XtWXXtWr! in In[4]:22\" data-info=\"XtWXXtWr! in In[4]:22\"/>\n",
        "<text text-anchor=\"\" x=\"64.40070453544695\" y=\"41.5\" font-size=\"12\" font-family=\"Verdana\" fill=\"rgb(0,0,0)\" ></text>\n",
        "<rect vector-effect=\"non-scaling-stroke\" x=\"60.92029942756495\" y=\"30.0\" width=\"0.5195948921180076\" height=\"15.0\" fill=\"rgb(140,0,69)\" rx=\"2\" ry=\"2\" data-shortinfo=\"XtWXXtWr! in In[4]:22\" data-info=\"XtWXXtWr! in In[4]:22\"/>\n",
        "<text text-anchor=\"\" x=\"64.92029942756494\" y=\"41.5\" font-size=\"12\" font-family=\"Verdana\" fill=\"rgb(0,0,0)\" ></text>\n",
        "<rect vector-effect=\"non-scaling-stroke\" x=\"61.439894319682956\" y=\"30.0\" width=\"0.5195948921180147\" height=\"15.0\" fill=\"rgb(140,0,69)\" rx=\"2\" ry=\"2\" data-shortinfo=\"XtWXXtWr! in In[4]:22\" data-info=\"XtWXXtWr! in In[4]:22\"/>\n",
        "<text text-anchor=\"\" x=\"65.43989431968296\" y=\"41.5\" font-size=\"12\" font-family=\"Verdana\" fill=\"rgb(0,0,0)\" ></text>\n",
        "<rect vector-effect=\"non-scaling-stroke\" x=\"61.95948921180097\" y=\"30.0\" width=\"0.5195948921180076\" height=\"15.0\" fill=\"rgb(140,0,69)\" rx=\"2\" ry=\"2\" data-shortinfo=\"XtWXXtWr! in In[4]:22\" data-info=\"XtWXXtWr! in In[4]:22\"/>\n",
        "<text text-anchor=\"\" x=\"65.95948921180097\" y=\"41.5\" font-size=\"12\" font-family=\"Verdana\" fill=\"rgb(0,0,0)\" ></text>\n",
        "<rect vector-effect=\"non-scaling-stroke\" x=\"62.47908410391898\" y=\"30.0\" width=\"0.5195948921180076\" height=\"15.0\" fill=\"rgb(140,0,69)\" rx=\"2\" ry=\"2\" data-shortinfo=\"XtWXXtWr! in In[4]:22\" data-info=\"XtWXXtWr! in In[4]:22\"/>\n",
        "<text text-anchor=\"\" x=\"66.47908410391898\" y=\"41.5\" font-size=\"12\" font-family=\"Verdana\" fill=\"rgb(0,0,0)\" ></text>\n",
        "<rect vector-effect=\"non-scaling-stroke\" x=\"62.998678996036986\" y=\"30.0\" width=\"0.5195948921180147\" height=\"15.0\" fill=\"rgb(140,0,69)\" rx=\"2\" ry=\"2\" data-shortinfo=\"XtWXXtWr! in In[4]:22\" data-info=\"XtWXXtWr! in In[4]:22\"/>\n",
        "<text text-anchor=\"\" x=\"66.99867899603699\" y=\"41.5\" font-size=\"12\" font-family=\"Verdana\" fill=\"rgb(0,0,0)\" ></text>\n",
        "<rect vector-effect=\"non-scaling-stroke\" x=\"63.518273888155\" y=\"30.0\" width=\"5.715543813298105\" height=\"15.0\" fill=\"rgb(255,121,177)\" rx=\"2\" ry=\"2\" data-shortinfo=\"XtWXXtWr! in In[4]:25\" data-info=\"XtWXXtWr! in In[4]:25\"/>\n",
        "<text text-anchor=\"\" x=\"67.518273888155\" y=\"41.5\" font-size=\"12\" font-family=\"Verdana\" fill=\"rgb(0,0,0)\" ></text>\n",
        "<rect vector-effect=\"non-scaling-stroke\" x=\"69.2338177014531\" y=\"30.0\" width=\"1.0391897842360152\" height=\"15.0\" fill=\"rgb(57,255,110)\" rx=\"2\" ry=\"2\" data-shortinfo=\"XtWXXtWr! in In[4]:26\" data-info=\"XtWXXtWr! in In[4]:26\"/>\n",
        "<text text-anchor=\"\" x=\"73.2338177014531\" y=\"41.5\" font-size=\"12\" font-family=\"Verdana\" fill=\"rgb(0,0,0)\" ></text>\n",
        "<rect vector-effect=\"non-scaling-stroke\" x=\"70.27300748568912\" y=\"30.0\" width=\"3.6371642448260815\" height=\"15.0\" fill=\"rgb(57,255,110)\" rx=\"2\" ry=\"2\" data-shortinfo=\"XtWXXtWr! in In[4]:26\" data-info=\"XtWXXtWr! in In[4]:26\"/>\n",
        "<text text-anchor=\"\" x=\"74.27300748568912\" y=\"41.5\" font-size=\"12\" font-family=\"Verdana\" fill=\"rgb(0,0,0)\" ></text>\n",
        "<rect vector-effect=\"non-scaling-stroke\" x=\"73.9101717305152\" y=\"30.0\" width=\"43.64597093791281\" height=\"15.0\" fill=\"rgb(0,0,122)\" rx=\"2\" ry=\"2\" data-shortinfo=\"XtWXXtWr! in In[4]:27\" data-info=\"XtWXXtWr! in In[4]:27\"/>\n",
        "<text text-anchor=\"\" x=\"77.9101717305152\" y=\"41.5\" font-size=\"12\" font-family=\"Verdana\" fill=\"rgb(0,0,0)\" ></text>\n",
        "<rect vector-effect=\"non-scaling-stroke\" x=\"117.55614266842801\" y=\"30.0\" width=\"38.4500220167327\" height=\"15.0\" fill=\"rgb(0,0,122)\" rx=\"2\" ry=\"2\" data-shortinfo=\"XtWXXtWr! in In[4]:27\" data-info=\"XtWXXtWr! in In[4]:27\"/>\n",
        "<text text-anchor=\"\" x=\"121.55614266842801\" y=\"41.5\" font-size=\"12\" font-family=\"Verdana\" fill=\"rgb(0,0,0)\" ></text>\n",
        "<rect vector-effect=\"non-scaling-stroke\" x=\"156.0061646851607\" y=\"30.0\" width=\"1.0391897842360436\" height=\"15.0\" fill=\"rgb(0,0,122)\" rx=\"2\" ry=\"2\" data-shortinfo=\"XtWXXtWr! in In[4]:27\" data-info=\"XtWXXtWr! in In[4]:27\"/>\n",
        "<text text-anchor=\"\" x=\"160.0061646851607\" y=\"41.5\" font-size=\"12\" font-family=\"Verdana\" fill=\"rgb(0,0,0)\" ></text>\n",
        "<rect vector-effect=\"non-scaling-stroke\" x=\"157.04535446939676\" y=\"30.0\" width=\"35.33245266402466\" height=\"15.0\" fill=\"rgb(0,0,122)\" rx=\"2\" ry=\"2\" data-shortinfo=\"XtWXXtWr! in In[4]:27\" data-info=\"XtWXXtWr! in In[4]:27\"/>\n",
        "<text text-anchor=\"\" x=\"161.04535446939676\" y=\"41.5\" font-size=\"12\" font-family=\"Verdana\" fill=\"rgb(0,0,0)\" ></text>\n",
        "<rect vector-effect=\"non-scaling-stroke\" x=\"192.3778071334214\" y=\"30.0\" width=\"35.33245266402466\" height=\"15.0\" fill=\"rgb(0,0,122)\" rx=\"2\" ry=\"2\" data-shortinfo=\"XtWXXtWr! in In[4]:27\" data-info=\"XtWXXtWr! in In[4]:27\"/>\n",
        "<text text-anchor=\"\" x=\"196.3778071334214\" y=\"41.5\" font-size=\"12\" font-family=\"Verdana\" fill=\"rgb(0,0,0)\" ></text>\n",
        "<rect vector-effect=\"non-scaling-stroke\" x=\"227.71025979744607\" y=\"30.0\" width=\"1.0391897842360152\" height=\"15.0\" fill=\"rgb(0,0,122)\" rx=\"2\" ry=\"2\" data-shortinfo=\"XtWXXtWr! in In[4]:27\" data-info=\"XtWXXtWr! in In[4]:27\"/>\n",
        "<text text-anchor=\"\" x=\"231.71025979744607\" y=\"41.5\" font-size=\"12\" font-family=\"Verdana\" fill=\"rgb(0,0,0)\" ></text>\n",
        "<rect vector-effect=\"non-scaling-stroke\" x=\"228.7494495816821\" y=\"30.0\" width=\"45.204755614266844\" height=\"15.0\" fill=\"rgb(0,0,122)\" rx=\"2\" ry=\"2\" data-shortinfo=\"XtWXXtWr! in In[4]:27\" data-info=\"XtWXXtWr! in In[4]:27\"/>\n",
        "<text text-anchor=\"\" x=\"232.7494495816821\" y=\"41.5\" font-size=\"12\" font-family=\"Verdana\" fill=\"rgb(0,0,0)\" ></text>\n",
        "<rect vector-effect=\"non-scaling-stroke\" x=\"273.95420519594893\" y=\"30.0\" width=\"42.08718626155877\" height=\"15.0\" fill=\"rgb(0,0,122)\" rx=\"2\" ry=\"2\" data-shortinfo=\"XtWXXtWr! in In[4]:27\" data-info=\"XtWXXtWr! in In[4]:27\"/>\n",
        "<text text-anchor=\"\" x=\"277.95420519594893\" y=\"41.5\" font-size=\"12\" font-family=\"Verdana\" fill=\"rgb(0,0,0)\" ></text>\n",
        "<rect vector-effect=\"non-scaling-stroke\" x=\"316.0413914575077\" y=\"30.0\" width=\"1.558784676354037\" height=\"15.0\" fill=\"rgb(0,0,122)\" rx=\"2\" ry=\"2\" data-shortinfo=\"XtWXXtWr! in In[4]:27\" data-info=\"XtWXXtWr! in In[4]:27\"/>\n",
        "<text text-anchor=\"\" x=\"320.0413914575077\" y=\"41.5\" font-size=\"12\" font-family=\"Verdana\" fill=\"rgb(0,0,0)\" ></text>\n",
        "<rect vector-effect=\"non-scaling-stroke\" x=\"317.60017613386174\" y=\"30.0\" width=\"2.0783795684720303\" height=\"15.0\" fill=\"rgb(0,0,122)\" rx=\"2\" ry=\"2\" data-shortinfo=\"XtWXXtWr! in In[4]:27\" data-info=\"XtWXXtWr! in In[4]:27\"/>\n",
        "<text text-anchor=\"\" x=\"321.60017613386174\" y=\"41.5\" font-size=\"12\" font-family=\"Verdana\" fill=\"rgb(0,0,0)\" ></text>\n",
        "<rect vector-effect=\"non-scaling-stroke\" x=\"319.67855570233377\" y=\"30.0\" width=\"36.37164244826067\" height=\"15.0\" fill=\"rgb(0,0,122)\" rx=\"2\" ry=\"2\" data-shortinfo=\"XtWXXtWr! in In[4]:27\" data-info=\"XtWXXtWr! in In[4]:27\"/>\n",
        "<text text-anchor=\"\" x=\"323.67855570233377\" y=\"41.5\" font-size=\"12\" font-family=\"Verdana\" fill=\"rgb(0,0,0)\" ></text>\n",
        "<rect vector-effect=\"non-scaling-stroke\" x=\"356.05019815059444\" y=\"30.0\" width=\"38.4500220167327\" height=\"15.0\" fill=\"rgb(0,0,122)\" rx=\"2\" ry=\"2\" data-shortinfo=\"XtWXXtWr! in In[4]:27\" data-info=\"XtWXXtWr! in In[4]:27\"/>\n",
        "<text text-anchor=\"\" x=\"360.05019815059444\" y=\"41.5\" font-size=\"12\" font-family=\"Verdana\" fill=\"rgb(0,0,0)\" ></text>\n",
        "<rect vector-effect=\"non-scaling-stroke\" x=\"394.50022016732714\" y=\"30.0\" width=\"42.08718626155883\" height=\"15.0\" fill=\"rgb(0,0,122)\" rx=\"2\" ry=\"2\" data-shortinfo=\"XtWXXtWr! in In[4]:27\" data-info=\"XtWXXtWr! in In[4]:27\"/>\n",
        "<text text-anchor=\"\" x=\"398.50022016732714\" y=\"41.5\" font-size=\"12\" font-family=\"Verdana\" fill=\"rgb(0,0,0)\" ></text>\n",
        "<rect vector-effect=\"non-scaling-stroke\" x=\"436.58740642888597\" y=\"30.0\" width=\"1.0391897842359867\" height=\"15.0\" fill=\"rgb(0,0,122)\" rx=\"2\" ry=\"2\" data-shortinfo=\"XtWXXtWr! in In[4]:27\" data-info=\"XtWXXtWr! in In[4]:27\"/>\n",
        "<text text-anchor=\"\" x=\"440.58740642888597\" y=\"41.5\" font-size=\"12\" font-family=\"Verdana\" fill=\"rgb(0,0,0)\" ></text>\n",
        "<rect vector-effect=\"non-scaling-stroke\" x=\"437.62659621312196\" y=\"30.0\" width=\"1.0391897842360436\" height=\"15.0\" fill=\"rgb(0,0,122)\" rx=\"2\" ry=\"2\" data-shortinfo=\"XtWXXtWr! in In[4]:27\" data-info=\"XtWXXtWr! in In[4]:27\"/>\n",
        "<text text-anchor=\"\" x=\"441.62659621312196\" y=\"41.5\" font-size=\"12\" font-family=\"Verdana\" fill=\"rgb(0,0,0)\" ></text>\n",
        "<rect vector-effect=\"non-scaling-stroke\" x=\"438.665785997358\" y=\"30.0\" width=\"0.5195948921179934\" height=\"15.0\" fill=\"rgb(0,0,122)\" rx=\"2\" ry=\"2\" data-shortinfo=\"XtWXXtWr! in In[4]:27\" data-info=\"XtWXXtWr! in In[4]:27\"/>\n",
        "<text text-anchor=\"\" x=\"442.665785997358\" y=\"41.5\" font-size=\"12\" font-family=\"Verdana\" fill=\"rgb(0,0,0)\" ></text>\n",
        "<rect vector-effect=\"non-scaling-stroke\" x=\"439.185380889476\" y=\"30.0\" width=\"5.195948921180104\" height=\"15.0\" fill=\"rgb(0,0,122)\" rx=\"2\" ry=\"2\" data-shortinfo=\"XtWXXtWr! in In[4]:27\" data-info=\"XtWXXtWr! in In[4]:27\"/>\n",
        "<text text-anchor=\"\" x=\"443.185380889476\" y=\"41.5\" font-size=\"12\" font-family=\"Verdana\" fill=\"rgb(0,0,0)\" ></text>\n",
        "<rect vector-effect=\"non-scaling-stroke\" x=\"444.3813298106561\" y=\"30.0\" width=\"2.5979744605900237\" height=\"15.0\" fill=\"rgb(0,0,122)\" rx=\"2\" ry=\"2\" data-shortinfo=\"XtWXXtWr! in In[4]:27\" data-info=\"XtWXXtWr! in In[4]:27\"/>\n",
        "<text text-anchor=\"\" x=\"448.3813298106561\" y=\"41.5\" font-size=\"12\" font-family=\"Verdana\" fill=\"rgb(0,0,0)\" ></text>\n",
        "<rect vector-effect=\"non-scaling-stroke\" x=\"446.9793042712461\" y=\"30.0\" width=\"31.175693527080625\" height=\"15.0\" fill=\"rgb(0,0,122)\" rx=\"2\" ry=\"2\" data-shortinfo=\"XtWXXtWr! in In[4]:27\" data-info=\"XtWXXtWr! in In[4]:27\"/>\n",
        "<text text-anchor=\"\" x=\"450.9793042712461\" y=\"41.5\" font-size=\"12\" font-family=\"Verdana\" fill=\"rgb(0,0,0)\" ></text>\n",
        "<rect vector-effect=\"non-scaling-stroke\" x=\"478.15499779832675\" y=\"30.0\" width=\"4.156759136944061\" height=\"15.0\" fill=\"rgb(0,88,98)\" rx=\"2\" ry=\"2\" data-shortinfo=\"XtWXXtWr! in In[4]:29\" data-info=\"XtWXXtWr! in In[4]:29\"/>\n",
        "<text text-anchor=\"\" x=\"482.15499779832675\" y=\"41.5\" font-size=\"12\" font-family=\"Verdana\" fill=\"rgb(0,0,0)\" ></text>\n",
        "<rect vector-effect=\"non-scaling-stroke\" x=\"482.3117569352708\" y=\"30.0\" width=\"12.470277410832239\" height=\"15.0\" fill=\"rgb(0,88,98)\" rx=\"2\" ry=\"2\" data-shortinfo=\"XtWXXtWr! in In[4]:29\" data-info=\"XtWXXtWr! in In[4]:29\"/>\n",
        "<text text-anchor=\"\" x=\"486.3117569352708\" y=\"41.5\" font-size=\"12\" font-family=\"Verdana\" fill=\"rgb(0,0,0)\" ></text>\n",
        "<rect vector-effect=\"non-scaling-stroke\" x=\"494.78203434610305\" y=\"30.0\" width=\"10.391897842360208\" height=\"15.0\" fill=\"rgb(0,88,98)\" rx=\"2\" ry=\"2\" data-shortinfo=\"XtWXXtWr! in In[4]:29\" data-info=\"XtWXXtWr! in In[4]:29\"/>\n",
        "<text text-anchor=\"\" x=\"498.78203434610305\" y=\"41.5\" font-size=\"12\" font-family=\"Verdana\" fill=\"rgb(0,0,0)\" ></text>\n",
        "<rect vector-effect=\"non-scaling-stroke\" x=\"505.17393218846325\" y=\"30.0\" width=\"3.6371642448260673\" height=\"15.0\" fill=\"rgb(0,88,98)\" rx=\"2\" ry=\"2\" data-shortinfo=\"XtWXXtWr! in In[4]:29\" data-info=\"XtWXXtWr! in In[4]:29\"/>\n",
        "<text text-anchor=\"\" x=\"509.17393218846325\" y=\"41.5\" font-size=\"12\" font-family=\"Verdana\" fill=\"rgb(0,0,0)\" ></text>\n",
        "<rect vector-effect=\"non-scaling-stroke\" x=\"508.8110964332893\" y=\"30.0\" width=\"22.86217525319239\" height=\"15.0\" fill=\"rgb(0,88,98)\" rx=\"2\" ry=\"2\" data-shortinfo=\"XtWXXtWr! in In[4]:29\" data-info=\"XtWXXtWr! in In[4]:29\"/>\n",
        "<text text-anchor=\"\" x=\"512.8110964332893\" y=\"41.5\" font-size=\"12\" font-family=\"Verdana\" fill=\"rgb(0,0,0)\" ></text>\n",
        "<rect vector-effect=\"non-scaling-stroke\" x=\"531.6732716864817\" y=\"30.0\" width=\"2.078379568472087\" height=\"15.0\" fill=\"rgb(0,88,98)\" rx=\"2\" ry=\"2\" data-shortinfo=\"XtWXXtWr! in In[4]:29\" data-info=\"XtWXXtWr! in In[4]:29\"/>\n",
        "<text text-anchor=\"\" x=\"535.6732716864817\" y=\"41.5\" font-size=\"12\" font-family=\"Verdana\" fill=\"rgb(0,0,0)\" ></text>\n",
        "<rect vector-effect=\"non-scaling-stroke\" x=\"533.7516512549538\" y=\"30.0\" width=\"2.597974460589967\" height=\"15.0\" fill=\"rgb(0,88,98)\" rx=\"2\" ry=\"2\" data-shortinfo=\"XtWXXtWr! in In[4]:29\" data-info=\"XtWXXtWr! in In[4]:29\"/>\n",
        "<text text-anchor=\"\" x=\"537.7516512549538\" y=\"41.5\" font-size=\"12\" font-family=\"Verdana\" fill=\"rgb(0,0,0)\" ></text>\n",
        "<rect vector-effect=\"non-scaling-stroke\" x=\"536.3496257155438\" y=\"30.0\" width=\"9.352708058124222\" height=\"15.0\" fill=\"rgb(0,88,98)\" rx=\"2\" ry=\"2\" data-shortinfo=\"XtWXXtWr! in In[4]:29\" data-info=\"XtWXXtWr! in In[4]:29\"/>\n",
        "<text text-anchor=\"\" x=\"540.3496257155438\" y=\"41.5\" font-size=\"12\" font-family=\"Verdana\" fill=\"rgb(0,0,0)\" ></text>\n",
        "<rect vector-effect=\"non-scaling-stroke\" x=\"545.702333773668\" y=\"30.0\" width=\"1.55878467635398\" height=\"15.0\" fill=\"rgb(0,88,98)\" rx=\"2\" ry=\"2\" data-shortinfo=\"XtWXXtWr! in In[4]:29\" data-info=\"XtWXXtWr! in In[4]:29\"/>\n",
        "<text text-anchor=\"\" x=\"549.702333773668\" y=\"41.5\" font-size=\"12\" font-family=\"Verdana\" fill=\"rgb(0,0,0)\" ></text>\n",
        "<rect vector-effect=\"non-scaling-stroke\" x=\"547.261118450022\" y=\"30.0\" width=\"3.6371642448260673\" height=\"15.0\" fill=\"rgb(0,88,98)\" rx=\"2\" ry=\"2\" data-shortinfo=\"XtWXXtWr! in In[4]:29\" data-info=\"XtWXXtWr! in In[4]:29\"/>\n",
        "<text text-anchor=\"\" x=\"551.261118450022\" y=\"41.5\" font-size=\"12\" font-family=\"Verdana\" fill=\"rgb(0,0,0)\" ></text>\n",
        "<rect vector-effect=\"non-scaling-stroke\" x=\"550.898282694848\" y=\"30.0\" width=\"16.627036547776356\" height=\"15.0\" fill=\"rgb(0,88,98)\" rx=\"2\" ry=\"2\" data-shortinfo=\"XtWXXtWr! in In[4]:29\" data-info=\"XtWXXtWr! in In[4]:29\"/>\n",
        "<text text-anchor=\"\" x=\"554.898282694848\" y=\"41.5\" font-size=\"12\" font-family=\"Verdana\" fill=\"rgb(0,0,0)\" ></text>\n",
        "<rect vector-effect=\"non-scaling-stroke\" x=\"567.5253192426244\" y=\"30.0\" width=\"3.117569352708074\" height=\"15.0\" fill=\"rgb(0,88,98)\" rx=\"2\" ry=\"2\" data-shortinfo=\"XtWXXtWr! in In[4]:29\" data-info=\"XtWXXtWr! in In[4]:29\"/>\n",
        "<text text-anchor=\"\" x=\"571.5253192426244\" y=\"41.5\" font-size=\"12\" font-family=\"Verdana\" fill=\"rgb(0,0,0)\" ></text>\n",
        "<rect vector-effect=\"non-scaling-stroke\" x=\"570.6428885953325\" y=\"30.0\" width=\"4.676354029062054\" height=\"15.0\" fill=\"rgb(0,88,98)\" rx=\"2\" ry=\"2\" data-shortinfo=\"XtWXXtWr! in In[4]:29\" data-info=\"XtWXXtWr! in In[4]:29\"/>\n",
        "<text text-anchor=\"\" x=\"574.6428885953325\" y=\"41.5\" font-size=\"12\" font-family=\"Verdana\" fill=\"rgb(0,0,0)\" ></text>\n",
        "<rect vector-effect=\"non-scaling-stroke\" x=\"575.3192426243945\" y=\"30.0\" width=\"0.5195948921179934\" height=\"15.0\" fill=\"rgb(0,88,98)\" rx=\"2\" ry=\"2\" data-shortinfo=\"XtWXXtWr! in In[4]:29\" data-info=\"XtWXXtWr! in In[4]:29\"/>\n",
        "<text text-anchor=\"\" x=\"579.3192426243945\" y=\"41.5\" font-size=\"12\" font-family=\"Verdana\" fill=\"rgb(0,0,0)\" ></text>\n",
        "<rect vector-effect=\"non-scaling-stroke\" x=\"575.8388375165125\" y=\"30.0\" width=\"24.420959929546484\" height=\"15.0\" fill=\"rgb(0,88,98)\" rx=\"2\" ry=\"2\" data-shortinfo=\"XtWXXtWr! in In[4]:29\" data-info=\"XtWXXtWr! in In[4]:29\"/>\n",
        "<text text-anchor=\"\" x=\"579.8388375165125\" y=\"41.5\" font-size=\"12\" font-family=\"Verdana\" fill=\"rgb(0,0,0)\" ></text>\n",
        "<rect vector-effect=\"non-scaling-stroke\" x=\"600.259797446059\" y=\"30.0\" width=\"0.5195948921179934\" height=\"15.0\" fill=\"rgb(0,88,98)\" rx=\"2\" ry=\"2\" data-shortinfo=\"XtWXXtWr! in In[4]:29\" data-info=\"XtWXXtWr! in In[4]:29\"/>\n",
        "<text text-anchor=\"\" x=\"604.259797446059\" y=\"41.5\" font-size=\"12\" font-family=\"Verdana\" fill=\"rgb(0,0,0)\" ></text>\n",
        "<rect vector-effect=\"non-scaling-stroke\" x=\"600.779392338177\" y=\"30.0\" width=\"1.5587846763540938\" height=\"15.0\" fill=\"rgb(140,0,69)\" rx=\"2\" ry=\"2\" data-shortinfo=\"XtWXXtWr! in In[4]:15\" data-info=\"XtWXXtWr! in In[4]:15\"/>\n",
        "<text text-anchor=\"\" x=\"604.779392338177\" y=\"41.5\" font-size=\"12\" font-family=\"Verdana\" fill=\"rgb(0,0,0)\" ></text>\n",
        "<rect vector-effect=\"non-scaling-stroke\" x=\"602.3381770145311\" y=\"30.0\" width=\"6.754733597534141\" height=\"15.0\" fill=\"rgb(140,0,69)\" rx=\"2\" ry=\"2\" data-shortinfo=\"XtWXXtWr! in In[4]:15\" data-info=\"XtWXXtWr! in In[4]:15\"/>\n",
        "<text text-anchor=\"\" x=\"606.3381770145311\" y=\"41.5\" font-size=\"12\" font-family=\"Verdana\" fill=\"rgb(0,0,0)\" ></text>\n",
        "<rect vector-effect=\"non-scaling-stroke\" x=\"609.0929106120652\" y=\"30.0\" width=\"2.0783795684719735\" height=\"15.0\" fill=\"rgb(140,0,69)\" rx=\"2\" ry=\"2\" data-shortinfo=\"XtWXXtWr! in In[4]:15\" data-info=\"XtWXXtWr! in In[4]:15\"/>\n",
        "<text text-anchor=\"\" x=\"613.0929106120652\" y=\"41.5\" font-size=\"12\" font-family=\"Verdana\" fill=\"rgb(0,0,0)\" ></text>\n",
        "<rect vector-effect=\"non-scaling-stroke\" x=\"611.1712901805372\" y=\"30.0\" width=\"2.5979744605900805\" height=\"15.0\" fill=\"rgb(140,0,69)\" rx=\"2\" ry=\"2\" data-shortinfo=\"XtWXXtWr! in In[4]:15\" data-info=\"XtWXXtWr! in In[4]:15\"/>\n",
        "<text text-anchor=\"\" x=\"615.1712901805372\" y=\"41.5\" font-size=\"12\" font-family=\"Verdana\" fill=\"rgb(0,0,0)\" ></text>\n",
        "<rect vector-effect=\"non-scaling-stroke\" x=\"613.7692646411273\" y=\"30.0\" width=\"0.5195948921179934\" height=\"15.0\" fill=\"rgb(140,0,69)\" rx=\"2\" ry=\"2\" data-shortinfo=\"XtWXXtWr! in In[4]:15\" data-info=\"XtWXXtWr! in In[4]:15\"/>\n",
        "<text text-anchor=\"\" x=\"617.7692646411273\" y=\"41.5\" font-size=\"12\" font-family=\"Verdana\" fill=\"rgb(0,0,0)\" ></text>\n",
        "<rect vector-effect=\"non-scaling-stroke\" x=\"614.2888595332453\" y=\"30.0\" width=\"2.078379568472087\" height=\"15.0\" fill=\"rgb(140,0,69)\" rx=\"2\" ry=\"2\" data-shortinfo=\"XtWXXtWr! in In[4]:15\" data-info=\"XtWXXtWr! in In[4]:15\"/>\n",
        "<text text-anchor=\"\" x=\"618.2888595332453\" y=\"41.5\" font-size=\"12\" font-family=\"Verdana\" fill=\"rgb(0,0,0)\" ></text>\n",
        "<rect vector-effect=\"non-scaling-stroke\" x=\"616.3672391017174\" y=\"30.0\" width=\"0.5195948921179934\" height=\"15.0\" fill=\"rgb(140,0,69)\" rx=\"2\" ry=\"2\" data-shortinfo=\"XtWXXtWr! in In[4]:15\" data-info=\"XtWXXtWr! in In[4]:15\"/>\n",
        "<text text-anchor=\"\" x=\"620.3672391017174\" y=\"41.5\" font-size=\"12\" font-family=\"Verdana\" fill=\"rgb(0,0,0)\" ></text>\n",
        "<rect vector-effect=\"non-scaling-stroke\" x=\"616.8868339938354\" y=\"30.0\" width=\"1.0391897842359867\" height=\"15.0\" fill=\"rgb(140,0,69)\" rx=\"2\" ry=\"2\" data-shortinfo=\"XtWXXtWr! in In[4]:15\" data-info=\"XtWXXtWr! in In[4]:15\"/>\n",
        "<text text-anchor=\"\" x=\"620.8868339938354\" y=\"41.5\" font-size=\"12\" font-family=\"Verdana\" fill=\"rgb(0,0,0)\" ></text>\n",
        "<rect vector-effect=\"non-scaling-stroke\" x=\"617.9260237780713\" y=\"30.0\" width=\"0.5195948921179934\" height=\"15.0\" fill=\"rgb(140,0,69)\" rx=\"2\" ry=\"2\" data-shortinfo=\"XtWXXtWr! in In[4]:15\" data-info=\"XtWXXtWr! in In[4]:15\"/>\n",
        "<text text-anchor=\"\" x=\"621.9260237780713\" y=\"41.5\" font-size=\"12\" font-family=\"Verdana\" fill=\"rgb(0,0,0)\" ></text>\n",
        "<rect vector-effect=\"non-scaling-stroke\" x=\"618.4456186701893\" y=\"30.0\" width=\"2.5979744605900805\" height=\"15.0\" fill=\"rgb(140,0,69)\" rx=\"2\" ry=\"2\" data-shortinfo=\"XtWXXtWr! in In[4]:15\" data-info=\"XtWXXtWr! in In[4]:15\"/>\n",
        "<text text-anchor=\"\" x=\"622.4456186701893\" y=\"41.5\" font-size=\"12\" font-family=\"Verdana\" fill=\"rgb(0,0,0)\" ></text>\n",
        "<rect vector-effect=\"non-scaling-stroke\" x=\"621.0435931307794\" y=\"30.0\" width=\"1.55878467635398\" height=\"15.0\" fill=\"rgb(140,0,69)\" rx=\"2\" ry=\"2\" data-shortinfo=\"XtWXXtWr! in In[4]:15\" data-info=\"XtWXXtWr! in In[4]:15\"/>\n",
        "<text text-anchor=\"\" x=\"625.0435931307794\" y=\"41.5\" font-size=\"12\" font-family=\"Verdana\" fill=\"rgb(0,0,0)\" ></text>\n",
        "<rect vector-effect=\"non-scaling-stroke\" x=\"622.6023778071334\" y=\"30.0\" width=\"1.5587846763540938\" height=\"15.0\" fill=\"rgb(140,0,69)\" rx=\"2\" ry=\"2\" data-shortinfo=\"XtWXXtWr! in In[4]:15\" data-info=\"XtWXXtWr! in In[4]:15\"/>\n",
        "<text text-anchor=\"\" x=\"626.6023778071334\" y=\"41.5\" font-size=\"12\" font-family=\"Verdana\" fill=\"rgb(0,0,0)\" ></text>\n",
        "<rect vector-effect=\"non-scaling-stroke\" x=\"624.1611624834875\" y=\"30.0\" width=\"0.5195948921179934\" height=\"15.0\" fill=\"rgb(140,0,69)\" rx=\"2\" ry=\"2\" data-shortinfo=\"XtWXXtWr! in In[4]:15\" data-info=\"XtWXXtWr! in In[4]:15\"/>\n",
        "<text text-anchor=\"\" x=\"628.1611624834875\" y=\"41.5\" font-size=\"12\" font-family=\"Verdana\" fill=\"rgb(0,0,0)\" ></text>\n",
        "<rect vector-effect=\"non-scaling-stroke\" x=\"624.6807573756055\" y=\"30.0\" width=\"0.5195948921179934\" height=\"15.0\" fill=\"rgb(140,0,69)\" rx=\"2\" ry=\"2\" data-shortinfo=\"XtWXXtWr! in In[4]:15\" data-info=\"XtWXXtWr! in In[4]:15\"/>\n",
        "<text text-anchor=\"\" x=\"628.6807573756055\" y=\"41.5\" font-size=\"12\" font-family=\"Verdana\" fill=\"rgb(0,0,0)\" ></text>\n",
        "<rect vector-effect=\"non-scaling-stroke\" x=\"625.2003522677235\" y=\"30.0\" width=\"4.156759136944061\" height=\"15.0\" fill=\"rgb(255,121,177)\" rx=\"2\" ry=\"2\" data-shortinfo=\"XtWXXtWr! in In[4]:17\" data-info=\"XtWXXtWr! in In[4]:17\"/>\n",
        "<text text-anchor=\"\" x=\"629.2003522677235\" y=\"41.5\" font-size=\"12\" font-family=\"Verdana\" fill=\"rgb(0,0,0)\" ></text>\n",
        "<rect vector-effect=\"non-scaling-stroke\" x=\"629.3571114046675\" y=\"30.0\" width=\"3.6371642448260673\" height=\"15.0\" fill=\"rgb(255,121,177)\" rx=\"2\" ry=\"2\" data-shortinfo=\"XtWXXtWr! in In[4]:17\" data-info=\"XtWXXtWr! in In[4]:17\"/>\n",
        "<text text-anchor=\"\" x=\"633.3571114046675\" y=\"41.5\" font-size=\"12\" font-family=\"Verdana\" fill=\"rgb(0,0,0)\" ></text>\n",
        "<rect vector-effect=\"non-scaling-stroke\" x=\"632.9942756494936\" y=\"30.0\" width=\"0.5195948921179934\" height=\"15.0\" fill=\"rgb(57,255,110)\" rx=\"2\" ry=\"2\" data-shortinfo=\"XtWXXtWr! in In[4]:19\" data-info=\"XtWXXtWr! in In[4]:19\"/>\n",
        "<text text-anchor=\"\" x=\"636.9942756494936\" y=\"41.5\" font-size=\"12\" font-family=\"Verdana\" fill=\"rgb(0,0,0)\" ></text>\n",
        "<rect vector-effect=\"non-scaling-stroke\" x=\"633.5138705416116\" y=\"30.0\" width=\"0.5195948921179934\" height=\"15.0\" fill=\"rgb(57,255,110)\" rx=\"2\" ry=\"2\" data-shortinfo=\"XtWXXtWr! in In[4]:19\" data-info=\"XtWXXtWr! in In[4]:19\"/>\n",
        "<text text-anchor=\"\" x=\"637.5138705416116\" y=\"41.5\" font-size=\"12\" font-family=\"Verdana\" fill=\"rgb(0,0,0)\" ></text>\n",
        "<rect vector-effect=\"non-scaling-stroke\" x=\"634.0334654337296\" y=\"30.0\" width=\"0.519594892118107\" height=\"15.0\" fill=\"rgb(57,255,110)\" rx=\"2\" ry=\"2\" data-shortinfo=\"XtWXXtWr! in In[4]:19\" data-info=\"XtWXXtWr! in In[4]:19\"/>\n",
        "<text text-anchor=\"\" x=\"638.0334654337296\" y=\"41.5\" font-size=\"12\" font-family=\"Verdana\" fill=\"rgb(0,0,0)\" ></text>\n",
        "<rect vector-effect=\"non-scaling-stroke\" x=\"634.5530603258477\" y=\"30.0\" width=\"0.5195948921179934\" height=\"15.0\" fill=\"rgb(0,0,122)\" rx=\"2\" ry=\"2\" data-shortinfo=\"XtWXXtWr! in In[4]:20\" data-info=\"XtWXXtWr! in In[4]:20\"/>\n",
        "<text text-anchor=\"\" x=\"638.5530603258477\" y=\"41.5\" font-size=\"12\" font-family=\"Verdana\" fill=\"rgb(0,0,0)\" ></text>\n",
        "<rect vector-effect=\"non-scaling-stroke\" x=\"635.0726552179657\" y=\"30.0\" width=\"1.55878467635398\" height=\"15.0\" fill=\"rgb(0,88,98)\" rx=\"2\" ry=\"2\" data-shortinfo=\"XtWXXtWr! in In[4]:21\" data-info=\"XtWXXtWr! in In[4]:21\"/>\n",
        "<text text-anchor=\"\" x=\"639.0726552179657\" y=\"41.5\" font-size=\"12\" font-family=\"Verdana\" fill=\"rgb(0,0,0)\" ></text>\n",
        "<rect vector-effect=\"non-scaling-stroke\" x=\"636.6314398943197\" y=\"30.0\" width=\"0.5195948921179934\" height=\"15.0\" fill=\"rgb(0,88,98)\" rx=\"2\" ry=\"2\" data-shortinfo=\"XtWXXtWr! in In[4]:21\" data-info=\"XtWXXtWr! in In[4]:21\"/>\n",
        "<text text-anchor=\"\" x=\"640.6314398943197\" y=\"41.5\" font-size=\"12\" font-family=\"Verdana\" fill=\"rgb(0,0,0)\" ></text>\n",
        "<rect vector-effect=\"non-scaling-stroke\" x=\"637.1510347864377\" y=\"30.0\" width=\"2.078379568472087\" height=\"15.0\" fill=\"rgb(140,0,69)\" rx=\"2\" ry=\"2\" data-shortinfo=\"XtWXXtWr! in In[4]:22\" data-info=\"XtWXXtWr! in In[4]:22\"/>\n",
        "<text text-anchor=\"\" x=\"641.1510347864377\" y=\"41.5\" font-size=\"12\" font-family=\"Verdana\" fill=\"rgb(0,0,0)\" ></text>\n",
        "<rect vector-effect=\"non-scaling-stroke\" x=\"639.2294143549097\" y=\"30.0\" width=\"2.0783795684719735\" height=\"15.0\" fill=\"rgb(140,0,69)\" rx=\"2\" ry=\"2\" data-shortinfo=\"XtWXXtWr! in In[4]:22\" data-info=\"XtWXXtWr! in In[4]:22\"/>\n",
        "<text text-anchor=\"\" x=\"643.2294143549097\" y=\"41.5\" font-size=\"12\" font-family=\"Verdana\" fill=\"rgb(0,0,0)\" ></text>\n",
        "<rect vector-effect=\"non-scaling-stroke\" x=\"641.3077939233817\" y=\"30.0\" width=\"1.5587846763540938\" height=\"15.0\" fill=\"rgb(140,0,69)\" rx=\"2\" ry=\"2\" data-shortinfo=\"XtWXXtWr! in In[4]:22\" data-info=\"XtWXXtWr! in In[4]:22\"/>\n",
        "<text text-anchor=\"\" x=\"645.3077939233817\" y=\"41.5\" font-size=\"12\" font-family=\"Verdana\" fill=\"rgb(0,0,0)\" ></text>\n",
        "<rect vector-effect=\"non-scaling-stroke\" x=\"642.8665785997358\" y=\"30.0\" width=\"0.5195948921179934\" height=\"15.0\" fill=\"rgb(140,0,69)\" rx=\"2\" ry=\"2\" data-shortinfo=\"XtWXXtWr! in In[4]:22\" data-info=\"XtWXXtWr! in In[4]:22\"/>\n",
        "<text text-anchor=\"\" x=\"646.8665785997358\" y=\"41.5\" font-size=\"12\" font-family=\"Verdana\" fill=\"rgb(0,0,0)\" ></text>\n",
        "<rect vector-effect=\"non-scaling-stroke\" x=\"643.3861734918538\" y=\"30.0\" width=\"0.5195948921179934\" height=\"15.0\" fill=\"rgb(140,0,69)\" rx=\"2\" ry=\"2\" data-shortinfo=\"XtWXXtWr! in In[4]:22\" data-info=\"XtWXXtWr! in In[4]:22\"/>\n",
        "<text text-anchor=\"\" x=\"647.3861734918538\" y=\"41.5\" font-size=\"12\" font-family=\"Verdana\" fill=\"rgb(0,0,0)\" ></text>\n",
        "<rect vector-effect=\"non-scaling-stroke\" x=\"643.9057683839718\" y=\"30.0\" width=\"4.156759136944061\" height=\"15.0\" fill=\"rgb(140,0,69)\" rx=\"2\" ry=\"2\" data-shortinfo=\"XtWXXtWr! in In[4]:22\" data-info=\"XtWXXtWr! in In[4]:22\"/>\n",
        "<text text-anchor=\"\" x=\"647.9057683839718\" y=\"41.5\" font-size=\"12\" font-family=\"Verdana\" fill=\"rgb(0,0,0)\" ></text>\n",
        "<rect vector-effect=\"non-scaling-stroke\" x=\"648.0625275209159\" y=\"30.0\" width=\"0.5195948921179934\" height=\"15.0\" fill=\"rgb(140,0,69)\" rx=\"2\" ry=\"2\" data-shortinfo=\"XtWXXtWr! in In[4]:22\" data-info=\"XtWXXtWr! in In[4]:22\"/>\n",
        "<text text-anchor=\"\" x=\"652.0625275209159\" y=\"41.5\" font-size=\"12\" font-family=\"Verdana\" fill=\"rgb(0,0,0)\" ></text>\n",
        "<rect vector-effect=\"non-scaling-stroke\" x=\"648.5821224130339\" y=\"30.0\" width=\"0.519594892118107\" height=\"15.0\" fill=\"rgb(140,0,69)\" rx=\"2\" ry=\"2\" data-shortinfo=\"XtWXXtWr! in In[4]:22\" data-info=\"XtWXXtWr! in In[4]:22\"/>\n",
        "<text text-anchor=\"\" x=\"652.5821224130339\" y=\"41.5\" font-size=\"12\" font-family=\"Verdana\" fill=\"rgb(0,0,0)\" ></text>\n",
        "<rect vector-effect=\"non-scaling-stroke\" x=\"649.101717305152\" y=\"30.0\" width=\"0.5195948921179934\" height=\"15.0\" fill=\"rgb(140,0,69)\" rx=\"2\" ry=\"2\" data-shortinfo=\"XtWXXtWr! in In[4]:22\" data-info=\"XtWXXtWr! in In[4]:22\"/>\n",
        "<text text-anchor=\"\" x=\"653.101717305152\" y=\"41.5\" font-size=\"12\" font-family=\"Verdana\" fill=\"rgb(0,0,0)\" ></text>\n",
        "<rect vector-effect=\"non-scaling-stroke\" x=\"649.62131219727\" y=\"30.0\" width=\"3.6371642448260673\" height=\"15.0\" fill=\"rgb(255,121,177)\" rx=\"2\" ry=\"2\" data-shortinfo=\"XtWXXtWr! in In[4]:25\" data-info=\"XtWXXtWr! in In[4]:25\"/>\n",
        "<text text-anchor=\"\" x=\"653.62131219727\" y=\"41.5\" font-size=\"12\" font-family=\"Verdana\" fill=\"rgb(0,0,0)\" ></text>\n",
        "<rect vector-effect=\"non-scaling-stroke\" x=\"653.258476442096\" y=\"30.0\" width=\"1.55878467635398\" height=\"15.0\" fill=\"rgb(57,255,110)\" rx=\"2\" ry=\"2\" data-shortinfo=\"XtWXXtWr! in In[4]:26\" data-info=\"XtWXXtWr! in In[4]:26\"/>\n",
        "<text text-anchor=\"\" x=\"657.258476442096\" y=\"41.5\" font-size=\"12\" font-family=\"Verdana\" fill=\"rgb(0,0,0)\" ></text>\n",
        "<rect vector-effect=\"non-scaling-stroke\" x=\"654.81726111845\" y=\"30.0\" width=\"5.195948921180161\" height=\"15.0\" fill=\"rgb(57,255,110)\" rx=\"2\" ry=\"2\" data-shortinfo=\"XtWXXtWr! in In[4]:26\" data-info=\"XtWXXtWr! in In[4]:26\"/>\n",
        "<text text-anchor=\"\" x=\"658.81726111845\" y=\"41.5\" font-size=\"12\" font-family=\"Verdana\" fill=\"rgb(0,0,0)\" ></text>\n",
        "<rect vector-effect=\"non-scaling-stroke\" x=\"660.0132100396302\" y=\"30.0\" width=\"36.891237340378666\" height=\"15.0\" fill=\"rgb(0,0,122)\" rx=\"2\" ry=\"2\" data-shortinfo=\"XtWXXtWr! in In[4]:27\" data-info=\"XtWXXtWr! in In[4]:27\"/>\n",
        "<text text-anchor=\"\" x=\"664.0132100396302\" y=\"41.5\" font-size=\"12\" font-family=\"Verdana\" fill=\"rgb(0,0,0)\" ></text>\n",
        "<rect vector-effect=\"non-scaling-stroke\" x=\"696.9044473800088\" y=\"30.0\" width=\"45.20475561426679\" height=\"15.0\" fill=\"rgb(0,0,122)\" rx=\"2\" ry=\"2\" data-shortinfo=\"XtWXXtWr! in In[4]:27\" data-info=\"XtWXXtWr! in In[4]:27\"/>\n",
        "<text text-anchor=\"\" x=\"700.9044473800088\" y=\"41.5\" font-size=\"12\" font-family=\"Verdana\" fill=\"rgb(0,0,0)\" ></text>\n",
        "<rect vector-effect=\"non-scaling-stroke\" x=\"742.1092029942756\" y=\"30.0\" width=\"2.078379568472087\" height=\"15.0\" fill=\"rgb(0,0,122)\" rx=\"2\" ry=\"2\" data-shortinfo=\"XtWXXtWr! in In[4]:27\" data-info=\"XtWXXtWr! in In[4]:27\"/>\n",
        "<text text-anchor=\"\" x=\"746.1092029942756\" y=\"41.5\" font-size=\"12\" font-family=\"Verdana\" fill=\"rgb(0,0,0)\" ></text>\n",
        "<rect vector-effect=\"non-scaling-stroke\" x=\"744.1875825627477\" y=\"30.0\" width=\"38.450022016732646\" height=\"15.0\" fill=\"rgb(0,0,122)\" rx=\"2\" ry=\"2\" data-shortinfo=\"XtWXXtWr! in In[4]:27\" data-info=\"XtWXXtWr! in In[4]:27\"/>\n",
        "<text text-anchor=\"\" x=\"748.1875825627477\" y=\"41.5\" font-size=\"12\" font-family=\"Verdana\" fill=\"rgb(0,0,0)\" ></text>\n",
        "<rect vector-effect=\"non-scaling-stroke\" x=\"782.6376045794804\" y=\"30.0\" width=\"33.25407309555271\" height=\"15.0\" fill=\"rgb(0,0,122)\" rx=\"2\" ry=\"2\" data-shortinfo=\"XtWXXtWr! in In[4]:27\" data-info=\"XtWXXtWr! in In[4]:27\"/>\n",
        "<text text-anchor=\"\" x=\"786.6376045794804\" y=\"41.5\" font-size=\"12\" font-family=\"Verdana\" fill=\"rgb(0,0,0)\" ></text>\n",
        "<rect vector-effect=\"non-scaling-stroke\" x=\"815.8916776750331\" y=\"30.0\" width=\"2.597974460589967\" height=\"15.0\" fill=\"rgb(0,0,122)\" rx=\"2\" ry=\"2\" data-shortinfo=\"XtWXXtWr! in In[4]:27\" data-info=\"XtWXXtWr! in In[4]:27\"/>\n",
        "<text text-anchor=\"\" x=\"819.8916776750331\" y=\"41.5\" font-size=\"12\" font-family=\"Verdana\" fill=\"rgb(0,0,0)\" ></text>\n",
        "<rect vector-effect=\"non-scaling-stroke\" x=\"818.489652135623\" y=\"30.0\" width=\"48.84191985909297\" height=\"15.0\" fill=\"rgb(0,0,122)\" rx=\"2\" ry=\"2\" data-shortinfo=\"XtWXXtWr! in In[4]:27\" data-info=\"XtWXXtWr! in In[4]:27\"/>\n",
        "<text text-anchor=\"\" x=\"822.489652135623\" y=\"41.5\" font-size=\"12\" font-family=\"Verdana\" fill=\"rgb(0,0,0)\" ></text>\n",
        "<rect vector-effect=\"non-scaling-stroke\" x=\"867.331571994716\" y=\"30.0\" width=\"30.136503742844525\" height=\"15.0\" fill=\"rgb(0,0,122)\" rx=\"2\" ry=\"2\" data-shortinfo=\"XtWXXtWr! in In[4]:27\" data-info=\"XtWXXtWr! in In[4]:27\"/>\n",
        "<text text-anchor=\"\" x=\"871.331571994716\" y=\"41.5\" font-size=\"12\" font-family=\"Verdana\" fill=\"rgb(0,0,0)\" ></text>\n",
        "<rect vector-effect=\"non-scaling-stroke\" x=\"897.4680757375605\" y=\"30.0\" width=\"1.0391897842359867\" height=\"15.0\" fill=\"rgb(0,0,122)\" rx=\"2\" ry=\"2\" data-shortinfo=\"XtWXXtWr! in In[4]:27\" data-info=\"XtWXXtWr! in In[4]:27\"/>\n",
        "<text text-anchor=\"\" x=\"901.4680757375605\" y=\"41.5\" font-size=\"12\" font-family=\"Verdana\" fill=\"rgb(0,0,0)\" ></text>\n",
        "<rect vector-effect=\"non-scaling-stroke\" x=\"898.5072655217965\" y=\"30.0\" width=\"0.519594892118107\" height=\"15.0\" fill=\"rgb(0,0,122)\" rx=\"2\" ry=\"2\" data-shortinfo=\"XtWXXtWr! in In[4]:27\" data-info=\"XtWXXtWr! in In[4]:27\"/>\n",
        "<text text-anchor=\"\" x=\"902.5072655217965\" y=\"41.5\" font-size=\"12\" font-family=\"Verdana\" fill=\"rgb(0,0,0)\" ></text>\n",
        "<rect vector-effect=\"non-scaling-stroke\" x=\"899.0268604139146\" y=\"30.0\" width=\"37.93042712461465\" height=\"15.0\" fill=\"rgb(0,0,122)\" rx=\"2\" ry=\"2\" data-shortinfo=\"XtWXXtWr! in In[4]:27\" data-info=\"XtWXXtWr! in In[4]:27\"/>\n",
        "<text text-anchor=\"\" x=\"903.0268604139146\" y=\"41.5\" font-size=\"12\" font-family=\"Verdana\" fill=\"rgb(0,0,0)\" ></text>\n",
        "<rect vector-effect=\"non-scaling-stroke\" x=\"936.9572875385293\" y=\"30.0\" width=\"37.41083223249666\" height=\"15.0\" fill=\"rgb(0,0,122)\" rx=\"2\" ry=\"2\" data-shortinfo=\"XtWXXtWr! in In[4]:27\" data-info=\"XtWXXtWr! in In[4]:27\"/>\n",
        "<text text-anchor=\"\" x=\"940.9572875385293\" y=\"41.5\" font-size=\"12\" font-family=\"Verdana\" fill=\"rgb(0,0,0)\" ></text>\n",
        "<rect vector-effect=\"non-scaling-stroke\" x=\"974.3681197710259\" y=\"30.0\" width=\"45.724350506384894\" height=\"15.0\" fill=\"rgb(0,0,122)\" rx=\"2\" ry=\"2\" data-shortinfo=\"XtWXXtWr! in In[4]:27\" data-info=\"XtWXXtWr! in In[4]:27\"/>\n",
        "<text text-anchor=\"\" x=\"978.3681197710259\" y=\"41.5\" font-size=\"12\" font-family=\"Verdana\" fill=\"rgb(0,0,0)\" ></text>\n",
        "<rect vector-effect=\"non-scaling-stroke\" x=\"1020.0924702774108\" y=\"30.0\" width=\"1.5587846763540938\" height=\"15.0\" fill=\"rgb(0,0,122)\" rx=\"2\" ry=\"2\" data-shortinfo=\"XtWXXtWr! in In[4]:27\" data-info=\"XtWXXtWr! in In[4]:27\"/>\n",
        "<text text-anchor=\"\" x=\"1024.092470277411\" y=\"41.5\" font-size=\"12\" font-family=\"Verdana\" fill=\"rgb(0,0,0)\" ></text>\n",
        "<rect vector-effect=\"non-scaling-stroke\" x=\"1021.6512549537649\" y=\"30.0\" width=\"1.0391897842359867\" height=\"15.0\" fill=\"rgb(0,0,122)\" rx=\"2\" ry=\"2\" data-shortinfo=\"XtWXXtWr! in In[4]:27\" data-info=\"XtWXXtWr! in In[4]:27\"/>\n",
        "<text text-anchor=\"\" x=\"1025.651254953765\" y=\"41.5\" font-size=\"12\" font-family=\"Verdana\" fill=\"rgb(0,0,0)\" ></text>\n",
        "<rect vector-effect=\"non-scaling-stroke\" x=\"1022.6904447380009\" y=\"30.0\" width=\"1.0391897842359867\" height=\"15.0\" fill=\"rgb(0,0,122)\" rx=\"2\" ry=\"2\" data-shortinfo=\"XtWXXtWr! in In[4]:27\" data-info=\"XtWXXtWr! in In[4]:27\"/>\n",
        "<text text-anchor=\"\" x=\"1026.690444738001\" y=\"41.5\" font-size=\"12\" font-family=\"Verdana\" fill=\"rgb(0,0,0)\" ></text>\n",
        "<rect vector-effect=\"non-scaling-stroke\" x=\"1023.7296345222369\" y=\"30.0\" width=\"1.0391897842359867\" height=\"15.0\" fill=\"rgb(0,0,122)\" rx=\"2\" ry=\"2\" data-shortinfo=\"XtWXXtWr! in In[4]:27\" data-info=\"XtWXXtWr! in In[4]:27\"/>\n",
        "<text text-anchor=\"\" x=\"1027.729634522237\" y=\"41.5\" font-size=\"12\" font-family=\"Verdana\" fill=\"rgb(0,0,0)\" ></text>\n",
        "<rect vector-effect=\"non-scaling-stroke\" x=\"1024.7688243064729\" y=\"30.0\" width=\"3.1175693527081876\" height=\"15.0\" fill=\"rgb(0,0,122)\" rx=\"2\" ry=\"2\" data-shortinfo=\"XtWXXtWr! in In[4]:27\" data-info=\"XtWXXtWr! in In[4]:27\"/>\n",
        "<text text-anchor=\"\" x=\"1028.7688243064729\" y=\"41.5\" font-size=\"12\" font-family=\"Verdana\" fill=\"rgb(0,0,0)\" ></text>\n",
        "<rect vector-effect=\"non-scaling-stroke\" x=\"1027.886393659181\" y=\"30.0\" width=\"3.11756935270796\" height=\"15.0\" fill=\"rgb(0,0,122)\" rx=\"2\" ry=\"2\" data-shortinfo=\"XtWXXtWr! in In[4]:27\" data-info=\"XtWXXtWr! in In[4]:27\"/>\n",
        "<text text-anchor=\"\" x=\"1031.886393659181\" y=\"41.5\" font-size=\"12\" font-family=\"Verdana\" fill=\"rgb(0,0,0)\" ></text>\n",
        "<rect vector-effect=\"non-scaling-stroke\" x=\"1031.003963011889\" y=\"30.0\" width=\"43.64597093791281\" height=\"15.0\" fill=\"rgb(0,0,122)\" rx=\"2\" ry=\"2\" data-shortinfo=\"XtWXXtWr! in In[4]:27\" data-info=\"XtWXXtWr! in In[4]:27\"/>\n",
        "<text text-anchor=\"\" x=\"1035.003963011889\" y=\"41.5\" font-size=\"12\" font-family=\"Verdana\" fill=\"rgb(0,0,0)\" ></text>\n",
        "<rect vector-effect=\"non-scaling-stroke\" x=\"1074.6499339498018\" y=\"30.0\" width=\"4.156759136944174\" height=\"15.0\" fill=\"rgb(0,88,98)\" rx=\"2\" ry=\"2\" data-shortinfo=\"XtWXXtWr! in In[4]:29\" data-info=\"XtWXXtWr! in In[4]:29\"/>\n",
        "<text text-anchor=\"\" x=\"1078.6499339498018\" y=\"41.5\" font-size=\"12\" font-family=\"Verdana\" fill=\"rgb(0,0,0)\" ></text>\n",
        "<rect vector-effect=\"non-scaling-stroke\" x=\"1078.806693086746\" y=\"30.0\" width=\"13.509467195068282\" height=\"15.0\" fill=\"rgb(0,88,98)\" rx=\"2\" ry=\"2\" data-shortinfo=\"XtWXXtWr! in In[4]:29\" data-info=\"XtWXXtWr! in In[4]:29\"/>\n",
        "<text text-anchor=\"\" x=\"1082.806693086746\" y=\"41.5\" font-size=\"12\" font-family=\"Verdana\" fill=\"rgb(0,0,0)\" ></text>\n",
        "<rect vector-effect=\"non-scaling-stroke\" x=\"1092.3161602818143\" y=\"30.0\" width=\"10.911492734478088\" height=\"15.0\" fill=\"rgb(0,88,98)\" rx=\"2\" ry=\"2\" data-shortinfo=\"XtWXXtWr! in In[4]:29\" data-info=\"XtWXXtWr! in In[4]:29\"/>\n",
        "<text text-anchor=\"\" x=\"1096.3161602818143\" y=\"41.5\" font-size=\"12\" font-family=\"Verdana\" fill=\"rgb(0,0,0)\" ></text>\n",
        "<rect vector-effect=\"non-scaling-stroke\" x=\"1103.2276530162924\" y=\"30.0\" width=\"30.136503742844525\" height=\"15.0\" fill=\"rgb(0,88,98)\" rx=\"2\" ry=\"2\" data-shortinfo=\"XtWXXtWr! in In[4]:29\" data-info=\"XtWXXtWr! in In[4]:29\"/>\n",
        "<text text-anchor=\"\" x=\"1107.2276530162924\" y=\"41.5\" font-size=\"12\" font-family=\"Verdana\" fill=\"rgb(0,0,0)\" ></text>\n",
        "<rect vector-effect=\"non-scaling-stroke\" x=\"1133.364156759137\" y=\"30.0\" width=\"4.156759136944174\" height=\"15.0\" fill=\"rgb(0,88,98)\" rx=\"2\" ry=\"2\" data-shortinfo=\"XtWXXtWr! in In[4]:29\" data-info=\"XtWXXtWr! in In[4]:29\"/>\n",
        "<text text-anchor=\"\" x=\"1137.364156759137\" y=\"41.5\" font-size=\"12\" font-family=\"Verdana\" fill=\"rgb(0,0,0)\" ></text>\n",
        "<rect vector-effect=\"non-scaling-stroke\" x=\"1137.520915896081\" y=\"30.0\" width=\"3.11756935270796\" height=\"15.0\" fill=\"rgb(0,88,98)\" rx=\"2\" ry=\"2\" data-shortinfo=\"XtWXXtWr! in In[4]:29\" data-info=\"XtWXXtWr! in In[4]:29\"/>\n",
        "<text text-anchor=\"\" x=\"1141.520915896081\" y=\"41.5\" font-size=\"12\" font-family=\"Verdana\" fill=\"rgb(0,0,0)\" ></text>\n",
        "<rect vector-effect=\"non-scaling-stroke\" x=\"1140.638485248789\" y=\"30.0\" width=\"8.833113166006115\" height=\"15.0\" fill=\"rgb(0,88,98)\" rx=\"2\" ry=\"2\" data-shortinfo=\"XtWXXtWr! in In[4]:29\" data-info=\"XtWXXtWr! in In[4]:29\"/>\n",
        "<text text-anchor=\"\" x=\"1144.638485248789\" y=\"41.5\" font-size=\"12\" font-family=\"Verdana\" fill=\"rgb(0,0,0)\" ></text>\n",
        "<rect vector-effect=\"non-scaling-stroke\" x=\"1149.4715984147952\" y=\"30.0\" width=\"1.039189784236214\" height=\"15.0\" fill=\"rgb(0,88,98)\" rx=\"2\" ry=\"2\" data-shortinfo=\"XtWXXtWr! in In[4]:29\" data-info=\"XtWXXtWr! in In[4]:29\"/>\n",
        "<text text-anchor=\"\" x=\"1153.4715984147952\" y=\"41.5\" font-size=\"12\" font-family=\"Verdana\" fill=\"rgb(0,0,0)\" ></text>\n",
        "<rect vector-effect=\"non-scaling-stroke\" x=\"1150.5107881990314\" y=\"30.0\" width=\"3.11756935270796\" height=\"15.0\" fill=\"rgb(0,88,98)\" rx=\"2\" ry=\"2\" data-shortinfo=\"XtWXXtWr! in In[4]:29\" data-info=\"XtWXXtWr! in In[4]:29\"/>\n",
        "<text text-anchor=\"\" x=\"1154.5107881990314\" y=\"41.5\" font-size=\"12\" font-family=\"Verdana\" fill=\"rgb(0,0,0)\" ></text>\n",
        "<rect vector-effect=\"non-scaling-stroke\" x=\"1153.6283575517393\" y=\"30.0\" width=\"8.833113166006115\" height=\"15.0\" fill=\"rgb(0,88,98)\" rx=\"2\" ry=\"2\" data-shortinfo=\"XtWXXtWr! in In[4]:29\" data-info=\"XtWXXtWr! in In[4]:29\"/>\n",
        "<text text-anchor=\"\" x=\"1157.6283575517393\" y=\"41.5\" font-size=\"12\" font-family=\"Verdana\" fill=\"rgb(0,0,0)\" ></text>\n",
        "<rect vector-effect=\"non-scaling-stroke\" x=\"1162.4614707177454\" y=\"30.0\" width=\"4.156759136944174\" height=\"15.0\" fill=\"rgb(0,88,98)\" rx=\"2\" ry=\"2\" data-shortinfo=\"XtWXXtWr! in In[4]:29\" data-info=\"XtWXXtWr! in In[4]:29\"/>\n",
        "<text text-anchor=\"\" x=\"1166.4614707177454\" y=\"41.5\" font-size=\"12\" font-family=\"Verdana\" fill=\"rgb(0,0,0)\" ></text>\n",
        "<rect vector-effect=\"non-scaling-stroke\" x=\"1166.6182298546896\" y=\"30.0\" width=\"5.195948921179934\" height=\"15.0\" fill=\"rgb(0,88,98)\" rx=\"2\" ry=\"2\" data-shortinfo=\"XtWXXtWr! in In[4]:29\" data-info=\"XtWXXtWr! in In[4]:29\"/>\n",
        "<text text-anchor=\"\" x=\"1170.6182298546896\" y=\"41.5\" font-size=\"12\" font-family=\"Verdana\" fill=\"rgb(0,0,0)\" ></text>\n",
        "<rect vector-effect=\"non-scaling-stroke\" x=\"1171.8141787758696\" y=\"30.0\" width=\"0.5195948921182207\" height=\"15.0\" fill=\"rgb(0,88,98)\" rx=\"2\" ry=\"2\" data-shortinfo=\"XtWXXtWr! in In[4]:29\" data-info=\"XtWXXtWr! in In[4]:29\"/>\n",
        "<text text-anchor=\"\" x=\"1175.8141787758696\" y=\"41.5\" font-size=\"12\" font-family=\"Verdana\" fill=\"rgb(0,0,0)\" ></text>\n",
        "<rect vector-effect=\"non-scaling-stroke\" x=\"1172.3337736679878\" y=\"30.0\" width=\"17.146631439894236\" height=\"15.0\" fill=\"rgb(0,88,98)\" rx=\"2\" ry=\"2\" data-shortinfo=\"XtWXXtWr! in In[4]:29\" data-info=\"XtWXXtWr! in In[4]:29\"/>\n",
        "<text text-anchor=\"\" x=\"1176.3337736679878\" y=\"41.5\" font-size=\"12\" font-family=\"Verdana\" fill=\"rgb(0,0,0)\" ></text>\n",
        "    </g></g>\n",
        "    <script><![CDATA[(function(N){var k=/[\\.\\/]/,L=/\\s*,\\s*/,C=function(a,d){return a-d},a,v,y={n:{}},M=function(){for(var a=0,d=this.length;a<d;a++)if(\"undefined\"!=typeof this[a])return this[a]},A=function(){for(var a=this.length;--a;)if(\"undefined\"!=typeof this[a])return this[a]},w=function(k,d){k=String(k);var f=v,n=Array.prototype.slice.call(arguments,2),u=w.listeners(k),p=0,b,q=[],e={},l=[],r=a;l.firstDefined=M;l.lastDefined=A;a=k;for(var s=v=0,x=u.length;s<x;s++)\"zIndex\"in u[s]&&(q.push(u[s].zIndex),0>u[s].zIndex&&\n",
        "(e[u[s].zIndex]=u[s]));for(q.sort(C);0>q[p];)if(b=e[q[p++] ],l.push(b.apply(d,n)),v)return v=f,l;for(s=0;s<x;s++)if(b=u[s],\"zIndex\"in b)if(b.zIndex==q[p]){l.push(b.apply(d,n));if(v)break;do if(p++,(b=e[q[p] ])&&l.push(b.apply(d,n)),v)break;while(b)}else e[b.zIndex]=b;else if(l.push(b.apply(d,n)),v)break;v=f;a=r;return l};w._events=y;w.listeners=function(a){a=a.split(k);var d=y,f,n,u,p,b,q,e,l=[d],r=[];u=0;for(p=a.length;u<p;u++){e=[];b=0;for(q=l.length;b<q;b++)for(d=l[b].n,f=[d[a[u] ],d[\"*\"] ],n=2;n--;)if(d=\n",
        "f[n])e.push(d),r=r.concat(d.f||[]);l=e}return r};w.on=function(a,d){a=String(a);if(\"function\"!=typeof d)return function(){};for(var f=a.split(L),n=0,u=f.length;n<u;n++)(function(a){a=a.split(k);for(var b=y,f,e=0,l=a.length;e<l;e++)b=b.n,b=b.hasOwnProperty(a[e])&&b[a[e] ]||(b[a[e] ]={n:{}});b.f=b.f||[];e=0;for(l=b.f.length;e<l;e++)if(b.f[e]==d){f=!0;break}!f&&b.f.push(d)})(f[n]);return function(a){+a==+a&&(d.zIndex=+a)}};w.f=function(a){var d=[].slice.call(arguments,1);return function(){w.apply(null,\n",
        "[a,null].concat(d).concat([].slice.call(arguments,0)))}};w.stop=function(){v=1};w.nt=function(k){return k?(new RegExp(\"(?:\\\\.|\\\\/|^)\"+k+\"(?:\\\\.|\\\\/|$)\")).test(a):a};w.nts=function(){return a.split(k)};w.off=w.unbind=function(a,d){if(a){var f=a.split(L);if(1<f.length)for(var n=0,u=f.length;n<u;n++)w.off(f[n],d);else{for(var f=a.split(k),p,b,q,e,l=[y],n=0,u=f.length;n<u;n++)for(e=0;e<l.length;e+=q.length-2){q=[e,1];p=l[e].n;if(\"*\"!=f[n])p[f[n] ]&&q.push(p[f[n] ]);else for(b in p)p.hasOwnProperty(b)&&\n",
        "q.push(p[b]);l.splice.apply(l,q)}n=0;for(u=l.length;n<u;n++)for(p=l[n];p.n;){if(d){if(p.f){e=0;for(f=p.f.length;e<f;e++)if(p.f[e]==d){p.f.splice(e,1);break}!p.f.length&&delete p.f}for(b in p.n)if(p.n.hasOwnProperty(b)&&p.n[b].f){q=p.n[b].f;e=0;for(f=q.length;e<f;e++)if(q[e]==d){q.splice(e,1);break}!q.length&&delete p.n[b].f}}else for(b in delete p.f,p.n)p.n.hasOwnProperty(b)&&p.n[b].f&&delete p.n[b].f;p=p.n}}}else w._events=y={n:{}}};w.once=function(a,d){var f=function(){w.unbind(a,f);return d.apply(this,\n",
        "arguments)};return w.on(a,f)};w.version=\"0.4.2\";w.toString=function(){return\"You are running Eve 0.4.2\"};\"undefined\"!=typeof module&&module.exports?module.exports=w:\"function\"===typeof define&&define.amd?define(\"eve\",[],function(){return w}):N.eve=w})(this);\n",
        "(function(N,k){\"function\"===typeof define&&define.amd?define(\"Snap.svg\",[\"eve\"],function(L){return k(N,L)}):k(N,N.eve)})(this,function(N,k){var L=function(a){var k={},y=N.requestAnimationFrame||N.webkitRequestAnimationFrame||N.mozRequestAnimationFrame||N.oRequestAnimationFrame||N.msRequestAnimationFrame||function(a){setTimeout(a,16)},M=Array.isArray||function(a){return a instanceof Array||\"[object Array]\"==Object.prototype.toString.call(a)},A=0,w=\"M\"+(+new Date).toString(36),z=function(a){if(null==\n",
        "a)return this.s;var b=this.s-a;this.b+=this.dur*b;this.B+=this.dur*b;this.s=a},d=function(a){if(null==a)return this.spd;this.spd=a},f=function(a){if(null==a)return this.dur;this.s=this.s*a/this.dur;this.dur=a},n=function(){delete k[this.id];this.update();a(\"mina.stop.\"+this.id,this)},u=function(){this.pdif||(delete k[this.id],this.update(),this.pdif=this.get()-this.b)},p=function(){this.pdif&&(this.b=this.get()-this.pdif,delete this.pdif,k[this.id]=this)},b=function(){var a;if(M(this.start)){a=[];\n",
        "for(var b=0,e=this.start.length;b<e;b++)a[b]=+this.start[b]+(this.end[b]-this.start[b])*this.easing(this.s)}else a=+this.start+(this.end-this.start)*this.easing(this.s);this.set(a)},q=function(){var l=0,b;for(b in k)if(k.hasOwnProperty(b)){var e=k[b],f=e.get();l++;e.s=(f-e.b)/(e.dur/e.spd);1<=e.s&&(delete k[b],e.s=1,l--,function(b){setTimeout(function(){a(\"mina.finish.\"+b.id,b)})}(e));e.update()}l&&y(q)},e=function(a,r,s,x,G,h,J){a={id:w+(A++).toString(36),start:a,end:r,b:s,s:0,dur:x-s,spd:1,get:G,\n",
        "set:h,easing:J||e.linear,status:z,speed:d,duration:f,stop:n,pause:u,resume:p,update:b};k[a.id]=a;r=0;for(var K in k)if(k.hasOwnProperty(K)&&(r++,2==r))break;1==r&&y(q);return a};e.time=Date.now||function(){return+new Date};e.getById=function(a){return k[a]||null};e.linear=function(a){return a};e.easeout=function(a){return Math.pow(a,1.7)};e.easein=function(a){return Math.pow(a,0.48)};e.easeinout=function(a){if(1==a)return 1;if(0==a)return 0;var b=0.48-a/1.04,e=Math.sqrt(0.1734+b*b);a=e-b;a=Math.pow(Math.abs(a),\n",
        "1/3)*(0>a?-1:1);b=-e-b;b=Math.pow(Math.abs(b),1/3)*(0>b?-1:1);a=a+b+0.5;return 3*(1-a)*a*a+a*a*a};e.backin=function(a){return 1==a?1:a*a*(2.70158*a-1.70158)};e.backout=function(a){if(0==a)return 0;a-=1;return a*a*(2.70158*a+1.70158)+1};e.elastic=function(a){return a==!!a?a:Math.pow(2,-10*a)*Math.sin(2*(a-0.075)*Math.PI/0.3)+1};e.bounce=function(a){a<1/2.75?a*=7.5625*a:a<2/2.75?(a-=1.5/2.75,a=7.5625*a*a+0.75):a<2.5/2.75?(a-=2.25/2.75,a=7.5625*a*a+0.9375):(a-=2.625/2.75,a=7.5625*a*a+0.984375);return a};\n",
        "return N.mina=e}(\"undefined\"==typeof k?function(){}:k),C=function(){function a(c,t){if(c){if(c.tagName)return x(c);if(y(c,\"array\")&&a.set)return a.set.apply(a,c);if(c instanceof e)return c;if(null==t)return c=G.doc.querySelector(c),x(c)}return new s(null==c?\"100%\":c,null==t?\"100%\":t)}function v(c,a){if(a){\"#text\"==c&&(c=G.doc.createTextNode(a.text||\"\"));\"string\"==typeof c&&(c=v(c));if(\"string\"==typeof a)return\"xlink:\"==a.substring(0,6)?c.getAttributeNS(m,a.substring(6)):\"xml:\"==a.substring(0,4)?c.getAttributeNS(la,\n",
        "a.substring(4)):c.getAttribute(a);for(var da in a)if(a[h](da)){var b=J(a[da]);b?\"xlink:\"==da.substring(0,6)?c.setAttributeNS(m,da.substring(6),b):\"xml:\"==da.substring(0,4)?c.setAttributeNS(la,da.substring(4),b):c.setAttribute(da,b):c.removeAttribute(da)}}else c=G.doc.createElementNS(la,c);return c}function y(c,a){a=J.prototype.toLowerCase.call(a);return\"finite\"==a?isFinite(c):\"array\"==a&&(c instanceof Array||Array.isArray&&Array.isArray(c))?!0:\"null\"==a&&null===c||a==typeof c&&null!==c||\"object\"==\n",
        "a&&c===Object(c)||$.call(c).slice(8,-1).toLowerCase()==a}function M(c){if(\"function\"==typeof c||Object(c)!==c)return c;var a=new c.constructor,b;for(b in c)c[h](b)&&(a[b]=M(c[b]));return a}function A(c,a,b){function m(){var e=Array.prototype.slice.call(arguments,0),f=e.join(\"\\u2400\"),d=m.cache=m.cache||{},l=m.count=m.count||[];if(d[h](f)){a:for(var e=l,l=f,B=0,H=e.length;B<H;B++)if(e[B]===l){e.push(e.splice(B,1)[0]);break a}return b?b(d[f]):d[f]}1E3<=l.length&&delete d[l.shift()];l.push(f);d[f]=c.apply(a,\n",
        "e);return b?b(d[f]):d[f]}return m}function w(c,a,b,m,e,f){return null==e?(c-=b,a-=m,c||a?(180*I.atan2(-a,-c)/C+540)%360:0):w(c,a,e,f)-w(b,m,e,f)}function z(c){return c%360*C/180}function d(c){var a=[];c=c.replace(/(?:^|\\s)(\\w+)\\(([^)]+)\\)/g,function(c,b,m){m=m.split(/\\s*,\\s*|\\s+/);\"rotate\"==b&&1==m.length&&m.push(0,0);\"scale\"==b&&(2<m.length?m=m.slice(0,2):2==m.length&&m.push(0,0),1==m.length&&m.push(m[0],0,0));\"skewX\"==b?a.push([\"m\",1,0,I.tan(z(m[0])),1,0,0]):\"skewY\"==b?a.push([\"m\",1,I.tan(z(m[0])),\n",
        "0,1,0,0]):a.push([b.charAt(0)].concat(m));return c});return a}function f(c,t){var b=O(c),m=new a.Matrix;if(b)for(var e=0,f=b.length;e<f;e++){var h=b[e],d=h.length,B=J(h[0]).toLowerCase(),H=h[0]!=B,l=H?m.invert():0,E;\"t\"==B&&2==d?m.translate(h[1],0):\"t\"==B&&3==d?H?(d=l.x(0,0),B=l.y(0,0),H=l.x(h[1],h[2]),l=l.y(h[1],h[2]),m.translate(H-d,l-B)):m.translate(h[1],h[2]):\"r\"==B?2==d?(E=E||t,m.rotate(h[1],E.x+E.width/2,E.y+E.height/2)):4==d&&(H?(H=l.x(h[2],h[3]),l=l.y(h[2],h[3]),m.rotate(h[1],H,l)):m.rotate(h[1],\n",
        "h[2],h[3])):\"s\"==B?2==d||3==d?(E=E||t,m.scale(h[1],h[d-1],E.x+E.width/2,E.y+E.height/2)):4==d?H?(H=l.x(h[2],h[3]),l=l.y(h[2],h[3]),m.scale(h[1],h[1],H,l)):m.scale(h[1],h[1],h[2],h[3]):5==d&&(H?(H=l.x(h[3],h[4]),l=l.y(h[3],h[4]),m.scale(h[1],h[2],H,l)):m.scale(h[1],h[2],h[3],h[4])):\"m\"==B&&7==d&&m.add(h[1],h[2],h[3],h[4],h[5],h[6])}return m}function n(c,t){if(null==t){var m=!0;t=\"linearGradient\"==c.type||\"radialGradient\"==c.type?c.node.getAttribute(\"gradientTransform\"):\"pattern\"==c.type?c.node.getAttribute(\"patternTransform\"):\n",
        "c.node.getAttribute(\"transform\");if(!t)return new a.Matrix;t=d(t)}else t=a._.rgTransform.test(t)?J(t).replace(/\\.{3}|\\u2026/g,c._.transform||aa):d(t),y(t,\"array\")&&(t=a.path?a.path.toString.call(t):J(t)),c._.transform=t;var b=f(t,c.getBBox(1));if(m)return b;c.matrix=b}function u(c){c=c.node.ownerSVGElement&&x(c.node.ownerSVGElement)||c.node.parentNode&&x(c.node.parentNode)||a.select(\"svg\")||a(0,0);var t=c.select(\"defs\"),t=null==t?!1:t.node;t||(t=r(\"defs\",c.node).node);return t}function p(c){return c.node.ownerSVGElement&&\n",
        "x(c.node.ownerSVGElement)||a.select(\"svg\")}function b(c,a,m){function b(c){if(null==c)return aa;if(c==+c)return c;v(B,{width:c});try{return B.getBBox().width}catch(a){return 0}}function h(c){if(null==c)return aa;if(c==+c)return c;v(B,{height:c});try{return B.getBBox().height}catch(a){return 0}}function e(b,B){null==a?d[b]=B(c.attr(b)||0):b==a&&(d=B(null==m?c.attr(b)||0:m))}var f=p(c).node,d={},B=f.querySelector(\".svg---mgr\");B||(B=v(\"rect\"),v(B,{x:-9E9,y:-9E9,width:10,height:10,\"class\":\"svg---mgr\",\n",
        "fill:\"none\"}),f.appendChild(B));switch(c.type){case \"rect\":e(\"rx\",b),e(\"ry\",h);case \"image\":e(\"width\",b),e(\"height\",h);case \"text\":e(\"x\",b);e(\"y\",h);break;case \"circle\":e(\"cx\",b);e(\"cy\",h);e(\"r\",b);break;case \"ellipse\":e(\"cx\",b);e(\"cy\",h);e(\"rx\",b);e(\"ry\",h);break;case \"line\":e(\"x1\",b);e(\"x2\",b);e(\"y1\",h);e(\"y2\",h);break;case \"marker\":e(\"refX\",b);e(\"markerWidth\",b);e(\"refY\",h);e(\"markerHeight\",h);break;case \"radialGradient\":e(\"fx\",b);e(\"fy\",h);break;case \"tspan\":e(\"dx\",b);e(\"dy\",h);break;default:e(a,\n",
        "b)}f.removeChild(B);return d}function q(c){y(c,\"array\")||(c=Array.prototype.slice.call(arguments,0));for(var a=0,b=0,m=this.node;this[a];)delete this[a++];for(a=0;a<c.length;a++)\"set\"==c[a].type?c[a].forEach(function(c){m.appendChild(c.node)}):m.appendChild(c[a].node);for(var h=m.childNodes,a=0;a<h.length;a++)this[b++]=x(h[a]);return this}function e(c){if(c.snap in E)return E[c.snap];var a=this.id=V(),b;try{b=c.ownerSVGElement}catch(m){}this.node=c;b&&(this.paper=new s(b));this.type=c.tagName;this.anims=\n",
        "{};this._={transform:[]};c.snap=a;E[a]=this;\"g\"==this.type&&(this.add=q);if(this.type in{g:1,mask:1,pattern:1})for(var e in s.prototype)s.prototype[h](e)&&(this[e]=s.prototype[e])}function l(c){this.node=c}function r(c,a){var b=v(c);a.appendChild(b);return x(b)}function s(c,a){var b,m,f,d=s.prototype;if(c&&\"svg\"==c.tagName){if(c.snap in E)return E[c.snap];var l=c.ownerDocument;b=new e(c);m=c.getElementsByTagName(\"desc\")[0];f=c.getElementsByTagName(\"defs\")[0];m||(m=v(\"desc\"),m.appendChild(l.createTextNode(\"Created with Snap\")),\n",
        "b.node.appendChild(m));f||(f=v(\"defs\"),b.node.appendChild(f));b.defs=f;for(var ca in d)d[h](ca)&&(b[ca]=d[ca]);b.paper=b.root=b}else b=r(\"svg\",G.doc.body),v(b.node,{height:a,version:1.1,width:c,xmlns:la});return b}function x(c){return!c||c instanceof e||c instanceof l?c:c.tagName&&\"svg\"==c.tagName.toLowerCase()?new s(c):c.tagName&&\"object\"==c.tagName.toLowerCase()&&\"image/svg+xml\"==c.type?new s(c.contentDocument.getElementsByTagName(\"svg\")[0]):new e(c)}a.version=\"0.3.0\";a.toString=function(){return\"Snap v\"+\n",
        "this.version};a._={};var G={win:N,doc:N.document};a._.glob=G;var h=\"hasOwnProperty\",J=String,K=parseFloat,U=parseInt,I=Math,P=I.max,Q=I.min,Y=I.abs,C=I.PI,aa=\"\",$=Object.prototype.toString,F=/^\\s*((#[a-f\\d]{6})|(#[a-f\\d]{3})|rgba?\\(\\s*([\\d\\.]+%?\\s*,\\s*[\\d\\.]+%?\\s*,\\s*[\\d\\.]+%?(?:\\s*,\\s*[\\d\\.]+%?)?)\\s*\\)|hsba?\\(\\s*([\\d\\.]+(?:deg|\\xb0|%)?\\s*,\\s*[\\d\\.]+%?\\s*,\\s*[\\d\\.]+(?:%?\\s*,\\s*[\\d\\.]+)?%?)\\s*\\)|hsla?\\(\\s*([\\d\\.]+(?:deg|\\xb0|%)?\\s*,\\s*[\\d\\.]+%?\\s*,\\s*[\\d\\.]+(?:%?\\s*,\\s*[\\d\\.]+)?%?)\\s*\\))\\s*$/i;a._.separator=\n",
        "RegExp(\"[,\\t\\n\\x0B\\f\\r \\u00a0\\u1680\\u180e\\u2000\\u2001\\u2002\\u2003\\u2004\\u2005\\u2006\\u2007\\u2008\\u2009\\u200a\\u202f\\u205f\\u3000\\u2028\\u2029]+\");var S=RegExp(\"[\\t\\n\\x0B\\f\\r \\u00a0\\u1680\\u180e\\u2000\\u2001\\u2002\\u2003\\u2004\\u2005\\u2006\\u2007\\u2008\\u2009\\u200a\\u202f\\u205f\\u3000\\u2028\\u2029]*,[\\t\\n\\x0B\\f\\r \\u00a0\\u1680\\u180e\\u2000\\u2001\\u2002\\u2003\\u2004\\u2005\\u2006\\u2007\\u2008\\u2009\\u200a\\u202f\\u205f\\u3000\\u2028\\u2029]*\"),X={hs:1,rg:1},W=RegExp(\"([a-z])[\\t\\n\\x0B\\f\\r \\u00a0\\u1680\\u180e\\u2000\\u2001\\u2002\\u2003\\u2004\\u2005\\u2006\\u2007\\u2008\\u2009\\u200a\\u202f\\u205f\\u3000\\u2028\\u2029,]*((-?\\\\d*\\\\.?\\\\d*(?:e[\\\\-+]?\\\\d+)?[\\t\\n\\x0B\\f\\r \\u00a0\\u1680\\u180e\\u2000\\u2001\\u2002\\u2003\\u2004\\u2005\\u2006\\u2007\\u2008\\u2009\\u200a\\u202f\\u205f\\u3000\\u2028\\u2029]*,?[\\t\\n\\x0B\\f\\r \\u00a0\\u1680\\u180e\\u2000\\u2001\\u2002\\u2003\\u2004\\u2005\\u2006\\u2007\\u2008\\u2009\\u200a\\u202f\\u205f\\u3000\\u2028\\u2029]*)+)\",\n",
        "\"ig\"),ma=RegExp(\"([rstm])[\\t\\n\\x0B\\f\\r \\u00a0\\u1680\\u180e\\u2000\\u2001\\u2002\\u2003\\u2004\\u2005\\u2006\\u2007\\u2008\\u2009\\u200a\\u202f\\u205f\\u3000\\u2028\\u2029,]*((-?\\\\d*\\\\.?\\\\d*(?:e[\\\\-+]?\\\\d+)?[\\t\\n\\x0B\\f\\r \\u00a0\\u1680\\u180e\\u2000\\u2001\\u2002\\u2003\\u2004\\u2005\\u2006\\u2007\\u2008\\u2009\\u200a\\u202f\\u205f\\u3000\\u2028\\u2029]*,?[\\t\\n\\x0B\\f\\r \\u00a0\\u1680\\u180e\\u2000\\u2001\\u2002\\u2003\\u2004\\u2005\\u2006\\u2007\\u2008\\u2009\\u200a\\u202f\\u205f\\u3000\\u2028\\u2029]*)+)\",\"ig\"),Z=RegExp(\"(-?\\\\d*\\\\.?\\\\d*(?:e[\\\\-+]?\\\\d+)?)[\\t\\n\\x0B\\f\\r \\u00a0\\u1680\\u180e\\u2000\\u2001\\u2002\\u2003\\u2004\\u2005\\u2006\\u2007\\u2008\\u2009\\u200a\\u202f\\u205f\\u3000\\u2028\\u2029]*,?[\\t\\n\\x0B\\f\\r \\u00a0\\u1680\\u180e\\u2000\\u2001\\u2002\\u2003\\u2004\\u2005\\u2006\\u2007\\u2008\\u2009\\u200a\\u202f\\u205f\\u3000\\u2028\\u2029]*\",\n",
        "\"ig\"),na=0,ba=\"S\"+(+new Date).toString(36),V=function(){return ba+(na++).toString(36)},m=\"http://www.w3.org/1999/xlink\",la=\"http://www.w3.org/2000/svg\",E={},ca=a.url=function(c){return\"url('#\"+c+\"')\"};a._.$=v;a._.id=V;a.format=function(){var c=/\\{([^\\}]+)\\}/g,a=/(?:(?:^|\\.)(.+?)(?=\\[|\\.|$|\\()|\\[('|\")(.+?)\\2\\])(\\(\\))?/g,b=function(c,b,m){var h=m;b.replace(a,function(c,a,b,m,t){a=a||m;h&&(a in h&&(h=h[a]),\"function\"==typeof h&&t&&(h=h()))});return h=(null==h||h==m?c:h)+\"\"};return function(a,m){return J(a).replace(c,\n",
        "function(c,a){return b(c,a,m)})}}();a._.clone=M;a._.cacher=A;a.rad=z;a.deg=function(c){return 180*c/C%360};a.angle=w;a.is=y;a.snapTo=function(c,a,b){b=y(b,\"finite\")?b:10;if(y(c,\"array\"))for(var m=c.length;m--;){if(Y(c[m]-a)<=b)return c[m]}else{c=+c;m=a%c;if(m<b)return a-m;if(m>c-b)return a-m+c}return a};a.getRGB=A(function(c){if(!c||(c=J(c)).indexOf(\"-\")+1)return{r:-1,g:-1,b:-1,hex:\"none\",error:1,toString:ka};if(\"none\"==c)return{r:-1,g:-1,b:-1,hex:\"none\",toString:ka};!X[h](c.toLowerCase().substring(0,\n",
        "2))&&\"#\"!=c.charAt()&&(c=T(c));if(!c)return{r:-1,g:-1,b:-1,hex:\"none\",error:1,toString:ka};var b,m,e,f,d;if(c=c.match(F)){c[2]&&(e=U(c[2].substring(5),16),m=U(c[2].substring(3,5),16),b=U(c[2].substring(1,3),16));c[3]&&(e=U((d=c[3].charAt(3))+d,16),m=U((d=c[3].charAt(2))+d,16),b=U((d=c[3].charAt(1))+d,16));c[4]&&(d=c[4].split(S),b=K(d[0]),\"%\"==d[0].slice(-1)&&(b*=2.55),m=K(d[1]),\"%\"==d[1].slice(-1)&&(m*=2.55),e=K(d[2]),\"%\"==d[2].slice(-1)&&(e*=2.55),\"rgba\"==c[1].toLowerCase().slice(0,4)&&(f=K(d[3])),\n",
        "d[3]&&\"%\"==d[3].slice(-1)&&(f/=100));if(c[5])return d=c[5].split(S),b=K(d[0]),\"%\"==d[0].slice(-1)&&(b/=100),m=K(d[1]),\"%\"==d[1].slice(-1)&&(m/=100),e=K(d[2]),\"%\"==d[2].slice(-1)&&(e/=100),\"deg\"!=d[0].slice(-3)&&\"\\u00b0\"!=d[0].slice(-1)||(b/=360),\"hsba\"==c[1].toLowerCase().slice(0,4)&&(f=K(d[3])),d[3]&&\"%\"==d[3].slice(-1)&&(f/=100),a.hsb2rgb(b,m,e,f);if(c[6])return d=c[6].split(S),b=K(d[0]),\"%\"==d[0].slice(-1)&&(b/=100),m=K(d[1]),\"%\"==d[1].slice(-1)&&(m/=100),e=K(d[2]),\"%\"==d[2].slice(-1)&&(e/=100),\n",
        "\"deg\"!=d[0].slice(-3)&&\"\\u00b0\"!=d[0].slice(-1)||(b/=360),\"hsla\"==c[1].toLowerCase().slice(0,4)&&(f=K(d[3])),d[3]&&\"%\"==d[3].slice(-1)&&(f/=100),a.hsl2rgb(b,m,e,f);b=Q(I.round(b),255);m=Q(I.round(m),255);e=Q(I.round(e),255);f=Q(P(f,0),1);c={r:b,g:m,b:e,toString:ka};c.hex=\"#\"+(16777216|e|m<<8|b<<16).toString(16).slice(1);c.opacity=y(f,\"finite\")?f:1;return c}return{r:-1,g:-1,b:-1,hex:\"none\",error:1,toString:ka}},a);a.hsb=A(function(c,b,m){return a.hsb2rgb(c,b,m).hex});a.hsl=A(function(c,b,m){return a.hsl2rgb(c,\n",
        "b,m).hex});a.rgb=A(function(c,a,b,m){if(y(m,\"finite\")){var e=I.round;return\"rgba(\"+[e(c),e(a),e(b),+m.toFixed(2)]+\")\"}return\"#\"+(16777216|b|a<<8|c<<16).toString(16).slice(1)});var T=function(c){var a=G.doc.getElementsByTagName(\"head\")[0]||G.doc.getElementsByTagName(\"svg\")[0];T=A(function(c){if(\"red\"==c.toLowerCase())return\"rgb(255, 0, 0)\";a.style.color=\"rgb(255, 0, 0)\";a.style.color=c;c=G.doc.defaultView.getComputedStyle(a,aa).getPropertyValue(\"color\");return\"rgb(255, 0, 0)\"==c?null:c});return T(c)},\n",
        "qa=function(){return\"hsb(\"+[this.h,this.s,this.b]+\")\"},ra=function(){return\"hsl(\"+[this.h,this.s,this.l]+\")\"},ka=function(){return 1==this.opacity||null==this.opacity?this.hex:\"rgba(\"+[this.r,this.g,this.b,this.opacity]+\")\"},D=function(c,b,m){null==b&&y(c,\"object\")&&\"r\"in c&&\"g\"in c&&\"b\"in c&&(m=c.b,b=c.g,c=c.r);null==b&&y(c,string)&&(m=a.getRGB(c),c=m.r,b=m.g,m=m.b);if(1<c||1<b||1<m)c/=255,b/=255,m/=255;return[c,b,m]},oa=function(c,b,m,e){c=I.round(255*c);b=I.round(255*b);m=I.round(255*m);c={r:c,\n",
        "g:b,b:m,opacity:y(e,\"finite\")?e:1,hex:a.rgb(c,b,m),toString:ka};y(e,\"finite\")&&(c.opacity=e);return c};a.color=function(c){var b;y(c,\"object\")&&\"h\"in c&&\"s\"in c&&\"b\"in c?(b=a.hsb2rgb(c),c.r=b.r,c.g=b.g,c.b=b.b,c.opacity=1,c.hex=b.hex):y(c,\"object\")&&\"h\"in c&&\"s\"in c&&\"l\"in c?(b=a.hsl2rgb(c),c.r=b.r,c.g=b.g,c.b=b.b,c.opacity=1,c.hex=b.hex):(y(c,\"string\")&&(c=a.getRGB(c)),y(c,\"object\")&&\"r\"in c&&\"g\"in c&&\"b\"in c&&!(\"error\"in c)?(b=a.rgb2hsl(c),c.h=b.h,c.s=b.s,c.l=b.l,b=a.rgb2hsb(c),c.v=b.b):(c={hex:\"none\"},\n",
        "c.r=c.g=c.b=c.h=c.s=c.v=c.l=-1,c.error=1));c.toString=ka;return c};a.hsb2rgb=function(c,a,b,m){y(c,\"object\")&&\"h\"in c&&\"s\"in c&&\"b\"in c&&(b=c.b,a=c.s,c=c.h,m=c.o);var e,h,d;c=360*c%360/60;d=b*a;a=d*(1-Y(c%2-1));b=e=h=b-d;c=~~c;b+=[d,a,0,0,a,d][c];e+=[a,d,d,a,0,0][c];h+=[0,0,a,d,d,a][c];return oa(b,e,h,m)};a.hsl2rgb=function(c,a,b,m){y(c,\"object\")&&\"h\"in c&&\"s\"in c&&\"l\"in c&&(b=c.l,a=c.s,c=c.h);if(1<c||1<a||1<b)c/=360,a/=100,b/=100;var e,h,d;c=360*c%360/60;d=2*a*(0.5>b?b:1-b);a=d*(1-Y(c%2-1));b=e=\n",
        "h=b-d/2;c=~~c;b+=[d,a,0,0,a,d][c];e+=[a,d,d,a,0,0][c];h+=[0,0,a,d,d,a][c];return oa(b,e,h,m)};a.rgb2hsb=function(c,a,b){b=D(c,a,b);c=b[0];a=b[1];b=b[2];var m,e;m=P(c,a,b);e=m-Q(c,a,b);c=((0==e?0:m==c?(a-b)/e:m==a?(b-c)/e+2:(c-a)/e+4)+360)%6*60/360;return{h:c,s:0==e?0:e/m,b:m,toString:qa}};a.rgb2hsl=function(c,a,b){b=D(c,a,b);c=b[0];a=b[1];b=b[2];var m,e,h;m=P(c,a,b);e=Q(c,a,b);h=m-e;c=((0==h?0:m==c?(a-b)/h:m==a?(b-c)/h+2:(c-a)/h+4)+360)%6*60/360;m=(m+e)/2;return{h:c,s:0==h?0:0.5>m?h/(2*m):h/(2-2*\n",
        "m),l:m,toString:ra}};a.parsePathString=function(c){if(!c)return null;var b=a.path(c);if(b.arr)return a.path.clone(b.arr);var m={a:7,c:6,o:2,h:1,l:2,m:2,r:4,q:4,s:4,t:2,v:1,u:3,z:0},e=[];y(c,\"array\")&&y(c[0],\"array\")&&(e=a.path.clone(c));e.length||J(c).replace(W,function(c,a,b){var h=[];c=a.toLowerCase();b.replace(Z,function(c,a){a&&h.push(+a)});\"m\"==c&&2<h.length&&(e.push([a].concat(h.splice(0,2))),c=\"l\",a=\"m\"==a?\"l\":\"L\");\"o\"==c&&1==h.length&&e.push([a,h[0] ]);if(\"r\"==c)e.push([a].concat(h));else for(;h.length>=\n",
        "m[c]&&(e.push([a].concat(h.splice(0,m[c]))),m[c]););});e.toString=a.path.toString;b.arr=a.path.clone(e);return e};var O=a.parseTransformString=function(c){if(!c)return null;var b=[];y(c,\"array\")&&y(c[0],\"array\")&&(b=a.path.clone(c));b.length||J(c).replace(ma,function(c,a,m){var e=[];a.toLowerCase();m.replace(Z,function(c,a){a&&e.push(+a)});b.push([a].concat(e))});b.toString=a.path.toString;return b};a._.svgTransform2string=d;a._.rgTransform=RegExp(\"^[a-z][\\t\\n\\x0B\\f\\r \\u00a0\\u1680\\u180e\\u2000\\u2001\\u2002\\u2003\\u2004\\u2005\\u2006\\u2007\\u2008\\u2009\\u200a\\u202f\\u205f\\u3000\\u2028\\u2029]*-?\\\\.?\\\\d\",\n",
        "\"i\");a._.transform2matrix=f;a._unit2px=b;a._.getSomeDefs=u;a._.getSomeSVG=p;a.select=function(c){return x(G.doc.querySelector(c))};a.selectAll=function(c){c=G.doc.querySelectorAll(c);for(var b=(a.set||Array)(),m=0;m<c.length;m++)b.push(x(c[m]));return b};setInterval(function(){for(var c in E)if(E[h](c)){var a=E[c],b=a.node;(\"svg\"!=a.type&&!b.ownerSVGElement||\"svg\"==a.type&&(!b.parentNode||\"ownerSVGElement\"in b.parentNode&&!b.ownerSVGElement))&&delete E[c]}},1E4);(function(c){function m(c){function a(c,\n",
        "b){var m=v(c.node,b);(m=(m=m&&m.match(d))&&m[2])&&\"#\"==m.charAt()&&(m=m.substring(1))&&(f[m]=(f[m]||[]).concat(function(a){var m={};m[b]=ca(a);v(c.node,m)}))}function b(c){var a=v(c.node,\"xlink:href\");a&&\"#\"==a.charAt()&&(a=a.substring(1))&&(f[a]=(f[a]||[]).concat(function(a){c.attr(\"xlink:href\",\"#\"+a)}))}var e=c.selectAll(\"*\"),h,d=/^\\s*url\\((\"|'|)(.*)\\1\\)\\s*$/;c=[];for(var f={},l=0,E=e.length;l<E;l++){h=e[l];a(h,\"fill\");a(h,\"stroke\");a(h,\"filter\");a(h,\"mask\");a(h,\"clip-path\");b(h);var t=v(h.node,\n",
        "\"id\");t&&(v(h.node,{id:h.id}),c.push({old:t,id:h.id}))}l=0;for(E=c.length;l<E;l++)if(e=f[c[l].old])for(h=0,t=e.length;h<t;h++)e[h](c[l].id)}function e(c,a,b){return function(m){m=m.slice(c,a);1==m.length&&(m=m[0]);return b?b(m):m}}function d(c){return function(){var a=c?\"<\"+this.type:\"\",b=this.node.attributes,m=this.node.childNodes;if(c)for(var e=0,h=b.length;e<h;e++)a+=\" \"+b[e].name+'=\"'+b[e].value.replace(/\"/g,'\\\\\"')+'\"';if(m.length){c&&(a+=\">\");e=0;for(h=m.length;e<h;e++)3==m[e].nodeType?a+=m[e].nodeValue:\n",
        "1==m[e].nodeType&&(a+=x(m[e]).toString());c&&(a+=\"</\"+this.type+\">\")}else c&&(a+=\"/>\");return a}}c.attr=function(c,a){if(!c)return this;if(y(c,\"string\"))if(1<arguments.length){var b={};b[c]=a;c=b}else return k(\"snap.util.getattr.\"+c,this).firstDefined();for(var m in c)c[h](m)&&k(\"snap.util.attr.\"+m,this,c[m]);return this};c.getBBox=function(c){if(!a.Matrix||!a.path)return this.node.getBBox();var b=this,m=new a.Matrix;if(b.removed)return a._.box();for(;\"use\"==b.type;)if(c||(m=m.add(b.transform().localMatrix.translate(b.attr(\"x\")||\n",
        "0,b.attr(\"y\")||0))),b.original)b=b.original;else var e=b.attr(\"xlink:href\"),b=b.original=b.node.ownerDocument.getElementById(e.substring(e.indexOf(\"#\")+1));var e=b._,h=a.path.get[b.type]||a.path.get.deflt;try{if(c)return e.bboxwt=h?a.path.getBBox(b.realPath=h(b)):a._.box(b.node.getBBox()),a._.box(e.bboxwt);b.realPath=h(b);b.matrix=b.transform().localMatrix;e.bbox=a.path.getBBox(a.path.map(b.realPath,m.add(b.matrix)));return a._.box(e.bbox)}catch(d){return a._.box()}};var f=function(){return this.string};\n",
        "c.transform=function(c){var b=this._;if(null==c){var m=this;c=new a.Matrix(this.node.getCTM());for(var e=n(this),h=[e],d=new a.Matrix,l=e.toTransformString(),b=J(e)==J(this.matrix)?J(b.transform):l;\"svg\"!=m.type&&(m=m.parent());)h.push(n(m));for(m=h.length;m--;)d.add(h[m]);return{string:b,globalMatrix:c,totalMatrix:d,localMatrix:e,diffMatrix:c.clone().add(e.invert()),global:c.toTransformString(),total:d.toTransformString(),local:l,toString:f}}c instanceof a.Matrix?this.matrix=c:n(this,c);this.node&&\n",
        "(\"linearGradient\"==this.type||\"radialGradient\"==this.type?v(this.node,{gradientTransform:this.matrix}):\"pattern\"==this.type?v(this.node,{patternTransform:this.matrix}):v(this.node,{transform:this.matrix}));return this};c.parent=function(){return x(this.node.parentNode)};c.append=c.add=function(c){if(c){if(\"set\"==c.type){var a=this;c.forEach(function(c){a.add(c)});return this}c=x(c);this.node.appendChild(c.node);c.paper=this.paper}return this};c.appendTo=function(c){c&&(c=x(c),c.append(this));return this};\n",
        "c.prepend=function(c){if(c){if(\"set\"==c.type){var a=this,b;c.forEach(function(c){b?b.after(c):a.prepend(c);b=c});return this}c=x(c);var m=c.parent();this.node.insertBefore(c.node,this.node.firstChild);this.add&&this.add();c.paper=this.paper;this.parent()&&this.parent().add();m&&m.add()}return this};c.prependTo=function(c){c=x(c);c.prepend(this);return this};c.before=function(c){if(\"set\"==c.type){var a=this;c.forEach(function(c){var b=c.parent();a.node.parentNode.insertBefore(c.node,a.node);b&&b.add()});\n",
        "this.parent().add();return this}c=x(c);var b=c.parent();this.node.parentNode.insertBefore(c.node,this.node);this.parent()&&this.parent().add();b&&b.add();c.paper=this.paper;return this};c.after=function(c){c=x(c);var a=c.parent();this.node.nextSibling?this.node.parentNode.insertBefore(c.node,this.node.nextSibling):this.node.parentNode.appendChild(c.node);this.parent()&&this.parent().add();a&&a.add();c.paper=this.paper;return this};c.insertBefore=function(c){c=x(c);var a=this.parent();c.node.parentNode.insertBefore(this.node,\n",
        "c.node);this.paper=c.paper;a&&a.add();c.parent()&&c.parent().add();return this};c.insertAfter=function(c){c=x(c);var a=this.parent();c.node.parentNode.insertBefore(this.node,c.node.nextSibling);this.paper=c.paper;a&&a.add();c.parent()&&c.parent().add();return this};c.remove=function(){var c=this.parent();this.node.parentNode&&this.node.parentNode.removeChild(this.node);delete this.paper;this.removed=!0;c&&c.add();return this};c.select=function(c){return x(this.node.querySelector(c))};c.selectAll=\n",
        "function(c){c=this.node.querySelectorAll(c);for(var b=(a.set||Array)(),m=0;m<c.length;m++)b.push(x(c[m]));return b};c.asPX=function(c,a){null==a&&(a=this.attr(c));return+b(this,c,a)};c.use=function(){var c,a=this.node.id;a||(a=this.id,v(this.node,{id:a}));c=\"linearGradient\"==this.type||\"radialGradient\"==this.type||\"pattern\"==this.type?r(this.type,this.node.parentNode):r(\"use\",this.node.parentNode);v(c.node,{\"xlink:href\":\"#\"+a});c.original=this;return c};var l=/\\S+/g;c.addClass=function(c){var a=(c||\n",
        "\"\").match(l)||[];c=this.node;var b=c.className.baseVal,m=b.match(l)||[],e,h,d;if(a.length){for(e=0;d=a[e++];)h=m.indexOf(d),~h||m.push(d);a=m.join(\" \");b!=a&&(c.className.baseVal=a)}return this};c.removeClass=function(c){var a=(c||\"\").match(l)||[];c=this.node;var b=c.className.baseVal,m=b.match(l)||[],e,h;if(m.length){for(e=0;h=a[e++];)h=m.indexOf(h),~h&&m.splice(h,1);a=m.join(\" \");b!=a&&(c.className.baseVal=a)}return this};c.hasClass=function(c){return!!~(this.node.className.baseVal.match(l)||[]).indexOf(c)};\n",
        "c.toggleClass=function(c,a){if(null!=a)return a?this.addClass(c):this.removeClass(c);var b=(c||\"\").match(l)||[],m=this.node,e=m.className.baseVal,h=e.match(l)||[],d,f,E;for(d=0;E=b[d++];)f=h.indexOf(E),~f?h.splice(f,1):h.push(E);b=h.join(\" \");e!=b&&(m.className.baseVal=b);return this};c.clone=function(){var c=x(this.node.cloneNode(!0));v(c.node,\"id\")&&v(c.node,{id:c.id});m(c);c.insertAfter(this);return c};c.toDefs=function(){u(this).appendChild(this.node);return this};c.pattern=c.toPattern=function(c,\n",
        "a,b,m){var e=r(\"pattern\",u(this));null==c&&(c=this.getBBox());y(c,\"object\")&&\"x\"in c&&(a=c.y,b=c.width,m=c.height,c=c.x);v(e.node,{x:c,y:a,width:b,height:m,patternUnits:\"userSpaceOnUse\",id:e.id,viewBox:[c,a,b,m].join(\" \")});e.node.appendChild(this.node);return e};c.marker=function(c,a,b,m,e,h){var d=r(\"marker\",u(this));null==c&&(c=this.getBBox());y(c,\"object\")&&\"x\"in c&&(a=c.y,b=c.width,m=c.height,e=c.refX||c.cx,h=c.refY||c.cy,c=c.x);v(d.node,{viewBox:[c,a,b,m].join(\" \"),markerWidth:b,markerHeight:m,\n",
        "orient:\"auto\",refX:e||0,refY:h||0,id:d.id});d.node.appendChild(this.node);return d};var E=function(c,a,b,m){\"function\"!=typeof b||b.length||(m=b,b=L.linear);this.attr=c;this.dur=a;b&&(this.easing=b);m&&(this.callback=m)};a._.Animation=E;a.animation=function(c,a,b,m){return new E(c,a,b,m)};c.inAnim=function(){var c=[],a;for(a in this.anims)this.anims[h](a)&&function(a){c.push({anim:new E(a._attrs,a.dur,a.easing,a._callback),mina:a,curStatus:a.status(),status:function(c){return a.status(c)},stop:function(){a.stop()}})}(this.anims[a]);\n",
        "return c};a.animate=function(c,a,b,m,e,h){\"function\"!=typeof e||e.length||(h=e,e=L.linear);var d=L.time();c=L(c,a,d,d+m,L.time,b,e);h&&k.once(\"mina.finish.\"+c.id,h);return c};c.stop=function(){for(var c=this.inAnim(),a=0,b=c.length;a<b;a++)c[a].stop();return this};c.animate=function(c,a,b,m){\"function\"!=typeof b||b.length||(m=b,b=L.linear);c instanceof E&&(m=c.callback,b=c.easing,a=b.dur,c=c.attr);var d=[],f=[],l={},t,ca,n,T=this,q;for(q in c)if(c[h](q)){T.equal?(n=T.equal(q,J(c[q])),t=n.from,ca=\n",
        "n.to,n=n.f):(t=+T.attr(q),ca=+c[q]);var la=y(t,\"array\")?t.length:1;l[q]=e(d.length,d.length+la,n);d=d.concat(t);f=f.concat(ca)}t=L.time();var p=L(d,f,t,t+a,L.time,function(c){var a={},b;for(b in l)l[h](b)&&(a[b]=l[b](c));T.attr(a)},b);T.anims[p.id]=p;p._attrs=c;p._callback=m;k(\"snap.animcreated.\"+T.id,p);k.once(\"mina.finish.\"+p.id,function(){delete T.anims[p.id];m&&m.call(T)});k.once(\"mina.stop.\"+p.id,function(){delete T.anims[p.id]});return T};var T={};c.data=function(c,b){var m=T[this.id]=T[this.id]||\n",
        "{};if(0==arguments.length)return k(\"snap.data.get.\"+this.id,this,m,null),m;if(1==arguments.length){if(a.is(c,\"object\")){for(var e in c)c[h](e)&&this.data(e,c[e]);return this}k(\"snap.data.get.\"+this.id,this,m[c],c);return m[c]}m[c]=b;k(\"snap.data.set.\"+this.id,this,b,c);return this};c.removeData=function(c){null==c?T[this.id]={}:T[this.id]&&delete T[this.id][c];return this};c.outerSVG=c.toString=d(1);c.innerSVG=d()})(e.prototype);a.parse=function(c){var a=G.doc.createDocumentFragment(),b=!0,m=G.doc.createElement(\"div\");\n",
        "c=J(c);c.match(/^\\s*<\\s*svg(?:\\s|>)/)||(c=\"<svg>\"+c+\"</svg>\",b=!1);m.innerHTML=c;if(c=m.getElementsByTagName(\"svg\")[0])if(b)a=c;else for(;c.firstChild;)a.appendChild(c.firstChild);m.innerHTML=aa;return new l(a)};l.prototype.select=e.prototype.select;l.prototype.selectAll=e.prototype.selectAll;a.fragment=function(){for(var c=Array.prototype.slice.call(arguments,0),b=G.doc.createDocumentFragment(),m=0,e=c.length;m<e;m++){var h=c[m];h.node&&h.node.nodeType&&b.appendChild(h.node);h.nodeType&&b.appendChild(h);\n",
        "\"string\"==typeof h&&b.appendChild(a.parse(h).node)}return new l(b)};a._.make=r;a._.wrap=x;s.prototype.el=function(c,a){var b=r(c,this.node);a&&b.attr(a);return b};k.on(\"snap.util.getattr\",function(){var c=k.nt(),c=c.substring(c.lastIndexOf(\".\")+1),a=c.replace(/[A-Z]/g,function(c){return\"-\"+c.toLowerCase()});return pa[h](a)?this.node.ownerDocument.defaultView.getComputedStyle(this.node,null).getPropertyValue(a):v(this.node,c)});var pa={\"alignment-baseline\":0,\"baseline-shift\":0,clip:0,\"clip-path\":0,\n",
        "\"clip-rule\":0,color:0,\"color-interpolation\":0,\"color-interpolation-filters\":0,\"color-profile\":0,\"color-rendering\":0,cursor:0,direction:0,display:0,\"dominant-baseline\":0,\"enable-background\":0,fill:0,\"fill-opacity\":0,\"fill-rule\":0,filter:0,\"flood-color\":0,\"flood-opacity\":0,font:0,\"font-family\":0,\"font-size\":0,\"font-size-adjust\":0,\"font-stretch\":0,\"font-style\":0,\"font-variant\":0,\"font-weight\":0,\"glyph-orientation-horizontal\":0,\"glyph-orientation-vertical\":0,\"image-rendering\":0,kerning:0,\"letter-spacing\":0,\n",
        "\"lighting-color\":0,marker:0,\"marker-end\":0,\"marker-mid\":0,\"marker-start\":0,mask:0,opacity:0,overflow:0,\"pointer-events\":0,\"shape-rendering\":0,\"stop-color\":0,\"stop-opacity\":0,stroke:0,\"stroke-dasharray\":0,\"stroke-dashoffset\":0,\"stroke-linecap\":0,\"stroke-linejoin\":0,\"stroke-miterlimit\":0,\"stroke-opacity\":0,\"stroke-width\":0,\"text-anchor\":0,\"text-decoration\":0,\"text-rendering\":0,\"unicode-bidi\":0,visibility:0,\"word-spacing\":0,\"writing-mode\":0};k.on(\"snap.util.attr\",function(c){var a=k.nt(),b={},a=a.substring(a.lastIndexOf(\".\")+\n",
        "1);b[a]=c;var m=a.replace(/-(\\w)/gi,function(c,a){return a.toUpperCase()}),a=a.replace(/[A-Z]/g,function(c){return\"-\"+c.toLowerCase()});pa[h](a)?this.node.style[m]=null==c?aa:c:v(this.node,b)});a.ajax=function(c,a,b,m){var e=new XMLHttpRequest,h=V();if(e){if(y(a,\"function\"))m=b,b=a,a=null;else if(y(a,\"object\")){var d=[],f;for(f in a)a.hasOwnProperty(f)&&d.push(encodeURIComponent(f)+\"=\"+encodeURIComponent(a[f]));a=d.join(\"&\")}e.open(a?\"POST\":\"GET\",c,!0);a&&(e.setRequestHeader(\"X-Requested-With\",\"XMLHttpRequest\"),\n",
        "e.setRequestHeader(\"Content-type\",\"application/x-www-form-urlencoded\"));b&&(k.once(\"snap.ajax.\"+h+\".0\",b),k.once(\"snap.ajax.\"+h+\".200\",b),k.once(\"snap.ajax.\"+h+\".304\",b));e.onreadystatechange=function(){4==e.readyState&&k(\"snap.ajax.\"+h+\".\"+e.status,m,e)};if(4==e.readyState)return e;e.send(a);return e}};a.load=function(c,b,m){a.ajax(c,function(c){c=a.parse(c.responseText);m?b.call(m,c):b(c)})};a.getElementByPoint=function(c,a){var b,m,e=G.doc.elementFromPoint(c,a);if(G.win.opera&&\"svg\"==e.tagName){b=\n",
        "e;m=b.getBoundingClientRect();b=b.ownerDocument;var h=b.body,d=b.documentElement;b=m.top+(g.win.pageYOffset||d.scrollTop||h.scrollTop)-(d.clientTop||h.clientTop||0);m=m.left+(g.win.pageXOffset||d.scrollLeft||h.scrollLeft)-(d.clientLeft||h.clientLeft||0);h=e.createSVGRect();h.x=c-m;h.y=a-b;h.width=h.height=1;b=e.getIntersectionList(h,null);b.length&&(e=b[b.length-1])}return e?x(e):null};a.plugin=function(c){c(a,e,s,G,l)};return G.win.Snap=a}();C.plugin(function(a,k,y,M,A){function w(a,d,f,b,q,e){null==\n",
        "d&&\"[object SVGMatrix]\"==z.call(a)?(this.a=a.a,this.b=a.b,this.c=a.c,this.d=a.d,this.e=a.e,this.f=a.f):null!=a?(this.a=+a,this.b=+d,this.c=+f,this.d=+b,this.e=+q,this.f=+e):(this.a=1,this.c=this.b=0,this.d=1,this.f=this.e=0)}var z=Object.prototype.toString,d=String,f=Math;(function(n){function k(a){return a[0]*a[0]+a[1]*a[1]}function p(a){var d=f.sqrt(k(a));a[0]&&(a[0]/=d);a[1]&&(a[1]/=d)}n.add=function(a,d,e,f,n,p){var k=[[],[],[] ],u=[[this.a,this.c,this.e],[this.b,this.d,this.f],[0,0,1] ];d=[[a,\n",
        "e,n],[d,f,p],[0,0,1] ];a&&a instanceof w&&(d=[[a.a,a.c,a.e],[a.b,a.d,a.f],[0,0,1] ]);for(a=0;3>a;a++)for(e=0;3>e;e++){for(f=n=0;3>f;f++)n+=u[a][f]*d[f][e];k[a][e]=n}this.a=k[0][0];this.b=k[1][0];this.c=k[0][1];this.d=k[1][1];this.e=k[0][2];this.f=k[1][2];return this};n.invert=function(){var a=this.a*this.d-this.b*this.c;return new w(this.d/a,-this.b/a,-this.c/a,this.a/a,(this.c*this.f-this.d*this.e)/a,(this.b*this.e-this.a*this.f)/a)};n.clone=function(){return new w(this.a,this.b,this.c,this.d,this.e,\n",
        "this.f)};n.translate=function(a,d){return this.add(1,0,0,1,a,d)};n.scale=function(a,d,e,f){null==d&&(d=a);(e||f)&&this.add(1,0,0,1,e,f);this.add(a,0,0,d,0,0);(e||f)&&this.add(1,0,0,1,-e,-f);return this};n.rotate=function(b,d,e){b=a.rad(b);d=d||0;e=e||0;var l=+f.cos(b).toFixed(9);b=+f.sin(b).toFixed(9);this.add(l,b,-b,l,d,e);return this.add(1,0,0,1,-d,-e)};n.x=function(a,d){return a*this.a+d*this.c+this.e};n.y=function(a,d){return a*this.b+d*this.d+this.f};n.get=function(a){return+this[d.fromCharCode(97+\n",
        "a)].toFixed(4)};n.toString=function(){return\"matrix(\"+[this.get(0),this.get(1),this.get(2),this.get(3),this.get(4),this.get(5)].join()+\")\"};n.offset=function(){return[this.e.toFixed(4),this.f.toFixed(4)]};n.determinant=function(){return this.a*this.d-this.b*this.c};n.split=function(){var b={};b.dx=this.e;b.dy=this.f;var d=[[this.a,this.c],[this.b,this.d] ];b.scalex=f.sqrt(k(d[0]));p(d[0]);b.shear=d[0][0]*d[1][0]+d[0][1]*d[1][1];d[1]=[d[1][0]-d[0][0]*b.shear,d[1][1]-d[0][1]*b.shear];b.scaley=f.sqrt(k(d[1]));\n",
        "p(d[1]);b.shear/=b.scaley;0>this.determinant()&&(b.scalex=-b.scalex);var e=-d[0][1],d=d[1][1];0>d?(b.rotate=a.deg(f.acos(d)),0>e&&(b.rotate=360-b.rotate)):b.rotate=a.deg(f.asin(e));b.isSimple=!+b.shear.toFixed(9)&&(b.scalex.toFixed(9)==b.scaley.toFixed(9)||!b.rotate);b.isSuperSimple=!+b.shear.toFixed(9)&&b.scalex.toFixed(9)==b.scaley.toFixed(9)&&!b.rotate;b.noRotation=!+b.shear.toFixed(9)&&!b.rotate;return b};n.toTransformString=function(a){a=a||this.split();if(+a.shear.toFixed(9))return\"m\"+[this.get(0),\n",
        "this.get(1),this.get(2),this.get(3),this.get(4),this.get(5)];a.scalex=+a.scalex.toFixed(4);a.scaley=+a.scaley.toFixed(4);a.rotate=+a.rotate.toFixed(4);return(a.dx||a.dy?\"t\"+[+a.dx.toFixed(4),+a.dy.toFixed(4)]:\"\")+(1!=a.scalex||1!=a.scaley?\"s\"+[a.scalex,a.scaley,0,0]:\"\")+(a.rotate?\"r\"+[+a.rotate.toFixed(4),0,0]:\"\")}})(w.prototype);a.Matrix=w;a.matrix=function(a,d,f,b,k,e){return new w(a,d,f,b,k,e)}});C.plugin(function(a,v,y,M,A){function w(h){return function(d){k.stop();d instanceof A&&1==d.node.childNodes.length&&\n",
        "(\"radialGradient\"==d.node.firstChild.tagName||\"linearGradient\"==d.node.firstChild.tagName||\"pattern\"==d.node.firstChild.tagName)&&(d=d.node.firstChild,b(this).appendChild(d),d=u(d));if(d instanceof v)if(\"radialGradient\"==d.type||\"linearGradient\"==d.type||\"pattern\"==d.type){d.node.id||e(d.node,{id:d.id});var f=l(d.node.id)}else f=d.attr(h);else f=a.color(d),f.error?(f=a(b(this).ownerSVGElement).gradient(d))?(f.node.id||e(f.node,{id:f.id}),f=l(f.node.id)):f=d:f=r(f);d={};d[h]=f;e(this.node,d);this.node.style[h]=\n",
        "x}}function z(a){k.stop();a==+a&&(a+=\"px\");this.node.style.fontSize=a}function d(a){var b=[];a=a.childNodes;for(var e=0,f=a.length;e<f;e++){var l=a[e];3==l.nodeType&&b.push(l.nodeValue);\"tspan\"==l.tagName&&(1==l.childNodes.length&&3==l.firstChild.nodeType?b.push(l.firstChild.nodeValue):b.push(d(l)))}return b}function f(){k.stop();return this.node.style.fontSize}var n=a._.make,u=a._.wrap,p=a.is,b=a._.getSomeDefs,q=/^url\\(#?([^)]+)\\)$/,e=a._.$,l=a.url,r=String,s=a._.separator,x=\"\";k.on(\"snap.util.attr.mask\",\n",
        "function(a){if(a instanceof v||a instanceof A){k.stop();a instanceof A&&1==a.node.childNodes.length&&(a=a.node.firstChild,b(this).appendChild(a),a=u(a));if(\"mask\"==a.type)var d=a;else d=n(\"mask\",b(this)),d.node.appendChild(a.node);!d.node.id&&e(d.node,{id:d.id});e(this.node,{mask:l(d.id)})}});(function(a){k.on(\"snap.util.attr.clip\",a);k.on(\"snap.util.attr.clip-path\",a);k.on(\"snap.util.attr.clipPath\",a)})(function(a){if(a instanceof v||a instanceof A){k.stop();if(\"clipPath\"==a.type)var d=a;else d=\n",
        "n(\"clipPath\",b(this)),d.node.appendChild(a.node),!d.node.id&&e(d.node,{id:d.id});e(this.node,{\"clip-path\":l(d.id)})}});k.on(\"snap.util.attr.fill\",w(\"fill\"));k.on(\"snap.util.attr.stroke\",w(\"stroke\"));var G=/^([lr])(?:\\(([^)]*)\\))?(.*)$/i;k.on(\"snap.util.grad.parse\",function(a){a=r(a);var b=a.match(G);if(!b)return null;a=b[1];var e=b[2],b=b[3],e=e.split(/\\s*,\\s*/).map(function(a){return+a==a?+a:a});1==e.length&&0==e[0]&&(e=[]);b=b.split(\"-\");b=b.map(function(a){a=a.split(\":\");var b={color:a[0]};a[1]&&\n",
        "(b.offset=parseFloat(a[1]));return b});return{type:a,params:e,stops:b}});k.on(\"snap.util.attr.d\",function(b){k.stop();p(b,\"array\")&&p(b[0],\"array\")&&(b=a.path.toString.call(b));b=r(b);b.match(/[ruo]/i)&&(b=a.path.toAbsolute(b));e(this.node,{d:b})})(-1);k.on(\"snap.util.attr.#text\",function(a){k.stop();a=r(a);for(a=M.doc.createTextNode(a);this.node.firstChild;)this.node.removeChild(this.node.firstChild);this.node.appendChild(a)})(-1);k.on(\"snap.util.attr.path\",function(a){k.stop();this.attr({d:a})})(-1);\n",
        "k.on(\"snap.util.attr.class\",function(a){k.stop();this.node.className.baseVal=a})(-1);k.on(\"snap.util.attr.viewBox\",function(a){a=p(a,\"object\")&&\"x\"in a?[a.x,a.y,a.width,a.height].join(\" \"):p(a,\"array\")?a.join(\" \"):a;e(this.node,{viewBox:a});k.stop()})(-1);k.on(\"snap.util.attr.transform\",function(a){this.transform(a);k.stop()})(-1);k.on(\"snap.util.attr.r\",function(a){\"rect\"==this.type&&(k.stop(),e(this.node,{rx:a,ry:a}))})(-1);k.on(\"snap.util.attr.textpath\",function(a){k.stop();if(\"text\"==this.type){var d,\n",
        "f;if(!a&&this.textPath){for(a=this.textPath;a.node.firstChild;)this.node.appendChild(a.node.firstChild);a.remove();delete this.textPath}else if(p(a,\"string\")?(d=b(this),a=u(d.parentNode).path(a),d.appendChild(a.node),d=a.id,a.attr({id:d})):(a=u(a),a instanceof v&&(d=a.attr(\"id\"),d||(d=a.id,a.attr({id:d})))),d)if(a=this.textPath,f=this.node,a)a.attr({\"xlink:href\":\"#\"+d});else{for(a=e(\"textPath\",{\"xlink:href\":\"#\"+d});f.firstChild;)a.appendChild(f.firstChild);f.appendChild(a);this.textPath=u(a)}}})(-1);\n",
        "k.on(\"snap.util.attr.text\",function(a){if(\"text\"==this.type){for(var b=this.node,d=function(a){var b=e(\"tspan\");if(p(a,\"array\"))for(var f=0;f<a.length;f++)b.appendChild(d(a[f]));else b.appendChild(M.doc.createTextNode(a));b.normalize&&b.normalize();return b};b.firstChild;)b.removeChild(b.firstChild);for(a=d(a);a.firstChild;)b.appendChild(a.firstChild)}k.stop()})(-1);k.on(\"snap.util.attr.fontSize\",z)(-1);k.on(\"snap.util.attr.font-size\",z)(-1);k.on(\"snap.util.getattr.transform\",function(){k.stop();\n",
        "return this.transform()})(-1);k.on(\"snap.util.getattr.textpath\",function(){k.stop();return this.textPath})(-1);(function(){function b(d){return function(){k.stop();var b=M.doc.defaultView.getComputedStyle(this.node,null).getPropertyValue(\"marker-\"+d);return\"none\"==b?b:a(M.doc.getElementById(b.match(q)[1]))}}function d(a){return function(b){k.stop();var d=\"marker\"+a.charAt(0).toUpperCase()+a.substring(1);if(\"\"==b||!b)this.node.style[d]=\"none\";else if(\"marker\"==b.type){var f=b.node.id;f||e(b.node,{id:b.id});\n",
        "this.node.style[d]=l(f)}}}k.on(\"snap.util.getattr.marker-end\",b(\"end\"))(-1);k.on(\"snap.util.getattr.markerEnd\",b(\"end\"))(-1);k.on(\"snap.util.getattr.marker-start\",b(\"start\"))(-1);k.on(\"snap.util.getattr.markerStart\",b(\"start\"))(-1);k.on(\"snap.util.getattr.marker-mid\",b(\"mid\"))(-1);k.on(\"snap.util.getattr.markerMid\",b(\"mid\"))(-1);k.on(\"snap.util.attr.marker-end\",d(\"end\"))(-1);k.on(\"snap.util.attr.markerEnd\",d(\"end\"))(-1);k.on(\"snap.util.attr.marker-start\",d(\"start\"))(-1);k.on(\"snap.util.attr.markerStart\",\n",
        "d(\"start\"))(-1);k.on(\"snap.util.attr.marker-mid\",d(\"mid\"))(-1);k.on(\"snap.util.attr.markerMid\",d(\"mid\"))(-1)})();k.on(\"snap.util.getattr.r\",function(){if(\"rect\"==this.type&&e(this.node,\"rx\")==e(this.node,\"ry\"))return k.stop(),e(this.node,\"rx\")})(-1);k.on(\"snap.util.getattr.text\",function(){if(\"text\"==this.type||\"tspan\"==this.type){k.stop();var a=d(this.node);return 1==a.length?a[0]:a}})(-1);k.on(\"snap.util.getattr.#text\",function(){return this.node.textContent})(-1);k.on(\"snap.util.getattr.viewBox\",\n",
        "function(){k.stop();var b=e(this.node,\"viewBox\");if(b)return b=b.split(s),a._.box(+b[0],+b[1],+b[2],+b[3])})(-1);k.on(\"snap.util.getattr.points\",function(){var a=e(this.node,\"points\");k.stop();if(a)return a.split(s)})(-1);k.on(\"snap.util.getattr.path\",function(){var a=e(this.node,\"d\");k.stop();return a})(-1);k.on(\"snap.util.getattr.class\",function(){return this.node.className.baseVal})(-1);k.on(\"snap.util.getattr.fontSize\",f)(-1);k.on(\"snap.util.getattr.font-size\",f)(-1)});C.plugin(function(a,v,y,\n",
        "M,A){function w(a){return a}function z(a){return function(b){return+b.toFixed(3)+a}}var d={\"+\":function(a,b){return a+b},\"-\":function(a,b){return a-b},\"/\":function(a,b){return a/b},\"*\":function(a,b){return a*b}},f=String,n=/[a-z]+$/i,u=/^\\s*([+\\-\\/*])\\s*=\\s*([\\d.eE+\\-]+)\\s*([^\\d\\s]+)?\\s*$/;k.on(\"snap.util.attr\",function(a){if(a=f(a).match(u)){var b=k.nt(),b=b.substring(b.lastIndexOf(\".\")+1),q=this.attr(b),e={};k.stop();var l=a[3]||\"\",r=q.match(n),s=d[a[1] ];r&&r==l?a=s(parseFloat(q),+a[2]):(q=this.asPX(b),\n",
        "a=s(this.asPX(b),this.asPX(b,a[2]+l)));isNaN(q)||isNaN(a)||(e[b]=a,this.attr(e))}})(-10);k.on(\"snap.util.equal\",function(a,b){var q=f(this.attr(a)||\"\"),e=f(b).match(u);if(e){k.stop();var l=e[3]||\"\",r=q.match(n),s=d[e[1] ];if(r&&r==l)return{from:parseFloat(q),to:s(parseFloat(q),+e[2]),f:z(r)};q=this.asPX(a);return{from:q,to:s(q,this.asPX(a,e[2]+l)),f:w}}})(-10)});C.plugin(function(a,v,y,M,A){var w=y.prototype,z=a.is;w.rect=function(a,d,k,p,b,q){var e;null==q&&(q=b);z(a,\"object\")&&\"[object Object]\"==\n",
        "a?e=a:null!=a&&(e={x:a,y:d,width:k,height:p},null!=b&&(e.rx=b,e.ry=q));return this.el(\"rect\",e)};w.circle=function(a,d,k){var p;z(a,\"object\")&&\"[object Object]\"==a?p=a:null!=a&&(p={cx:a,cy:d,r:k});return this.el(\"circle\",p)};var d=function(){function a(){this.parentNode.removeChild(this)}return function(d,k){var p=M.doc.createElement(\"img\"),b=M.doc.body;p.style.cssText=\"position:absolute;left:-9999em;top:-9999em\";p.onload=function(){k.call(p);p.onload=p.onerror=null;b.removeChild(p)};p.onerror=a;\n",
        "b.appendChild(p);p.src=d}}();w.image=function(f,n,k,p,b){var q=this.el(\"image\");if(z(f,\"object\")&&\"src\"in f)q.attr(f);else if(null!=f){var e={\"xlink:href\":f,preserveAspectRatio:\"none\"};null!=n&&null!=k&&(e.x=n,e.y=k);null!=p&&null!=b?(e.width=p,e.height=b):d(f,function(){a._.$(q.node,{width:this.offsetWidth,height:this.offsetHeight})});a._.$(q.node,e)}return q};w.ellipse=function(a,d,k,p){var b;z(a,\"object\")&&\"[object Object]\"==a?b=a:null!=a&&(b={cx:a,cy:d,rx:k,ry:p});return this.el(\"ellipse\",b)};\n",
        "w.path=function(a){var d;z(a,\"object\")&&!z(a,\"array\")?d=a:a&&(d={d:a});return this.el(\"path\",d)};w.group=w.g=function(a){var d=this.el(\"g\");1==arguments.length&&a&&!a.type?d.attr(a):arguments.length&&d.add(Array.prototype.slice.call(arguments,0));return d};w.svg=function(a,d,k,p,b,q,e,l){var r={};z(a,\"object\")&&null==d?r=a:(null!=a&&(r.x=a),null!=d&&(r.y=d),null!=k&&(r.width=k),null!=p&&(r.height=p),null!=b&&null!=q&&null!=e&&null!=l&&(r.viewBox=[b,q,e,l]));return this.el(\"svg\",r)};w.mask=function(a){var d=\n",
        "this.el(\"mask\");1==arguments.length&&a&&!a.type?d.attr(a):arguments.length&&d.add(Array.prototype.slice.call(arguments,0));return d};w.ptrn=function(a,d,k,p,b,q,e,l){if(z(a,\"object\"))var r=a;else arguments.length?(r={},null!=a&&(r.x=a),null!=d&&(r.y=d),null!=k&&(r.width=k),null!=p&&(r.height=p),null!=b&&null!=q&&null!=e&&null!=l&&(r.viewBox=[b,q,e,l])):r={patternUnits:\"userSpaceOnUse\"};return this.el(\"pattern\",r)};w.use=function(a){return null!=a?(make(\"use\",this.node),a instanceof v&&(a.attr(\"id\")||\n",
        "a.attr({id:ID()}),a=a.attr(\"id\")),this.el(\"use\",{\"xlink:href\":a})):v.prototype.use.call(this)};w.text=function(a,d,k){var p={};z(a,\"object\")?p=a:null!=a&&(p={x:a,y:d,text:k||\"\"});return this.el(\"text\",p)};w.line=function(a,d,k,p){var b={};z(a,\"object\")?b=a:null!=a&&(b={x1:a,x2:k,y1:d,y2:p});return this.el(\"line\",b)};w.polyline=function(a){1<arguments.length&&(a=Array.prototype.slice.call(arguments,0));var d={};z(a,\"object\")&&!z(a,\"array\")?d=a:null!=a&&(d={points:a});return this.el(\"polyline\",d)};\n",
        "w.polygon=function(a){1<arguments.length&&(a=Array.prototype.slice.call(arguments,0));var d={};z(a,\"object\")&&!z(a,\"array\")?d=a:null!=a&&(d={points:a});return this.el(\"polygon\",d)};(function(){function d(){return this.selectAll(\"stop\")}function n(b,d){var f=e(\"stop\"),k={offset:+d+\"%\"};b=a.color(b);k[\"stop-color\"]=b.hex;1>b.opacity&&(k[\"stop-opacity\"]=b.opacity);e(f,k);this.node.appendChild(f);return this}function u(){if(\"linearGradient\"==this.type){var b=e(this.node,\"x1\")||0,d=e(this.node,\"x2\")||\n",
        "1,f=e(this.node,\"y1\")||0,k=e(this.node,\"y2\")||0;return a._.box(b,f,math.abs(d-b),math.abs(k-f))}b=this.node.r||0;return a._.box((this.node.cx||0.5)-b,(this.node.cy||0.5)-b,2*b,2*b)}function p(a,d){function f(a,b){for(var d=(b-u)/(a-w),e=w;e<a;e++)h[e].offset=+(+u+d*(e-w)).toFixed(2);w=a;u=b}var n=k(\"snap.util.grad.parse\",null,d).firstDefined(),p;if(!n)return null;n.params.unshift(a);p=\"l\"==n.type.toLowerCase()?b.apply(0,n.params):q.apply(0,n.params);n.type!=n.type.toLowerCase()&&e(p.node,{gradientUnits:\"userSpaceOnUse\"});\n",
        "var h=n.stops,n=h.length,u=0,w=0;n--;for(var v=0;v<n;v++)\"offset\"in h[v]&&f(v,h[v].offset);h[n].offset=h[n].offset||100;f(n,h[n].offset);for(v=0;v<=n;v++){var y=h[v];p.addStop(y.color,y.offset)}return p}function b(b,k,p,q,w){b=a._.make(\"linearGradient\",b);b.stops=d;b.addStop=n;b.getBBox=u;null!=k&&e(b.node,{x1:k,y1:p,x2:q,y2:w});return b}function q(b,k,p,q,w,h){b=a._.make(\"radialGradient\",b);b.stops=d;b.addStop=n;b.getBBox=u;null!=k&&e(b.node,{cx:k,cy:p,r:q});null!=w&&null!=h&&e(b.node,{fx:w,fy:h});\n",
        "return b}var e=a._.$;w.gradient=function(a){return p(this.defs,a)};w.gradientLinear=function(a,d,e,f){return b(this.defs,a,d,e,f)};w.gradientRadial=function(a,b,d,e,f){return q(this.defs,a,b,d,e,f)};w.toString=function(){var b=this.node.ownerDocument,d=b.createDocumentFragment(),b=b.createElement(\"div\"),e=this.node.cloneNode(!0);d.appendChild(b);b.appendChild(e);a._.$(e,{xmlns:\"http://www.w3.org/2000/svg\"});b=b.innerHTML;d.removeChild(d.firstChild);return b};w.clear=function(){for(var a=this.node.firstChild,\n",
        "b;a;)b=a.nextSibling,\"defs\"!=a.tagName?a.parentNode.removeChild(a):w.clear.call({node:a}),a=b}})()});C.plugin(function(a,k,y,M){function A(a){var b=A.ps=A.ps||{};b[a]?b[a].sleep=100:b[a]={sleep:100};setTimeout(function(){for(var d in b)b[L](d)&&d!=a&&(b[d].sleep--,!b[d].sleep&&delete b[d])});return b[a]}function w(a,b,d,e){null==a&&(a=b=d=e=0);null==b&&(b=a.y,d=a.width,e=a.height,a=a.x);return{x:a,y:b,width:d,w:d,height:e,h:e,x2:a+d,y2:b+e,cx:a+d/2,cy:b+e/2,r1:F.min(d,e)/2,r2:F.max(d,e)/2,r0:F.sqrt(d*\n",
        "d+e*e)/2,path:s(a,b,d,e),vb:[a,b,d,e].join(\" \")}}function z(){return this.join(\",\").replace(N,\"$1\")}function d(a){a=C(a);a.toString=z;return a}function f(a,b,d,h,f,k,l,n,p){if(null==p)return e(a,b,d,h,f,k,l,n);if(0>p||e(a,b,d,h,f,k,l,n)<p)p=void 0;else{var q=0.5,O=1-q,s;for(s=e(a,b,d,h,f,k,l,n,O);0.01<Z(s-p);)q/=2,O+=(s<p?1:-1)*q,s=e(a,b,d,h,f,k,l,n,O);p=O}return u(a,b,d,h,f,k,l,n,p)}function n(b,d){function e(a){return+(+a).toFixed(3)}return a._.cacher(function(a,h,l){a instanceof k&&(a=a.attr(\"d\"));\n",
        "a=I(a);for(var n,p,D,q,O=\"\",s={},c=0,t=0,r=a.length;t<r;t++){D=a[t];if(\"M\"==D[0])n=+D[1],p=+D[2];else{q=f(n,p,D[1],D[2],D[3],D[4],D[5],D[6]);if(c+q>h){if(d&&!s.start){n=f(n,p,D[1],D[2],D[3],D[4],D[5],D[6],h-c);O+=[\"C\"+e(n.start.x),e(n.start.y),e(n.m.x),e(n.m.y),e(n.x),e(n.y)];if(l)return O;s.start=O;O=[\"M\"+e(n.x),e(n.y)+\"C\"+e(n.n.x),e(n.n.y),e(n.end.x),e(n.end.y),e(D[5]),e(D[6])].join();c+=q;n=+D[5];p=+D[6];continue}if(!b&&!d)return n=f(n,p,D[1],D[2],D[3],D[4],D[5],D[6],h-c)}c+=q;n=+D[5];p=+D[6]}O+=\n",
        "D.shift()+D}s.end=O;return n=b?c:d?s:u(n,p,D[0],D[1],D[2],D[3],D[4],D[5],1)},null,a._.clone)}function u(a,b,d,e,h,f,k,l,n){var p=1-n,q=ma(p,3),s=ma(p,2),c=n*n,t=c*n,r=q*a+3*s*n*d+3*p*n*n*h+t*k,q=q*b+3*s*n*e+3*p*n*n*f+t*l,s=a+2*n*(d-a)+c*(h-2*d+a),t=b+2*n*(e-b)+c*(f-2*e+b),x=d+2*n*(h-d)+c*(k-2*h+d),c=e+2*n*(f-e)+c*(l-2*f+e);a=p*a+n*d;b=p*b+n*e;h=p*h+n*k;f=p*f+n*l;l=90-180*F.atan2(s-x,t-c)/S;return{x:r,y:q,m:{x:s,y:t},n:{x:x,y:c},start:{x:a,y:b},end:{x:h,y:f},alpha:l}}function p(b,d,e,h,f,n,k,l){a.is(b,\n",
        "\"array\")||(b=[b,d,e,h,f,n,k,l]);b=U.apply(null,b);return w(b.min.x,b.min.y,b.max.x-b.min.x,b.max.y-b.min.y)}function b(a,b,d){return b>=a.x&&b<=a.x+a.width&&d>=a.y&&d<=a.y+a.height}function q(a,d){a=w(a);d=w(d);return b(d,a.x,a.y)||b(d,a.x2,a.y)||b(d,a.x,a.y2)||b(d,a.x2,a.y2)||b(a,d.x,d.y)||b(a,d.x2,d.y)||b(a,d.x,d.y2)||b(a,d.x2,d.y2)||(a.x<d.x2&&a.x>d.x||d.x<a.x2&&d.x>a.x)&&(a.y<d.y2&&a.y>d.y||d.y<a.y2&&d.y>a.y)}function e(a,b,d,e,h,f,n,k,l){null==l&&(l=1);l=(1<l?1:0>l?0:l)/2;for(var p=[-0.1252,\n",
        "0.1252,-0.3678,0.3678,-0.5873,0.5873,-0.7699,0.7699,-0.9041,0.9041,-0.9816,0.9816],q=[0.2491,0.2491,0.2335,0.2335,0.2032,0.2032,0.1601,0.1601,0.1069,0.1069,0.0472,0.0472],s=0,c=0;12>c;c++)var t=l*p[c]+l,r=t*(t*(-3*a+9*d-9*h+3*n)+6*a-12*d+6*h)-3*a+3*d,t=t*(t*(-3*b+9*e-9*f+3*k)+6*b-12*e+6*f)-3*b+3*e,s=s+q[c]*F.sqrt(r*r+t*t);return l*s}function l(a,b,d){a=I(a);b=I(b);for(var h,f,l,n,k,s,r,O,x,c,t=d?0:[],w=0,v=a.length;w<v;w++)if(x=a[w],\"M\"==x[0])h=k=x[1],f=s=x[2];else{\"C\"==x[0]?(x=[h,f].concat(x.slice(1)),\n",
        "h=x[6],f=x[7]):(x=[h,f,h,f,k,s,k,s],h=k,f=s);for(var G=0,y=b.length;G<y;G++)if(c=b[G],\"M\"==c[0])l=r=c[1],n=O=c[2];else{\"C\"==c[0]?(c=[l,n].concat(c.slice(1)),l=c[6],n=c[7]):(c=[l,n,l,n,r,O,r,O],l=r,n=O);var z;var K=x,B=c;z=d;var H=p(K),J=p(B);if(q(H,J)){for(var H=e.apply(0,K),J=e.apply(0,B),H=~~(H/8),J=~~(J/8),U=[],A=[],F={},M=z?0:[],P=0;P<H+1;P++){var C=u.apply(0,K.concat(P/H));U.push({x:C.x,y:C.y,t:P/H})}for(P=0;P<J+1;P++)C=u.apply(0,B.concat(P/J)),A.push({x:C.x,y:C.y,t:P/J});for(P=0;P<H;P++)for(K=\n",
        "0;K<J;K++){var Q=U[P],L=U[P+1],B=A[K],C=A[K+1],N=0.001>Z(L.x-Q.x)?\"y\":\"x\",S=0.001>Z(C.x-B.x)?\"y\":\"x\",R;R=Q.x;var Y=Q.y,V=L.x,ea=L.y,fa=B.x,ga=B.y,ha=C.x,ia=C.y;if(W(R,V)<X(fa,ha)||X(R,V)>W(fa,ha)||W(Y,ea)<X(ga,ia)||X(Y,ea)>W(ga,ia))R=void 0;else{var $=(R*ea-Y*V)*(fa-ha)-(R-V)*(fa*ia-ga*ha),aa=(R*ea-Y*V)*(ga-ia)-(Y-ea)*(fa*ia-ga*ha),ja=(R-V)*(ga-ia)-(Y-ea)*(fa-ha);if(ja){var $=$/ja,aa=aa/ja,ja=+$.toFixed(2),ba=+aa.toFixed(2);R=ja<+X(R,V).toFixed(2)||ja>+W(R,V).toFixed(2)||ja<+X(fa,ha).toFixed(2)||\n",
        "ja>+W(fa,ha).toFixed(2)||ba<+X(Y,ea).toFixed(2)||ba>+W(Y,ea).toFixed(2)||ba<+X(ga,ia).toFixed(2)||ba>+W(ga,ia).toFixed(2)?void 0:{x:$,y:aa}}else R=void 0}R&&F[R.x.toFixed(4)]!=R.y.toFixed(4)&&(F[R.x.toFixed(4)]=R.y.toFixed(4),Q=Q.t+Z((R[N]-Q[N])/(L[N]-Q[N]))*(L.t-Q.t),B=B.t+Z((R[S]-B[S])/(C[S]-B[S]))*(C.t-B.t),0<=Q&&1>=Q&&0<=B&&1>=B&&(z?M++:M.push({x:R.x,y:R.y,t1:Q,t2:B})))}z=M}else z=z?0:[];if(d)t+=z;else{H=0;for(J=z.length;H<J;H++)z[H].segment1=w,z[H].segment2=G,z[H].bez1=x,z[H].bez2=c;t=t.concat(z)}}}return t}\n",
        "function r(a){var b=A(a);if(b.bbox)return C(b.bbox);if(!a)return w();a=I(a);for(var d=0,e=0,h=[],f=[],l,n=0,k=a.length;n<k;n++)l=a[n],\"M\"==l[0]?(d=l[1],e=l[2],h.push(d),f.push(e)):(d=U(d,e,l[1],l[2],l[3],l[4],l[5],l[6]),h=h.concat(d.min.x,d.max.x),f=f.concat(d.min.y,d.max.y),d=l[5],e=l[6]);a=X.apply(0,h);l=X.apply(0,f);h=W.apply(0,h);f=W.apply(0,f);f=w(a,l,h-a,f-l);b.bbox=C(f);return f}function s(a,b,d,e,h){if(h)return[[\"M\",+a+ +h,b],[\"l\",d-2*h,0],[\"a\",h,h,0,0,1,h,h],[\"l\",0,e-2*h],[\"a\",h,h,0,0,1,\n",
        "-h,h],[\"l\",2*h-d,0],[\"a\",h,h,0,0,1,-h,-h],[\"l\",0,2*h-e],[\"a\",h,h,0,0,1,h,-h],[\"z\"] ];a=[[\"M\",a,b],[\"l\",d,0],[\"l\",0,e],[\"l\",-d,0],[\"z\"] ];a.toString=z;return a}function x(a,b,d,e,h){null==h&&null==e&&(e=d);a=+a;b=+b;d=+d;e=+e;if(null!=h){var f=Math.PI/180,l=a+d*Math.cos(-e*f);a+=d*Math.cos(-h*f);var n=b+d*Math.sin(-e*f);b+=d*Math.sin(-h*f);d=[[\"M\",l,n],[\"A\",d,d,0,+(180<h-e),0,a,b] ]}else d=[[\"M\",a,b],[\"m\",0,-e],[\"a\",d,e,0,1,1,0,2*e],[\"a\",d,e,0,1,1,0,-2*e],[\"z\"] ];d.toString=z;return d}function G(b){var e=\n",
        "A(b);if(e.abs)return d(e.abs);Q(b,\"array\")&&Q(b&&b[0],\"array\")||(b=a.parsePathString(b));if(!b||!b.length)return[[\"M\",0,0] ];var h=[],f=0,l=0,n=0,k=0,p=0;\"M\"==b[0][0]&&(f=+b[0][1],l=+b[0][2],n=f,k=l,p++,h[0]=[\"M\",f,l]);for(var q=3==b.length&&\"M\"==b[0][0]&&\"R\"==b[1][0].toUpperCase()&&\"Z\"==b[2][0].toUpperCase(),s,r,w=p,c=b.length;w<c;w++){h.push(s=[]);r=b[w];p=r[0];if(p!=p.toUpperCase())switch(s[0]=p.toUpperCase(),s[0]){case \"A\":s[1]=r[1];s[2]=r[2];s[3]=r[3];s[4]=r[4];s[5]=r[5];s[6]=+r[6]+f;s[7]=+r[7]+\n",
        "l;break;case \"V\":s[1]=+r[1]+l;break;case \"H\":s[1]=+r[1]+f;break;case \"R\":for(var t=[f,l].concat(r.slice(1)),u=2,v=t.length;u<v;u++)t[u]=+t[u]+f,t[++u]=+t[u]+l;h.pop();h=h.concat(P(t,q));break;case \"O\":h.pop();t=x(f,l,r[1],r[2]);t.push(t[0]);h=h.concat(t);break;case \"U\":h.pop();h=h.concat(x(f,l,r[1],r[2],r[3]));s=[\"U\"].concat(h[h.length-1].slice(-2));break;case \"M\":n=+r[1]+f,k=+r[2]+l;default:for(u=1,v=r.length;u<v;u++)s[u]=+r[u]+(u%2?f:l)}else if(\"R\"==p)t=[f,l].concat(r.slice(1)),h.pop(),h=h.concat(P(t,\n",
        "q)),s=[\"R\"].concat(r.slice(-2));else if(\"O\"==p)h.pop(),t=x(f,l,r[1],r[2]),t.push(t[0]),h=h.concat(t);else if(\"U\"==p)h.pop(),h=h.concat(x(f,l,r[1],r[2],r[3])),s=[\"U\"].concat(h[h.length-1].slice(-2));else for(t=0,u=r.length;t<u;t++)s[t]=r[t];p=p.toUpperCase();if(\"O\"!=p)switch(s[0]){case \"Z\":f=+n;l=+k;break;case \"H\":f=s[1];break;case \"V\":l=s[1];break;case \"M\":n=s[s.length-2],k=s[s.length-1];default:f=s[s.length-2],l=s[s.length-1]}}h.toString=z;e.abs=d(h);return h}function h(a,b,d,e){return[a,b,d,e,d,\n",
        "e]}function J(a,b,d,e,h,f){var l=1/3,n=2/3;return[l*a+n*d,l*b+n*e,l*h+n*d,l*f+n*e,h,f]}function K(b,d,e,h,f,l,n,k,p,s){var r=120*S/180,q=S/180*(+f||0),c=[],t,x=a._.cacher(function(a,b,c){var d=a*F.cos(c)-b*F.sin(c);a=a*F.sin(c)+b*F.cos(c);return{x:d,y:a}});if(s)v=s[0],t=s[1],l=s[2],u=s[3];else{t=x(b,d,-q);b=t.x;d=t.y;t=x(k,p,-q);k=t.x;p=t.y;F.cos(S/180*f);F.sin(S/180*f);t=(b-k)/2;v=(d-p)/2;u=t*t/(e*e)+v*v/(h*h);1<u&&(u=F.sqrt(u),e*=u,h*=u);var u=e*e,w=h*h,u=(l==n?-1:1)*F.sqrt(Z((u*w-u*v*v-w*t*t)/\n",
        "(u*v*v+w*t*t)));l=u*e*v/h+(b+k)/2;var u=u*-h*t/e+(d+p)/2,v=F.asin(((d-u)/h).toFixed(9));t=F.asin(((p-u)/h).toFixed(9));v=b<l?S-v:v;t=k<l?S-t:t;0>v&&(v=2*S+v);0>t&&(t=2*S+t);n&&v>t&&(v-=2*S);!n&&t>v&&(t-=2*S)}if(Z(t-v)>r){var c=t,w=k,G=p;t=v+r*(n&&t>v?1:-1);k=l+e*F.cos(t);p=u+h*F.sin(t);c=K(k,p,e,h,f,0,n,w,G,[t,c,l,u])}l=t-v;f=F.cos(v);r=F.sin(v);n=F.cos(t);t=F.sin(t);l=F.tan(l/4);e=4/3*e*l;l*=4/3*h;h=[b,d];b=[b+e*r,d-l*f];d=[k+e*t,p-l*n];k=[k,p];b[0]=2*h[0]-b[0];b[1]=2*h[1]-b[1];if(s)return[b,d,k].concat(c);\n",
        "c=[b,d,k].concat(c).join().split(\",\");s=[];k=0;for(p=c.length;k<p;k++)s[k]=k%2?x(c[k-1],c[k],q).y:x(c[k],c[k+1],q).x;return s}function U(a,b,d,e,h,f,l,k){for(var n=[],p=[[],[] ],s,r,c,t,q=0;2>q;++q)0==q?(r=6*a-12*d+6*h,s=-3*a+9*d-9*h+3*l,c=3*d-3*a):(r=6*b-12*e+6*f,s=-3*b+9*e-9*f+3*k,c=3*e-3*b),1E-12>Z(s)?1E-12>Z(r)||(s=-c/r,0<s&&1>s&&n.push(s)):(t=r*r-4*c*s,c=F.sqrt(t),0>t||(t=(-r+c)/(2*s),0<t&&1>t&&n.push(t),s=(-r-c)/(2*s),0<s&&1>s&&n.push(s)));for(r=q=n.length;q--;)s=n[q],c=1-s,p[0][q]=c*c*c*a+3*\n",
        "c*c*s*d+3*c*s*s*h+s*s*s*l,p[1][q]=c*c*c*b+3*c*c*s*e+3*c*s*s*f+s*s*s*k;p[0][r]=a;p[1][r]=b;p[0][r+1]=l;p[1][r+1]=k;p[0].length=p[1].length=r+2;return{min:{x:X.apply(0,p[0]),y:X.apply(0,p[1])},max:{x:W.apply(0,p[0]),y:W.apply(0,p[1])}}}function I(a,b){var e=!b&&A(a);if(!b&&e.curve)return d(e.curve);var f=G(a),l=b&&G(b),n={x:0,y:0,bx:0,by:0,X:0,Y:0,qx:null,qy:null},k={x:0,y:0,bx:0,by:0,X:0,Y:0,qx:null,qy:null},p=function(a,b,c){if(!a)return[\"C\",b.x,b.y,b.x,b.y,b.x,b.y];a[0]in{T:1,Q:1}||(b.qx=b.qy=null);\n",
        "switch(a[0]){case \"M\":b.X=a[1];b.Y=a[2];break;case \"A\":a=[\"C\"].concat(K.apply(0,[b.x,b.y].concat(a.slice(1))));break;case \"S\":\"C\"==c||\"S\"==c?(c=2*b.x-b.bx,b=2*b.y-b.by):(c=b.x,b=b.y);a=[\"C\",c,b].concat(a.slice(1));break;case \"T\":\"Q\"==c||\"T\"==c?(b.qx=2*b.x-b.qx,b.qy=2*b.y-b.qy):(b.qx=b.x,b.qy=b.y);a=[\"C\"].concat(J(b.x,b.y,b.qx,b.qy,a[1],a[2]));break;case \"Q\":b.qx=a[1];b.qy=a[2];a=[\"C\"].concat(J(b.x,b.y,a[1],a[2],a[3],a[4]));break;case \"L\":a=[\"C\"].concat(h(b.x,b.y,a[1],a[2]));break;case \"H\":a=[\"C\"].concat(h(b.x,\n",
        "b.y,a[1],b.y));break;case \"V\":a=[\"C\"].concat(h(b.x,b.y,b.x,a[1]));break;case \"Z\":a=[\"C\"].concat(h(b.x,b.y,b.X,b.Y))}return a},s=function(a,b){if(7<a[b].length){a[b].shift();for(var c=a[b];c.length;)q[b]=\"A\",l&&(u[b]=\"A\"),a.splice(b++,0,[\"C\"].concat(c.splice(0,6)));a.splice(b,1);v=W(f.length,l&&l.length||0)}},r=function(a,b,c,d,e){a&&b&&\"M\"==a[e][0]&&\"M\"!=b[e][0]&&(b.splice(e,0,[\"M\",d.x,d.y]),c.bx=0,c.by=0,c.x=a[e][1],c.y=a[e][2],v=W(f.length,l&&l.length||0))},q=[],u=[],c=\"\",t=\"\",x=0,v=W(f.length,\n",
        "l&&l.length||0);for(;x<v;x++){f[x]&&(c=f[x][0]);\"C\"!=c&&(q[x]=c,x&&(t=q[x-1]));f[x]=p(f[x],n,t);\"A\"!=q[x]&&\"C\"==c&&(q[x]=\"C\");s(f,x);l&&(l[x]&&(c=l[x][0]),\"C\"!=c&&(u[x]=c,x&&(t=u[x-1])),l[x]=p(l[x],k,t),\"A\"!=u[x]&&\"C\"==c&&(u[x]=\"C\"),s(l,x));r(f,l,n,k,x);r(l,f,k,n,x);var w=f[x],z=l&&l[x],y=w.length,U=l&&z.length;n.x=w[y-2];n.y=w[y-1];n.bx=$(w[y-4])||n.x;n.by=$(w[y-3])||n.y;k.bx=l&&($(z[U-4])||k.x);k.by=l&&($(z[U-3])||k.y);k.x=l&&z[U-2];k.y=l&&z[U-1]}l||(e.curve=d(f));return l?[f,l]:f}function P(a,\n",
        "b){for(var d=[],e=0,h=a.length;h-2*!b>e;e+=2){var f=[{x:+a[e-2],y:+a[e-1]},{x:+a[e],y:+a[e+1]},{x:+a[e+2],y:+a[e+3]},{x:+a[e+4],y:+a[e+5]}];b?e?h-4==e?f[3]={x:+a[0],y:+a[1]}:h-2==e&&(f[2]={x:+a[0],y:+a[1]},f[3]={x:+a[2],y:+a[3]}):f[0]={x:+a[h-2],y:+a[h-1]}:h-4==e?f[3]=f[2]:e||(f[0]={x:+a[e],y:+a[e+1]});d.push([\"C\",(-f[0].x+6*f[1].x+f[2].x)/6,(-f[0].y+6*f[1].y+f[2].y)/6,(f[1].x+6*f[2].x-f[3].x)/6,(f[1].y+6*f[2].y-f[3].y)/6,f[2].x,f[2].y])}return d}y=k.prototype;var Q=a.is,C=a._.clone,L=\"hasOwnProperty\",\n",
        "N=/,?([a-z]),?/gi,$=parseFloat,F=Math,S=F.PI,X=F.min,W=F.max,ma=F.pow,Z=F.abs;M=n(1);var na=n(),ba=n(0,1),V=a._unit2px;a.path=A;a.path.getTotalLength=M;a.path.getPointAtLength=na;a.path.getSubpath=function(a,b,d){if(1E-6>this.getTotalLength(a)-d)return ba(a,b).end;a=ba(a,d,1);return b?ba(a,b).end:a};y.getTotalLength=function(){if(this.node.getTotalLength)return this.node.getTotalLength()};y.getPointAtLength=function(a){return na(this.attr(\"d\"),a)};y.getSubpath=function(b,d){return a.path.getSubpath(this.attr(\"d\"),\n",
        "b,d)};a._.box=w;a.path.findDotsAtSegment=u;a.path.bezierBBox=p;a.path.isPointInsideBBox=b;a.path.isBBoxIntersect=q;a.path.intersection=function(a,b){return l(a,b)};a.path.intersectionNumber=function(a,b){return l(a,b,1)};a.path.isPointInside=function(a,d,e){var h=r(a);return b(h,d,e)&&1==l(a,[[\"M\",d,e],[\"H\",h.x2+10] ],1)%2};a.path.getBBox=r;a.path.get={path:function(a){return a.attr(\"path\")},circle:function(a){a=V(a);return x(a.cx,a.cy,a.r)},ellipse:function(a){a=V(a);return x(a.cx||0,a.cy||0,a.rx,\n",
        "a.ry)},rect:function(a){a=V(a);return s(a.x||0,a.y||0,a.width,a.height,a.rx,a.ry)},image:function(a){a=V(a);return s(a.x||0,a.y||0,a.width,a.height)},line:function(a){return\"M\"+[a.attr(\"x1\")||0,a.attr(\"y1\")||0,a.attr(\"x2\"),a.attr(\"y2\")]},polyline:function(a){return\"M\"+a.attr(\"points\")},polygon:function(a){return\"M\"+a.attr(\"points\")+\"z\"},deflt:function(a){a=a.node.getBBox();return s(a.x,a.y,a.width,a.height)}};a.path.toRelative=function(b){var e=A(b),h=String.prototype.toLowerCase;if(e.rel)return d(e.rel);\n",
        "a.is(b,\"array\")&&a.is(b&&b[0],\"array\")||(b=a.parsePathString(b));var f=[],l=0,n=0,k=0,p=0,s=0;\"M\"==b[0][0]&&(l=b[0][1],n=b[0][2],k=l,p=n,s++,f.push([\"M\",l,n]));for(var r=b.length;s<r;s++){var q=f[s]=[],x=b[s];if(x[0]!=h.call(x[0]))switch(q[0]=h.call(x[0]),q[0]){case \"a\":q[1]=x[1];q[2]=x[2];q[3]=x[3];q[4]=x[4];q[5]=x[5];q[6]=+(x[6]-l).toFixed(3);q[7]=+(x[7]-n).toFixed(3);break;case \"v\":q[1]=+(x[1]-n).toFixed(3);break;case \"m\":k=x[1],p=x[2];default:for(var c=1,t=x.length;c<t;c++)q[c]=+(x[c]-(c%2?l:\n",
        "n)).toFixed(3)}else for(f[s]=[],\"m\"==x[0]&&(k=x[1]+l,p=x[2]+n),q=0,c=x.length;q<c;q++)f[s][q]=x[q];x=f[s].length;switch(f[s][0]){case \"z\":l=k;n=p;break;case \"h\":l+=+f[s][x-1];break;case \"v\":n+=+f[s][x-1];break;default:l+=+f[s][x-2],n+=+f[s][x-1]}}f.toString=z;e.rel=d(f);return f};a.path.toAbsolute=G;a.path.toCubic=I;a.path.map=function(a,b){if(!b)return a;var d,e,h,f,l,n,k;a=I(a);h=0;for(l=a.length;h<l;h++)for(k=a[h],f=1,n=k.length;f<n;f+=2)d=b.x(k[f],k[f+1]),e=b.y(k[f],k[f+1]),k[f]=d,k[f+1]=e;return a};\n",
        "a.path.toString=z;a.path.clone=d});C.plugin(function(a,v,y,C){var A=Math.max,w=Math.min,z=function(a){this.items=[];this.bindings={};this.length=0;this.type=\"set\";if(a)for(var f=0,n=a.length;f<n;f++)a[f]&&(this[this.items.length]=this.items[this.items.length]=a[f],this.length++)};v=z.prototype;v.push=function(){for(var a,f,n=0,k=arguments.length;n<k;n++)if(a=arguments[n])f=this.items.length,this[f]=this.items[f]=a,this.length++;return this};v.pop=function(){this.length&&delete this[this.length--];\n",
        "return this.items.pop()};v.forEach=function(a,f){for(var n=0,k=this.items.length;n<k&&!1!==a.call(f,this.items[n],n);n++);return this};v.animate=function(d,f,n,u){\"function\"!=typeof n||n.length||(u=n,n=L.linear);d instanceof a._.Animation&&(u=d.callback,n=d.easing,f=n.dur,d=d.attr);var p=arguments;if(a.is(d,\"array\")&&a.is(p[p.length-1],\"array\"))var b=!0;var q,e=function(){q?this.b=q:q=this.b},l=0,r=u&&function(){l++==this.length&&u.call(this)};return this.forEach(function(a,l){k.once(\"snap.animcreated.\"+\n",
        "a.id,e);b?p[l]&&a.animate.apply(a,p[l]):a.animate(d,f,n,r)})};v.remove=function(){for(;this.length;)this.pop().remove();return this};v.bind=function(a,f,k){var u={};if(\"function\"==typeof f)this.bindings[a]=f;else{var p=k||a;this.bindings[a]=function(a){u[p]=a;f.attr(u)}}return this};v.attr=function(a){var f={},k;for(k in a)if(this.bindings[k])this.bindings[k](a[k]);else f[k]=a[k];a=0;for(k=this.items.length;a<k;a++)this.items[a].attr(f);return this};v.clear=function(){for(;this.length;)this.pop()};\n",
        "v.splice=function(a,f,k){a=0>a?A(this.length+a,0):a;f=A(0,w(this.length-a,f));var u=[],p=[],b=[],q;for(q=2;q<arguments.length;q++)b.push(arguments[q]);for(q=0;q<f;q++)p.push(this[a+q]);for(;q<this.length-a;q++)u.push(this[a+q]);var e=b.length;for(q=0;q<e+u.length;q++)this.items[a+q]=this[a+q]=q<e?b[q]:u[q-e];for(q=this.items.length=this.length-=f-e;this[q];)delete this[q++];return new z(p)};v.exclude=function(a){for(var f=0,k=this.length;f<k;f++)if(this[f]==a)return this.splice(f,1),!0;return!1};\n",
        "v.insertAfter=function(a){for(var f=this.items.length;f--;)this.items[f].insertAfter(a);return this};v.getBBox=function(){for(var a=[],f=[],k=[],u=[],p=this.items.length;p--;)if(!this.items[p].removed){var b=this.items[p].getBBox();a.push(b.x);f.push(b.y);k.push(b.x+b.width);u.push(b.y+b.height)}a=w.apply(0,a);f=w.apply(0,f);k=A.apply(0,k);u=A.apply(0,u);return{x:a,y:f,x2:k,y2:u,width:k-a,height:u-f,cx:a+(k-a)/2,cy:f+(u-f)/2}};v.clone=function(a){a=new z;for(var f=0,k=this.items.length;f<k;f++)a.push(this.items[f].clone());\n",
        "return a};v.toString=function(){return\"Snap\\u2018s set\"};v.type=\"set\";a.set=function(){var a=new z;arguments.length&&a.push.apply(a,Array.prototype.slice.call(arguments,0));return a}});C.plugin(function(a,v,y,C){function A(a){var b=a[0];switch(b.toLowerCase()){case \"t\":return[b,0,0];case \"m\":return[b,1,0,0,1,0,0];case \"r\":return 4==a.length?[b,0,a[2],a[3] ]:[b,0];case \"s\":return 5==a.length?[b,1,1,a[3],a[4] ]:3==a.length?[b,1,1]:[b,1]}}function w(b,d,f){d=q(d).replace(/\\.{3}|\\u2026/g,b);b=a.parseTransformString(b)||\n",
        "[];d=a.parseTransformString(d)||[];for(var k=Math.max(b.length,d.length),p=[],v=[],h=0,w,z,y,I;h<k;h++){y=b[h]||A(d[h]);I=d[h]||A(y);if(y[0]!=I[0]||\"r\"==y[0].toLowerCase()&&(y[2]!=I[2]||y[3]!=I[3])||\"s\"==y[0].toLowerCase()&&(y[3]!=I[3]||y[4]!=I[4])){b=a._.transform2matrix(b,f());d=a._.transform2matrix(d,f());p=[[\"m\",b.a,b.b,b.c,b.d,b.e,b.f] ];v=[[\"m\",d.a,d.b,d.c,d.d,d.e,d.f] ];break}p[h]=[];v[h]=[];w=0;for(z=Math.max(y.length,I.length);w<z;w++)w in y&&(p[h][w]=y[w]),w in I&&(v[h][w]=I[w])}return{from:u(p),\n",
        "to:u(v),f:n(p)}}function z(a){return a}function d(a){return function(b){return+b.toFixed(3)+a}}function f(b){return a.rgb(b[0],b[1],b[2])}function n(a){var b=0,d,f,k,n,h,p,q=[];d=0;for(f=a.length;d<f;d++){h=\"[\";p=['\"'+a[d][0]+'\"'];k=1;for(n=a[d].length;k<n;k++)p[k]=\"val[\"+b++ +\"]\";h+=p+\"]\";q[d]=h}return Function(\"val\",\"return Snap.path.toString.call([\"+q+\"])\")}function u(a){for(var b=[],d=0,f=a.length;d<f;d++)for(var k=1,n=a[d].length;k<n;k++)b.push(a[d][k]);return b}var p={},b=/[a-z]+$/i,q=String;\n",
        "p.stroke=p.fill=\"colour\";v.prototype.equal=function(a,b){return k(\"snap.util.equal\",this,a,b).firstDefined()};k.on(\"snap.util.equal\",function(e,k){var r,s;r=q(this.attr(e)||\"\");var x=this;if(r==+r&&k==+k)return{from:+r,to:+k,f:z};if(\"colour\"==p[e])return r=a.color(r),s=a.color(k),{from:[r.r,r.g,r.b,r.opacity],to:[s.r,s.g,s.b,s.opacity],f:f};if(\"transform\"==e||\"gradientTransform\"==e||\"patternTransform\"==e)return k instanceof a.Matrix&&(k=k.toTransformString()),a._.rgTransform.test(k)||(k=a._.svgTransform2string(k)),\n",
        "w(r,k,function(){return x.getBBox(1)});if(\"d\"==e||\"path\"==e)return r=a.path.toCubic(r,k),{from:u(r[0]),to:u(r[1]),f:n(r[0])};if(\"points\"==e)return r=q(r).split(a._.separator),s=q(k).split(a._.separator),{from:r,to:s,f:function(a){return a}};aUnit=r.match(b);s=q(k).match(b);return aUnit&&aUnit==s?{from:parseFloat(r),to:parseFloat(k),f:d(aUnit)}:{from:this.asPX(e),to:this.asPX(e,k),f:z}})});C.plugin(function(a,v,y,C){var A=v.prototype,w=\"createTouch\"in C.doc;v=\"click dblclick mousedown mousemove mouseout mouseover mouseup touchstart touchmove touchend touchcancel\".split(\" \");\n",
        "var z={mousedown:\"touchstart\",mousemove:\"touchmove\",mouseup:\"touchend\"},d=function(a,b){var d=\"y\"==a?\"scrollTop\":\"scrollLeft\",e=b&&b.node?b.node.ownerDocument:C.doc;return e[d in e.documentElement?\"documentElement\":\"body\"][d]},f=function(){this.returnValue=!1},n=function(){return this.originalEvent.preventDefault()},u=function(){this.cancelBubble=!0},p=function(){return this.originalEvent.stopPropagation()},b=function(){if(C.doc.addEventListener)return function(a,b,e,f){var k=w&&z[b]?z[b]:b,l=function(k){var l=\n",
        "d(\"y\",f),q=d(\"x\",f);if(w&&z.hasOwnProperty(b))for(var r=0,u=k.targetTouches&&k.targetTouches.length;r<u;r++)if(k.targetTouches[r].target==a||a.contains(k.targetTouches[r].target)){u=k;k=k.targetTouches[r];k.originalEvent=u;k.preventDefault=n;k.stopPropagation=p;break}return e.call(f,k,k.clientX+q,k.clientY+l)};b!==k&&a.addEventListener(b,l,!1);a.addEventListener(k,l,!1);return function(){b!==k&&a.removeEventListener(b,l,!1);a.removeEventListener(k,l,!1);return!0}};if(C.doc.attachEvent)return function(a,\n",
        "b,e,h){var k=function(a){a=a||h.node.ownerDocument.window.event;var b=d(\"y\",h),k=d(\"x\",h),k=a.clientX+k,b=a.clientY+b;a.preventDefault=a.preventDefault||f;a.stopPropagation=a.stopPropagation||u;return e.call(h,a,k,b)};a.attachEvent(\"on\"+b,k);return function(){a.detachEvent(\"on\"+b,k);return!0}}}(),q=[],e=function(a){for(var b=a.clientX,e=a.clientY,f=d(\"y\"),l=d(\"x\"),n,p=q.length;p--;){n=q[p];if(w)for(var r=a.touches&&a.touches.length,u;r--;){if(u=a.touches[r],u.identifier==n.el._drag.id||n.el.node.contains(u.target)){b=\n",
        "u.clientX;e=u.clientY;(a.originalEvent?a.originalEvent:a).preventDefault();break}}else a.preventDefault();b+=l;e+=f;k(\"snap.drag.move.\"+n.el.id,n.move_scope||n.el,b-n.el._drag.x,e-n.el._drag.y,b,e,a)}},l=function(b){a.unmousemove(e).unmouseup(l);for(var d=q.length,f;d--;)f=q[d],f.el._drag={},k(\"snap.drag.end.\"+f.el.id,f.end_scope||f.start_scope||f.move_scope||f.el,b);q=[]};for(y=v.length;y--;)(function(d){a[d]=A[d]=function(e,f){a.is(e,\"function\")&&(this.events=this.events||[],this.events.push({name:d,\n",
        "f:e,unbind:b(this.node||document,d,e,f||this)}));return this};a[\"un\"+d]=A[\"un\"+d]=function(a){for(var b=this.events||[],e=b.length;e--;)if(b[e].name==d&&(b[e].f==a||!a)){b[e].unbind();b.splice(e,1);!b.length&&delete this.events;break}return this}})(v[y]);A.hover=function(a,b,d,e){return this.mouseover(a,d).mouseout(b,e||d)};A.unhover=function(a,b){return this.unmouseover(a).unmouseout(b)};var r=[];A.drag=function(b,d,f,h,n,p){function u(r,v,w){(r.originalEvent||r).preventDefault();this._drag.x=v;\n",
        "this._drag.y=w;this._drag.id=r.identifier;!q.length&&a.mousemove(e).mouseup(l);q.push({el:this,move_scope:h,start_scope:n,end_scope:p});d&&k.on(\"snap.drag.start.\"+this.id,d);b&&k.on(\"snap.drag.move.\"+this.id,b);f&&k.on(\"snap.drag.end.\"+this.id,f);k(\"snap.drag.start.\"+this.id,n||h||this,v,w,r)}if(!arguments.length){var v;return this.drag(function(a,b){this.attr({transform:v+(v?\"T\":\"t\")+[a,b]})},function(){v=this.transform().local})}this._drag={};r.push({el:this,start:u});this.mousedown(u);return this};\n",
        "A.undrag=function(){for(var b=r.length;b--;)r[b].el==this&&(this.unmousedown(r[b].start),r.splice(b,1),k.unbind(\"snap.drag.*.\"+this.id));!r.length&&a.unmousemove(e).unmouseup(l);return this}});C.plugin(function(a,v,y,C){y=y.prototype;var A=/^\\s*url\\((.+)\\)/,w=String,z=a._.$;a.filter={};y.filter=function(d){var f=this;\"svg\"!=f.type&&(f=f.paper);d=a.parse(w(d));var k=a._.id(),u=z(\"filter\");z(u,{id:k,filterUnits:\"userSpaceOnUse\"});u.appendChild(d.node);f.defs.appendChild(u);return new v(u)};k.on(\"snap.util.getattr.filter\",\n",
        "function(){k.stop();var d=z(this.node,\"filter\");if(d)return(d=w(d).match(A))&&a.select(d[1])});k.on(\"snap.util.attr.filter\",function(d){if(d instanceof v&&\"filter\"==d.type){k.stop();var f=d.node.id;f||(z(d.node,{id:d.id}),f=d.id);z(this.node,{filter:a.url(f)})}d&&\"none\"!=d||(k.stop(),this.node.removeAttribute(\"filter\"))});a.filter.blur=function(d,f){null==d&&(d=2);return a.format('<feGaussianBlur stdDeviation=\"{def}\"/>',{def:null==f?d:[d,f]})};a.filter.blur.toString=function(){return this()};a.filter.shadow=\n",
        "function(d,f,k,u,p){\"string\"==typeof k&&(p=u=k,k=4);\"string\"!=typeof u&&(p=u,u=\"#000\");null==k&&(k=4);null==p&&(p=1);null==d&&(d=0,f=2);null==f&&(f=d);u=a.color(u||\"#000\");return a.format('<feGaussianBlur in=\"SourceAlpha\" stdDeviation=\"{blur}\"/><feOffset dx=\"{dx}\" dy=\"{dy}\" result=\"offsetblur\"/><feFlood flood-color=\"{color}\"/><feComposite in2=\"offsetblur\" operator=\"in\"/><feComponentTransfer><feFuncA type=\"linear\" slope=\"{opacity}\"/></feComponentTransfer><feMerge><feMergeNode/><feMergeNode in=\"SourceGraphic\"/></feMerge>',\n",
        "{color:u,dx:d,dy:f,blur:k,opacity:p})};a.filter.shadow.toString=function(){return this()};a.filter.grayscale=function(d){null==d&&(d=1);return a.format('<feColorMatrix type=\"matrix\" values=\"{a} {b} {c} 0 0 {d} {e} {f} 0 0 {g} {b} {h} 0 0 0 0 0 1 0\"/>',{a:0.2126+0.7874*(1-d),b:0.7152-0.7152*(1-d),c:0.0722-0.0722*(1-d),d:0.2126-0.2126*(1-d),e:0.7152+0.2848*(1-d),f:0.0722-0.0722*(1-d),g:0.2126-0.2126*(1-d),h:0.0722+0.9278*(1-d)})};a.filter.grayscale.toString=function(){return this()};a.filter.sepia=\n",
        "function(d){null==d&&(d=1);return a.format('<feColorMatrix type=\"matrix\" values=\"{a} {b} {c} 0 0 {d} {e} {f} 0 0 {g} {h} {i} 0 0 0 0 0 1 0\"/>',{a:0.393+0.607*(1-d),b:0.769-0.769*(1-d),c:0.189-0.189*(1-d),d:0.349-0.349*(1-d),e:0.686+0.314*(1-d),f:0.168-0.168*(1-d),g:0.272-0.272*(1-d),h:0.534-0.534*(1-d),i:0.131+0.869*(1-d)})};a.filter.sepia.toString=function(){return this()};a.filter.saturate=function(d){null==d&&(d=1);return a.format('<feColorMatrix type=\"saturate\" values=\"{amount}\"/>',{amount:1-\n",
        "d})};a.filter.saturate.toString=function(){return this()};a.filter.hueRotate=function(d){return a.format('<feColorMatrix type=\"hueRotate\" values=\"{angle}\"/>',{angle:d||0})};a.filter.hueRotate.toString=function(){return this()};a.filter.invert=function(d){null==d&&(d=1);return a.format('<feComponentTransfer><feFuncR type=\"table\" tableValues=\"{amount} {amount2}\"/><feFuncG type=\"table\" tableValues=\"{amount} {amount2}\"/><feFuncB type=\"table\" tableValues=\"{amount} {amount2}\"/></feComponentTransfer>',{amount:d,\n",
        "amount2:1-d})};a.filter.invert.toString=function(){return this()};a.filter.brightness=function(d){null==d&&(d=1);return a.format('<feComponentTransfer><feFuncR type=\"linear\" slope=\"{amount}\"/><feFuncG type=\"linear\" slope=\"{amount}\"/><feFuncB type=\"linear\" slope=\"{amount}\"/></feComponentTransfer>',{amount:d})};a.filter.brightness.toString=function(){return this()};a.filter.contrast=function(d){null==d&&(d=1);return a.format('<feComponentTransfer><feFuncR type=\"linear\" slope=\"{amount}\" intercept=\"{amount2}\"/><feFuncG type=\"linear\" slope=\"{amount}\" intercept=\"{amount2}\"/><feFuncB type=\"linear\" slope=\"{amount}\" intercept=\"{amount2}\"/></feComponentTransfer>',\n",
        "{amount:d,amount2:0.5-d/2})};a.filter.contrast.toString=function(){return this()}});return C});\n",
        "]]></script>\n",
        "    <script><![CDATA[\n",
        "        (function(glob, factory){\n",
        "    if (typeof define == \"function\" && define.amd) {\n",
        "        define(\"ProfileView\", [\"Snap.svg\"], function (Snap){\n",
        "            return factory(Snap);\n",
        "        });\n",
        "    }\n",
        "    else {\n",
        "        glob.ProfileView = factory(glob.Snap);\n",
        "    }\n",
        "}(this, function(Snap){\n",
        "    var ProfileView = {};\n",
        "\n",
        "    var avgcharwidth = 6;\n",
        "    var default_transition_time = 300;\n",
        "    var viewport_scale = 0.9;\n",
        "\n",
        "    var format_text = function(text, available_len){\n",
        "        if (available_len < 3*avgcharwidth) {\n",
        "            return \"\";\n",
        "        }\n",
        "        else if (text.length*avgcharwidth > available_len) {\n",
        "            nchars = Math.round(available_len/avgcharwidth)-2;\n",
        "            return text.slice(0,nchars) + \"..\"\n",
        "        }\n",
        "        return text;\n",
        "    }\n",
        "\n",
        "    // Shift the view port to center on xc, then scale in the x direction\n",
        "    ProfileView.move_and_zoom = function(xc, xs, xScale, fig, delta_t){\n",
        "        if (typeof delta_t === 'undefined') { delta_t = default_transition_time; }\n",
        "        if (typeof xs === 'undefined') {xs = xc;}\n",
        "\n",
        "        var oldScale = fig.scale;\n",
        "        var oldShift = fig.shift;\n",
        "\n",
        "        fig.scale = xScale;\n",
        "        fig.shift = xc;\n",
        "\n",
        "        xScale *= viewport_scale;\n",
        "\n",
        "        var oldxshift = -(oldShift - 0.5*fig.clip_width);\n",
        "        var xshift = -(xc - 0.5*fig.clip_width);\n",
        "\n",
        "        fig.texts.forEach(function(text){\n",
        "            text.node.textContent = \"\";\n",
        "        });\n",
        "\n",
        "        if (delta_t != 0){\n",
        "            Snap.animate(0, 1, function(step){\n",
        "\n",
        "                var scale = oldScale + (xScale - oldScale)*step\n",
        "                var rMatrix = new Snap.Matrix;\n",
        "                rMatrix.translate(oldxshift + (xshift - oldxshift)*step, 0);\n",
        "                rMatrix.scale(scale, 1, xs, fig.clip_middle);\n",
        "                fig.viewport.attr({\n",
        "                    transform: rMatrix\n",
        "                })\n",
        "                fig.rects.forEach(function(rect){\n",
        "                    rect.attr({\n",
        "                        rx: 2/scale,\n",
        "                        ry: 2/scale\n",
        "                    });\n",
        "                })\n",
        "\n",
        "            }, delta_t, null, function(){\n",
        "                fig.rects.forEach(function(rect, i){\n",
        "                    var bbox = rect.getBBox();\n",
        "                    var text = fig.texts[i];\n",
        "                    var shortinfo = rect.node.getAttribute(\"data-shortinfo\");\n",
        "\n",
        "                    var tMatrix = new Snap.Matrix;\n",
        "                    tMatrix.scale(1.0/xScale, 1, bbox.x, bbox.y);\n",
        "\n",
        "                    text.node.textContent = format_text(shortinfo, bbox.w*xScale);\n",
        "                    text.transform(tMatrix);\n",
        "                });\n",
        "            });\n",
        "        }\n",
        "        else {\n",
        "            var rMatrix = new Snap.Matrix;\n",
        "            rMatrix.translate(xshift, 0);\n",
        "            rMatrix.scale(xScale, 1, xs, fig.clip_middle);\n",
        "\n",
        "            fig.viewport.transform(rMatrix);\n",
        "            fig.rects.forEach(function(rect, i){\n",
        "                rect.attr({\n",
        "                    rx: 2/xScale,\n",
        "                    ry: 2/xScale\n",
        "                });\n",
        "                var bbox = rect.getBBox();\n",
        "                var text = fig.texts[i];\n",
        "                var shortinfo = rect.node.getAttribute(\"data-shortinfo\");\n",
        "\n",
        "                var tMatrix = new Snap.Matrix;\n",
        "                tMatrix.scale(1.0/xScale, 1, bbox.x, bbox.y);\n",
        "\n",
        "                text.node.textContent = format_text(shortinfo, bbox.w*xScale);\n",
        "                text.transform(tMatrix);\n",
        "            });\n",
        "       }\n",
        "\n",
        "    }\n",
        "\n",
        "    ProfileView.reset = function(fig) {\n",
        "        ProfileView.move_and_zoom(fig.viewport_cx, fig.viewport_cx, viewport_scale, fig);\n",
        "    }\n",
        "\n",
        "    return ProfileView;\n",
        "}));\n",
        "\n",
        "        (function (glob, factory) {\n",
        "            if (typeof require === \"function\" && typeof define === \"function\" && define.amd) {\n",
        "                require([\"Snap.svg\", \"ProfileView\"], function (Snap, ProfileView) {\n",
        "                    factory(Snap, ProfileView);\n",
        "                });\n",
        "          } else {\n",
        "              factory(glob.Snap, glob.ProfileView);\n",
        "          }\n",
        "        })(window, function (Snap, ProfileView) {\n",
        "            var svg = Snap.select('svg').node;\n",
        "            var pt = svg.createSVGPoint();\n",
        "\n",
        "            var fig = {};\n",
        "\n",
        "            fig.viewport = Snap.select('#fig-16a06f9e8786428ab6dc3c6eaf9bf7d5-viewport');\n",
        "            fig.frame = Snap.select('#fig-16a06f9e8786428ab6dc3c6eaf9bf7d5-frame');\n",
        "\n",
        "            fig.viewport_cx = fig.viewport.getBBox().cx;\n",
        "\n",
        "            fig.rects = Snap.selectAll('#fig-16a06f9e8786428ab6dc3c6eaf9bf7d5-viewport rect');\n",
        "            fig.texts = Snap.selectAll('#fig-16a06f9e8786428ab6dc3c6eaf9bf7d5-viewport text');\n",
        "            fig.clip = Snap.select('#fig-16a06f9e8786428ab6dc3c6eaf9bf7d5-clip-rect');\n",
        "            fig.clip_width  = fig.clip.getBBox().w;\n",
        "            fig.clip_middle = fig.clip.getBBox().cy;\n",
        "            fig.details = document.getElementById(\"fig-16a06f9e8786428ab6dc3c6eaf9bf7d5-details\").firstChild; \n",
        "\n",
        "            fig.scale = 1.0;\n",
        "            fig.shift = fig.viewport_cx;\n",
        "\n",
        "            ProfileView.reset(fig)\n",
        "\n",
        "            fig.rects.forEach(function(rect, i){\n",
        "                rect.dblclick(function(){\n",
        "                    bbox = rect.getBBox();\n",
        "                    ProfileView.move_and_zoom(bbox.cx, bbox.cx, fig.clip_width/bbox.w, fig);\n",
        "                })\n",
        "                .mouseover(function(){\n",
        "                    fig.details.nodeValue = rect.node.getAttribute(\"data-info\");\n",
        "                })\n",
        "                .mouseout(function(){\n",
        "                    fig.details.nodeValue = \"\";\n",
        "                });\n",
        "\n",
        "            })\n",
        "            fig.texts.forEach(function(text, i){\n",
        "                text.dblclick(function(){\n",
        "                    bbox = fig.rects[i].getBBox();\n",
        "                    ProfileView.move_and_zoom(bbox.cx, bbox.cx, fig.clip_width/bbox.w, fig);\n",
        "                })\n",
        "                .mouseover(function(){\n",
        "                    fig.details.nodeValue = fig.rects[i].node.getAttribute(\"data-info\");\n",
        "                })\n",
        "                .mouseout(function(){\n",
        "                    fig.details.nodeValue = \"\";\n",
        "                });\n",
        "            })\n",
        "            Snap.selectAll(\"#fig-16a06f9e8786428ab6dc3c6eaf9bf7d5-frame .pvbackground\").forEach(function(bg){\n",
        "               bg.dblclick(function(e){\n",
        "                   ProfileView.reset(fig);\n",
        "                });\n",
        "            });\n",
        "\n",
        "            function throttle(delay, callback) {\n",
        "                var previousCall = new Date().getTime();\n",
        "                return function() {\n",
        "                    var time = new Date().getTime();\n",
        "\n",
        "                    if ((time - previousCall) >= delay) {\n",
        "                        previousCall = time;\n",
        "                        callback.apply(null, arguments);\n",
        "                    }\n",
        "                    else {\n",
        "                        arguments[0].preventDefault();\n",
        "                    }\n",
        "                };\n",
        "            }\n",
        "\n",
        "            var MouseWheelHandler = throttle(400, function(e) {\n",
        "                e.preventDefault();\n",
        "                var e = window.event || e;\n",
        "                var delta = Math.max(-1, Math.min(1, (e.wheelDelta || -e.detail)));\n",
        "                pt.x = e.clientX;\n",
        "                pt.y = e.clientY;\n",
        "\n",
        "                pt.matrixTransform(fig.viewport.node.getScreenCTM().inverse());\n",
        "                var targetScale = fig.scale + 0.2*delta;\n",
        "                ProfileView.move_and_zoom(fig.shift, pt.x, targetScale, fig, 400);\n",
        "                return false;\n",
        "            })\n",
        "            frame = fig.frame.node;\n",
        "            if (frame.addEventListener) {\n",
        "                frame.addEventListener(\"mousewheel\", MouseWheelHandler, false);\n",
        "                frame.addEventListener(\"DOMMouseScroll\", MouseWheelHandler, false);\n",
        "            }\n",
        "            else {\n",
        "                frame.attachEvent(\"onmousewheel\", MouseWheelHandler);\n",
        "            }\n",
        "\n",
        "        fig.viewport.drag();\n",
        "}); ]]></script>\n",
        "</svg>\n"
       ],
       "text": [
        "ProfileData(2271x4 Array{RGB{Float64},2}:\n",
        " RGB{Float64}(0.47034102652604887,0.3548485806834522,0.9887746568367514)  \u2026  RGB{Float64}(0.5503120972657082,0.0,0.27233428459349773)\n",
        " RGB{Float64}(0.47034102652604887,0.3548485806834522,0.9887746568367514)     RGB{Float64}(0.5503120972657082,0.0,0.27233428459349773)\n",
        " RGB{Float64}(0.47034102652604887,0.3548485806834522,0.9887746568367514)     RGB{Float64}(0.5503120972657082,0.0,0.27233428459349773)\n",
        " RGB{Float64}(0.47034102652604887,0.3548485806834522,0.9887746568367514)     RGB{Float64}(0.5503120972657082,0.0,0.27233428459349773)\n",
        " RGB{Float64}(0.47034102652604887,0.3548485806834522,0.9887746568367514)     RGB{Float64}(0.5503120972657082,0.0,0.27233428459349773)\n",
        " RGB{Float64}(0.47034102652604887,0.3548485806834522,0.9887746568367514)  \u2026  RGB{Float64}(0.5503120972657082,0.0,0.27233428459349773)\n",
        " RGB{Float64}(0.47034102652604887,0.3548485806834522,0.9887746568367514)     RGB{Float64}(0.5503120972657082,0.0,0.27233428459349773)\n",
        " RGB{Float64}(0.47034102652604887,0.3548485806834522,0.9887746568367514)     RGB{Float64}(0.5503120972657082,0.0,0.27233428459349773)\n",
        " RGB{Float64}(0.47034102652604887,0.3548485806834522,0.9887746568367514)     RGB{Float64}(0.5503120972657082,0.0,0.27233428459349773)\n",
        " RGB{Float64}(0.47034102652604887,0.3548485806834522,0.9887746568367514)     RGB{Float64}(0.5503120972657082,0.0,0.27233428459349773)\n",
        " RGB{Float64}(0.47034102652604887,0.3548485806834522,0.9887746568367514)  \u2026  RGB{Float64}(0.5503120972657082,0.0,0.27233428459349773)\n",
        " RGB{Float64}(0.47034102652604887,0.3548485806834522,0.9887746568367514)     RGB{Float64}(0.5503120972657082,0.0,0.27233428459349773)\n",
        " RGB{Float64}(0.47034102652604887,0.3548485806834522,0.9887746568367514)     RGB{Float64}(0.5503120972657082,0.0,0.27233428459349773)\n",
        " \u22ee                                                                        \u22f1                                                          \n",
        " RGB{Float64}(0.47034102652604887,0.3548485806834522,0.9887746568367514)     RGB{Float64}(0.0,0.34529510530347246,0.3852598827111081)\n",
        " RGB{Float64}(0.47034102652604887,0.3548485806834522,0.9887746568367514)  \u2026  RGB{Float64}(0.0,0.34529510530347246,0.3852598827111081)\n",
        " RGB{Float64}(0.47034102652604887,0.3548485806834522,0.9887746568367514)     RGB{Float64}(0.0,0.34529510530347246,0.3852598827111081)\n",
        " RGB{Float64}(0.47034102652604887,0.3548485806834522,0.9887746568367514)     RGB{Float64}(0.0,0.34529510530347246,0.3852598827111081)\n",
        " RGB{Float64}(0.47034102652604887,0.3548485806834522,0.9887746568367514)     RGB{Float64}(0.0,0.34529510530347246,0.3852598827111081)\n",
        " RGB{Float64}(0.47034102652604887,0.3548485806834522,0.9887746568367514)     RGB{Float64}(0.0,0.34529510530347246,0.3852598827111081)\n",
        " RGB{Float64}(0.47034102652604887,0.3548485806834522,0.9887746568367514)  \u2026  RGB{Float64}(0.0,0.34529510530347246,0.3852598827111081)\n",
        " RGB{Float64}(0.47034102652604887,0.3548485806834522,0.9887746568367514)     RGB{Float64}(0.0,0.34529510530347246,0.3852598827111081)\n",
        " RGB{Float64}(0.47034102652604887,0.3548485806834522,0.9887746568367514)     RGB{Float64}(0.0,0.34529510530347246,0.3852598827111081)\n",
        " RGB{Float64}(0.47034102652604887,0.3548485806834522,0.9887746568367514)     RGB{Float64}(0.0,0.34529510530347246,0.3852598827111081)\n",
        " RGB{Float64}(0.47034102652604887,0.3548485806834522,0.9887746568367514)     RGB{Float64}(0.0,0.34529510530347246,0.3852598827111081)\n",
        " RGB{Float64}(0.47034102652604887,0.3548485806834522,0.9887746568367514)  \u2026  RGB{Float64}(0.0,0.34529510530347246,0.3852598827111081),[0x00007fc9bfa0289b=>LineInfo(\"XtWXXtWr!\",\"In[4]\",29,false,140504480098459),0x00007fc9c1bdae48=>LineInfo(\"jl_load_file_string\",\"/usr/bin/../lib/x86_64-linux-gnu/julia/libjulia.so\",-1,true,140504515587656),0x00007fc9bfa026e3=>LineInfo(\"XtWXXtWr!\",\"In[4]\",18,false,140504480098019),0x00007fc9bfa02823=>LineInfo(\"XtWXXtWr!\",\"In[4]\",27,false,140504480098339),0x00007fc9bfa02861=>LineInfo(\"XtWXXtWr!\",\"In[4]\",29,false,140504480098401),0x00007fc9bfa02706=>LineInfo(\"XtWXXtWr!\",\"In[4]\",22,false,140504480098054),0x00007fc9bfa0265c=>LineInfo(\"XtWXXtWr!\",\"In[4]\",19,false,140504480097884),0x00007fc9bfa02686=>LineInfo(\"XtWXXtWr!\",\"In[4]\",19,false,140504480097926),0x00007fc9b90b7058=>LineInfo(\"log\",\"/usr/bin/../lib/x86_64-linux-gnu/julia/libopenlibm.so\",-1,true,140504369688664),0x00007fc9bfa02657=>LineInfo(\"XtWXXtWr!\",\"In[4]\",21,false,140504480097879),0x00007fc9b90b1f2e=>LineInfo(\"exp\",\"/usr/bin/../lib/x86_64-linux-gnu/julia/libopenlibm.so\",-1,true,140504369667886),0x00007fc9bfa0280c=>LineInfo(\"XtWXXtWr!\",\"In[4]\",27,false,140504480098316),0x00007fc9bfa0283d=>LineInfo(\"XtWXXtWr!\",\"In[4]\",27,false,140504480098365),0x00007fc9bfa0281a=>LineInfo(\"XtWXXtWr!\",\"In[4]\",27,false,140504480098330),0x00007fc9b90b7070=>LineInfo(\"log\",\"/usr/bin/../lib/x86_64-linux-gnu/julia/libopenlibm.so\",-1,true,140504369688688),0x00007fc9bfa0264e=>LineInfo(\"XtWXXtWr!\",\"In[4]\",17,false,140504480097870),0x00007fc9bfa025de=>LineInfo(\"XtWXXtWr!\",\"In[4]\",15,false,140504480097758),0x00007fc9bfa025b3=>LineInfo(\"XtWXXtWr!\",\"In[4]\",15,false,140504480097715),0x00007fc9bfa027d2=>LineInfo(\"XtWXXtWr!\",\"In[4]\",29,false,140504480098258),0x00007fc9bfa02858=>LineInfo(\"XtWXXtWr!\",\"In[4]\",29,false,140504480098392),0x00007fc9b90b701e=>LineInfo(\"log\",\"/usr/bin/../lib/x86_64-linux-gnu/julia/libopenlibm.so\",-1,true,140504369688606),0x00007fc9bf8fa067=>LineInfo(\"jlcall_XtWXXtWr!;20899\",\"\",-1,true,140504479015015),0x00007fc9bfa02827=>LineInfo(\"XtWXXtWr!\",\"In[4]\",27,false,140504480098343),0x00007fc9c1bd67e9=>LineInfo(\"jl_apply_generic\",\"/usr/bin/../lib/x86_64-linux-gnu/julia/libjulia.so\",-1,true,140504515569641),0x00007fc9bfa025e8=>LineInfo(\"XtWXXtWr!\",\"In[4]\",15,false,140504480097768),0x00007fc9bfa025aa=>LineInfo(\"XtWXXtWr!\",\"In[4]\",29,false,140504480097706),0x00007fc9bfa025f3=>LineInfo(\"XtWXXtWr!\",\"In[4]\",15,false,140504480097779),0x00007fc9b90b1ed5=>LineInfo(\"exp\",\"/usr/bin/../lib/x86_64-linux-gnu/julia/libopenlibm.so\",-1,true,140504369667797),0x00007fc9bfa0285e=>LineInfo(\"XtWXXtWr!\",\"In[4]\",29,false,140504480098398),0x00007fc9bfa0288c=>LineInfo(\"XtWXXtWr!\",\"In[4]\",29,false,140504480098444),0x00007fc9bfa02887=>LineInfo(\"XtWXXtWr!\",\"In[4]\",29,false,140504480098439),0x00007fc9bfa0259c=>LineInfo(\"XtWXXtWr!\",\"In[4]\",15,false,140504480097692),0x00007fc9c1c2d72c=>LineInfo(\"???\",\"???\",140504515925804,true,140504515925804),0x00007fc9bf8fa14d=>LineInfo(\"XtWXXtWr!\",\"In[24]\",1,false,140504479015245),0x00007fc9bfa026f9=>LineInfo(\"XtWXXtWr!\",\"In[4]\",20,false,140504480098041),0x00007fc9bfa025e2=>LineInfo(\"XtWXXtWr!\",\"In[4]\",15,false,140504480097762),0x00007fc9bfa0261d=>LineInfo(\"XtWXXtWr!\",\"In[4]\",17,false,140504480097821),0x00007fc9bfa0273a=>LineInfo(\"XtWXXtWr!\",\"In[4]\",22,false,140504480098106),0x00007fc9bfa02841=>LineInfo(\"XtWXXtWr!\",\"In[4]\",27,false,140504480098369),0x00007fc9bfa028f7=>LineInfo(\"XtWXXtWr!\",\"In[4]\",22,false,140504480098551),0x00007fc9bfa025d3=>LineInfo(\"XtWXXtWr!\",\"In[4]\",15,false,140504480097747),0x00007fc9bfa02836=>LineInfo(\"XtWXXtWr!\",\"In[4]\",27,false,140504480098358),0x00007fc9bfa025c1=>LineInfo(\"XtWXXtWr!\",\"In[4]\",15,false,140504480097729),0x00007fc9bfa027c7=>LineInfo(\"XtWXXtWr!\",\"In[4]\",27,false,140504480098247),0x00007fc9bfa02668=>LineInfo(\"XtWXXtWr!\",\"In[4]\",19,false,140504480097896),0x00007fc9c1c24504=>LineInfo(\"rec_backtrace\",\"/usr/bin/../lib/x86_64-linux-gnu/julia/libjulia.so\",-1,true,140504515888388),0x00007fc9b90b1ede=>LineInfo(\"exp\",\"/usr/bin/../lib/x86_64-linux-gnu/julia/libopenlibm.so\",-1,true,140504369667806),0x00007fc9bf9e9a07=>LineInfo(\"include_string\",\"loading.jl\",97,false,140504479996423),0x00007fc9bfa0287d=>LineInfo(\"XtWXXtWr!\",\"In[4]\",29,false,140504480098429),0x00007fc9bfa025ef=>LineInfo(\"XtWXXtWr!\",\"In[4]\",15,false,140504480097775),0x00007fc9bfa028bb=>LineInfo(\"XtWXXtWr!\",\"In[4]\",29,false,140504480098491),0x00007fc9bfa02607=>LineInfo(\"XtWXXtWr!\",\"In[4]\",15,false,140504480097799),0x00007fc9bfa025e5=>LineInfo(\"XtWXXtWr!\",\"In[4]\",15,false,140504480097765),0x00007fc9bfa02800=>LineInfo(\"XtWXXtWr!\",\"In[4]\",27,false,140504480098304),0x00007fc9bfa02603=>LineInfo(\"XtWXXtWr!\",\"In[4]\",15,false,140504480097795),0x00007fc9bfa0282c=>LineInfo(\"XtWXXtWr!\",\"In[4]\",27,false,140504480098348),0x00007fc9b90b7002=>LineInfo(\"log\",\"/usr/bin/../lib/x86_64-linux-gnu/julia/libopenlibm.so\",-1,true,140504369688578),0x00007fc9bfa025cf=>LineInfo(\"XtWXXtWr!\",\"In[4]\",15,false,140504480097743),0x00007fc9bfa02611=>LineInfo(\"XtWXXtWr!\",\"In[4]\",15,false,140504480097809),0x00007fc9bfa02831=>LineInfo(\"XtWXXtWr!\",\"In[4]\",27,false,140504480098353),0x00007fc9bfa02847=>LineInfo(\"XtWXXtWr!\",\"In[4]\",27,false,140504480098375),0x00007fc9b90b2080=>LineInfo(\"exp\",\"/usr/bin/../lib/x86_64-linux-gnu/julia/libopenlibm.so\",-1,true,140504369668224),0x00007fc9b90b1ef1=>LineInfo(\"exp\",\"/usr/bin/../lib/x86_64-linux-gnu/julia/libopenlibm.so\",-1,true,140504369667825),0x00007fc9bfa027af=>LineInfo(\"XtWXXtWr!\",\"In[4]\",26,false,140504480098223),0x00007fc9bfa026c6=>LineInfo(\"XtWXXtWr!\",\"In[4]\",22,false,140504480097990),0x00007fc9bfa026ad=>LineInfo(\"XtWXXtWr!\",\"In[4]\",22,false,140504480097965),0x00007fc9b90b6ffc=>LineInfo(\"log\",\"/usr/bin/../lib/x86_64-linux-gnu/julia/libopenlibm.so\",-1,true,140504369688572),0x00007fc9b90b1ed0=>LineInfo(\"exp\",\"/usr/bin/../lib/x86_64-linux-gnu/julia/libopenlibm.so\",-1,true,140504369667792),0x00007fc9bfa02693=>LineInfo(\"XtWXXtWr!\",\"In[4]\",22,false,140504480097939),0x00007fc9bfa026a9=>LineInfo(\"XtWXXtWr!\",\"In[4]\",22,false,140504480097961),0x00007fc9c1c2d6e7=>LineInfo(\"???\",\"???\",140504515925735,true,140504515925735),0x00007fc9bfa02643=>LineInfo(\"XtWXXtWr!\",\"In[4]\",21,false,140504480097859),0x00007fc9bfa025ad=>LineInfo(\"XtWXXtWr!\",\"In[4]\",15,false,140504480097709),0x00007fc9c18f5c90=>LineInfo(\"???\",\"???\",140504512552080,true,140504512552080),0x00007fc9bfa027e3=>LineInfo(\"XtWXXtWr!\",\"In[4]\",27,false,140504480098275),0x00007fc9b90b7042=>LineInfo(\"log\",\"/usr/bin/../lib/x86_64-linux-gnu/julia/libopenlibm.so\",-1,true,140504369688642),0x00007fc9bfa026ce=>LineInfo(\"XtWXXtWr!\",\"In[4]\",22,false,140504480097998),0x00007fc9bfa0284a=>LineInfo(\"XtWXXtWr!\",\"In[4]\",27,false,140504480098378),0x00007fc9bfa025da=>LineInfo(\"XtWXXtWr!\",\"In[4]\",15,false,140504480097754),0x00007fc9bfa028c8=>LineInfo(\"XtWXXtWr!\",\"In[4]\",25,false,140504480098504),0x00007fc9bfa027fa=>LineInfo(\"XtWXXtWr!\",\"In[4]\",27,false,140504480098298),0x00007fc9b90b7090=>LineInfo(\"log\",\"/usr/bin/../lib/x86_64-linux-gnu/julia/libopenlibm.so\",-1,true,140504369688720),0x00007fc9bfa028d8=>LineInfo(\"XtWXXtWr!\",\"In[4]\",29,false,140504480098520),0x00007fc9bfa02790=>LineInfo(\"XtWXXtWr!\",\"In[4]\",29,false,140504480098192),0x00007fc9bf912ce8=>LineInfo(\"anonymous\",\"profile.jl\",14,false,140504479116520),0x00007fc9bfa02806=>LineInfo(\"XtWXXtWr!\",\"In[4]\",27,false,140504480098310),0x00007fc9bfa028aa=>LineInfo(\"XtWXXtWr!\",\"In[4]\",29,false,140504480098474),0x00007fc9c1c2e0f0=>LineInfo(\"???\",\"???\",140504515928304,true,140504515928304),0x00007fc9bfa0271f=>LineInfo(\"XtWXXtWr!\",\"In[4]\",22,false,140504480098079),0x00007fc9bfa0270e=>LineInfo(\"XtWXXtWr!\",\"In[4]\",22,false,140504480098062),0x00007fc9bfa028ee=>LineInfo(\"XtWXXtWr!\",\"In[4]\",22,false,140504480098542),0x00007fc9bfa027ba=>LineInfo(\"XtWXXtWr!\",\"In[4]\",26,false,140504480098234),0x00007fc9bfa027dd=>LineInfo(\"XtWXXtWr!\",\"In[4]\",27,false,140504480098269),0x00007fc9bfa02854=>LineInfo(\"XtWXXtWr!\",\"In[4]\",29,false,140504480098388),0x00007fc9b90b703c=>LineInfo(\"log\",\"/usr/bin/../lib/x86_64-linux-gnu/julia/libopenlibm.so\",-1,true,140504369688636),0x00007fc9bf912828=>LineInfo(\"anonymous\",\"profile.jl\",14,false,140504479115304),0x00007fc9bfa025b7=>LineInfo(\"XtWXXtWr!\",\"In[4]\",15,false,140504480097719),0x00007fc9bfa026c1=>LineInfo(\"XtWXXtWr!\",\"In[4]\",22,false,140504480097985),0x00007fc9bfa02814=>LineInfo(\"XtWXXtWr!\",\"In[4]\",27,false,140504480098324),0x00007fc9bfa02903=>LineInfo(\"XtWXXtWr!\",\"In[4]\",22,false,140504480098563),0x00007fc9b90b6fae=>LineInfo(\"log\",\"/usr/bin/../lib/x86_64-linux-gnu/julia/libopenlibm.so\",-1,true,140504369688494),0x00007fc9bfa025bd=>LineInfo(\"XtWXXtWr!\",\"In[4]\",15,false,140504480097725),0x00007fc9bfa0286f=>LineInfo(\"XtWXXtWr!\",\"In[4]\",29,false,140504480098415),0x00007fc9bfa027f0=>LineInfo(\"XtWXXtWr!\",\"In[4]\",27,false,140504480098288),0x00007fc9bfa02631=>LineInfo(\"XtWXXtWr!\",\"In[4]\",19,false,140504480097841),0x00007fc9bfa02744=>LineInfo(\"XtWXXtWr!\",\"In[4]\",22,false,140504480098116),0x00007fc9b90b7084=>LineInfo(\"log\",\"/usr/bin/../lib/x86_64-linux-gnu/julia/libopenlibm.so\",-1,true,140504369688708),0x00007fc9bfa027ed=>LineInfo(\"XtWXXtWr!\",\"In[4]\",27,false,140504480098285),0x00007fc9bfa025f9=>LineInfo(\"XtWXXtWr!\",\"In[4]\",15,false,140504480097785),0x00007fc9bfa028b1=>LineInfo(\"XtWXXtWr!\",\"In[4]\",29,false,140504480098481),0x00007fc9c1c321af=>LineInfo(\"???\",\"???\",140504515944879,true,140504515944879),0x00007fc9b90b7052=>LineInfo(\"log\",\"/usr/bin/../lib/x86_64-linux-gnu/julia/libopenlibm.so\",-1,true,140504369688658)],2271x4 Array{TagData,2}:\n",
        " TagData(0x00007fc9bf9e9a07,0)  \u2026  TagData(0x00007fc9bfa025bd,0)\n",
        " TagData(0x00007fc9bf9e9a07,0)     TagData(0x00007fc9bfa025bd,0)\n",
        " TagData(0x00007fc9bf9e9a07,0)     TagData(0x00007fc9bfa02611,0)\n",
        " TagData(0x00007fc9bf9e9a07,0)     TagData(0x00007fc9bfa025b7,0)\n",
        " TagData(0x00007fc9bf9e9a07,0)     TagData(0x00007fc9bfa025b3,0)\n",
        " TagData(0x00007fc9bf9e9a07,0)  \u2026  TagData(0x00007fc9bfa025b3,0)\n",
        " TagData(0x00007fc9bf9e9a07,0)     TagData(0x00007fc9bfa025da,0)\n",
        " TagData(0x00007fc9bf9e9a07,0)     TagData(0x00007fc9bfa025da,0)\n",
        " TagData(0x00007fc9bf9e9a07,0)     TagData(0x00007fc9bfa025da,0)\n",
        " TagData(0x00007fc9bf9e9a07,0)     TagData(0x00007fc9bfa025da,0)\n",
        " TagData(0x00007fc9bf9e9a07,0)  \u2026  TagData(0x00007fc9bfa025da,0)\n",
        " TagData(0x00007fc9bf9e9a07,0)     TagData(0x00007fc9bfa025da,0)\n",
        " TagData(0x00007fc9bf9e9a07,0)     TagData(0x00007fc9bfa025da,0)\n",
        " \u22ee                              \u22f1                               \n",
        " TagData(0x00007fc9bf9e9a07,0)     TagData(0x00007fc9bfa02887,0)\n",
        " TagData(0x00007fc9bf9e9a07,0)  \u2026  TagData(0x00007fc9bfa02887,0)\n",
        " TagData(0x00007fc9bf9e9a07,0)     TagData(0x00007fc9bfa02887,0)\n",
        " TagData(0x00007fc9bf9e9a07,0)     TagData(0x00007fc9bfa02887,0)\n",
        " TagData(0x00007fc9bf9e9a07,0)     TagData(0x00007fc9bfa02887,0)\n",
        " TagData(0x00007fc9bf9e9a07,0)     TagData(0x00007fc9bfa02887,0)\n",
        " TagData(0x00007fc9bf9e9a07,0)  \u2026  TagData(0x00007fc9bfa02887,0)\n",
        " TagData(0x00007fc9bf9e9a07,0)     TagData(0x00007fc9bfa02887,0)\n",
        " TagData(0x00007fc9bf9e9a07,0)     TagData(0x00007fc9bfa02887,0)\n",
        " TagData(0x00007fc9bf9e9a07,0)     TagData(0x00007fc9bfa02887,0)\n",
        " TagData(0x00007fc9bf9e9a07,0)     TagData(0x00007fc9bfa02887,0)\n",
        " TagData(0x00007fc9bf9e9a07,0)  \u2026  TagData(0x00007fc9bfa02887,0),12)"
       ]
      }
     ],
     "prompt_number": 28
    }
   ],
   "metadata": {}
  }
 ]
}