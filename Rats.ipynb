{
 "cells": [
  {
   "cell_type": "markdown",
   "metadata": {},
   "source": [
    "# Rat weight gain data in lmer, lmm, Stan and Mamba\n",
    "\n",
    "The `rats` data are described in the `RatWeightData` notebook where they are converted from a matrix to a saved R data frame.  We could do the initial data manipulation in [R](http://R-project.org) through the [RCall](https://github.com/JuliaStats/RCall.jl) package for [Julia](https://julialang.org) but we chose to use packages from the \"Hadleyverse\" that cannot easily be installed on (https://juliabox.org)"
   ]
  },
  {
   "cell_type": "code",
   "execution_count": 1,
   "metadata": {
    "collapsed": false
   },
   "outputs": [
    {
     "name": "stdout",
     "output_type": "stream",
     "text": [
      "Environment variable JULIA_SVG_BROWSER not found.\n"
     ]
    }
   ],
   "source": [
    "using DataFrames, MixedModels, Mamba, RCall, Stan"
   ]
  },
  {
   "cell_type": "code",
   "execution_count": 2,
   "metadata": {
    "collapsed": false
   },
   "outputs": [
    {
     "name": "stdout",
     "output_type": "stream",
     "text": [
      "Julia Version 0.4.3\n",
      "Commit a2f713d (2016-01-12 21:37 UTC)\n",
      "Platform Info:\n",
      "  System: Linux (x86_64-unknown-linux-gnu)\n",
      "  CPU: Intel(R) Xeon(R) CPU E5-2670 v2 @ 2.50GHz\n",
      "  WORD_SIZE: 64\n",
      "           Ubuntu 14.04.3 LTS\n",
      "  uname: Linux 3.13.0-57-generic #95-Ubuntu SMP Fri Jun 19 09:28:15 UTC 2015 x86_64 x86_64\n",
      "Memory: 120.07188034057617 GB (108985.25 MB free)\n",
      "Uptime: 35740.0 sec\n",
      "Load Avg:  0.203125  0.19384765625  0.2001953125\n",
      "Intel(R) Xeon(R) CPU E5-2670 v2 @ 2.50GHz: \n",
      "          speed         user         nice          sys         idle          irq\n",
      "#1-16  2500 MHz     508466 s       1205 s     147357 s   56364318 s          7 s\n",
      "\n",
      "  BLAS: libopenblas (USE64BITINT DYNAMIC_ARCH NO_AFFINITY Sandybridge)\n",
      "  LAPACK: libopenblas64_\n",
      "  LIBM: libopenlibm\n",
      "  LLVM: libLLVM-3.3\n",
      "Environment:\n",
      "  CMDSTAN_HOME = /usr/share/cmdstan\n",
      "  HOME = /home/juser\n",
      "  PATH = /usr/local/texlive/2014/bin/x86_64-linux:/usr/local/bin:/usr/bin:/bin:/sbin:/usr/sbin:/opt/julia/bin\n",
      "  R_HOME = /usr/lib/R\n",
      "\n",
      "Package Directory: /home/juser/.julia/v0.4\n",
      "11 required packages:\n",
      " - DataFrames                    0.6.10\n",
      " - Distributions                 0.8.10\n",
      " - GLM                           0.5.0\n",
      " - Gadfly                        0.4.2\n",
      " - MLBase                        0.5.2\n",
      " - Mamba                         0.9.0\n",
      " - MixedModels                   0.4.5+             master\n",
      " - Polynomials                   0.0.5\n",
      " - ProfileView                   0.1.1\n",
      " - RCall                         0.3.2+             master\n",
      " - Stan                          0.3.2\n",
      "43 additional packages:\n",
      " - ArrayViews                    0.6.4\n",
      " - BinDeps                       0.3.21\n",
      " - Cairo                         0.2.31\n",
      " - Calculus                      0.1.14\n",
      " - Codecs                        0.1.5\n",
      " - ColorTypes                    0.2.1\n",
      " - Colors                        0.6.3\n",
      " - Compat                        0.7.12\n",
      " - Compose                       0.4.2\n",
      " - Contour                       0.1.0\n",
      " - DataArrays                    0.2.20\n",
      " - DataStructures                0.4.3\n",
      " - Dates                         0.4.4\n",
      " - Distances                     0.3.0\n",
      " - Docile                        0.5.23\n",
      " - DualNumbers                   0.2.2\n",
      " - FixedPointNumbers             0.1.2\n",
      " - FixedSizeArrays               0.0.10\n",
      " - GZip                          0.2.18\n",
      " - Graphics                      0.1.3\n",
      " - Graphs                        0.6.0\n",
      " - Grid                          0.4.0\n",
      " - Gtk                           0.9.3\n",
      " - GtkUtilities                  0.0.8\n",
      " - Hexagons                      0.0.4\n",
      " - Iterators                     0.1.9\n",
      " - JSON                          0.5.0\n",
      " - KernelDensity                 0.1.2\n",
      " - Loess                         0.0.6\n",
      " - MathProgBase                  0.4.2\n",
      " - Measures                      0.0.2\n",
      " - NLopt                         0.3.1\n",
      " - NaNMath                       0.2.1\n",
      " - Optim                         0.4.4\n",
      " - PDMats                        0.4.0\n",
      " - Reexport                      0.0.3\n",
      " - SHA                           0.1.2\n",
      " - Showoff                       0.0.6\n",
      " - SortingAlgorithms             0.0.6\n",
      " - StatsBase                     0.8.0\n",
      " - StatsFuns                     0.2.0\n",
      " - URIParser                     0.1.3\n",
      " - WoodburyMatrices              0.1.5\n"
     ]
    }
   ],
   "source": [
    "versioninfo(true)"
   ]
  },
  {
   "cell_type": "markdown",
   "metadata": {},
   "source": [
    "We retrieve the data as an `R` object, and copy it under the same name into Julia."
   ]
  },
  {
   "cell_type": "code",
   "execution_count": 4,
   "metadata": {
    "collapsed": false
   },
   "outputs": [
    {
     "data": {
      "text/html": [
       "<table class=\"data-frame\"><tr><th></th><th>id</th><th>day</th><th>y</th></tr><tr><th>1</th><td>1</td><td>8</td><td>151</td></tr><tr><th>2</th><td>2</td><td>8</td><td>145</td></tr><tr><th>3</th><td>3</td><td>8</td><td>147</td></tr><tr><th>4</th><td>4</td><td>8</td><td>155</td></tr><tr><th>5</th><td>5</td><td>8</td><td>135</td></tr><tr><th>6</th><td>6</td><td>8</td><td>159</td></tr><tr><th>7</th><td>7</td><td>8</td><td>141</td></tr><tr><th>8</th><td>8</td><td>8</td><td>159</td></tr><tr><th>9</th><td>9</td><td>8</td><td>177</td></tr><tr><th>10</th><td>10</td><td>8</td><td>134</td></tr><tr><th>11</th><td>11</td><td>8</td><td>160</td></tr><tr><th>12</th><td>12</td><td>8</td><td>143</td></tr><tr><th>13</th><td>13</td><td>8</td><td>154</td></tr><tr><th>14</th><td>14</td><td>8</td><td>171</td></tr><tr><th>15</th><td>15</td><td>8</td><td>163</td></tr><tr><th>16</th><td>16</td><td>8</td><td>160</td></tr><tr><th>17</th><td>17</td><td>8</td><td>142</td></tr><tr><th>18</th><td>18</td><td>8</td><td>156</td></tr><tr><th>19</th><td>19</td><td>8</td><td>157</td></tr><tr><th>20</th><td>20</td><td>8</td><td>152</td></tr><tr><th>21</th><td>21</td><td>8</td><td>154</td></tr><tr><th>22</th><td>22</td><td>8</td><td>139</td></tr><tr><th>23</th><td>23</td><td>8</td><td>146</td></tr><tr><th>24</th><td>24</td><td>8</td><td>157</td></tr><tr><th>25</th><td>25</td><td>8</td><td>132</td></tr><tr><th>26</th><td>26</td><td>8</td><td>160</td></tr><tr><th>27</th><td>27</td><td>8</td><td>169</td></tr><tr><th>28</th><td>28</td><td>8</td><td>157</td></tr><tr><th>29</th><td>29</td><td>8</td><td>137</td></tr><tr><th>30</th><td>30</td><td>8</td><td>153</td></tr><tr><th>&vellip;</th><td>&vellip;</td><td>&vellip;</td><td>&vellip;</td></tr></table>"
      ],
      "text/plain": [
       "150x3 DataFrames.DataFrame\n",
       "| Row | id | day | y   |\n",
       "|-----|----|-----|-----|\n",
       "| 1   | 1  | 8   | 151 |\n",
       "| 2   | 2  | 8   | 145 |\n",
       "| 3   | 3  | 8   | 147 |\n",
       "| 4   | 4  | 8   | 155 |\n",
       "| 5   | 5  | 8   | 135 |\n",
       "| 6   | 6  | 8   | 159 |\n",
       "| 7   | 7  | 8   | 141 |\n",
       "| 8   | 8  | 8   | 159 |\n",
       "| 9   | 9  | 8   | 177 |\n",
       "| 10  | 10 | 8   | 134 |\n",
       "| 11  | 11 | 8   | 160 |\n",
       "⋮\n",
       "| 139 | 19 | 36  | 336 |\n",
       "| 140 | 20 | 36  | 321 |\n",
       "| 141 | 21 | 36  | 334 |\n",
       "| 142 | 22 | 36  | 302 |\n",
       "| 143 | 23 | 36  | 302 |\n",
       "| 144 | 24 | 36  | 323 |\n",
       "| 145 | 25 | 36  | 331 |\n",
       "| 146 | 26 | 36  | 345 |\n",
       "| 147 | 27 | 36  | 333 |\n",
       "| 148 | 28 | 36  | 316 |\n",
       "| 149 | 29 | 36  | 291 |\n",
       "| 150 | 30 | 36  | 324 |"
      ]
     },
     "execution_count": 4,
     "metadata": {},
     "output_type": "execute_result"
    }
   ],
   "source": [
    "R\"\"\"\n",
    "rats <- readRDS(\"./rats.rds\")\n",
    "\"\"\";\n",
    "@rget rats"
   ]
  },
  {
   "cell_type": "markdown",
   "metadata": {},
   "source": [
    "## Plot the data\n",
    "\n",
    "At this point we do something radical and plot the data.  I have never seen a data plot in any of the MCMC exampes that use these data.  The panels are ordered (bottom to top, left to right) according to increasing average weight of the rat.  The aspect ratio is chosen so that a typical slope of the within-rat least squares line is approximately 45 degrees on the plotting surface."
   ]
  },
  {
   "cell_type": "code",
   "execution_count": 5,
   "metadata": {
    "collapsed": false
   },
   "outputs": [
    {
     "data": {
      "image/png": "[encoded data removed]"
     },
     "metadata": {},
     "output_type": "display_data"
    }
   ],
   "source": [
    "R\"\"\"\n",
    "library(lattice)\n",
    "print(xyplot(y ~ day | reorder(id, y), rats, type = c('p','g','r'),\n",
    "  aspect = 'xy', ylab = \"Weight (g.)\"))\n",
    "\"\"\";"
   ]
  },
  {
   "cell_type": "markdown",
   "metadata": {},
   "source": [
    "There is an overall linear trend in the weight with respect to time but there is also noticeable downward curvature for many of the rats.  Nevertheless we will start with a model with linear model with vector-valued random effects for slope and intercept by rat.\n",
    "\n",
    "## Fitting the vector-valued random effects in lme4\n",
    "\n",
    "The simplest way to write the model is `weight ~ 1 + day + (1 + day|id)` which allows for correlated random effects for slope and intercept for each rat."
   ]
  },
  {
   "cell_type": "code",
   "execution_count": 6,
   "metadata": {
    "collapsed": false
   },
   "outputs": [
    {
     "data": {
      "text/plain": [
       "RCall.RObject{RCall.VecSxp}\n",
       "Linear mixed model fit by maximum likelihood  ['lmerMod']\n",
       "Formula: y ~ 1 + day + (1 + day | id)\n",
       "   Data: rats\n",
       "\n",
       "     AIC      BIC   logLik deviance df.resid \n",
       "  1108.1   1126.1   -548.0   1096.1      144 \n",
       "\n",
       "Scaled residuals: \n",
       "    Min      1Q  Median      3Q     Max \n",
       "-2.6317 -0.5422  0.1154  0.4948  2.6188 \n",
       "\n",
       "Random effects:\n",
       " Groups   Name        Variance Std.Dev. Corr \n",
       " id       (Intercept) 110.1392 10.4947       \n",
       "          day           0.2495  0.4995  -0.15\n",
       " Residual              36.1756  6.0146       \n",
       "Number of obs: 150, groups:  id, 30\n",
       "\n",
       "Fixed effects:\n",
       "            Estimate Std. Error t value\n",
       "(Intercept) 106.5676     2.2591   47.17\n",
       "day           6.1857     0.1038   59.58\n",
       "\n",
       "Correlation of Fixed Effects:\n",
       "    (Intr)\n",
       "day -0.343\n"
      ]
     },
     "execution_count": 6,
     "metadata": {},
     "output_type": "execute_result"
    }
   ],
   "source": [
    "R\"\"\"\n",
    "suppressPackageStartupMessages(library(lme4))\n",
    "m1 <- lmer(y ~ 1 + day + (1 + day | id), rats, REML = FALSE)\n",
    "summary(m1)\n",
    "\"\"\""
   ]
  },
  {
   "cell_type": "markdown",
   "metadata": {},
   "source": [
    "Because `day` is days past birth, the estimate of a typical birth weight is 106.6 g. and the typical weight gain per day after birth is 6.2 g./day.  As is common in linear regression models where `x = 0` is to the left of the observed data, there is a negative correlation, -0.343, between these estimates.  The standard deviation of the random effects for the intercept (i.e. the birth weight) is 10.5 g. and the standard deviation of the random effects for the slope is 0.50 g./day.  There is a slight negative within-rat correlation, -0.15, of these random effects.  We can check the conditional means of these random effects"
   ]
  },
  {
   "cell_type": "code",
   "execution_count": 7,
   "metadata": {
    "collapsed": false
   },
   "outputs": [
    {
     "data": {
      "text/plain": [
       "RCall.RObject{RCall.VecSxp}\n",
       "$id\n",
       "    (Intercept)         day\n",
       "1   -0.05553214 -0.12578651\n",
       "2  -11.28871381  0.78307023\n",
       "3    2.56173870  0.33371487\n",
       "4    6.95772594 -0.80488489\n",
       "5  -15.66765773  0.23713605\n",
       "6    5.86444226  0.04898243\n",
       "7   -7.44611157 -0.29292676\n",
       "8    0.49139122  0.24410473\n",
       "9   17.10933172  1.07538535\n",
       "10 -12.66716696 -0.48326773\n",
       "11   1.53330811  0.65324070\n",
       "12 -10.44571308 -0.17582192\n",
       "13   0.19475081 -0.02076168\n",
       "14  11.51006572  0.64210468\n",
       "15  13.77174164 -0.65506265\n",
       "16   6.80249948 -0.20317462\n",
       "17  -9.93634401 -0.01121433\n",
       "18   4.30992548 -0.30851412\n",
       "19   5.00795524  0.27921279\n",
       "20   1.52862500 -0.12086316\n",
       "21   0.84085073  0.23631872\n",
       "22  -8.07783593 -0.42464430\n",
       "23  -3.50288046 -0.49138374\n",
       "24   7.23352917 -0.23288734\n",
       "25 -19.40139098  0.55158120\n",
       "26   2.62570253  0.40267231\n",
       "27  14.44659266 -0.14725654\n",
       "28   6.31630913 -0.28786142\n",
       "29 -10.62557058 -0.64438331\n",
       "30   0.00843169 -0.05682907\n",
       "\n"
      ]
     },
     "execution_count": 7,
     "metadata": {},
     "output_type": "execute_result"
    }
   ],
   "source": [
    "rcall(:ranef, :m1)"
   ]
  },
  {
   "cell_type": "markdown",
   "metadata": {},
   "source": [
    "or, a better choice, plot these conditional modes."
   ]
  },
  {
   "cell_type": "code",
   "execution_count": 8,
   "metadata": {
    "collapsed": false
   },
   "outputs": [
    {
     "data": {
      "image/png": "[encoded data removed]"
     },
     "metadata": {},
     "output_type": "display_data"
    }
   ],
   "source": [
    "R\"\"\"\n",
    "re1 <- ranef(m1, condVar = TRUE)\n",
    "print(dotplot(re1, scales = list(x = list(relation = 'free'))))[[1]]\n",
    "\"\"\";"
   ]
  },
  {
   "cell_type": "markdown",
   "metadata": {},
   "source": [
    "We can check for non-negligible correlation of the random effects by fitting a model with uncorrelated random effects and comparing the fits."
   ]
  },
  {
   "cell_type": "code",
   "execution_count": 9,
   "metadata": {
    "collapsed": false
   },
   "outputs": [
    {
     "data": {
      "text/plain": [
       "RCall.RObject{RCall.VecSxp}\n",
       "$id\n",
       "\n",
       "Data: rats\n",
       "Models:\n",
       "m2: y ~ 1 + day + (1 | id) + (0 + day | id)\n",
       "m1: y ~ 1 + day + (1 + day | id)\n",
       "   Df    AIC    BIC  logLik deviance  Chisq Chi Df Pr(>Chisq)\n",
       "m2  5 1106.4 1121.5 -548.21   1096.4                         \n",
       "m1  6 1108.1 1126.1 -548.03   1096.1 0.3645      1      0.546\n"
      ]
     },
     "execution_count": 9,
     "metadata": {},
     "output_type": "execute_result"
    }
   ],
   "source": [
    "R\"\"\"\n",
    "m2 <- lmer(y ~ 1 + day + (1|id) + (0 + day|id), rats, REML = FALSE)\n",
    "options(show.signif.stars = FALSE)\n",
    "anova(m2, m1)\n",
    "\"\"\""
   ]
  },
  {
   "cell_type": "code",
   "execution_count": 10,
   "metadata": {
    "collapsed": false
   },
   "outputs": [
    {
     "data": {
      "text/plain": [
       "RCall.RObject{RCall.VecSxp}\n",
       "Linear mixed model fit by maximum likelihood  ['lmerMod']\n",
       "Formula: y ~ 1 + day + (1 | id) + (0 + day | id)\n",
       "   Data: rats\n",
       "\n",
       "     AIC      BIC   logLik deviance df.resid \n",
       "  1106.4   1121.5   -548.2   1096.4      145 \n",
       "\n",
       "Scaled residuals: \n",
       "    Min      1Q  Median      3Q     Max \n",
       "-2.5962 -0.5331  0.1162  0.5036  2.5868 \n",
       "\n",
       "Random effects:\n",
       " Groups   Name        Variance Std.Dev.\n",
       " id       (Intercept) 101.6460 10.0820 \n",
       " id.1     day           0.2319  0.4815 \n",
       " Residual              36.8273  6.0686 \n",
       "Number of obs: 150, groups:  id, 30\n",
       "\n",
       "Fixed effects:\n",
       "            Estimate Std. Error t value\n",
       "(Intercept) 106.5676     2.2014   48.41\n",
       "day           6.1857     0.1012   61.14\n",
       "\n",
       "Correlation of Fixed Effects:\n",
       "    (Intr)\n",
       "day -0.247\n"
      ]
     },
     "execution_count": 10,
     "metadata": {},
     "output_type": "execute_result"
    }
   ],
   "source": [
    "rcall(:summary, :m2)"
   ]
  },
  {
   "cell_type": "markdown",
   "metadata": {},
   "source": [
    "## Fitting the same models with lmm in Julia"
   ]
  },
  {
   "cell_type": "code",
   "execution_count": 11,
   "metadata": {
    "collapsed": false
   },
   "outputs": [
    {
     "data": {
      "text/plain": [
       "Linear mixed model fit by maximum likelihood\n",
       " logLik: -548.028661, deviance: 1096.057323, AIC: 1108.057323, BIC: 1126.121134\n",
       "\n",
       "Variance components:\n",
       "            Variance     Std.Dev.    Corr.\n",
       " id       110.13955819 10.49473955\n",
       "            0.24951838  0.49951815 -0.15\n",
       " Residual  36.17558280  6.01461410\n",
       " Number of obs: 150; levels of grouping factors: 30\n",
       "\n",
       "  Fixed-effects parameters:\n",
       "             Estimate Std.Error z value\n",
       "(Intercept)   106.568   2.25911 47.1724\n",
       "day           6.18571  0.103818 59.5822\n"
      ]
     },
     "execution_count": 11,
     "metadata": {},
     "output_type": "execute_result"
    }
   ],
   "source": [
    "m1 = fit!(lmm(y ~ 1 + day + (1 + day | id), rats))"
   ]
  },
  {
   "cell_type": "markdown",
   "metadata": {},
   "source": [
    "The two mixed-models packages agree on the fit.  The amount of time required for the `lmm` fit is"
   ]
  },
  {
   "cell_type": "code",
   "execution_count": 12,
   "metadata": {
    "collapsed": false
   },
   "outputs": [
    {
     "name": "stdout",
     "output_type": "stream",
     "text": [
      "  0.006234 seconds (86.60 k allocations: 3.417 MB)\n"
     ]
    }
   ],
   "source": [
    "@time fit!(lmm(y ~ 1 + day + (1 + day | id), rats));"
   ]
  },
  {
   "cell_type": "code",
   "execution_count": 13,
   "metadata": {
    "collapsed": false
   },
   "outputs": [
    {
     "data": {
      "text/plain": [
       "Linear mixed model fit by maximum likelihood\n",
       " logLik: -548.210888, deviance: 1096.421776, AIC: 1106.421776, BIC: 1121.474952\n",
       "\n",
       "Variance components:\n",
       "            Variance     Std.Dev.  \n",
       " id       101.64629290 10.08197862\n",
       " id         0.23188824  0.48154776\n",
       " Residual  36.82725545  6.06854640\n",
       " Number of obs: 150; levels of grouping factors: 30, 30\n",
       "\n",
       "  Fixed-effects parameters:\n",
       "             Estimate Std.Error z value\n",
       "(Intercept)   106.568   2.20142 48.4085\n",
       "day           6.18571  0.101168 61.1433\n"
      ]
     },
     "execution_count": 13,
     "metadata": {},
     "output_type": "execute_result"
    }
   ],
   "source": [
    "m2 = fit!(lmm(y ~ 1 + day + (1 | id) + (0 + day | id), rats))"
   ]
  },
  {
   "cell_type": "code",
   "execution_count": 14,
   "metadata": {
    "collapsed": false
   },
   "outputs": [
    {
     "data": {
      "text/html": [
       "<table class=\"data-frame\"><tr><th></th><th>Df</th><th>Deviance</th><th>Chisq</th><th>pval</th></tr><tr><th>1</th><td>5</td><td>1096.4217755749055</td><td>NaN</td><td>NaN</td></tr><tr><th>2</th><td>6</td><td>1096.057322702283</td><td>0.36445287262245074</td><td>0.5460435643032959</td></tr></table>"
      ],
      "text/plain": [
       "2x4 DataFrames.DataFrame\n",
       "| Row | Df | Deviance | Chisq    | pval     |\n",
       "|-----|----|----------|----------|----------|\n",
       "| 1   | 5  | 1096.42  | NaN      | NaN      |\n",
       "| 2   | 6  | 1096.06  | 0.364453 | 0.546044 |"
      ]
     },
     "execution_count": 14,
     "metadata": {},
     "output_type": "execute_result"
    }
   ],
   "source": [
    "MixedModels.lrt(m2, m1)  # print format is still a bit primitive"
   ]
  },
  {
   "cell_type": "markdown",
   "metadata": {},
   "source": [
    "## A Stan analysis of the independent r.e. model\n",
    "\n",
    "The independent random effects model, `m2`, has been a standard example for MCMC methods since the original [BUGS](http://www.openbugs.org) system.  The Stan examples respository, https://github.com/stan-dev/example-models, contains links to this example in OpenBUGS and in Stan, under `bugs-examples/vol1/rats/`.\n",
    "\n",
    "The [Stan package](https://github.com/goedman/Stan.jl) for Julia is similar to [rstan](https:://mc-stan.org/interfaces/rstan/) in that the interactive language is used to marshall the data which is then passed to a stan program. The initial version of the model uses the data in the form of a matrix of response values, `y`, and a separate vector of times called `x`.  Because Stan is a statically-typed language (it is transformed to C++ code), the sizes of all arrays must be given explicitly.  The data should be available as a `Dict{ASCIIString,Any}` type."
   ]
  },
  {
   "cell_type": "code",
   "execution_count": 14,
   "metadata": {
    "collapsed": false
   },
   "outputs": [
    {
     "data": {
      "text/plain": [
       "Dict{ASCIIString,Any} with 5 entries:\n",
       "  \"T\"    => 5\n",
       "  \"N\"    => 30\n",
       "  \"x\"    => [8.0,15.0,22.0,29.0,36.0]\n",
       "  \"xbar\" => 22.0\n",
       "  \"y\"    => 30x5 Array{Float64,2}:…"
      ]
     },
     "execution_count": 14,
     "metadata": {},
     "output_type": "execute_result"
    }
   ],
   "source": [
    "const ratsdict = Dict(\n",
    "\"N\" => 30, \n",
    "\"T\" => 5, \n",
    "\"x\" => [8.,15,22,29,36],\n",
    "\"xbar\" => 22.,\n",
    "\"y\" => reshape(convert(Vector{Float64}, rats[:y]), (30, 5)))"
   ]
  },
  {
   "cell_type": "code",
   "execution_count": 15,
   "metadata": {
    "collapsed": false
   },
   "outputs": [
    {
     "name": "stdout",
     "output_type": "stream",
     "text": [
      "\n",
      "File /home/juser/JuliaWork/tmp/rats.stan will be updated.\n",
      "\n",
      "  name =                    \"rats\"\n",
      "  nchains =                 4\n",
      "  update =                   1000\n",
      "  adapt =                    1000\n",
      "  thin =                     1\n",
      "  monitors =                ASCIIString[\"mu_alpha\",\"mu_beta\",\"sigma_y\",\"sigma_alpha\",\"sigma_beta\"]\n",
      "  model_file =              \"rats.stan\"\n",
      "  data_file =                \"\"\n",
      "  output =                  Output()\n",
      "    file =                    \"\"\n",
      "    diagnostics_file =        \"\"\n",
      "    refresh =                 100\n",
      "  method =                  Sample()\n",
      "    num_samples =             1000\n",
      "    num_warmup =              1000\n",
      "    save_warmup =             false\n",
      "    thin =                    1\n",
      "    algorithm =               HMC()\n",
      "      engine =                  NUTS()\n",
      "        max_depth =               10\n",
      "      metric =                  Stan.diag_e\n",
      "      stepsize =                1.0"
     ]
    },
    {
     "data": {
      "text/plain": []
     },
     "execution_count": 15,
     "metadata": {},
     "output_type": "execute_result"
    },
    {
     "name": "stdout",
     "output_type": "stream",
     "text": [
      "\n",
      "      stepsize_jitter =         1.0\n",
      "    adapt =                   Adapt()\n",
      "      gamma =                   0.05\n",
      "      delta =                   0.8\n",
      "      kappa =                   0.75\n",
      "      t0 =                      10.0\n",
      "      init_buffer =             75\n",
      "      term_buffer =             50\n",
      "      window =                  25\n"
     ]
    }
   ],
   "source": [
    "ratstan = Stanmodel(name = \"rats\", model = \"\"\"\n",
    "# http://www.mrc-bsu.cam.ac.uk/bugs/winbugs/Vol1.pdf\n",
    "# Page 3: Rats\n",
    "data {\n",
    "  int<lower=0> N;\n",
    "  int<lower=0> T;\n",
    "  real x[T];\n",
    "  real y[N,T];\n",
    "  real xbar;\n",
    "}\n",
    "parameters {\n",
    "  real alpha[N];\n",
    "  real beta[N];\n",
    "\n",
    "  real mu_alpha;\n",
    "  real mu_beta;          // beta.c in original bugs model\n",
    "\n",
    "  real<lower=0> sigmasq_y;\n",
    "  real<lower=0> sigmasq_alpha;\n",
    "  real<lower=0> sigmasq_beta;\n",
    "}\n",
    "transformed parameters {\n",
    "  real<lower=0> sigma_y;       // sigma in original bugs model\n",
    "  real<lower=0> sigma_alpha;\n",
    "  real<lower=0> sigma_beta;\n",
    "\n",
    "  sigma_y <- sqrt(sigmasq_y);\n",
    "  sigma_alpha <- sqrt(sigmasq_alpha);\n",
    "  sigma_beta <- sqrt(sigmasq_beta);\n",
    "}\n",
    "model {\n",
    "  mu_alpha ~ normal(0, 100);\n",
    "  mu_beta ~ normal(0, 100);\n",
    "  sigmasq_y ~ inv_gamma(0.001, 0.001);\n",
    "  sigmasq_alpha ~ inv_gamma(0.001, 0.001);\n",
    "  sigmasq_beta ~ inv_gamma(0.001, 0.001);\n",
    "  alpha ~ normal(mu_alpha, sigma_alpha); // vectorized\n",
    "  beta ~ normal(mu_beta, sigma_beta);  // vectorizedsim1 = stan(ratstan);\n",
    "  for (n in 1:N)\n",
    "    for (t in 1:T) \n",
    "      y[n,t] ~ normal(alpha[n] + beta[n] * (x[t] - xbar), sigma_y);\n",
    "\n",
    "}\n",
    "generated quantities {\n",
    "  real alpha0;\n",
    "  alpha0 <- mu_alpha - xbar * mu_beta;\n",
    "}\n",
    "\"\"\", \n",
    "data = [ratsdict], \n",
    "monitors = [\"mu_alpha\", \"mu_beta\", \"sigma_y\", \"sigma_alpha\", \"sigma_beta\"])"
   ]
  },
  {
   "cell_type": "code",
   "execution_count": 16,
   "metadata": {
    "collapsed": false
   },
   "outputs": [
    {
     "data": {
      "text/plain": [
       "Dict{ASCIIString,Any} with 5 entries:\n",
       "  \"T\"    => 5\n",
       "  \"N\"    => 30\n",
       "  \"x\"    => [8.0,15.0,22.0,29.0,36.0]\n",
       "  \"xbar\" => 22.0\n",
       "  \"y\"    => 30x5 Array{Float64,2}:…"
      ]
     },
     "metadata": {},
     "output_type": "display_data"
    }
   ],
   "source": [
    "display(ratsdict)"
   ]
  },
  {
   "cell_type": "code",
   "execution_count": 17,
   "metadata": {
    "collapsed": false
   },
   "outputs": [
    {
     "name": "stdout",
     "output_type": "stream",
     "text": [
      "\n",
      "\n",
      "--- Translating Stan model to C++ code ---\n",
      "bin/stanc /home/juser/JuliaWork/tmp/rats.stan --o=/home/juser/JuliaWork/tmp/rats.cpp --no_main\n",
      "Model name=rats_model\n",
      "Input file=/home/juser/JuliaWork/tmp/rats.stan\n",
      "Output file=/home/juser/JuliaWork/tmp/rats.cpp\n",
      "\n",
      "--- Linking C++ model ---\n",
      "g++ -DBOOST_RESULT_OF_USE_TR1 -DBOOST_NO_DECLTYPE -DBOOST_DISABLE_ASSERTS -I src -I stan/src -isystem stan/lib/eigen_3.2.0 -isystem stan/lib/boost_1.54.0 -Wall -pipe -DEIGEN_NO_DEBUG -Wno-unused-local-typedefs  -lpthread  -O3 -o /home/juser/JuliaWork/tmp/rats src/cmdstan/main.cpp -include /home/juser/JuliaWork/tmp/rats.cpp -Lbin -lstan\n",
      "\n",
      "could not spawn `/usr/share/cmdstan/bin/stansummary rats_samples_1.csv rats_samples_2.csv rats_samples_3.csv rats_samples_4.csv`: no such file or directory (ENOENT)\n"
     ]
    },
    {
     "data": {
      "text/plain": [
       "Object of type \"Mamba.Chains\"\n",
       "\n",
       "Iterations = 1:1000\n",
       "Thinning interval = 1\n",
       "Chains = 1,2,3,4\n",
       "Samples per chain = 1000\n",
       "\n",
       "1000x5x4 Array{Float64,3}:\n",
       "[:, :, 1] =\n",
       " 238.442  6.1173   6.26387  13.3017  0.553701\n",
       " 246.22   6.09473  6.0112   17.1001  0.583894\n",
       " 241.1    6.07312  6.27783  13.5037  0.597288\n",
       " 241.262  6.23046  5.86927  16.5626  0.486395\n",
       " 243.702  6.17451  5.91231  14.3127  0.539943\n",
       " 247.894  6.37356  5.37786  13.0379  0.542411\n",
       " 241.799  6.19891  5.61148  13.7274  0.525273\n",
       " 243.582  6.19857  6.63846  13.8559  0.539884\n",
       " 244.771  6.04871  6.53074  16.4842  0.37712 \n",
       " 241.465  6.32227  6.25922  13.6608  0.490879\n",
       " 240.064  6.18874  6.26414  13.9318  0.3716  \n",
       " 241.472  6.31356  6.45424  18.3394  0.530592\n",
       " 241.733  6.33614  6.08342  14.2244  0.409026\n",
       "   ⋮                                         \n",
       " 244.35   6.25192  5.66353  17.3207  0.598309\n",
       " 240.541  6.24054  6.26025  11.1571  0.605388\n",
       " 244.535  6.07965  5.87173  17.882   0.33817 \n",
       " 242.096  6.19515  6.05332  16.3744  0.355072\n",
       " 242.198  6.13139  5.45537  15.3873  0.410866\n",
       " 245.725  6.10212  5.31721  14.5797  0.437369\n",
       " 238.467  6.36581  6.12217  13.3685  0.481256\n",
       " 245.237  6.44202  5.82621  11.1198  0.525357\n",
       " 240.108  6.15748  6.10492  13.2741  0.433271\n",
       " 239.661  6.30364  6.47074  17.8468  0.508335\n",
       " 243.763  6.10053  5.84271  10.7587  0.445435\n",
       " 241.48   6.22142  6.00735  17.7684  0.681168\n",
       "\n",
       "[:, :, 2] =\n",
       " 239.188  6.28827  5.16483  16.1478  0.436708\n",
       " 241.941  6.12276  6.46478  13.8488  0.688059\n",
       " 241.43   6.01767  6.77199  13.9485  0.547586\n",
       " 240.238  6.08566  5.80294  17.8206  0.739453\n",
       " 242.234  6.01572  6.46306  14.6466  0.52959 \n",
       " 242.177  6.48374  6.41958  15.7178  0.506893\n",
       " 241.132  6.44786  6.2826   15.2212  0.48323 \n",
       " 245.964  6.1491   5.83942  12.2214  0.609729\n",
       " 243.164  6.23693  5.31599  16.8696  0.500292\n",
       " 242.212  6.24881  5.46443  18.2724  0.471268\n",
       " 242.294  6.26655  5.36948  16.2365  0.443469\n",
       " 240.487  6.07944  6.13721  16.4424  0.486554\n",
       " 240.415  5.97536  6.45168  17.5665  0.424654\n",
       "   ⋮                                         \n",
       " 241.256  6.06378  5.7663   13.2327  0.488669\n",
       " 240.656  6.33279  6.38822  15.6067  0.42495 \n",
       " 241.633  6.31681  6.16073  13.4059  0.434759\n",
       " 244.929  6.13806  6.36969  14.9018  0.501259\n",
       " 240.047  6.24367  5.95272  14.5731  0.486118\n",
       " 240.682  6.13849  6.38657  14.7833  0.545324\n",
       " 238.41   6.1532   6.24548  16.4656  0.517595\n",
       " 241.313  6.14319  6.26415  13.958   0.444331\n",
       " 245.64   6.09244  5.67499  14.6212  0.627077\n",
       " 245.076  6.11896  6.24296  12.8562  0.658991\n",
       " 240.688  6.18498  5.94605  14.5983  0.561564\n",
       " 242.668  6.17926  6.07016  15.2888  0.579827\n",
       "\n",
       "[:, :, 3] =\n",
       " 246.142  6.41452  6.73634  13.3255  0.455848\n",
       " 239.212  6.12056  6.52329  14.9832  0.459321\n",
       " 243.43   6.05594  6.19796  14.4507  0.41131 \n",
       " 241.224  6.19107  5.75368  15.0831  0.423468\n",
       " 241.141  6.20492  6.09537  14.6038  0.398369\n",
       " 242.741  5.98782  5.97665  12.9866  0.506902\n",
       " 244.682  6.01052  6.32138  12.3759  0.581079\n",
       " 242.281  6.2701   5.85995  18.294   0.612816\n",
       " 243.461  6.25355  5.29126  13.9484  0.648681\n",
       " 241.988  6.38428  5.95233  18.7079  0.626804\n",
       " 241.7    6.33507  6.09726  19.8162  0.566163\n",
       " 242.959  6.07234  5.77657  12.258   0.484831\n",
       " 241.236  6.25817  6.83663  15.0828  0.609545\n",
       "   ⋮                                         \n",
       " 238.897  6.05567  5.81745  15.6572  0.582914\n",
       " 241.758  6.146    5.85718  13.718   0.439793\n",
       " 244.188  6.1322   5.89934  13.7196  0.417136\n",
       " 245.421  6.2053   5.92613  12.5038  0.6136  \n",
       " 238.473  6.26889  5.91509  14.9307  0.513361\n",
       " 241.29   6.36149  6.06458  13.7024  0.601478\n",
       " 241.812  6.22263  6.25263  13.2986  0.539259\n",
       " 240.905  6.22595  6.28596  13.1702  0.62288 \n",
       " 240.384  6.16246  5.80027  12.594   0.60448 \n",
       " 244.307  6.11253  6.14515  15.0776  0.479269\n",
       " 241.394  6.21528  5.80145  12.5441  0.726912\n",
       " 243.068  6.13408  5.94913  16.7022  0.420146\n",
       "\n",
       "[:, :, 4] =\n",
       " 244.745  5.98287  6.97489  13.1359  0.401861\n",
       " 236.463  6.3651   6.30291  15.3108  0.626886\n",
       " 244.097  6.24495  5.70389  15.007   0.464886\n",
       " 242.248  6.26472  5.88733  15.848   0.673209\n",
       " 245.484  6.33856  5.84766  14.6417  0.476976\n",
       " 244.839  6.27497  5.39433  14.464   0.525073\n",
       " 241.857  6.31813  5.70595  13.4278  0.534841\n",
       " 242.459  6.25125  6.48557  13.8664  0.481836\n",
       " 240.635  6.07921  6.18435  15.775   0.480487\n",
       " 240.404  6.18129  6.56978  16.7374  0.40215 \n",
       " 242.181  6.32488  6.65875  18.6138  0.428096\n",
       " 240.373  6.37011  6.42102  18.3176  0.406716\n",
       " 237.197  6.32562  6.14659  12.9737  0.510955\n",
       "   ⋮                                         \n",
       " 244.399  6.20576  6.40929  12.38    0.57658 \n",
       " 242.734  6.16694  6.04293  14.079   0.614879\n",
       " 242.868  6.08212  6.74391  15.1517  0.481834\n",
       " 242.647  6.17209  6.45661  12.1666  0.493522\n",
       " 243.052  6.20587  6.49917  14.4706  0.513421\n",
       " 245.41   6.22523  6.10593  14.3795  0.545967\n",
       " 241.06   6.2438   6.34011  16.5734  0.580858\n",
       " 244.837  6.3557   6.50065  12.2019  0.601344\n",
       " 234.892  6.11631  6.5786   15.8407  0.594522\n",
       " 243.886  6.06573  6.73004  16.1938  0.545307\n",
       " 236.373  6.18949  6.8541   12.611   0.416945\n",
       " 242.952  6.22139  6.57843  15.1728  0.434887"
      ]
     },
     "execution_count": 17,
     "metadata": {},
     "output_type": "execute_result"
    }
   ],
   "source": [
    "sim1 = stan(ratstan, ratsdict)"
   ]
  },
  {
   "cell_type": "markdown",
   "metadata": {},
   "source": [
    "## Using Mamba like OpenBUGS"
   ]
  },
  {
   "cell_type": "code",
   "execution_count": 18,
   "metadata": {
    "collapsed": false
   },
   "outputs": [
    {
     "data": {
      "text/plain": [
       "Dict{Symbol,Any} with 5 entries:\n",
       "  :y    => [151.0,145.0,147.0,155.0,135.0,159.0,141.0,159.0,177.0,134.0  …  334…\n",
       "  :X    => Int32[8,8,8,8,8,8,8,8,8,8  …  36,36,36,36,36,36,36,36,36,36]\n",
       "  :Xm   => [-14.0,-14.0,-14.0,-14.0,-14.0,-14.0,-14.0,-14.0,-14.0,-14.0  …  14.…\n",
       "  :rat  => [1,2,3,4,5,6,7,8,9,10  …  21,22,23,24,25,26,27,28,29,30]\n",
       "  :xbar => 22.0"
      ]
     },
     "metadata": {},
     "output_type": "display_data"
    }
   ],
   "source": [
    "## Data\n",
    "rats1 = Dict{Symbol, Any}(\n",
    ":y => convert(Vector{Float64}, rats[:y]),\n",
    ":rat => convert(Vector{Int}, rats[:id]),\n",
    ":X => convert(Vector, rats[:day])\n",
    ")\n",
    "rats1[:xbar] = mean(rats1[:X])\n",
    "rats1[:Xm] = rats1[:X] - rats1[:xbar]\n",
    "display(rats1)"
   ]
  },
  {
   "cell_type": "code",
   "execution_count": 19,
   "metadata": {
    "collapsed": false
   },
   "outputs": [],
   "source": [
    "## Model Specification\n",
    "model = Model(\n",
    "\n",
    "  y = Stochastic(1,\n",
    "    (alpha, beta, rat, Xm, s2_c) ->\n",
    "      begin\n",
    "        mu = alpha[rat] + beta[rat] .* Xm\n",
    "        MvNormal(mu, sqrt(s2_c))\n",
    "      end,\n",
    "    false\n",
    "  ),\n",
    "\n",
    "  alpha = Stochastic(1,\n",
    "    (mu_alpha, s2_alpha) -> Normal(mu_alpha, sqrt(s2_alpha)),\n",
    "    false\n",
    "  ),\n",
    "\n",
    "  alpha0 = Logical(\n",
    "    (mu_alpha, xbar, mu_beta) -> mu_alpha - xbar * mu_beta\n",
    "  ),\n",
    "\n",
    "  mu_alpha = Stochastic(\n",
    "    () -> Normal(0.0, 1000),\n",
    "    false\n",
    "  ),\n",
    "\n",
    "  s2_alpha = Stochastic(\n",
    "    () -> InverseGamma(0.001, 0.001),\n",
    "    false\n",
    "  ),\n",
    "\n",
    "  beta = Stochastic(1,\n",
    "    (mu_beta, s2_beta) -> Normal(mu_beta, sqrt(s2_beta)),\n",
    "    false\n",
    "  ),\n",
    "\n",
    "  mu_beta = Stochastic(\n",
    "    () -> Normal(0.0, 1000)\n",
    "  ),\n",
    "\n",
    "  s2_beta = Stochastic(\n",
    "    () -> InverseGamma(0.001, 0.001),\n",
    "    false\n",
    "  ),\n",
    "\n",
    "  s2_c = Stochastic(\n",
    "    () -> InverseGamma(0.001, 0.001)\n",
    "  )\n",
    "\n",
    ");"
   ]
  },
  {
   "cell_type": "code",
   "execution_count": 20,
   "metadata": {
    "collapsed": false
   },
   "outputs": [],
   "source": [
    "inits = [\n",
    "  Dict(:y => rats1[:y], :alpha => fill(250, 30), :beta => fill(6, 30),\n",
    "       :mu_alpha => 150, :mu_beta => 10, :s2_c => 1, :s2_alpha => 1,\n",
    "       :s2_beta => 1),\n",
    "  Dict(:y => rats1[:y], :alpha => fill(20, 30), :beta => fill(0.6, 30),\n",
    "       :mu_alpha => 15, :mu_beta => 1, :s2_c => 10, :s2_alpha => 10,\n",
    "       :s2_beta => 10)\n",
    "];"
   ]
  },
  {
   "cell_type": "code",
   "execution_count": 21,
   "metadata": {
    "collapsed": false
   },
   "outputs": [
    {
     "data": {
      "text/plain": [
       "Object of type \"Mamba.Model\"\n",
       "-------------------------------------------------------------------------------\n",
       "alpha:\n",
       "An unmonitored node of type \"0-element Mamba.ArrayStochastic{1}\"\n",
       "Float64[]\n",
       "-------------------------------------------------------------------------------\n",
       "y:\n",
       "An unmonitored node of type \"0-element Mamba.ArrayStochastic{1}\"\n",
       "Float64[]\n",
       "-------------------------------------------------------------------------------\n",
       "s2_beta:\n",
       "An unmonitored node of type \"Mamba.ScalarStochastic\"\n",
       "NaN\n",
       "-------------------------------------------------------------------------------\n",
       "mu_alpha:\n",
       "An unmonitored node of type \"Mamba.ScalarStochastic\"\n",
       "NaN\n",
       "-------------------------------------------------------------------------------\n",
       "s2_alpha:\n",
       "An unmonitored node of type \"Mamba.ScalarStochastic\"\n",
       "NaN\n",
       "-------------------------------------------------------------------------------\n",
       "beta:\n",
       "An unmonitored node of type \"0-element Mamba.ArrayStochastic{1}\"\n",
       "Float64[]\n",
       "-------------------------------------------------------------------------------\n",
       "mu_beta:\n",
       "A monitored node of type \"Mamba.ScalarStochastic\"\n",
       "NaN\n",
       "-------------------------------------------------------------------------------\n",
       "alpha0:\n",
       "A monitored node of type \"Mamba.ScalarLogical\"\n",
       "NaN\n",
       "-------------------------------------------------------------------------------\n",
       "s2_c:\n",
       "A monitored node of type \"Mamba.ScalarStochastic\"\n",
       "NaN\n"
      ]
     },
     "execution_count": 21,
     "metadata": {},
     "output_type": "execute_result"
    }
   ],
   "source": [
    "scheme = [Slice(:s2_c, 10.0),\n",
    "          AMWG(:alpha, 100.0),\n",
    "          Slice([:mu_alpha, :s2_alpha], [100.0, 10.0], Univariate),\n",
    "          AMWG(:beta, 1.0),\n",
    "          Slice([:mu_beta, :s2_beta], 1.0, Univariate)]\n",
    "setsamplers!(model, scheme)"
   ]
  },
  {
   "cell_type": "code",
   "execution_count": 22,
   "metadata": {
    "collapsed": false
   },
   "outputs": [
    {
     "name": "stdout",
     "output_type": "stream",
     "text": [
      "MCMC Simulation of 10000 Iterations x 2 Chains...\n",
      "\n",
      "Chain 1:   0% [0:26:20 of 0:26:22 remaining]\n",
      "Chain 1:  10% [0:00:33 of 0:00:37 remaining]\n",
      "Chain 1:  20% [0:00:23 of 0:00:29 remaining]\n",
      "Chain 1:  30% [0:00:19 of 0:00:27 remaining]\n",
      "Chain 1:  40% [0:00:16 of 0:00:26 remaining]\n",
      "Chain 1:  50% [0:00:13 of 0:00:25 remaining]\n",
      "Chain 1:  60% [0:00:10 of 0:00:25 remaining]\n",
      "Chain 1:  70% [0:00:07 of 0:00:24 remaining]\n",
      "Chain 1:  80% [0:00:05 of 0:00:24 remaining]\n",
      "Chain 1:  90% [0:00:02 of 0:00:24 remaining]\n",
      "Chain 1: 100% [0:00:00 of 0:00:24 remaining]\n",
      "\n",
      "Chain 2:   0% [0:00:26 of 0:00:26 remaining]\n",
      "Chain 2:  10% [0:00:19 of 0:00:21 remaining]\n",
      "Chain 2:  20% [0:00:17 of 0:00:21 remaining]\n",
      "Chain 2:  30% [0:00:15 of 0:00:21 remaining]\n",
      "Chain 2:  40% [0:00:13 of 0:00:22 remaining]\n",
      "Chain 2:  50% [0:00:11 of 0:00:22 remaining]\n",
      "Chain 2:  60% [0:00:09 of 0:00:22 remaining]\n",
      "Chain 2:  70% [0:00:07 of 0:00:22 remaining]\n",
      "Chain 2:  80% [0:00:04 of 0:00:22 remaining]\n",
      "Chain 2:  90% [0:00:02 of 0:00:22 remaining]\n",
      "Chain 2: 100% [0:00:00 of 0:00:22 remaining]\n",
      "\n",
      "Iterations = 2502:10000\n",
      "Thinning interval = 2\n",
      "Chains = 1,2\n",
      "Samples per chain = 3750\n",
      "\n",
      "Empirical Posterior Estimates:\n",
      "            Mean        SD       Naive SE      MCSE        ESS   \n",
      "   s2_c  37.0948267 5.62209773 0.064918393 0.2246133828  626.5064\n",
      "mu_beta   6.1858525 0.10692677 0.001234684 0.0015619790 3750.0000\n",
      " alpha0 106.4982873 3.56423757 0.041156270 0.0546899425 3750.0000\n",
      "\n",
      "Quantiles:\n",
      "           2.5%       25.0%      50.0%      75.0%      97.5%   \n",
      "   s2_c 27.8385055  33.087450  36.545510  40.465363  49.5416624\n",
      "mu_beta  5.9752271   6.114618   6.185435   6.256202   6.3984354\n",
      " alpha0 99.4884844 104.173200 106.472326 108.843554 113.6338634\n",
      "\n"
     ]
    }
   ],
   "source": [
    "sim = mcmc(model, rats1, inits, 10000, burnin=2500, thin=2, chains=2);\n",
    "describe(sim)"
   ]
  }
 ],
 "metadata": {
  "kernelspec": {
   "display_name": "Julia 0.4.3",
   "language": "julia",
   "name": "julia-0.4"
  },
  "language": "Julia",
  "language_info": {
   "file_extension": ".jl",
   "mimetype": "application/julia",
   "name": "julia",
   "version": "0.4.3"
  }
 },
 "nbformat": 4,
 "nbformat_minor": 0
}
