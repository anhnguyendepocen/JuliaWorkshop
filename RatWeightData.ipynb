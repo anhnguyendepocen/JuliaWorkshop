{
 "cells": [
  {
   "cell_type": "markdown",
   "metadata": {},
   "source": [
    "# Reading the Rat Weight data\n",
    "\n",
    "An example that is frequently used to illustrate MCMC methods is the weights (in g., I believe) of 30 baby rats observed weekly from 8 days until 36 of age.  Because it is completely balanced it is usually presented as a matrix.  We will do the initial data manipulation in [R](http://R-project.org).  We could use `read.table` from base R but instead we'll do what the cool kids are doing and use the `readr`, `tidyr` and `dplyr` packages.\n",
    "\n",
    "## Reading and tidying the data\n",
    "\n"
   ]
  },
  {
   "cell_type": "code",
   "execution_count": 1,
   "metadata": {
    "collapsed": false
   },
   "outputs": [
    {
     "name": "stdout",
     "output_type": "stream",
     "text": [
      "Observations: 150\n",
      "Variables: 3\n",
      "$ id  (int) 1, 2, 3, 4, 5, 6, 7, 8, 9, 10, 11, 12, 13, 14, 15, 16, 17, 18, ...\n",
      "$ day (int) 8, 8, 8, 8, 8, 8, 8, 8, 8, 8, 8, 8, 8, 8, 8, 8, 8, 8, 8, 8, 8, ...\n",
      "$ y   (int) 151, 145, 147, 155, 135, 159, 141, 159, 177, 134, 160, 143, 154...\n"
     ]
    }
   ],
   "source": [
    "library(readr)\n",
    "library(tidyr)\n",
    "suppressPackageStartupMessages(library(dplyr))\n",
    "\n",
    "rats <- read_delim(\"rats.txt\", \" \") %>%\n",
    "    dplyr::mutate(id = seq_len(length(day8))) %>%\n",
    "    tidyr::gather(day, y, day8:day36) %>%\n",
    "    dplyr::mutate(day = as.integer(substring(day,4)))\n",
    "glimpse(rats)\n",
    "saveRDS(rats, file=\"rats.rds\", compress=\"xz\")"
   ]
  },
  {
   "cell_type": "markdown",
   "metadata": {},
   "source": [
    "The code loads and attaches the packages then uses the `tidyr::read_delim` function to read the blank-delimited file, \"rats.txt\", adds a column of the rat `id` using `dplyr::mutate`, switch from the wide to the long format using `tidyr::gather` then convert the character strings of the form \"day8\" up to \"day36\" in the `day` column to integers by dropping the first three characters.\n",
    " \n",
    "The data are saved in the compressed RDS format to make them easier to read in future sessions."
   ]
  }
 ],
 "metadata": {
  "kernelspec": {
   "display_name": "R",
   "language": "",
   "name": "ir"
  },
  "language_info": {
   "codemirror_mode": "r",
   "file_extension": ".r",
   "mimetype": "text/x-r-source",
   "name": "R",
   "pygments_lexer": "r",
   "version": "3.2.4"
  }
 },
 "nbformat": 4,
 "nbformat_minor": 0
}
