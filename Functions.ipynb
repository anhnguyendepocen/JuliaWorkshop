{
 "metadata": {
  "language": "Julia",
  "name": ""
 },
 "nbformat": 3,
 "nbformat_minor": 0,
 "worksheets": [
  {
   "cells": [
    {
     "cell_type": "heading",
     "level": 1,
     "metadata": {},
     "source": [
      "Writing Julia Functions"
     ]
    },
    {
     "cell_type": "markdown",
     "metadata": {},
     "source": [
      "The purpose of these notes is to introduce [R](http://www.r-project.org) programmers to the [Julia](http://julialang.org) programming language.\n",
      "\n",
      "Julia functions are sufficiently similar to R functions that most R programmers can read most Julia functions.  They are sufficiently different that initial attempts at writing a Julia function can be frustrating.\n",
      "\n",
      "One way of learning a programming language like Julia is to read programs written by experienced in that language.  One of the amazing aspects of Julia is that much of the Base system is written in Julia itself.  One of the current (June, 2014) deficiencies of Julia is that the documentation, especially package documentation, is quite sparse and you often need to read the source of a function to understand its purpose.\n",
      "\n",
      "In these notes I am assuming the use of julia-0.3-prerelease or later."
     ]
    },
    {
     "cell_type": "code",
     "collapsed": false,
     "input": [
      "versioninfo()"
     ],
     "language": "python",
     "metadata": {},
     "outputs": [
      {
       "output_type": "stream",
       "stream": "stdout",
       "text": [
        "Julia Version 0.3.0-prerelease+3716\n"
       ]
      },
      {
       "output_type": "stream",
       "stream": "stdout",
       "text": [
        "Commit ce844a7* (2014-06-17 04:48 UTC)\n",
        "Platform Info:\n",
        "  System: Linux (x86_64-pc-linux-gnu)\n",
        "  CPU: AMD Athlon(tm) II X4 635 Processor\n",
        "  WORD_SIZE: 64\n",
        "  BLAS: libopenblas (NO_LAPACK NO_LAPACKE DYNAMIC_ARCH NO_AFFINITY)\n",
        "  LAPACK: liblapack\n",
        "  LIBM: libopenlibm\n"
       ]
      }
     ],
     "prompt_number": 1
    },
    {
     "cell_type": "heading",
     "level": 2,
     "metadata": {},
     "source": [
      "Tools for examining functions"
     ]
    },
    {
     "cell_type": "heading",
     "level": 3,
     "metadata": {},
     "source": [
      "Method signatures and sources"
     ]
    },
    {
     "cell_type": "markdown",
     "metadata": {},
     "source": [
      "Entering the name of a function in R returns the definition of the function.  Entering the name of a function in Julia provides information on the number of methods defined for that generic.  Remember that all Julia functions are generic functions."
     ]
    },
    {
     "cell_type": "code",
     "collapsed": false,
     "input": [
      "mean"
     ],
     "language": "python",
     "metadata": {},
     "outputs": [
      {
       "metadata": {},
       "output_type": "pyout",
       "prompt_number": 2,
       "text": [
        "mean (generic function with 3 methods)"
       ]
      }
     ],
     "prompt_number": 2
    },
    {
     "cell_type": "markdown",
     "metadata": {},
     "source": [
      "The `methods` function gives the signatures of the methods for the generic."
     ]
    },
    {
     "cell_type": "code",
     "collapsed": false,
     "input": [
      "methods(mean)"
     ],
     "language": "python",
     "metadata": {},
     "outputs": [
      {
       "html": [
        "3 methods for generic function <b>mean</b>:<ul><li> mean(A::<b>AbstractArray{T,N}</b>) at <a href=\"https://github.com/JuliaLang/julia/tree/ce844a77107cf1901bf09cdbc597972e420e59c2/base/statistics.jl#L17\" target=\"_blank\">statistics.jl:17</a><li> mean<i>{T}</i>(A::<b>AbstractArray{T,N}</b>,region) at <a href=\"https://github.com/JuliaLang/julia/tree/ce844a77107cf1901bf09cdbc597972e420e59c2/base/statistics.jl#L35\" target=\"_blank\">statistics.jl:35</a><li> mean(iterable) at <a href=\"https://github.com/JuliaLang/julia/tree/ce844a77107cf1901bf09cdbc597972e420e59c2/base/statistics.jl#L4\" target=\"_blank\">statistics.jl:4</a></ul>"
       ],
       "metadata": {},
       "output_type": "pyout",
       "prompt_number": 3,
       "text": [
        "# 3 methods for generic function \"mean\":\n",
        "mean(A::AbstractArray{T,N}) at statistics.jl:17\n",
        "mean{T}(A::AbstractArray{T,N},region) at statistics.jl:35\n",
        "mean(iterable) at statistics.jl:4"
       ]
      }
     ],
     "prompt_number": 3
    },
    {
     "cell_type": "markdown",
     "metadata": {},
     "source": [
      "In an IJulia notebook the names of the files are links to the file in the github repository. In a local build of Julia the file name is relative to"
     ]
    },
    {
     "cell_type": "code",
     "collapsed": false,
     "input": [
      "normpath(JULIA_HOME,\"..\",\"..\",\"base\")"
     ],
     "language": "python",
     "metadata": {},
     "outputs": [
      {
       "metadata": {},
       "output_type": "pyout",
       "prompt_number": 4,
       "text": [
        "\"/home/bates/git/julia/base\""
       ]
      }
     ],
     "prompt_number": 4
    },
    {
     "cell_type": "markdown",
     "metadata": {},
     "source": [
      "Prebuilt binary packages for various operating systems may have a copy of the base directory elsewhere.  The Ubuntu binaries put it in `/usr/share/julia/base`"
     ]
    },
    {
     "cell_type": "code",
     "collapsed": false,
     "input": [
      "readdir(\"/usr/share/julia/base\")"
     ],
     "language": "python",
     "metadata": {},
     "outputs": [
      {
       "metadata": {},
       "output_type": "pyout",
       "prompt_number": 5,
       "text": [
        "132-element Array{Union(UTF8String,ASCIIString),1}:\n",
        " \"abstractarray.jl\"     \n",
        " \"array.jl\"             \n",
        " \"ascii.jl\"             \n",
        " \"base64.jl\"            \n",
        " \"base.jl\"              \n",
        " \"bitarray.jl\"          \n",
        " \"bool.jl\"              \n",
        " \"boot.jl\"              \n",
        " \"broadcast.jl\"         \n",
        " \"build.h\"              \n",
        " \"build_h.jl\"           \n",
        " \"build_h.jl.nogit\"     \n",
        " \"cartesian.jl\"         \n",
        " \u22ee                      \n",
        " \"test.jl\"              \n",
        " \"tuple.jl\"             \n",
        " \"utf16.jl\"             \n",
        " \"utf32.jl\"             \n",
        " \"utf8.jl\"              \n",
        " \"utf8proc.jl\"          \n",
        " \"util.jl\"              \n",
        " \"uv_constants.jl\"      \n",
        " \"version_git.jl\"       \n",
        " \"version_git.jl.backup\"\n",
        " \"version_git.sh\"       \n",
        " \"version.jl\"           "
       ]
      }
     ],
     "prompt_number": 5
    },
    {
     "cell_type": "heading",
     "level": 3,
     "metadata": {},
     "source": [
      "The @which macro"
     ]
    },
    {
     "cell_type": "markdown",
     "metadata": {},
     "source": [
      "In addition to functions Julia provides macros.  Writing macros is not a priority when you start but you should know about some of the macros that can be useful with regard to functions.  A call to a macro always begins with the `@` character and parenthesis around the argument list are optional."
     ]
    },
    {
     "cell_type": "markdown",
     "metadata": {},
     "source": [
      "For generics that have many methods (try `methods(*)`) it may not be obvious which method applies to a particular set of arguments.  The `@which` macro tells you which method will be used. "
     ]
    },
    {
     "cell_type": "code",
     "collapsed": false,
     "input": [
      "@which mean([1:10])"
     ],
     "language": "python",
     "metadata": {},
     "outputs": [
      {
       "html": [
        "mean(A::<b>AbstractArray{T,N}</b>) at <a href=\"https://github.com/JuliaLang/julia/tree/ce844a77107cf1901bf09cdbc597972e420e59c2/base/statistics.jl#L17\" target=\"_blank\">statistics.jl:17</a>"
       ],
       "metadata": {},
       "output_type": "pyout",
       "prompt_number": 6,
       "text": [
        "mean(A::AbstractArray{T,N}) at statistics.jl:17"
       ]
      }
     ],
     "prompt_number": 6
    },
    {
     "cell_type": "heading",
     "level": 2,
     "metadata": {},
     "source": [
      "Other useful macros"
     ]
    },
    {
     "cell_type": "markdown",
     "metadata": {},
     "source": [
      "Two very useful macros for tuning the performance of your functions are `@time` and @profile.  Recent versions of the `@time` tell you the elapsed time, the total number of bytes allocated and the proportion of the time spent in garbage collection.\n",
      "\n",
      "Note that the number of bytes allocated does not measure the increase in memory used by the process.  Often objects are allocated, populated, used and freed within the course of a functions's execution.\n",
      "\n",
      "Also, bear in mind that the very short execution times are quite variable."
     ]
    },
    {
     "cell_type": "code",
     "collapsed": false,
     "input": [
      "mean(randn((25,1_000_000)),1)  # 1,000,000 replications of a normal sample of size 25"
     ],
     "language": "python",
     "metadata": {},
     "outputs": [
      {
       "metadata": {},
       "output_type": "pyout",
       "prompt_number": 7,
       "text": [
        "1x1000000 Array{Float64,2}:\n",
        " 0.0692402  -0.404312  -0.137959  \u2026  0.0431025  -0.28792  -0.0160261"
       ]
      }
     ],
     "prompt_number": 7
    },
    {
     "cell_type": "code",
     "collapsed": false,
     "input": [
      "@time mn25n = mean(randn(25,1_000_000),1);"
     ],
     "language": "python",
     "metadata": {},
     "outputs": [
      {
       "output_type": "stream",
       "stream": "stdout",
       "text": [
        "elapsed time: "
       ]
      },
      {
       "output_type": "stream",
       "stream": "stdout",
       "text": [
        "0.827360894 seconds (208175448 bytes allocated, 5"
       ]
      },
      {
       "output_type": "stream",
       "stream": "stdout",
       "text": [
        ".17% gc time)\n"
       ]
      }
     ],
     "prompt_number": 8
    },
    {
     "cell_type": "markdown",
     "metadata": {},
     "source": [
      "The first time a particular function signature is called it will be slower, often much slower, than subsequent times.  This is because the first call to a signature can cause a lot of compilation of methods.\n",
      "\n",
      "Another useful macro is `@profile`, especially when paired with the `view` function in the `ProfileView` package."
     ]
    },
    {
     "cell_type": "code",
     "collapsed": false,
     "input": [
      "@profile mean(randn(25,1_000_000),1);"
     ],
     "language": "python",
     "metadata": {},
     "outputs": [],
     "prompt_number": 9
    },
    {
     "cell_type": "code",
     "collapsed": false,
     "input": [
      "# Pkg.add(\"ProfileView\") # similar to install.packages() in R\n",
      "using ProfileView  # similar to library(ProfileView) in R\n",
      "ProfileView.view()"
     ],
     "language": "python",
     "metadata": {},
     "outputs": [
      {
       "metadata": {},
       "output_type": "pyout",
       "prompt_number": 10,
       "svg": [
        "<?xml version=\"1.0\" standalone=\"no\"?>\n",
        "<!DOCTYPE svg PUBLIC \"-//W3C//DTD SVG 1.1//EN\" \"http://www.w3.org/Graphics/SVG/1.1/DTD/svg11.dtd\">\n",
        "<svg version=\"1.1\" width=\"1200\" height=\"85\" onload=\"init(evt)\" viewBox=\"0 0 1200 85\" xmlns=\"http://www.w3.org/2000/svg\" >\n",
        "<defs >\n",
        "    <linearGradient id=\"background\" y1=\"0\" y2=\"1\" x1=\"0\" x2=\"0\" >\n",
        "        <stop stop-color=\"#eeeeee\" offset=\"5%\" />\n",
        "        <stop stop-color=\"#eeeeb0\" offset=\"95%\" />\n",
        "    </linearGradient>\n",
        "</defs>\n",
        "<style type=\"text/css\">\n",
        "    rect[rx]:hover { stroke:black; stroke-width:1; }\n",
        "    text:hover { stroke:black; stroke-width:1; stroke-opacity:0.35; }\n",
        "</style>\n",
        "<script type=\"text/ecmascript\">\n",
        "<![CDATA[\n",
        "    var details;\n",
        "    function init(evt) { details = document.getElementById(\"details\").firstChild; }\n",
        "    function s(info) { details.nodeValue = info; }\n",
        "    function c() { details.nodeValue = ' '; }\n",
        "]]>\n",
        "</script>\n",
        "<rect x=\"0.0\" y=\"0\" width=\"1200.0\" height=\"85.0\" fill=\"url(#background)\"  />\n",
        "<text text-anchor=\"middle\" x=\"600\" y=\"24\" font-size=\"17\" font-family=\"Verdana\" fill=\"rgb(0,0,0)\"  >Profile results</text>\n",
        "<text text-anchor=\"left\" x=\"10\" y=\"68\" font-size=\"12\" font-family=\"Verdana\" fill=\"rgb(0,0,0)\"  >Function:</text>\n",
        "<text text-anchor=\"\" x=\"70\" y=\"68\" font-size=\"12\" font-family=\"Verdana\" fill=\"rgb(0,0,0)\" id=\"details\" > </text>\n",
        "<rect x=\"93.2051282051282\" y=\"30.0\" width=\"18.91025641025641\" height=\"15.0\" fill=\"rgb(120,90,252)\" rx=\"2\" ry=\"2\" onmouseover=\"s('randmtzig_randn in ./librandom.jl:0')\" onmouseout=\"c()\"/><text text-anchor=\"\" x=\"97.2051282051282\" y=\"41.5\" font-size=\"12\" font-family=\"Verdana\" fill=\"rgb(0,0,0)\" onmouseover=\"s('randmtzig_randn in ./librandom.jl:0')\" onmouseout=\"c()\">\n",
        "r..\n",
        "</text>\n",
        "<rect x=\"112.11538461538461\" y=\"30.0\" width=\"18.91025641025641\" height=\"15.0\" fill=\"rgb(8,139,0)\" rx=\"2\" ry=\"2\" onmouseover=\"s('??? in ???:-692362607')\" onmouseout=\"c()\"/><text text-anchor=\"\" x=\"116.11538461538461\" y=\"41.5\" font-size=\"12\" font-family=\"Verdana\" fill=\"rgb(0,0,0)\" onmouseover=\"s('??? in ???:-692362607')\" onmouseout=\"c()\">\n",
        "?..\n",
        "</text>\n",
        "<rect x=\"131.02564102564102\" y=\"30.0\" width=\"20.801282051282044\" height=\"15.0\" fill=\"rgb(0,167,175)\" rx=\"2\" ry=\"2\" onmouseover=\"s('??? in ???:-692362760')\" onmouseout=\"c()\"/><text text-anchor=\"\" x=\"135.02564102564102\" y=\"41.5\" font-size=\"12\" font-family=\"Verdana\" fill=\"rgb(0,0,0)\" onmouseover=\"s('??? in ???:-692362760')\" onmouseout=\"c()\">\n",
        "?..\n",
        "</text>\n",
        "<rect x=\"151.82692307692307\" y=\"30.0\" width=\"30.25641025641025\" height=\"15.0\" fill=\"rgb(210,171,0)\" rx=\"2\" ry=\"2\" onmouseover=\"s('??? in ???:-692362770')\" onmouseout=\"c()\"/><text text-anchor=\"\" x=\"155.82692307692307\" y=\"41.5\" font-size=\"12\" font-family=\"Verdana\" fill=\"rgb(0,0,0)\" onmouseover=\"s('??? in ???:-692362770')\" onmouseout=\"c()\">\n",
        "???..\n",
        "</text>\n",
        "<rect x=\"182.08333333333331\" y=\"30.0\" width=\"170.19230769230768\" height=\"15.0\" fill=\"rgb(109,81,0)\" rx=\"2\" ry=\"2\" onmouseover=\"s('??? in ???:-692362776')\" onmouseout=\"c()\"/><text text-anchor=\"\" x=\"186.08333333333331\" y=\"41.5\" font-size=\"12\" font-family=\"Verdana\" fill=\"rgb(0,0,0)\" onmouseover=\"s('??? in ???:-692362776')\" onmouseout=\"c()\">\n",
        "??? in ???:-692362776\n",
        "</text>\n",
        "<rect x=\"352.275641025641\" y=\"30.0\" width=\"748.8461538461539\" height=\"15.0\" fill=\"rgb(120,90,252)\" rx=\"2\" ry=\"2\" onmouseover=\"s('??? in ???:-692362781')\" onmouseout=\"c()\"/><text text-anchor=\"\" x=\"356.275641025641\" y=\"41.5\" font-size=\"12\" font-family=\"Verdana\" fill=\"rgb(0,0,0)\" onmouseover=\"s('??? in ???:-692362781')\" onmouseout=\"c()\">\n",
        "??? in ???:-692362781\n",
        "</text>\n",
        "\n",
        "</svg>\n"
       ],
       "text": [
        "ProfileData(624x1 Array{RGB,2}:\n",
        " RGB(0.0,0.0,0.0)\n",
        " RGB(0.0,0.0,0.0)\n",
        " RGB(0.0,0.0,0.0)\n",
        " RGB(0.0,0.0,0.0)\n",
        " RGB(0.0,0.0,0.0)\n",
        " RGB(0.0,0.0,0.0)\n",
        " RGB(0.0,0.0,0.0)\n",
        " RGB(0.0,0.0,0.0)\n",
        " RGB(0.0,0.0,0.0)\n",
        " RGB(0.0,0.0,0.0)\n",
        " RGB(0.0,0.0,0.0)\n",
        " RGB(0.0,0.0,0.0)\n",
        " RGB(0.0,0.0,0.0)\n",
        " \u22ee               \n",
        " RGB(0.0,0.0,0.0)\n",
        " RGB(0.0,0.0,0.0)\n",
        " RGB(0.0,0.0,0.0)\n",
        " RGB(0.0,0.0,0.0)\n",
        " RGB(0.0,0.0,0.0)\n",
        " RGB(0.0,0.0,0.0)\n",
        " RGB(0.0,0.0,0.0)\n",
        " RGB(0.0,0.0,0.0)\n",
        " RGB(0.0,0.0,0.0)\n",
        " RGB(0.0,0.0,0.0)\n",
        " RGB(0.0,0.0,0.0)\n",
        " RGB(0.0,0.0,0.0),[0x00007f6ad90e9786=>LineInfo(\"???\",\"???\",-653355130,true),0x00007f6ad6bacab4=>LineInfo(\"???\",\"???\",-692401484,true),0x00007f6ad6bacab0=>LineInfo(\"???\",\"???\",-692401488,true),0x00007f6aceaa1488=>LineInfo(\"???\",\"???\",-827714424,true),0x00007f6ad90ea87d=>LineInfo(\"???\",\"???\",-653350787,true),0x00007f6ad90e479c=>LineInfo(\"???\",\"???\",-653375588,true),0x00007f6aceaa1397=>LineInfo(\"???\",\"???\",-827714665,true),0x00007f6aceaa1446=>LineInfo(\"???\",\"???\",-827714490,true),0x00007f6aceaa1499=>LineInfo(\"???\",\"???\",-827714407,true),0x00007f6ace3b303c=>LineInfo(\"???\",\"???\",-834981828,true),0x00007f6ad6bb62c8=>LineInfo(\"???\",\"???\",-692362552,true),0x00007f6aceaa14d1=>LineInfo(\"???\",\"???\",-827714351,true),0x00007f6ad6bac356=>LineInfo(\"???\",\"???\",-692403370,true),0x00007f6aceaa144a=>LineInfo(\"???\",\"???\",-827714486,true),0x00007f6ad6bb629d=>LineInfo(\"???\",\"???\",-692362595,true),0x00007f6ad90e8ad4=>LineInfo(\"???\",\"???\",-653358380,true),0x00007f6ad6bb2290=>LineInfo(\"???\",\"???\",-692378992,true),0x00007f6ad6bb6302=>LineInfo(\"???\",\"???\",-692362494,true),0x00007f6ad90e4eb4=>LineInfo(\"???\",\"???\",-653373772,true),0x00007f6ad6bb629c=>LineInfo(\"???\",\"???\",-692362596,true),0x00007f6ace3b3048=>LineInfo(\"???\",\"???\",-834981816,true),0x00007f6aceaa1491=>LineInfo(\"???\",\"???\",-827714415,true),0x00007f6ad6bacab7=>LineInfo(\"???\",\"???\",-692401481,true),0x00007f6ad90e9283=>LineInfo(\"???\",\"???\",-653356413,true),0x00007f6ad6bb6328=>LineInfo(\"???\",\"???\",-692362456,true),0x00007f6ad90eace5=>LineInfo(\"???\",\"???\",-653349659,true),0x00007f6ad6bb633b=>LineInfo(\"???\",\"???\",-692362437,true),0x00007f6aceaa13cb=>LineInfo(\"???\",\"???\",-827714613,true),0x00007f6ace3b3028=>LineInfo(\"???\",\"???\",-834981848,true),0x00007f6ad6bb62d2=>LineInfo(\"???\",\"???\",-692362542,true),0x00007f6ad6bb63aa=>LineInfo(\"???\",\"???\",-692362326,true),0x00007f6ad90eacd3=>LineInfo(\"???\",\"???\",-653349677,true),0x00007f6ad90eab3b=>LineInfo(\"???\",\"???\",-653350085,true),0x00007f6ad6bb629a=>LineInfo(\"???\",\"???\",-692362598,true),0x00007f6ad6bad24c=>LineInfo(\"???\",\"???\",-692399540,true),0x00007f6ad90ea83d=>LineInfo(\"???\",\"???\",-653350851,true),0x00007f6ad6bb62ab=>LineInfo(\"???\",\"???\",-692362581,true),0x00007f6ad90e9a0f=>LineInfo(\"???\",\"???\",-653354481,true),0x00007f6ad6bb6330=>LineInfo(\"???\",\"???\",-692362448,true),0x00007f6ad6bac0f7=>LineInfo(\"???\",\"???\",-692403977,true),0x00007f6ad90eaa13=>LineInfo(\"???\",\"???\",-653350381,true),0x00007f6ad6bb639f=>LineInfo(\"???\",\"???\",-692362337,true),0x00007f6aceaa14c0=>LineInfo(\"???\",\"???\",-827714368,true),0x00007f6ad6bac1a0=>LineInfo(\"???\",\"???\",-692403808,true),0x00007f6ad6bacac3=>LineInfo(\"???\",\"???\",-692401469,true),0x00007f6ad6bb62f4=>LineInfo(\"???\",\"???\",-692362508,true),0x00007f6ad6bacae8=>LineInfo(\"???\",\"???\",-692401432,true),0x00007f6ad7614887=>LineInfo(\"???\",\"???\",-681490297,true),0x00007f6aceaa1495=>LineInfo(\"???\",\"???\",-827714411,true),0x00007f6ad6baf22b=>LineInfo(\"???\",\"???\",-692391381,true),0x00007f6ad6bb62fa=>LineInfo(\"???\",\"???\",-692362502,true),0x00007f6ad6bb636f=>LineInfo(\"???\",\"???\",-692362385,true),0x00007f6ad6bacade=>LineInfo(\"???\",\"???\",-692401442,true),0x00007f6ad6bb630e=>LineInfo(\"???\",\"???\",-692362482,true),0x00007f6ad6bac8c8=>LineInfo(\"???\",\"???\",-692401976,true),0x00007f6ad90ea928=>LineInfo(\"???\",\"???\",-653350616,true),0x00007f6ad6bb6290=>LineInfo(\"randmtzig_randn\",\"./librandom.jl\",0,false),0x00007f6ad6bac1ab=>LineInfo(\"???\",\"???\",-692403797,true),0x00007f6ad6bac0ad=>LineInfo(\"???\",\"???\",-692404051,true),0x00007f6ad6bac33d=>LineInfo(\"???\",\"???\",-692403395,true),0x00007f6ad90eab95=>LineInfo(\"???\",\"???\",-653349995,true),0x00007f6aceaa1400=>LineInfo(\"???\",\"???\",-827714560,true),0x00007f6ad6bac8bf=>LineInfo(\"???\",\"???\",-692401985,true),0x00007f6ad6bb6294=>LineInfo(\"???\",\"???\",-692362604,true),0x00007f6ad6bacaec=>LineInfo(\"???\",\"???\",-692401428,true),0x00007f6ad6baca94=>LineInfo(\"???\",\"???\",-692401516,true),0x00007f6ad6bb6359=>LineInfo(\"???\",\"???\",-692362407,true),0x00007f6ad6bb6309=>LineInfo(\"???\",\"???\",-692362487,true),0x00007f6ad6bb6316=>LineInfo(\"???\",\"???\",-692362474,true),0x00007f6ad6bb6306=>LineInfo(\"???\",\"???\",-692362490,true),0x00007f6ad6bb61e8=>LineInfo(\"???\",\"???\",-692362776,true),0x00007f6ad6b711c7=>LineInfo(\"???\",\"???\",-692645433,true),0x00007f6ad6baca98=>LineInfo(\"???\",\"???\",-692401512,true),0x00007f6ad6bb6491=>LineInfo(\"???\",\"???\",-692362095,true),0x00007f6ad90d92bc=>LineInfo(\"???\",\"???\",-653421892,true),0x00007f6ace3b2fe6=>LineInfo(\"???\",\"???\",-834981914,true),0x00007f6ad90ea7ac=>LineInfo(\"???\",\"???\",-653350996,true),0x00007f6ad90e9962=>LineInfo(\"???\",\"???\",-653354654,true),0x00007f6ad6bb62ee=>LineInfo(\"???\",\"???\",-692362514,true),0x00007f6ace3b3040=>LineInfo(\"???\",\"???\",-834981824,true),0x00007f6ad90e9789=>LineInfo(\"???\",\"???\",-653355127,true),0x00007f6ad6c73027=>LineInfo(\"???\",\"???\",-691589081,true),0x00007f6ad6baca43=>LineInfo(\"???\",\"???\",-692401597,true),0x00007f6ad6bb6298=>LineInfo(\"???\",\"???\",-692362600,true),0x00007f6ad9089ce5=>LineInfo(\"???\",\"???\",-653746971,true),0x00007f6ad6bb62eb=>LineInfo(\"???\",\"???\",-692362517,true),0x00007f6ad6baca65=>LineInfo(\"???\",\"???\",-692401563,true),0x00007f6aceaa139d=>LineInfo(\"???\",\"???\",-827714659,true),0x00007f6ad6bb61e3=>LineInfo(\"???\",\"???\",-692362781,true),0x00007f6ad90d92b3=>LineInfo(\"???\",\"???\",-653421901,true),0x00007f6aceaa1428=>LineInfo(\"???\",\"???\",-827714520,true),0x00007f6ad90ea46b=>LineInfo(\"???\",\"???\",-653351829,true),0x00007f6ad90ea8c5=>LineInfo(\"???\",\"???\",-653350715,true),0x00007f6ad6bb62e3=>LineInfo(\"???\",\"???\",-692362525,true),0x00007f6ad90e9850=>LineInfo(\"???\",\"???\",-653354928,true),0x00007f6ad90eaa1b=>LineInfo(\"???\",\"???\",-653350373,true),0x00007f6ad90e98f6=>LineInfo(\"???\",\"???\",-653354762,true),0x00007f6ad90eaa30=>LineInfo(\"???\",\"???\",-653350352,true),0x00007f6aceaa14cc=>LineInfo(\"???\",\"???\",-827714356,true),0x00007f6ad6baca5e=>LineInfo(\"???\",\"???\",-692401570,true),0x00007f6aceaa1460=>LineInfo(\"???\",\"???\",-827714464,true),0x00007f6ad6bb61ee=>LineInfo(\"???\",\"???\",-692362770,true),0x00007f6ad6bb62fc=>LineInfo(\"???\",\"???\",-692362500,true),0x00007f6ad90eaa34=>LineInfo(\"???\",\"???\",-653350348,true),0x00007f6ad908c144=>LineInfo(\"???\",\"???\",-653737660,true),0x00007f6ad6bb639a=>LineInfo(\"???\",\"???\",-692362342,true),0x00007f6ad6bacaa0=>LineInfo(\"???\",\"???\",-692401504,true),0x00007f6ad6baca8d=>LineInfo(\"???\",\"???\",-692401523,true),0x00007f6ad6bb6320=>LineInfo(\"???\",\"???\",-692362464,true),0x00007f6ad90ead64=>LineInfo(\"???\",\"???\",-653349532,true),0x00007f6ad90ea9c5=>LineInfo(\"???\",\"???\",-653350459,true),0x00007f6ad6bac1a4=>LineInfo(\"???\",\"???\",-692403804,true),0x00007f6ad6bb62a1=>LineInfo(\"???\",\"???\",-692362591,true),0x00007f6ad6bb62c3=>LineInfo(\"???\",\"???\",-692362557,true),0x00007f6ad90dcde9=>LineInfo(\"???\",\"???\",-653406743,true),0x00007f6ad6bacad4=>LineInfo(\"???\",\"???\",-692401452,true),0x00007f6ace3b30a8=>LineInfo(\"???\",\"???\",-834981720,true),0x00007f6ad90eaa25=>LineInfo(\"???\",\"???\",-653350363,true),0x00007f6ad90ea82c=>LineInfo(\"???\",\"???\",-653350868,true),0x00007f6aceaa14a6=>LineInfo(\"???\",\"???\",-827714394,true),0x00007f6ad6bb22cc=>LineInfo(\"???\",\"???\",-692378932,true),0x00007f6ad6bae112=>LineInfo(\"???\",\"???\",-692395758,true),0x00007f6aceaa1484=>LineInfo(\"???\",\"???\",-827714428,true),0x00007f6ad6bb649c=>LineInfo(\"???\",\"???\",-692362084,true),0x00007f6ad90ea9bb=>LineInfo(\"???\",\"???\",-653350469,true),0x00007f6ad6baca9c=>LineInfo(\"???\",\"???\",-692401508,true),0x00007f6ad6bb62e8=>LineInfo(\"???\",\"???\",-692362520,true),0x00007f6ad6bb62ff=>LineInfo(\"???\",\"???\",-692362497,true),0x00007f6ad6bae0cb=>LineInfo(\"???\",\"???\",-692395829,true),0x00007f6ad6bb62b5=>LineInfo(\"???\",\"???\",-692362571,true),0x00007f6ad90e9832=>LineInfo(\"???\",\"???\",-653354958,true),0x00007f6ad6bb6291=>LineInfo(\"???\",\"???\",-692362607,true),0x00007f6ad6bb61f8=>LineInfo(\"???\",\"???\",-692362760,true),0x00007f6aceaa149d=>LineInfo(\"???\",\"???\",-827714403,true),0x00007f6ad90e4896=>LineInfo(\"???\",\"???\",-653375338,true),0x00007f6ad6b71191=>LineInfo(\"???\",\"???\",-692645487,true),0x00007f6ad90e9678=>LineInfo(\"???\",\"???\",-653355400,true),0x00007f6ad6b712b8=>LineInfo(\"???\",\"???\",-692645192,true),0x00007f6ad6bb22c8=>LineInfo(\"???\",\"???\",-692378936,true),0x00007f6ad8d8c340=>LineInfo(\"???\",\"???\",-656882880,true),0x00007f6aceaa1390=>LineInfo(\"???\",\"???\",-827714672,true),0x00007f6ace3b2f40=>LineInfo(\"???\",\"???\",-834982080,true),0x00007f6ad6bac330=>LineInfo(\"???\",\"???\",-692403408,true),0x00007f6ad6bb6496=>LineInfo(\"???\",\"???\",-692362090,true)],624x1 Array{TagData,2}:\n",
        " TagData(0x0000000000000000,-1)\n",
        " TagData(0x0000000000000000,-1)\n",
        " TagData(0x0000000000000000,-1)\n",
        " TagData(0x0000000000000000,-1)\n",
        " TagData(0x0000000000000000,-1)\n",
        " TagData(0x0000000000000000,-1)\n",
        " TagData(0x0000000000000000,-1)\n",
        " TagData(0x0000000000000000,-1)\n",
        " TagData(0x0000000000000000,-1)\n",
        " TagData(0x0000000000000000,-1)\n",
        " TagData(0x0000000000000000,-1)\n",
        " TagData(0x0000000000000000,-1)\n",
        " TagData(0x0000000000000000,-1)\n",
        " \u22ee                             \n",
        " TagData(0x0000000000000000,-1)\n",
        " TagData(0x0000000000000000,-1)\n",
        " TagData(0x0000000000000000,-1)\n",
        " TagData(0x0000000000000000,-1)\n",
        " TagData(0x0000000000000000,-1)\n",
        " TagData(0x0000000000000000,-1)\n",
        " TagData(0x0000000000000000,-1)\n",
        " TagData(0x0000000000000000,-1)\n",
        " TagData(0x0000000000000000,-1)\n",
        " TagData(0x0000000000000000,-1)\n",
        " TagData(0x0000000000000000,-1)\n",
        " TagData(0x0000000000000000,-1),12)"
       ]
      }
     ],
     "prompt_number": 10
    },
    {
     "cell_type": "markdown",
     "metadata": {},
     "source": [
      "In this case the results aren't very interesting but in a REPL session the bars in the image are live links to lines in the source code.\n",
      "\n",
      "Note that using one package may bring in others."
     ]
    },
    {
     "cell_type": "code",
     "collapsed": false,
     "input": [
      "whos()"
     ],
     "language": "python",
     "metadata": {},
     "outputs": [
      {
       "output_type": "stream",
       "stream": "stdout",
       "text": [
        "#261#out                      "
       ]
      },
      {
       "output_type": "stream",
       "stream": "stdout",
       "text": [
        "Pipe\n",
        "#262###x#20220                Float64\n",
        "#263###x#20221                Int64\n",
        "#264###x#20222                Float64\n",
        "Base                          Module\n",
        "Color                         Module\n",
        "Core                          Module\n",
        "DataStructures                Module\n",
        "IJulia                        Module\n",
        "IPythonDisplay                Module\n",
        "JSON                          Module\n",
        "Main                          Module\n",
        "Nettle                        Module\n",
        "ProfileView                   Module\n",
        "ZMQ                           Module\n",
        "_10                           ProfileData\n",
        "_2                            Function\n",
        "_3                            MethodTable\n",
        "_4                            "
       ]
      },
      {
       "output_type": "stream",
       "stream": "stdout",
       "text": [
        "ASCIIString\n",
        "_5                            132-element Array{Union(UTF8String,ASCIIString),1}\n",
        "_6                            Method\n",
        "_7                            1x1000000 Array{Float64,2}\n",
        "mn25n                         1x1000000 Array{Float64,2}\n"
       ]
      }
     ],
     "prompt_number": 11
    },
    {
     "cell_type": "heading",
     "level": 2,
     "metadata": {},
     "source": [
      "Simulation of the distribution of sample statistics"
     ]
    },
    {
     "cell_type": "markdown",
     "metadata": {},
     "source": [
      "An example I like to use for function creation is simulation of the distribution of sample statistics.  For creating samples from various distributions we will use the Distributions package.  I was going to use the Gadfly package for visualization but it doesn't seem to be happy today."
     ]
    },
    {
     "cell_type": "code",
     "collapsed": false,
     "input": [
      "# Pkg.add(\"Distributions\") # done previously\n",
      "using Distributions"
     ],
     "language": "python",
     "metadata": {},
     "outputs": [],
     "prompt_number": 12
    },
    {
     "cell_type": "markdown",
     "metadata": {},
     "source": [
      "In the last section, we simulated the means of samples of size 25 from a standard normal distribution.  We know that the distribution of this sample statistic should be a normal with mean zero and standard deviation 5."
     ]
    },
    {
     "cell_type": "code",
     "collapsed": false,
     "input": [
      "mean(mn25n)  # expect a value close to zero"
     ],
     "language": "python",
     "metadata": {},
     "outputs": [
      {
       "metadata": {},
       "output_type": "pyout",
       "prompt_number": 13,
       "text": [
        "8.055557200945287e-5"
       ]
      }
     ],
     "prompt_number": 13
    },
    {
     "cell_type": "code",
     "collapsed": false,
     "input": [
      "std(mn25n)  # expect a value close to 0.2"
     ],
     "language": "python",
     "metadata": {},
     "outputs": [
      {
       "metadata": {},
       "output_type": "pyout",
       "prompt_number": 14,
       "text": [
        "0.1999020364309267"
       ]
      }
     ],
     "prompt_number": 14
    },
    {
     "cell_type": "markdown",
     "metadata": {},
     "source": [
      "The `randn` function for sampling from a normal distribution is in the `Base` module.  For other distributions we use the Distributions package.  Check the documentation for the Distributions package to see all the possibilities.\n",
      "\n",
      "To write a general function for simulating the distribution of sample statistics we need the distribution from which to sample, the sample size, the statistic to evaluate and the number of replications to perform.  A distribution object encompasses both the distribution type and the parameters of the distribution."
     ]
    },
    {
     "cell_type": "code",
     "collapsed": false,
     "input": [
      "typeof(Poisson)"
     ],
     "language": "python",
     "metadata": {},
     "outputs": [
      {
       "metadata": {},
       "output_type": "pyout",
       "prompt_number": 15,
       "text": [
        "DataType"
       ]
      }
     ],
     "prompt_number": 15
    },
    {
     "cell_type": "code",
     "collapsed": false,
     "input": [
      "methods(Poisson)"
     ],
     "language": "python",
     "metadata": {},
     "outputs": [
      {
       "html": [
        "2 methods for generic function <b>Poisson</b>:<ul><li> Poisson(l::<b>Real</b>) at <a href=\"https://github.com/JuliaStats/Distributions.jl/tree/0062789673c13fab97bce10579467526370a53e2/src/univariate/poisson.jl#L4\" target=\"_blank\">/home/bates/.julia/v0.3/Distributions/src/univariate/poisson.jl:4</a><li> Poisson() at <a href=\"https://github.com/JuliaStats/Distributions.jl/tree/0062789673c13fab97bce10579467526370a53e2/src/univariate/poisson.jl#L7\" target=\"_blank\">/home/bates/.julia/v0.3/Distributions/src/univariate/poisson.jl:7</a></ul>"
       ],
       "metadata": {},
       "output_type": "pyout",
       "prompt_number": 16,
       "text": [
        "# 2 methods for generic function \"Poisson\":\n",
        "Poisson(l::Real) at /home/bates/.julia/v0.3/Distributions/src/univariate/poisson.jl:4\n",
        "Poisson() at /home/bates/.julia/v0.3/Distributions/src/univariate/poisson.jl:7"
       ]
      }
     ],
     "prompt_number": 16
    },
    {
     "cell_type": "code",
     "collapsed": false,
     "input": [
      "d = Poisson(5)"
     ],
     "language": "python",
     "metadata": {},
     "outputs": [
      {
       "metadata": {},
       "output_type": "pyout",
       "prompt_number": 17,
       "text": [
        "Poisson( lambda=5.0 )"
       ]
      }
     ],
     "prompt_number": 17
    },
    {
     "cell_type": "markdown",
     "metadata": {},
     "source": [
      "A function to replicate N times the evaluation of the statistic, s, on a sample of size n from distribution d can be written"
     ]
    },
    {
     "cell_type": "code",
     "collapsed": false,
     "input": [
      "function sampstat(N::Integer,s::Function,n::Integer,d::Distribution)\n",
      "    samp = rand(d,n)   # simulate the first sample\n",
      "    v1 = s(samp)       # evaluate the statistic\n",
      "    res = Array(typeof(v1),(N,))  # create the result array\n",
      "    res[1] = v1        # set the first element\n",
      "    for i in 2:N\n",
      "        res[i] = s(rand(d,n))\n",
      "    end\n",
      "    res\n",
      "end"
     ],
     "language": "python",
     "metadata": {},
     "outputs": [
      {
       "metadata": {},
       "output_type": "pyout",
       "prompt_number": 18,
       "text": [
        "sampstat (generic function with 1 method)"
       ]
      }
     ],
     "prompt_number": 18
    },
    {
     "cell_type": "markdown",
     "metadata": {},
     "source": [
      "It might be good to step through the evaluation just to check that everything is okay."
     ]
    },
    {
     "cell_type": "code",
     "collapsed": false,
     "input": [
      "N = 100; n = 20; s = median"
     ],
     "language": "python",
     "metadata": {},
     "outputs": [
      {
       "metadata": {},
       "output_type": "pyout",
       "prompt_number": 19,
       "text": [
        "median (generic function with 33 methods)"
       ]
      }
     ],
     "prompt_number": 19
    },
    {
     "cell_type": "code",
     "collapsed": false,
     "input": [
      "samp = rand(d,n);\n",
      "samp'"
     ],
     "language": "python",
     "metadata": {},
     "outputs": [
      {
       "metadata": {},
       "output_type": "pyout",
       "prompt_number": 20,
       "text": [
        "1x20 Array{Int64,2}:\n",
        " 7  3  7  10  7  5  3  6  4  5  7  12  6  4  3  4  6  7  6  7"
       ]
      }
     ],
     "prompt_number": 20
    },
    {
     "cell_type": "code",
     "collapsed": false,
     "input": [
      "v1 = s(samp)"
     ],
     "language": "python",
     "metadata": {},
     "outputs": [
      {
       "metadata": {},
       "output_type": "pyout",
       "prompt_number": 21,
       "text": [
        "6.0"
       ]
      }
     ],
     "prompt_number": 21
    },
    {
     "cell_type": "code",
     "collapsed": false,
     "input": [
      "res = Array(typeof(v1),N);\n",
      "res[1] = v1"
     ],
     "language": "python",
     "metadata": {},
     "outputs": [
      {
       "metadata": {},
       "output_type": "pyout",
       "prompt_number": 22,
       "text": [
        "6.0"
       ]
      }
     ],
     "prompt_number": 22
    },
    {
     "cell_type": "code",
     "collapsed": false,
     "input": [
      "for i in 2:N\n",
      "    res[i] = s(rand(d,n))\n",
      "end"
     ],
     "language": "python",
     "metadata": {},
     "outputs": [],
     "prompt_number": 23
    },
    {
     "cell_type": "code",
     "collapsed": false,
     "input": [
      "res'"
     ],
     "language": "python",
     "metadata": {},
     "outputs": [
      {
       "metadata": {},
       "output_type": "pyout",
       "prompt_number": 24,
       "text": [
        "1x100 Array{Float64,2}:\n",
        " 6.0  5.0  5.0  6.0  4.5  5.0  5.0  5.0  \u2026  5.0  5.5  6.0  6.0  5.0  5.0  4.0"
       ]
      }
     ],
     "prompt_number": 24
    },
    {
     "cell_type": "markdown",
     "metadata": {},
     "source": [
      "Next we generate a large sample and check the timing"
     ]
    },
    {
     "cell_type": "code",
     "collapsed": false,
     "input": [
      "@time med20p = sampstat(1_000_000,median,20,d);"
     ],
     "language": "python",
     "metadata": {},
     "outputs": [
      {
       "output_type": "stream",
       "stream": "stdout",
       "text": [
        "elapsed time: 2"
       ]
      },
      {
       "output_type": "stream",
       "stream": "stdout",
       "text": [
        ".837439812 seconds (672330020 bytes allocated, 24.66% gc time)\n"
       ]
      }
     ],
     "prompt_number": 25
    },
    {
     "cell_type": "code",
     "collapsed": false,
     "input": [
      "med20p'"
     ],
     "language": "python",
     "metadata": {},
     "outputs": [
      {
       "metadata": {},
       "output_type": "pyout",
       "prompt_number": 26,
       "text": [
        "1x1000000 Array{Float64,2}:\n",
        " 4.5  5.0  5.0  6.0  5.0  5.5  5.0  4.0  \u2026  4.5  6.0  4.5  3.5  4.5  5.5  4.5"
       ]
      }
     ],
     "prompt_number": 26
    },
    {
     "cell_type": "markdown",
     "metadata": {},
     "source": [
      "We see that a large amount of storage is allocated and about 25% of the execution time is in garbage collection.  Because the function is fairly simple we can guess that the allocation is taking place in the call to `rand`.  For each of the 1,000,000 replications a new vector of 20 Int64 values is being allocated, populated, passed to the function `s` then released to be garbage collected later.\n",
      "\n",
      "Julia allows for __mutating__ functions that change the value of one or more of their arguments.  This may seem heretical to R programmers but it can be very useful.  Tuning the performance of long-running functions often comes down to finding out where temporary storage is being allocated and avoiding doing that.\n",
      "\n",
      "By convention, the names of mutating functions end in `!` so `rand` allocates new storage whereas `rand!` uses storage passed to it.  Fortunately the vector `samp` has already been allocated and we can reuse it."
     ]
    },
    {
     "cell_type": "code",
     "collapsed": false,
     "input": [
      "samp'"
     ],
     "language": "python",
     "metadata": {},
     "outputs": [
      {
       "metadata": {},
       "output_type": "pyout",
       "prompt_number": 27,
       "text": [
        "1x20 Array{Int64,2}:\n",
        " 7  3  7  10  7  5  3  6  4  5  7  12  6  4  3  4  6  7  6  7"
       ]
      }
     ],
     "prompt_number": 27
    },
    {
     "cell_type": "code",
     "collapsed": false,
     "input": [
      "rand!(d,samp)'"
     ],
     "language": "python",
     "metadata": {},
     "outputs": [
      {
       "metadata": {},
       "output_type": "pyout",
       "prompt_number": 28,
       "text": [
        "1x20 Array{Int64,2}:\n",
        " 4  4  5  6  6  5  8  4  7  6  2  8  2  6  4  8  8  4  3  2"
       ]
      }
     ],
     "prompt_number": 28
    },
    {
     "cell_type": "code",
     "collapsed": false,
     "input": [
      "samp'"
     ],
     "language": "python",
     "metadata": {},
     "outputs": [
      {
       "metadata": {},
       "output_type": "pyout",
       "prompt_number": 29,
       "text": [
        "1x20 Array{Int64,2}:\n",
        " 4  4  5  6  6  5  8  4  7  6  2  8  2  6  4  8  8  4  3  2"
       ]
      }
     ],
     "prompt_number": 29
    },
    {
     "cell_type": "code",
     "collapsed": false,
     "input": [
      "function sampstat1(N::Integer,s::Function,n::Integer,d::Distribution)\n",
      "    samp = rand(d,n)   # simulate the first sample\n",
      "    v1 = s(samp)       # evaluate the statistic\n",
      "    res = Array(typeof(v1),(N,))  # create the result array\n",
      "    res[1] = v1        # set the first element\n",
      "    for i in 2:N\n",
      "        res[i] = s(rand!(d,samp))\n",
      "    end\n",
      "    res\n",
      "end"
     ],
     "language": "python",
     "metadata": {},
     "outputs": [
      {
       "metadata": {},
       "output_type": "pyout",
       "prompt_number": 30,
       "text": [
        "sampstat1 (generic function with 1 method)"
       ]
      }
     ],
     "prompt_number": 30
    },
    {
     "cell_type": "code",
     "collapsed": false,
     "input": [
      "@time med20p1 = sampstat1(1_000_000,s,n,d)'"
     ],
     "language": "python",
     "metadata": {},
     "outputs": [
      {
       "output_type": "stream",
       "stream": "stdout",
       "text": [
        "elapsed time: "
       ]
      },
      {
       "output_type": "stream",
       "stream": "stdout",
       "text": [
        "2.197252643 seconds (408102780 bytes allocated, 16.71% gc time)\n"
       ]
      },
      {
       "metadata": {},
       "output_type": "pyout",
       "prompt_number": 31,
       "text": [
        "1x1000000 Array{Float64,2}:\n",
        " 5.0  5.5  5.0  5.0  4.5  5.0  4.0  4.0  \u2026  4.0  6.0  4.0  6.5  5.0  5.0  5.0"
       ]
      }
     ],
     "prompt_number": 31
    },
    {
     "cell_type": "markdown",
     "metadata": {},
     "source": [
      "The reuse of the `samp` vector has helped to reduce the amount of storage allocated and the time spent in garbage collection but not substantially.  A less obvious source of allocation is the `median` function.  The non-mutating version must take a copy of the vector to do the (partial) sort evaluating the median.  We don't need to preserve the sample because we are going to overwrite it in the next iteration anyway."
     ]
    },
    {
     "cell_type": "code",
     "collapsed": false,
     "input": [
      "@time med20p1 = sampstat1(1_000_000,median!,n,d)'"
     ],
     "language": "python",
     "metadata": {},
     "outputs": [
      {
       "output_type": "stream",
       "stream": "stdout",
       "text": [
        "elapsed time: "
       ]
      },
      {
       "output_type": "stream",
       "stream": "stdout",
       "text": [
        "1.585390103 seconds (136013860 bytes allocated, 5.89% gc time)\n"
       ]
      },
      {
       "metadata": {},
       "output_type": "pyout",
       "prompt_number": 32,
       "text": [
        "1x1000000 Array{Float64,2}:\n",
        " 4.5  6.0  5.0  5.0  6.0  5.0  5.5  5.5  \u2026  5.0  5.0  5.0  5.0  4.0  4.0  6.0"
       ]
      }
     ],
     "prompt_number": 32
    },
    {
     "cell_type": "markdown",
     "metadata": {},
     "source": [
      "We should, of course, check that the results are consistent by setting the random number generator seed and comparing the results from the two `sampstat` functions and the mutating and non-mutating `median` functions."
     ]
    },
    {
     "cell_type": "code",
     "collapsed": false,
     "input": [
      "srand(1234321)\n",
      "s1 = sampstat(100_000,median,n,d);\n",
      "srand(1234321)\n",
      "s2 = sampstat(100_000,median!,n,d);\n",
      "srand(1234321)\n",
      "s3 = sampstat1(100_000,median,n,d);\n",
      "srand(1234321)\n",
      "s4 = sampstat1(100_000,median!,n,d);\n",
      "all(s1 .== s2 .== s3 .== s4)"
     ],
     "language": "python",
     "metadata": {},
     "outputs": [
      {
       "metadata": {},
       "output_type": "pyout",
       "prompt_number": 33,
       "text": [
        "true"
       ]
      }
     ],
     "prompt_number": 33
    },
    {
     "cell_type": "heading",
     "level": 2,
     "metadata": {},
     "source": [
      "Syntax of function (actually method) definitions"
     ]
    },
    {
     "cell_type": "markdown",
     "metadata": {},
     "source": [
      "We have seen that a method is defined by a block of the form\n",
      "```\n",
      "function <functionname>(arg1::Type1,arg2::Type2,...,argn::Typen)\n",
      "   ...\n",
      "end\n",
      "```\n",
      "\n",
      "Be careful not to let your R instincts take over and write\n",
      "```\n",
      "functionanme = function(arg1::Type1,...,argn::Typen)\n",
      " ...\n",
      "end\n",
      "```\n",
      "That is not syntactically wrong but it isn't what you want. (The gory details are that it creates an anonymous function, which is generally less effective because of the way the compiler and type inference operates, then assigning this anonymous function to a name.)\n",
      "\n",
      "The type annotations are optional.  Obviously when you are defining methods that are distinguished by the types of their arguments you use them.  Other times you may want to use them to validate the arguments.  In `sampstat` the argument `s` is applied as a function so it should be a function.  The argument `d` is passed to `rand` or `rand!` and it could be something other than a Distribution but we want a Distribution here.  It wouldn't make sense for `n` and `N` to be other than integers as they represent sizes.  The `Integer` type is an abstract type with several subtypes. "
     ]
    },
    {
     "cell_type": "code",
     "collapsed": false,
     "input": [
      "typeof(Integer)"
     ],
     "language": "python",
     "metadata": {},
     "outputs": [
      {
       "metadata": {},
       "output_type": "pyout",
       "prompt_number": 34,
       "text": [
        "DataType"
       ]
      }
     ],
     "prompt_number": 34
    },
    {
     "cell_type": "code",
     "collapsed": false,
     "input": [
      "subtypes(Integer)"
     ],
     "language": "python",
     "metadata": {},
     "outputs": [
      {
       "metadata": {},
       "output_type": "pyout",
       "prompt_number": 35,
       "text": [
        "5-element Array{Any,1}:\n",
        " BigInt  \n",
        " Bool    \n",
        " Char    \n",
        " Signed  \n",
        " Unsigned"
       ]
      }
     ],
     "prompt_number": 35
    },
    {
     "cell_type": "markdown",
     "metadata": {},
     "source": [
      "Those coming to Julia with a background in strongly typed languages (C, C++, Java) tend to overspecify the argument types.  Generally I use argument type declarations when I want to distinguish methods and to validate the argument types.  Frequently in R I will begin a function with\n",
      "```s\n",
      "f <- function(a, b, c) {\n",
      "   stopifnot(is.integer(a), length(a) == 1L, ...)\n",
      "   ...\n",
      "}\n",
      "```\n",
      "to validate the types of the actual arguments.  In Julia I specify the types that I want in the argument list.  If other types are passed the evaluation of the function fails to find an appropriate method.\n",
      "\n",
      "The value of a function evaluation is the last object evaluated.  There is also a `return` directive which can be useful in short-circuiting evaluation.\n",
      "\n",
      "A method that consists of a single expression can be written with an `=` sign.  For example, the `insupport` generic checks whether a value `x` is in the support of a distribution `d`.  The method for the Binomial type is\n",
      "```julia\n",
      "insupport(d::Binomial, x::Real) = isinteger(x) && 0 <= x <= d.size\n",
      "```\n",
      "If we want to check for all of a vector's elements being in the support we could write"
     ]
    },
    {
     "cell_type": "code",
     "collapsed": false,
     "input": [
      "function vsupport(d::Binomial,v::Vector)\n",
      "    for el in v\n",
      "        insupport(el) || return false\n",
      "    end\n",
      "    true\n",
      "end"
     ],
     "language": "python",
     "metadata": {},
     "outputs": [
      {
       "metadata": {},
       "output_type": "pyout",
       "prompt_number": 36,
       "text": [
        "vsupport (generic function with 1 method)"
       ]
      }
     ],
     "prompt_number": 36
    },
    {
     "cell_type": "markdown",
     "metadata": {},
     "source": [
      "Doing things this way if you have a million values to check and the second one fails you don't bother checking the rest.\n",
      "\n",
      "An short anonymous function can be written with the \"stabby lambda syntax\".  To apply the logit transform to a vector of values in (0,1) we could write"
     ]
    },
    {
     "cell_type": "code",
     "collapsed": false,
     "input": [
      "\u03bc = rand(10);\n",
      "\u03b7 = map(p -> log(p/(1-p)), \u03bc);\n",
      "using DataFrames\n",
      "DataFrame(\u03bc = \u03bc, \u03b7 = \u03b7)"
     ],
     "language": "python",
     "metadata": {},
     "outputs": [
      {
       "html": [
        "<table><tr><th></th><th>\u03bc</th><th>\u03b7</th></tr><tr><th>1</th><td>0.9387307063426651</td><td>2.7292498520589827</td></tr><tr><th>2</th><td>0.227435462579066</td><td>-1.2228490316944904</td></tr><tr><th>3</th><td>0.39377851421108456</td><td>-0.4314568028334493</td></tr><tr><th>4</th><td>0.2760666185828877</td><td>-0.9640571652660408</td></tr><tr><th>5</th><td>0.25829405398465344</td><td>-1.0548541854164812</td></tr><tr><th>6</th><td>0.5691277718876366</td><td>0.27829337242364954</td></tr><tr><th>7</th><td>0.3334074018213935</td><td>-0.6928138908752863</td></tr><tr><th>8</th><td>0.9599239117003784</td><td>3.176074167976459</td></tr><tr><th>9</th><td>0.35380160229485025</td><td>-0.6023702632916837</td></tr><tr><th>10</th><td>0.8724073274155166</td><td>1.9224134890635038</td></tr></table>"
       ],
       "metadata": {},
       "output_type": "pyout",
       "prompt_number": 37,
       "text": [
        "10x2 DataFrame\n",
        "|-------|----------|-----------|\n",
        "| Row # | \u03bc        | \u03b7         |\n",
        "| 1     | 0.938731 | 2.72925   |\n",
        "| 2     | 0.227435 | -1.22285  |\n",
        "| 3     | 0.393779 | -0.431457 |\n",
        "| 4     | 0.276067 | -0.964057 |\n",
        "| 5     | 0.258294 | -1.05485  |\n",
        "| 6     | 0.569128 | 0.278293  |\n",
        "| 7     | 0.333407 | -0.692814 |\n",
        "| 8     | 0.959924 | 3.17607   |\n",
        "| 9     | 0.353802 | -0.60237  |\n",
        "| 10    | 0.872407 | 1.92241   |"
       ]
      }
     ],
     "prompt_number": 37
    }
   ],
   "metadata": {}
  }
 ]
}