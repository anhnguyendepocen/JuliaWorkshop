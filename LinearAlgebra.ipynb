{
 "metadata": {
  "language": "Julia",
  "name": ""
 },
 "nbformat": 3,
 "nbformat_minor": 0,
 "worksheets": [
  {
   "cells": [
    {
     "cell_type": "heading",
     "level": 1,
     "metadata": {},
     "source": [
      "Linear Algebra in Julia"
     ]
    },
    {
     "cell_type": "markdown",
     "metadata": {},
     "source": [
      "The linear algebra facilities in [Julia](http://julialang.org) are a superset of the base facilities in [R](http://www.R-project.org) and Matlab/Octave.  As in `R` a vector is considered as a column vector for purposes of linear algebra.  Its transpose is a 1$\\times$n matrix. The equivalent of `dim` in `R` is `size`."
     ]
    },
    {
     "cell_type": "code",
     "collapsed": false,
     "input": [
      "v1 = [1:6];\n",
      "size(v1)  # size always returns a tuple"
     ],
     "language": "python",
     "metadata": {},
     "outputs": [
      {
       "metadata": {},
       "output_type": "pyout",
       "prompt_number": 1,
       "text": [
        "(6,)"
       ]
      }
     ],
     "prompt_number": 1
    },
    {
     "cell_type": "code",
     "collapsed": false,
     "input": [
      "length(v1)"
     ],
     "language": "python",
     "metadata": {},
     "outputs": [
      {
       "metadata": {},
       "output_type": "pyout",
       "prompt_number": 2,
       "text": [
        "6"
       ]
      }
     ],
     "prompt_number": 2
    },
    {
     "cell_type": "code",
     "collapsed": false,
     "input": [
      "m1 = reshape([1:6],(3,2))"
     ],
     "language": "python",
     "metadata": {},
     "outputs": [
      {
       "metadata": {},
       "output_type": "pyout",
       "prompt_number": 3,
       "text": [
        "3x2 Array{Int64,2}:\n",
        " 1  4\n",
        " 2  5\n",
        " 3  6"
       ]
      }
     ],
     "prompt_number": 3
    },
    {
     "cell_type": "markdown",
     "metadata": {},
     "source": [
      "Because `size` returns a tuple the number of rows and columns can be assigned in one statement.  A common idiom is"
     ]
    },
    {
     "cell_type": "code",
     "collapsed": false,
     "input": [
      "m,n = size(m1)"
     ],
     "language": "python",
     "metadata": {},
     "outputs": [
      {
       "metadata": {},
       "output_type": "pyout",
       "prompt_number": 4,
       "text": [
        "(3,2)"
       ]
      }
     ],
     "prompt_number": 4
    },
    {
     "cell_type": "code",
     "collapsed": false,
     "input": [
      "println(\"Number of rows = $m and number of columns = $n\")"
     ],
     "language": "python",
     "metadata": {},
     "outputs": [
      {
       "output_type": "stream",
       "stream": "stdout",
       "text": [
        "Number of rows = 3 and number of columns = 2\n"
       ]
      }
     ],
     "prompt_number": 5
    },
    {
     "cell_type": "markdown",
     "metadata": {},
     "source": [
      "As in `R`, matrices and higher-dimensional arrays are stored in _column-major_ ordering.  Transpose is indicated by `'`. The `*` operator applied to arrays denotes matrix multiplication.  Element-wise multiplication is indicated by `.*`.  In general a prefix `.` to an operator makes it behave element-wise.  Constructors of arrays with specific content include `ones()`, `zeros()` and `eye()` (the identity matrix)."
     ]
    },
    {
     "cell_type": "code",
     "collapsed": false,
     "input": [
      "m1 * ones(2)"
     ],
     "language": "python",
     "metadata": {},
     "outputs": [
      {
       "metadata": {},
       "output_type": "pyout",
       "prompt_number": 6,
       "text": [
        "3-element Array{Float64,1}:\n",
        " 5.0\n",
        " 7.0\n",
        " 9.0"
       ]
      }
     ],
     "prompt_number": 6
    },
    {
     "cell_type": "code",
     "collapsed": false,
     "input": [
      "m1'*m1"
     ],
     "language": "python",
     "metadata": {},
     "outputs": [
      {
       "metadata": {},
       "output_type": "pyout",
       "prompt_number": 7,
       "text": [
        "2x2 Array{Int64,2}:\n",
        " 14  32\n",
        " 32  77"
       ]
      }
     ],
     "prompt_number": 7
    },
    {
     "cell_type": "code",
     "collapsed": false,
     "input": [
      "eye(3)"
     ],
     "language": "python",
     "metadata": {},
     "outputs": [
      {
       "metadata": {},
       "output_type": "pyout",
       "prompt_number": 8,
       "text": [
        "3x3 Array{Float64,2}:\n",
        " 1.0  0.0  0.0\n",
        " 0.0  1.0  0.0\n",
        " 0.0  0.0  1.0"
       ]
      }
     ],
     "prompt_number": 8
    },
    {
     "cell_type": "code",
     "collapsed": false,
     "input": [
      "eye(3,4)"
     ],
     "language": "python",
     "metadata": {},
     "outputs": [
      {
       "metadata": {},
       "output_type": "pyout",
       "prompt_number": 9,
       "text": [
        "3x4 Array{Float64,2}:\n",
        " 1.0  0.0  0.0  0.0\n",
        " 0.0  1.0  0.0  0.0\n",
        " 0.0  0.0  1.0  0.0"
       ]
      }
     ],
     "prompt_number": 9
    },
    {
     "cell_type": "code",
     "collapsed": false,
     "input": [
      "ones(Int,(2,3))"
     ],
     "language": "python",
     "metadata": {},
     "outputs": [
      {
       "metadata": {},
       "output_type": "pyout",
       "prompt_number": 10,
       "text": [
        "2x3 Array{Int64,2}:\n",
        " 1  1  1\n",
        " 1  1  1"
       ]
      }
     ],
     "prompt_number": 10
    },
    {
     "cell_type": "markdown",
     "metadata": {},
     "source": [
      "The equivalent of `R`'s `cbind` and `rbind` functions are `hcat` and `vcat`."
     ]
    },
    {
     "cell_type": "code",
     "collapsed": false,
     "input": [
      "m2 = hcat(ones(3),[-1.:1.])"
     ],
     "language": "python",
     "metadata": {},
     "outputs": [
      {
       "metadata": {},
       "output_type": "pyout",
       "prompt_number": 11,
       "text": [
        "3x2 Array{Float64,2}:\n",
        " 1.0  -1.0\n",
        " 1.0   0.0\n",
        " 1.0   1.0"
       ]
      }
     ],
     "prompt_number": 11
    },
    {
     "cell_type": "markdown",
     "metadata": {},
     "source": [
      "`vcat` is used for concatenating vectors."
     ]
    },
    {
     "cell_type": "code",
     "collapsed": false,
     "input": [
      "vcat([1.:3.],ones(2))"
     ],
     "language": "python",
     "metadata": {},
     "outputs": [
      {
       "metadata": {},
       "output_type": "pyout",
       "prompt_number": 12,
       "text": [
        "5-element Array{Float64,1}:\n",
        " 1.0\n",
        " 2.0\n",
        " 3.0\n",
        " 1.0\n",
        " 1.0"
       ]
      }
     ],
     "prompt_number": 12
    },
    {
     "cell_type": "markdown",
     "metadata": {},
     "source": [
      "In some circumstances you can omit the `*` in a multiplication."
     ]
    },
    {
     "cell_type": "code",
     "collapsed": false,
     "input": [
      "m22 = m2'm2"
     ],
     "language": "python",
     "metadata": {},
     "outputs": [
      {
       "metadata": {},
       "output_type": "pyout",
       "prompt_number": 13,
       "text": [
        "2x2 Array{Float64,2}:\n",
        " 3.0  0.0\n",
        " 0.0  2.0"
       ]
      }
     ],
     "prompt_number": 13
    },
    {
     "cell_type": "markdown",
     "metadata": {},
     "source": [
      "Unlike in `R`, the `Julia` expression `X'X` is evaluated using only one copy of `X` and will always produce a symmetric matrix.  In `R` the function `crossprod` must be called to do this.  (Be careful, in `Julia` there is an operation called a _cross product_ but it is the cross product from Physics.) "
     ]
    },
    {
     "cell_type": "code",
     "collapsed": false,
     "input": [
      "help(\u00d7)"
     ],
     "language": "python",
     "metadata": {},
     "outputs": [
      {
       "output_type": "stream",
       "stream": "stderr",
       "text": [
        "INFO: Loading help data...\n"
       ]
      },
      {
       "output_type": "stream",
       "stream": "stdout",
       "text": [
        "Base.cross(x, y)\n",
        "\n",
        "   Compute the cross product of two 3-vectors.\n"
       ]
      }
     ],
     "prompt_number": 14
    },
    {
     "cell_type": "heading",
     "level": 2,
     "metadata": {},
     "source": [
      "Solving linear systems of equations"
     ]
    },
    {
     "cell_type": "markdown",
     "metadata": {},
     "source": [
      "The backslash operator, `\\`, denotes the solution of a linear system of equations of the form $Ax=b$."
     ]
    },
    {
     "cell_type": "code",
     "collapsed": false,
     "input": [
      "m22\\(m2'ones(3))"
     ],
     "language": "python",
     "metadata": {},
     "outputs": [
      {
       "metadata": {},
       "output_type": "pyout",
       "prompt_number": 15,
       "text": [
        "2-element Array{Float64,1}:\n",
        " 1.0\n",
        " 0.0"
       ]
      }
     ],
     "prompt_number": 15
    },
    {
     "cell_type": "markdown",
     "metadata": {},
     "source": [
      "With a rectangular left-hand side `\\` denotes a least-squares solution"
     ]
    },
    {
     "cell_type": "code",
     "collapsed": false,
     "input": [
      "m2\\ones(3)"
     ],
     "language": "python",
     "metadata": {},
     "outputs": [
      {
       "metadata": {},
       "output_type": "pyout",
       "prompt_number": 16,
       "text": [
        "2-element Array{Float64,1}:\n",
        "  1.0\n",
        " -0.0"
       ]
      }
     ],
     "prompt_number": 16
    },
    {
     "cell_type": "markdown",
     "metadata": {},
     "source": [
      "Note that this solution is a bit different from the previous solution because of numerical imprecision in the computation."
     ]
    },
    {
     "cell_type": "heading",
     "level": 2,
     "metadata": {},
     "source": [
      "Factorizations"
     ]
    },
    {
     "cell_type": "markdown",
     "metadata": {},
     "source": [
      "Those who haven't studied numerical linear algebra assume that a linear system of equations is solved as $A^{-1}b$.  In practice it is almost never necessary to evaluate the inverse of a matrix.  Instead the matrix is factored into a product of other matrices that have desirable properties such as being triangular.\n",
      "\n",
      "Such factorizations include the singular value decomposition (SVD), the QR decomposition (with or without pivoting), the Cholesky factorization (with or without pivoting) for a positive-semidefinite symmetric matrix, the LU factorization and the Eigen decomposition.  The names of the constructors of the decomposition usually end in `fact`."
     ]
    },
    {
     "cell_type": "code",
     "collapsed": false,
     "input": [
      "m3 = hcat(ones(3),[1.:3])"
     ],
     "language": "python",
     "metadata": {},
     "outputs": [
      {
       "metadata": {},
       "output_type": "pyout",
       "prompt_number": 17,
       "text": [
        "3x2 Array{Float64,2}:\n",
        " 1.0  1.0\n",
        " 1.0  2.0\n",
        " 1.0  3.0"
       ]
      }
     ],
     "prompt_number": 17
    },
    {
     "cell_type": "code",
     "collapsed": false,
     "input": [
      "m33 = m3'm3"
     ],
     "language": "python",
     "metadata": {},
     "outputs": [
      {
       "metadata": {},
       "output_type": "pyout",
       "prompt_number": 18,
       "text": [
        "2x2 Array{Float64,2}:\n",
        " 3.0   6.0\n",
        " 6.0  14.0"
       ]
      }
     ],
     "prompt_number": 18
    },
    {
     "cell_type": "code",
     "collapsed": false,
     "input": [
      "cf33 = cholfact(m33)"
     ],
     "language": "python",
     "metadata": {},
     "outputs": [
      {
       "output_type": "stream",
       "stream": "stdout",
       "text": [
        "Cholesky{Float64} with factor:"
       ]
      },
      {
       "metadata": {},
       "output_type": "pyout",
       "prompt_number": 19,
       "text": [
        "2x2 Triangular{Float64,Array{Float64,2},:U,false}:\n",
        " 1.73205  3.4641 \n",
        " 0.0      1.41421"
       ]
      }
     ],
     "prompt_number": 19
    },
    {
     "cell_type": "code",
     "collapsed": false,
     "input": [
      "cf33[:L]  # extract the lower Cholesky factor"
     ],
     "language": "python",
     "metadata": {},
     "outputs": [
      {
       "output_type": "stream",
       "stream": "stdout",
       "text": [
        "\n"
       ]
      },
      {
       "metadata": {},
       "output_type": "pyout",
       "prompt_number": 20,
       "text": [
        "2x2 Triangular{Float64,Array{Float64,2},:L,false}:\n",
        " 1.73205  0.0    \n",
        " 3.4641   1.41421"
       ]
      }
     ],
     "prompt_number": 20
    },
    {
     "cell_type": "code",
     "collapsed": false,
     "input": [
      "cf33[:U] # extract the upper triangular Cholesky factor, cf22[:L]'"
     ],
     "language": "python",
     "metadata": {},
     "outputs": [
      {
       "metadata": {},
       "output_type": "pyout",
       "prompt_number": 21,
       "text": [
        "2x2 Triangular{Float64,Array{Float64,2},:U,false}:\n",
        " 1.73205  3.4641 \n",
        " 0.0      1.41421"
       ]
      }
     ],
     "prompt_number": 21
    },
    {
     "cell_type": "code",
     "collapsed": false,
     "input": [
      "full(cf33)  # the matrix (up to round-off) represented by the factorization"
     ],
     "language": "python",
     "metadata": {},
     "outputs": [
      {
       "metadata": {},
       "output_type": "pyout",
       "prompt_number": 22,
       "text": [
        "2x2 Array{Float64,2}:\n",
        " 3.0   6.0\n",
        " 6.0  14.0"
       ]
      }
     ],
     "prompt_number": 22
    },
    {
     "cell_type": "code",
     "collapsed": false,
     "input": [
      "det(cf33)   # determinant of full(cf33), calculated from det(cf33[:U])"
     ],
     "language": "python",
     "metadata": {},
     "outputs": [
      {
       "metadata": {},
       "output_type": "pyout",
       "prompt_number": 23,
       "text": [
        "5.999999999999983"
       ]
      }
     ],
     "prompt_number": 23
    },
    {
     "cell_type": "code",
     "collapsed": false,
     "input": [
      "logdet(cf33)  # more practical for positive semidefinite"
     ],
     "language": "python",
     "metadata": {},
     "outputs": [
      {
       "metadata": {},
       "output_type": "pyout",
       "prompt_number": 24,
       "text": [
        "1.7917594692280523"
       ]
      }
     ],
     "prompt_number": 24
    },
    {
     "cell_type": "markdown",
     "metadata": {},
     "source": [
      "Although one rarely needs the inverse of a general matrix, it is sometimes useful to get the inverse of the matrix represented by the Cholesky factorization.  This is feasible because the factor is triangular and determining the inverse of a triangular matrix is easier than doing so for a general matrix.  Suppose we want the estimated covariance matrix of the coefficient estimates."
     ]
    },
    {
     "cell_type": "code",
     "collapsed": false,
     "input": [
      "y = rand(3)"
     ],
     "language": "python",
     "metadata": {},
     "outputs": [
      {
       "metadata": {},
       "output_type": "pyout",
       "prompt_number": 25,
       "text": [
        "3-element Array{Float64,1}:\n",
        " 0.747505\n",
        " 0.867969\n",
        " 0.881426"
       ]
      }
     ],
     "prompt_number": 25
    },
    {
     "cell_type": "code",
     "collapsed": false,
     "input": [
      "\u03b2 = cf33\\(m3'y)"
     ],
     "language": "python",
     "metadata": {},
     "outputs": [
      {
       "metadata": {},
       "output_type": "pyout",
       "prompt_number": 26,
       "text": [
        "2-element Array{Float64,1}:\n",
        " 0.698379 \n",
        " 0.0669604"
       ]
      }
     ],
     "prompt_number": 26
    },
    {
     "cell_type": "code",
     "collapsed": false,
     "input": [
      "y\u0302 = m3*\u03b2  # note you have to construct y\u0302 as y\\hat<tab> not \\hat<tab>y"
     ],
     "language": "python",
     "metadata": {},
     "outputs": [
      {
       "metadata": {},
       "output_type": "pyout",
       "prompt_number": 27,
       "text": [
        "3-element Array{Float64,1}:\n",
        " 0.765339\n",
        " 0.8323  \n",
        " 0.89926 "
       ]
      }
     ],
     "prompt_number": 27
    },
    {
     "cell_type": "code",
     "collapsed": false,
     "input": [
      "resid = y - y\u0302"
     ],
     "language": "python",
     "metadata": {},
     "outputs": [
      {
       "metadata": {},
       "output_type": "pyout",
       "prompt_number": 28,
       "text": [
        "3-element Array{Float64,1}:\n",
        " -0.0178343\n",
        "  0.0356687\n",
        " -0.0178343"
       ]
      }
     ],
     "prompt_number": 28
    },
    {
     "cell_type": "code",
     "collapsed": false,
     "input": [
      "s\u00b2 = Base.sumabs2(resid)/(3-2)"
     ],
     "language": "python",
     "metadata": {},
     "outputs": [
      {
       "metadata": {},
       "output_type": "pyout",
       "prompt_number": 29,
       "text": [
        "0.0019083835864747293"
       ]
      }
     ],
     "prompt_number": 29
    },
    {
     "cell_type": "code",
     "collapsed": false,
     "input": [
      "vcv = s\u00b2*inv(cf33)"
     ],
     "language": "python",
     "metadata": {},
     "outputs": [
      {
       "metadata": {},
       "output_type": "pyout",
       "prompt_number": 30,
       "text": [
        "2x2 Array{Float64,2}:\n",
        "  0.0044529   -0.00190838 \n",
        " -0.00190838   0.000954192"
       ]
      }
     ],
     "prompt_number": 30
    },
    {
     "cell_type": "markdown",
     "metadata": {},
     "source": [
      "The pivoted Cholesky decomposition has better numerical properties than does the unpivoted version and is a _rank-revealing_ decomposition."
     ]
    },
    {
     "cell_type": "code",
     "collapsed": false,
     "input": [
      "cf33 = cholfact(m33; pivot=true)"
     ],
     "language": "python",
     "metadata": {},
     "outputs": [
      {
       "metadata": {},
       "output_type": "pyout",
       "prompt_number": 31,
       "text": [
        "CholeskyPivoted{Float64}(2x2 Array{Float64,2}:\n",
        " 3.74166  1.60357 \n",
        " 6.0      0.654654,'U',Int32[2,1],2,0.0,0)"
       ]
      }
     ],
     "prompt_number": 31
    },
    {
     "cell_type": "markdown",
     "metadata": {},
     "source": [
      "At present this factorization doesn't have an attractive `show` method."
     ]
    },
    {
     "cell_type": "code",
     "collapsed": false,
     "input": [
      "cf33[:U]  # this is not typed as Triangular but should be"
     ],
     "language": "python",
     "metadata": {},
     "outputs": [
      {
       "metadata": {},
       "output_type": "pyout",
       "prompt_number": 32,
       "text": [
        "2x2 Array{Float64,2}:\n",
        " 3.74166  1.60357 \n",
        " 0.0      0.654654"
       ]
      }
     ],
     "prompt_number": 32
    },
    {
     "cell_type": "code",
     "collapsed": false,
     "input": [
      "cf33[:p]  # the pivot vector"
     ],
     "language": "python",
     "metadata": {},
     "outputs": [
      {
       "metadata": {},
       "output_type": "pyout",
       "prompt_number": 33,
       "text": [
        "2-element Array{Int32,1}:\n",
        " 2\n",
        " 1"
       ]
      }
     ],
     "prompt_number": 33
    },
    {
     "cell_type": "code",
     "collapsed": false,
     "input": [
      "cf33[:P] # the pivot matrix"
     ],
     "language": "python",
     "metadata": {},
     "outputs": [
      {
       "metadata": {},
       "output_type": "pyout",
       "prompt_number": 34,
       "text": [
        "2x2 Array{Float64,2}:\n",
        " 0.0  1.0\n",
        " 1.0  0.0"
       ]
      }
     ],
     "prompt_number": 34
    },
    {
     "cell_type": "code",
     "collapsed": false,
     "input": [
      "rank(cf33)"
     ],
     "language": "python",
     "metadata": {},
     "outputs": [
      {
       "metadata": {},
       "output_type": "pyout",
       "prompt_number": 35,
       "text": [
        "2"
       ]
      }
     ],
     "prompt_number": 35
    },
    {
     "cell_type": "heading",
     "level": 3,
     "metadata": {},
     "source": [
      "The QR decomposition"
     ]
    },
    {
     "cell_type": "markdown",
     "metadata": {},
     "source": [
      "The QR decomposition is a direct (i.e. non-iterative) decomposition used, among other things, to solve least squares problems.  It decomposes a rectangular `X` into an orthogonal matrix `Q` and an upper triangular matrix `R`.  The matrix `Q`, which could be very large if the number of rows of `X` is large, is stored implicitly."
     ]
    },
    {
     "cell_type": "code",
     "collapsed": false,
     "input": [
      "qr3 = qrfact(m3)"
     ],
     "language": "python",
     "metadata": {},
     "outputs": [
      {
       "metadata": {},
       "output_type": "pyout",
       "prompt_number": 36,
       "text": [
        "QRCompactWY{Float64}(3x2 Array{Float64,2}:\n",
        " -1.73205   -3.4641  \n",
        "  0.366025  -1.41421 \n",
        "  0.366025   0.767327,2x2 Array{Float64,2}:\n",
        " 1.57735      -1.28446\n",
        " 7.5864e-317   1.25882)"
       ]
      }
     ],
     "prompt_number": 36
    },
    {
     "cell_type": "code",
     "collapsed": false,
     "input": [
      "qr3[:R]"
     ],
     "language": "python",
     "metadata": {},
     "outputs": [
      {
       "metadata": {},
       "output_type": "pyout",
       "prompt_number": 37,
       "text": [
        "2x2 Array{Float64,2}:\n",
        " -1.73205  -3.4641 \n",
        "  0.0      -1.41421"
       ]
      }
     ],
     "prompt_number": 37
    },
    {
     "cell_type": "code",
     "collapsed": false,
     "input": [
      "qr3[:Q]  # the implicit representation"
     ],
     "language": "python",
     "metadata": {},
     "outputs": [
      {
       "metadata": {},
       "output_type": "pyout",
       "prompt_number": 38,
       "text": [
        "3x3 QRCompactWYQ{Float64}:\n",
        " -0.57735   0.707107   \n",
        " -0.57735   1.11022e-16\n",
        " -0.57735  -0.707107   "
       ]
      }
     ],
     "prompt_number": 38
    },
    {
     "cell_type": "markdown",
     "metadata": {},
     "source": [
      "The QR factorization can be used directly for least squares solutions."
     ]
    },
    {
     "cell_type": "code",
     "collapsed": false,
     "input": [
      "\u03b2 = qr3\\y"
     ],
     "language": "python",
     "metadata": {},
     "outputs": [
      {
       "metadata": {},
       "output_type": "pyout",
       "prompt_number": 39,
       "text": [
        "2-element Array{Float64,1}:\n",
        " 0.698379 \n",
        " 0.0669604"
       ]
      }
     ],
     "prompt_number": 39
    },
    {
     "cell_type": "markdown",
     "metadata": {},
     "source": [
      "What are called the `effects` in an `R` `lm` object are `Q'y`"
     ]
    },
    {
     "cell_type": "code",
     "collapsed": false,
     "input": [
      "qr3[:Q]'y"
     ],
     "language": "python",
     "metadata": {},
     "outputs": [
      {
       "metadata": {},
       "output_type": "pyout",
       "prompt_number": 40,
       "text": [
        "3-element Array{Float64,1}:\n",
        " -1.44159  \n",
        " -0.0946963\n",
        " -0.043685 "
       ]
      }
     ],
     "prompt_number": 40
    },
    {
     "cell_type": "markdown",
     "metadata": {},
     "source": [
      "There is also a pivoted QR decomposition which is rank-revealing."
     ]
    },
    {
     "cell_type": "code",
     "collapsed": false,
     "input": [
      "qr3 = qrfact(m3; pivot=true)"
     ],
     "language": "python",
     "metadata": {},
     "outputs": [
      {
       "metadata": {},
       "output_type": "pyout",
       "prompt_number": 41,
       "text": [
        "QRPivoted{Float64}(3x2 Array{Float64,2}:\n",
        " -3.74166   -1.60357 \n",
        "  0.421793   0.654654\n",
        "  0.63269    0.859768,[1.26726,1.14995],Int32[2,1])"
       ]
      }
     ],
     "prompt_number": 41
    },
    {
     "cell_type": "heading",
     "level": 3,
     "metadata": {},
     "source": [
      "The SVD"
     ]
    },
    {
     "cell_type": "markdown",
     "metadata": {},
     "source": [
      "The singular value decomposition represents `X` as `U*S*V'` where `U` and `V` are orthogonal and `S` is diagonal.  It is related to the eigen decomposition in that the eigen decomposition of `X'X` is `V*S*S*V'`.  The eigenvalues of `X'X` are the squares of the singular values of `X`."
     ]
    },
    {
     "cell_type": "code",
     "collapsed": false,
     "input": [
      "sv3 = svdfact(m3)"
     ],
     "language": "python",
     "metadata": {},
     "outputs": [
      {
       "metadata": {},
       "output_type": "pyout",
       "prompt_number": 42,
       "text": [
        "SVD{Float64,Float64}(3x2 Array{Float64,2}:\n",
        " -0.32311    0.853776\n",
        " -0.547507   0.18322 \n",
        " -0.771904  -0.487337,[4.07914,0.600491],2x2 Array{Float64,2}:\n",
        " -0.402663  -0.915348\n",
        "  0.915348  -0.402663)"
       ]
      }
     ],
     "prompt_number": 42
    },
    {
     "cell_type": "code",
     "collapsed": false,
     "input": [
      "sv3[:U]"
     ],
     "language": "python",
     "metadata": {},
     "outputs": [
      {
       "metadata": {},
       "output_type": "pyout",
       "prompt_number": 43,
       "text": [
        "3x2 Array{Float64,2}:\n",
        " -0.32311    0.853776\n",
        " -0.547507   0.18322 \n",
        " -0.771904  -0.487337"
       ]
      }
     ],
     "prompt_number": 43
    },
    {
     "cell_type": "code",
     "collapsed": false,
     "input": [
      "sv3[:V]"
     ],
     "language": "python",
     "metadata": {},
     "outputs": [
      {
       "metadata": {},
       "output_type": "pyout",
       "prompt_number": 44,
       "text": [
        "2x2 Array{Float64,2}:\n",
        " -0.402663   0.915348\n",
        " -0.915348  -0.402663"
       ]
      }
     ],
     "prompt_number": 44
    },
    {
     "cell_type": "code",
     "collapsed": false,
     "input": [
      "sv3[:S]  # vector of singular values"
     ],
     "language": "python",
     "metadata": {},
     "outputs": [
      {
       "metadata": {},
       "output_type": "pyout",
       "prompt_number": 45,
       "text": [
        "2-element Array{Float64,1}:\n",
        " 4.07914 \n",
        " 0.600491"
       ]
      }
     ],
     "prompt_number": 45
    },
    {
     "cell_type": "code",
     "collapsed": false,
     "input": [
      "sv3[:Vt]"
     ],
     "language": "python",
     "metadata": {},
     "outputs": [
      {
       "metadata": {},
       "output_type": "pyout",
       "prompt_number": 46,
       "text": [
        "2x2 Array{Float64,2}:\n",
        " -0.402663  -0.915348\n",
        "  0.915348  -0.402663"
       ]
      }
     ],
     "prompt_number": 46
    },
    {
     "cell_type": "markdown",
     "metadata": {},
     "source": [
      "This is the _thin_ SVD.  If you want the full matrix `U` use"
     ]
    },
    {
     "cell_type": "code",
     "collapsed": false,
     "input": [
      "sv3 = svdfact(m3; thin=false)"
     ],
     "language": "python",
     "metadata": {},
     "outputs": [
      {
       "metadata": {},
       "output_type": "pyout",
       "prompt_number": 47,
       "text": [
        "SVD{Float64,Float64}(3x3 Array{Float64,2}:\n",
        " -0.32311    0.853776   0.408248\n",
        " -0.547507   0.18322   -0.816497\n",
        " -0.771904  -0.487337   0.408248,[4.07914,0.600491],2x2 Array{Float64,2}:\n",
        " -0.402663  -0.915348\n",
        "  0.915348  -0.402663)"
       ]
      }
     ],
     "prompt_number": 47
    },
    {
     "cell_type": "code",
     "collapsed": false,
     "input": [
      "sv3[:U]"
     ],
     "language": "python",
     "metadata": {},
     "outputs": [
      {
       "metadata": {},
       "output_type": "pyout",
       "prompt_number": 48,
       "text": [
        "3x3 Array{Float64,2}:\n",
        " -0.32311    0.853776   0.408248\n",
        " -0.547507   0.18322   -0.816497\n",
        " -0.771904  -0.487337   0.408248"
       ]
      }
     ],
     "prompt_number": 48
    },
    {
     "cell_type": "heading",
     "level": 3,
     "metadata": {},
     "source": [
      "The eigen decomposition"
     ]
    },
    {
     "cell_type": "markdown",
     "metadata": {},
     "source": [
      "The `eigfact` function has a special method for real symmetric matrices"
     ]
    },
    {
     "cell_type": "code",
     "collapsed": false,
     "input": [
      "ef3 = eigfact(m33)"
     ],
     "language": "python",
     "metadata": {},
     "outputs": [
      {
       "metadata": {},
       "output_type": "pyout",
       "prompt_number": 49,
       "text": [
        "Eigen{Float64,Float64}([0.36059,16.6394],2x2 Array{Float64,2}:\n",
        " -0.915348  0.402663\n",
        "  0.402663  0.915348)"
       ]
      }
     ],
     "prompt_number": 49
    },
    {
     "cell_type": "code",
     "collapsed": false,
     "input": [
      "ef3[:values]"
     ],
     "language": "python",
     "metadata": {},
     "outputs": [
      {
       "metadata": {},
       "output_type": "pyout",
       "prompt_number": 50,
       "text": [
        "2-element Array{Float64,1}:\n",
        "  0.36059\n",
        " 16.6394 "
       ]
      }
     ],
     "prompt_number": 50
    },
    {
     "cell_type": "code",
     "collapsed": false,
     "input": [
      "abs2(sv3[:S])  # same as the eigenvalues but in the opposite order"
     ],
     "language": "python",
     "metadata": {},
     "outputs": [
      {
       "metadata": {},
       "output_type": "pyout",
       "prompt_number": 51,
       "text": [
        "2-element Array{Float64,1}:\n",
        " 16.6394 \n",
        "  0.36059"
       ]
      }
     ],
     "prompt_number": 51
    },
    {
     "cell_type": "code",
     "collapsed": false,
     "input": [
      "ef3[:vectors]"
     ],
     "language": "python",
     "metadata": {},
     "outputs": [
      {
       "metadata": {},
       "output_type": "pyout",
       "prompt_number": 52,
       "text": [
        "2x2 Array{Float64,2}:\n",
        " -0.915348  0.402663\n",
        "  0.402663  0.915348"
       ]
      }
     ],
     "prompt_number": 52
    },
    {
     "cell_type": "code",
     "collapsed": false,
     "input": [
      "sv3[:V]    # same as the eigenvectors of m33 with permuted rows and columns"
     ],
     "language": "python",
     "metadata": {},
     "outputs": [
      {
       "metadata": {},
       "output_type": "pyout",
       "prompt_number": 53,
       "text": [
        "2x2 Array{Float64,2}:\n",
        " -0.402663   0.915348\n",
        " -0.915348  -0.402663"
       ]
      }
     ],
     "prompt_number": 53
    },
    {
     "cell_type": "markdown",
     "metadata": {},
     "source": [
      "For general matrices we must allow for complex eigenvalues and eigenvectors.  If all the eigenvalues and eigenvectors are real they are returned as such"
     ]
    },
    {
     "cell_type": "code",
     "collapsed": false,
     "input": [
      "eigfact(reshape([1.:9.],(3,3)))"
     ],
     "language": "python",
     "metadata": {},
     "outputs": [
      {
       "metadata": {},
       "output_type": "pyout",
       "prompt_number": 54,
       "text": [
        "Eigen{Float64,Float64}([16.1168,-1.11684,-5.70069e-16],3x3 Array{Float64,2}:\n",
        " -0.464547  -0.882906   0.408248\n",
        " -0.570796  -0.23952   -0.816497\n",
        " -0.677044   0.403865   0.408248)"
       ]
      }
     ],
     "prompt_number": 54
    },
    {
     "cell_type": "code",
     "collapsed": false,
     "input": [
      "eigfact([0 1;-1 0])"
     ],
     "language": "python",
     "metadata": {},
     "outputs": [
      {
       "metadata": {},
       "output_type": "pyout",
       "prompt_number": 55,
       "text": [
        "Eigen{Complex{Float64},Complex{Float64}}(Complex{Float64}[0.0+1.0im,0.0-1.0im],2x2 Array{Complex{Float64},2}:\n",
        " 0.707107+0.0im       0.707107-0.0im     \n",
        "      0.0+0.707107im       0.0-0.707107im)"
       ]
      }
     ],
     "prompt_number": 55
    },
    {
     "cell_type": "heading",
     "level": 3,
     "metadata": {},
     "source": [
      "The LU factorization"
     ]
    },
    {
     "cell_type": "markdown",
     "metadata": {},
     "source": [
      "The LU factorization is the most general direct factorization.  It is related to Gaussian elimination."
     ]
    },
    {
     "cell_type": "code",
     "collapsed": false,
     "input": [
      "lu4 = lufact(reshape([1.:9.],(3,3)))"
     ],
     "language": "python",
     "metadata": {},
     "outputs": [
      {
       "metadata": {},
       "output_type": "pyout",
       "prompt_number": 56,
       "text": [
        "LU{Float64,Array{Float64,2}}(3x3 Array{Float64,2}:\n",
        " 3.0       6.0  9.0\n",
        " 0.333333  2.0  4.0\n",
        " 0.666667  0.5  0.0,Int32[3,3,3],3)"
       ]
      }
     ],
     "prompt_number": 56
    },
    {
     "cell_type": "code",
     "collapsed": false,
     "input": [
      "lu4[:L]  # unit lower triangular factor"
     ],
     "language": "python",
     "metadata": {},
     "outputs": [
      {
       "metadata": {},
       "output_type": "pyout",
       "prompt_number": 57,
       "text": [
        "3x3 Array{Float64,2}:\n",
        " 1.0       0.0  0.0\n",
        " 0.333333  1.0  0.0\n",
        " 0.666667  0.5  1.0"
       ]
      }
     ],
     "prompt_number": 57
    },
    {
     "cell_type": "code",
     "collapsed": false,
     "input": [
      "lu4[:U] # upper triangular factor.  Note that it is singular."
     ],
     "language": "python",
     "metadata": {},
     "outputs": [
      {
       "metadata": {},
       "output_type": "pyout",
       "prompt_number": 58,
       "text": [
        "3x3 Array{Float64,2}:\n",
        " 3.0  6.0  9.0\n",
        " 0.0  2.0  4.0\n",
        " 0.0  0.0  0.0"
       ]
      }
     ],
     "prompt_number": 58
    },
    {
     "cell_type": "code",
     "collapsed": false,
     "input": [
      "lu4[:p]  # permutation vector"
     ],
     "language": "python",
     "metadata": {},
     "outputs": [
      {
       "metadata": {},
       "output_type": "pyout",
       "prompt_number": 59,
       "text": [
        "3-element Array{Int32,1}:\n",
        " 3\n",
        " 1\n",
        " 2"
       ]
      }
     ],
     "prompt_number": 59
    },
    {
     "cell_type": "code",
     "collapsed": false,
     "input": [
      "lu4[:P]  # permutation matrix"
     ],
     "language": "python",
     "metadata": {},
     "outputs": [
      {
       "metadata": {},
       "output_type": "pyout",
       "prompt_number": 60,
       "text": [
        "3x3 Array{Float64,2}:\n",
        " 0.0  0.0  1.0\n",
        " 1.0  0.0  0.0\n",
        " 0.0  1.0  0.0"
       ]
      }
     ],
     "prompt_number": 60
    },
    {
     "cell_type": "heading",
     "level": 2,
     "metadata": {},
     "source": [
      "Extracting submatrices"
     ]
    },
    {
     "cell_type": "markdown",
     "metadata": {},
     "source": [
      "As in `R` elements or subarrays are extracted with using indices.  To indicate all values of a given index use `:`"
     ]
    },
    {
     "cell_type": "code",
     "collapsed": false,
     "input": [
      "m2[:,2]"
     ],
     "language": "python",
     "metadata": {},
     "outputs": [
      {
       "metadata": {},
       "output_type": "pyout",
       "prompt_number": 61,
       "text": [
        "3-element Array{Float64,1}:\n",
        " -1.0\n",
        "  0.0\n",
        "  1.0"
       ]
      }
     ],
     "prompt_number": 61
    },
    {
     "cell_type": "markdown",
     "metadata": {},
     "source": [
      "To convert a matrix or higher-order array to a vector use `vec`"
     ]
    },
    {
     "cell_type": "code",
     "collapsed": false,
     "input": [
      "vec(m2)"
     ],
     "language": "python",
     "metadata": {},
     "outputs": [
      {
       "metadata": {},
       "output_type": "pyout",
       "prompt_number": 62,
       "text": [
        "6-element Array{Float64,1}:\n",
        "  1.0\n",
        "  1.0\n",
        "  1.0\n",
        " -1.0\n",
        "  0.0\n",
        "  1.0"
       ]
      }
     ],
     "prompt_number": 62
    },
    {
     "cell_type": "markdown",
     "metadata": {},
     "source": [
      "The result of an indexing operation is a copy of the elements from the array."
     ]
    },
    {
     "cell_type": "code",
     "collapsed": false,
     "input": [
      "v2 = m2[:,2]\n",
      "v2[2] = 999."
     ],
     "language": "python",
     "metadata": {},
     "outputs": [
      {
       "metadata": {},
       "output_type": "pyout",
       "prompt_number": 63,
       "text": [
        "999.0"
       ]
      }
     ],
     "prompt_number": 63
    },
    {
     "cell_type": "code",
     "collapsed": false,
     "input": [
      "m2"
     ],
     "language": "python",
     "metadata": {},
     "outputs": [
      {
       "metadata": {},
       "output_type": "pyout",
       "prompt_number": 64,
       "text": [
        "3x2 Array{Float64,2}:\n",
        " 1.0  -1.0\n",
        " 1.0   0.0\n",
        " 1.0   1.0"
       ]
      }
     ],
     "prompt_number": 64
    },
    {
     "cell_type": "code",
     "collapsed": false,
     "input": [
      "v2"
     ],
     "language": "python",
     "metadata": {},
     "outputs": [
      {
       "metadata": {},
       "output_type": "pyout",
       "prompt_number": 65,
       "text": [
        "3-element Array{Float64,1}:\n",
        "  -1.0\n",
        " 999.0\n",
        "   1.0"
       ]
      }
     ],
     "prompt_number": 65
    },
    {
     "cell_type": "markdown",
     "metadata": {},
     "source": [
      "The `sub` function produces an array view which accesses the actual elements in the original array."
     ]
    },
    {
     "cell_type": "code",
     "collapsed": false,
     "input": [
      "v2 = sub(m2,:,2)"
     ],
     "language": "python",
     "metadata": {},
     "outputs": [
      {
       "metadata": {},
       "output_type": "pyout",
       "prompt_number": 66,
       "text": [
        "3-element SubArray{Float64,1,Array{Float64,2},(UnitRange{Int64},Int64)}:\n",
        " -1.0\n",
        "  0.0\n",
        "  1.0"
       ]
      }
     ],
     "prompt_number": 66
    },
    {
     "cell_type": "code",
     "collapsed": false,
     "input": [
      "v2[2] = 1."
     ],
     "language": "python",
     "metadata": {},
     "outputs": [
      {
       "metadata": {},
       "output_type": "pyout",
       "prompt_number": 67,
       "text": [
        "1.0"
       ]
      }
     ],
     "prompt_number": 67
    },
    {
     "cell_type": "code",
     "collapsed": false,
     "input": [
      "m2"
     ],
     "language": "python",
     "metadata": {},
     "outputs": [
      {
       "metadata": {},
       "output_type": "pyout",
       "prompt_number": 68,
       "text": [
        "3x2 Array{Float64,2}:\n",
        " 1.0  -1.0\n",
        " 1.0   1.0\n",
        " 1.0   1.0"
       ]
      }
     ],
     "prompt_number": 68
    },
    {
     "cell_type": "markdown",
     "metadata": {},
     "source": [
      "The `sub` function is preferred over explicit indexing if you need a subarray that you are not going to modify (`sub` does not create unnecessary copies) and for when you really do want to change the elements of a subarray."
     ]
    },
    {
     "cell_type": "heading",
     "level": 2,
     "metadata": {},
     "source": [
      "Underlying numerical codes"
     ]
    },
    {
     "cell_type": "markdown",
     "metadata": {},
     "source": [
      "Most linear algebra in `Julia` is performed on `Matrix{Float64}` objects using the LAPACK and BLAS software.  By default `Julia` is compiled against OpenBLAS, an accelerated multi-threaded BLAS that also provides accelerated versions of some of the LAPACK functions.  For example the LU decomposition and solutions of linear systems using LU are accelerated because they constitute the LAPACK benchmark.  `Julia` can also be compiled with Intel's MKL (Math Kernel Library) BLAS, when they are available, to give accelerated performance.  Understandably these are tuned for best performance on Intel processors.\n",
      "\n",
      "Julia provides thin wrappers around many LAPACK and BLAS routines if you want maximal control.  These mimic the BLAS and LAPACK routines without the annoyingly redundant arguments.  Note that many internal linear algebra functions provide mutating versions."
     ]
    },
    {
     "cell_type": "code",
     "collapsed": false,
     "input": [
      "whos(BLAS)"
     ],
     "language": "python",
     "metadata": {},
     "outputs": [
      {
       "output_type": "stream",
       "stream": "stdout",
       "text": [
        "BLAS                          "
       ]
      },
      {
       "output_type": "stream",
       "stream": "stdout",
       "text": [
        "Module\n",
        "asum                          Function\n",
        "axpy!                         Function\n",
        "dot                           Function\n",
        "dotc                          Function\n",
        "dotu                          Function\n",
        "gbmv                          Function\n",
        "gbmv!                         Function\n",
        "gemm                          Function\n",
        "gemm!                         Function\n",
        "ger!                          Function\n",
        "her!                          Function\n",
        "her2k                         Function\n",
        "her2k!                        Function\n",
        "herk                          Function\n",
        "herk!                         Function\n",
        "iamax                         Function\n",
        "nrm2                          Function\n",
        "sbmv                          Function\n",
        "sbmv!                         Function\n",
        "scal                          Function\n",
        "scal!                         Function\n",
        "symm                          Function\n",
        "symm!                         Function\n",
        "symv                          Function\n",
        "symv!                         Function\n",
        "syr!                          Function\n",
        "syr2k                         Function\n",
        "syr2k!                        Function\n",
        "syrk                          Function\n",
        "syrk!                         Function\n"
       ]
      }
     ],
     "prompt_number": 69
    },
    {
     "cell_type": "markdown",
     "metadata": {},
     "source": [
      "Operations like `A'B` and `A\\b` call functions with names like `Ac_mul_B` and `A_ldiv_B`.  There are mutating versions of these functions.  The `Ac` denotes `A'` which, in general, is the conjugate transpose of `A`.  For complex `A` there is a distinction between `A'`, the conjugate transpose, and `A.'`, the transpose.  Usually you want `A'`.  For real matrices `A'` and `A.'` are the same."
     ]
    },
    {
     "cell_type": "heading",
     "level": 2,
     "metadata": {},
     "source": [
      "Special Matrix types"
     ]
    },
    {
     "cell_type": "markdown",
     "metadata": {},
     "source": [
      "Notice that the type of `cf22[:U]` is"
     ]
    },
    {
     "cell_type": "code",
     "collapsed": false,
     "input": [
      "typeof(cf22[:U])"
     ],
     "language": "python",
     "metadata": {},
     "outputs": [
      {
       "ename": "LoadError",
       "evalue": "cf22 not defined\nwhile loading In[70], in expression starting on line 1",
       "output_type": "pyerr",
       "traceback": [
        "cf22 not defined\nwhile loading In[70], in expression starting on line 1"
       ]
      }
     ],
     "prompt_number": 70
    },
    {
     "cell_type": "markdown",
     "metadata": {},
     "source": [
      "Many operations can be steamlined if it is known that one of the operands is a triangular matrix or, even more specific, a unit triangular matrices.  There are also special types for `Symmetric` and `Diagonal` matrices.  Ongoing work will incorporate these matrix types more deeply into the `Julia` system."
     ]
    },
    {
     "cell_type": "heading",
     "level": 2,
     "metadata": {},
     "source": [
      "A more complex example"
     ]
    },
    {
     "cell_type": "markdown",
     "metadata": {},
     "source": [
      "When fitting a linear mixed model, the core computation can be expressed as solving a penalized least squares problem.  In the `MixedModels` package there are several different `PLSSolver` types defined to facilitate this computation.  When there is only a single random-effects term the system to be solved is block diagonal.\n",
      "\n",
      "The `PLSOne` type is defined as \n",
      "```julia\n",
      "type PLSOne <: PLSSolver   # Solver for models with a single random-effects term\n",
      "    Ad::Array{Float64,3}                # diagonal blocks\n",
      "    Ab::Array{Float64,3}                # base blocks\n",
      "    At::Symmetric{Float64}              # lower right block\n",
      "    Ld::Array{Float64,3}                # diagonal blocks\n",
      "    Lb::Array{Float64,3}                # base blocks\n",
      "    Lt::Base.LinAlg.Cholesky{Float64}   # lower right triangle\n",
      "    Zt::SparseMatrixCSC\n",
      "end\n",
      "```\n",
      "and is updated from a triangular matrix \u03bb as\n",
      "```julia\n",
      "##  update!(s,lambda)->s : update Ld, Lb and Lt\n",
      "function update!(s::PLSOne,\u03bb::Triangular)\n",
      "    m,n,l = size(s)\n",
      "    n == size(\u03bb,1) || error(\"Dimension mismatch\")\n",
      "    Lt = copy!(s.Lt.UL,s.At.S)\n",
      "    Lb = copy!(s.Lb,s.Ab)\n",
      "    if n == 1                           # shortcut for 1\u00d71 \u03bb\n",
      "        lam = \u03bb[1,1]\n",
      "        Ld = map!(x -> sqrt(x*lam*lam + 1.), s.Ld, s.Ad)\n",
      "        Lb = scale!(reshape(Lb,(m,n*l)),lam ./ vec(Ld))\n",
      "        BLAS.syrk!('L','N',-1.0,Lb,1.0,Lt)\n",
      "    else\n",
      "        Ac_mul_B!(\u03bb,reshape(copy!(s.Ld,s.Ad),(n,n*l)))\n",
      "        for k in 1:l\n",
      "            wL = A_mul_B!(sub(s.Ld,:,:,k),\u03bb)\n",
      "            for j in 1:n                # Inflate the diagonal\n",
      "                wL[j,j] += 1.\n",
      "            end\n",
      "            _, info = LAPACK.potrf!('L',wL) # i'th diagonal block of L\n",
      "            info == 0 || error(\"Cholesky failure at L diagonal block $k\")\n",
      "            Base.LinAlg.A_rdiv_Bc!(A_mul_B!(sub(s.Lb,:,:,k),\u03bb),Triangular(wL,:L,false))\n",
      "        end\n",
      "        BLAS.syrk!('L','N',-1.0,reshape(Lb,(m,n*l)),1.,Lt)\n",
      "    end\n",
      "    _, info = LAPACK.potrf!('L',Lt)\n",
      "    info == 0 ||  error(\"downdated X'X is not positive definite\")\n",
      "    s\n",
      "end\n",
      "```"
     ]
    },
    {
     "cell_type": "heading",
     "level": 2,
     "metadata": {},
     "source": [
      "Sparse Matrices"
     ]
    },
    {
     "cell_type": "markdown",
     "metadata": {},
     "source": [
      "Sparse matrices and sparse vectors are available in the base `Julia` system but their description will need to wait for another time.  "
     ]
    },
    {
     "cell_type": "code",
     "collapsed": false,
     "input": [
      "help(sparse)"
     ],
     "language": "python",
     "metadata": {},
     "outputs": [
      {
       "output_type": "stream",
       "stream": "stdout",
       "text": [
        "Base.sparse(I, J, V[, m, n, combine])\n",
        "\n",
        "   Create a sparse matrix \"S\" of dimensions \"m x n\" such that\n",
        "   \"S[I[k], J[k]] = V[k]\". The \"combine\" function is used to\n",
        "   combine duplicates. If \"m\" and \"n\" are not specified, they are\n",
        "   set to \"max(I)\" and \"max(J)\" respectively. If the \"combine\"\n",
        "   function is not supplied, duplicates are added by default."
       ]
      },
      {
       "output_type": "stream",
       "stream": "stdout",
       "text": [
        "\n",
        "\n",
        "Base.sparse(A)\n",
        "\n",
        "   Convert a dense matrix \"A\" into a sparse matrix.\n"
       ]
      }
     ],
     "prompt_number": 71
    }
   ],
   "metadata": {}
  }
 ]
}