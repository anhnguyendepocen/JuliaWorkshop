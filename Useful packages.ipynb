{
 "metadata": {
  "language": "Julia",
  "name": ""
 },
 "nbformat": 3,
 "nbformat_minor": 0,
 "worksheets": [
  {
   "cells": [
    {
     "cell_type": "heading",
     "level": 1,
     "metadata": {},
     "source": [
      "Contributed packages worth knowing about"
     ]
    },
    {
     "cell_type": "heading",
     "level": 2,
     "metadata": {},
     "source": [
      "Packages from [JuliaStats](https://github.com/JuliaStats/)"
     ]
    },
    {
     "cell_type": "heading",
     "level": 3,
     "metadata": {},
     "source": [
      "The `Distributions` package"
     ]
    },
    {
     "cell_type": "markdown",
     "metadata": {},
     "source": [
      "The `Distributions` package provides a comprehensive list of univariate, multivariate and matrix distributions and a set of generic functions that can be applied to them.  See the [documentation](http://distributionsjl.readthedocs.org/en/latest/) for details on the coverage.\n",
      "\n",
      "Note that some methods refer to the distribution __type__ (e.g. `Normal`) instead of a distribution __instance__ (e.g. `Normal(0.,1.)`)"
     ]
    },
    {
     "cell_type": "code",
     "collapsed": false,
     "input": [
      "using Distributions\n",
      "d = Normal()        # standard normal (Gaussian) distribution"
     ],
     "language": "python",
     "metadata": {},
     "outputs": [
      {
       "metadata": {},
       "output_type": "pyout",
       "prompt_number": 1,
       "text": [
        "Normal( \u03bc=0.0 \u03c3=1.0 )"
       ]
      }
     ],
     "prompt_number": 1
    },
    {
     "cell_type": "code",
     "collapsed": false,
     "input": [
      "x = rand(d,20)     # sample of size 20 from a standard normal"
     ],
     "language": "python",
     "metadata": {},
     "outputs": [
      {
       "metadata": {},
       "output_type": "pyout",
       "prompt_number": 2,
       "text": [
        "20-element Array{Float64,1}:\n",
        " -1.16913  \n",
        "  0.4861   \n",
        "  0.683925 \n",
        " -0.41524  \n",
        " -0.560831 \n",
        "  0.786937 \n",
        "  0.506068 \n",
        " -0.760284 \n",
        " -0.169239 \n",
        " -0.657263 \n",
        "  1.12721  \n",
        " -1.60826  \n",
        "  0.695619 \n",
        " -0.534386 \n",
        " -0.531626 \n",
        "  0.532114 \n",
        "  0.369429 \n",
        " -0.531953 \n",
        "  0.0429397\n",
        "  0.230815 "
       ]
      }
     ],
     "prompt_number": 2
    },
    {
     "cell_type": "code",
     "collapsed": false,
     "input": [
      "de = fit_mle(Normal,x)   # maximum likelihood estimates of normal dist. pars."
     ],
     "language": "python",
     "metadata": {},
     "outputs": [
      {
       "metadata": {},
       "output_type": "pyout",
       "prompt_number": 3,
       "text": [
        "Normal( \u03bc=-0.07385283147114062 \u03c3=0.708157366987245 )"
       ]
      }
     ],
     "prompt_number": 3
    },
    {
     "cell_type": "code",
     "collapsed": false,
     "input": [
      "mean(de)"
     ],
     "language": "python",
     "metadata": {},
     "outputs": [
      {
       "metadata": {},
       "output_type": "pyout",
       "prompt_number": 4,
       "text": [
        "-0.07385283147114062"
       ]
      }
     ],
     "prompt_number": 4
    },
    {
     "cell_type": "code",
     "collapsed": false,
     "input": [
      "std(de)"
     ],
     "language": "python",
     "metadata": {},
     "outputs": [
      {
       "metadata": {},
       "output_type": "pyout",
       "prompt_number": 5,
       "text": [
        "0.708157366987245"
       ]
      }
     ],
     "prompt_number": 5
    },
    {
     "cell_type": "code",
     "collapsed": false,
     "input": [
      "var(de)"
     ],
     "language": "python",
     "metadata": {},
     "outputs": [
      {
       "metadata": {},
       "output_type": "pyout",
       "prompt_number": 6,
       "text": [
        "0.5014868564183076"
       ]
      }
     ],
     "prompt_number": 6
    },
    {
     "cell_type": "code",
     "collapsed": false,
     "input": [
      "kurtosis(de)"
     ],
     "language": "python",
     "metadata": {},
     "outputs": [
      {
       "metadata": {},
       "output_type": "pyout",
       "prompt_number": 7,
       "text": [
        "0.0"
       ]
      }
     ],
     "prompt_number": 7
    },
    {
     "cell_type": "code",
     "collapsed": false,
     "input": [
      "skewness(de)"
     ],
     "language": "python",
     "metadata": {},
     "outputs": [
      {
       "metadata": {},
       "output_type": "pyout",
       "prompt_number": 8,
       "text": [
        "0.0"
       ]
      }
     ],
     "prompt_number": 8
    },
    {
     "cell_type": "code",
     "collapsed": false,
     "input": [
      "loglikelihood(de,x)"
     ],
     "language": "python",
     "metadata": {},
     "outputs": [
      {
       "metadata": {},
       "output_type": "pyout",
       "prompt_number": 9,
       "text": [
        "-21.476991859479778"
       ]
      }
     ],
     "prompt_number": 9
    },
    {
     "cell_type": "code",
     "collapsed": false,
     "input": [
      "ss = suffstats(Normal,x)"
     ],
     "language": "python",
     "metadata": {},
     "outputs": [
      {
       "metadata": {},
       "output_type": "pyout",
       "prompt_number": 10,
       "text": [
        "NormalStats(-1.4770566294228125,-0.07385283147114062,10.029737128366152,20.0)"
       ]
      }
     ],
     "prompt_number": 10
    },
    {
     "cell_type": "code",
     "collapsed": false,
     "input": [
      "names(ss)'"
     ],
     "language": "python",
     "metadata": {},
     "outputs": [
      {
       "metadata": {},
       "output_type": "pyout",
       "prompt_number": 11,
       "text": [
        "1x4 Array{Symbol,2}:\n",
        " :s  :m  :s2  :tw"
       ]
      }
     ],
     "prompt_number": 11
    },
    {
     "cell_type": "code",
     "collapsed": false,
     "input": [
      "fit_mle(Normal,ss)   # can fit from sufficient statistics"
     ],
     "language": "python",
     "metadata": {},
     "outputs": [
      {
       "metadata": {},
       "output_type": "pyout",
       "prompt_number": 12,
       "text": [
        "Normal( \u03bc=-0.07385283147114062 \u03c3=0.708157366987245 )"
       ]
      }
     ],
     "prompt_number": 12
    },
    {
     "cell_type": "markdown",
     "metadata": {},
     "source": [
      "It is also possible to do `map` (maximum a posteriori) estimation using a conjugate prior.  Again, see the documentation."
     ]
    },
    {
     "cell_type": "heading",
     "level": 3,
     "metadata": {},
     "source": [
      "The `DataArrays` package"
     ]
    },
    {
     "cell_type": "markdown",
     "metadata": {},
     "source": [
      "This is a lightweight package to define types that can contain `NA`'s.  It was split off from the `DataFrames` package because loading the whole of `DataFrames` takes a while.  (This will change when pre-compiled packages are more easily constructed.)\n",
      "\n",
      "The basic types defined in `DataArrays` are `NA`, used for literal NA input, the `DataArray`, like a numeric or integer vector in `R`, and the `PooledDataVector`, like a `factor` in `R`.\n",
      "\n",
      "The concept of an `NA` is built into many of the `R` types.  In `Julia` a `DataArray` or `PooledDataArray` is composed of the data and a separate `bitarray` of indicators of missingness."
     ]
    },
    {
     "cell_type": "code",
     "collapsed": false,
     "input": [
      "using DataArrays\n",
      "v = @data([2,1,NA,4])"
     ],
     "language": "python",
     "metadata": {},
     "outputs": [
      {
       "metadata": {},
       "output_type": "pyout",
       "prompt_number": 13,
       "text": [
        "4-element DataArray{Int64,1}:\n",
        " 2  \n",
        " 1  \n",
        "  NA\n",
        " 4  "
       ]
      }
     ],
     "prompt_number": 13
    },
    {
     "cell_type": "code",
     "collapsed": false,
     "input": [
      "names(v)"
     ],
     "language": "python",
     "metadata": {},
     "outputs": [
      {
       "metadata": {},
       "output_type": "pyout",
       "prompt_number": 14,
       "text": [
        "2-element Array{Symbol,1}:\n",
        " :data\n",
        " :na  "
       ]
      }
     ],
     "prompt_number": 14
    },
    {
     "cell_type": "code",
     "collapsed": false,
     "input": [
      "typeof(v).types"
     ],
     "language": "python",
     "metadata": {},
     "outputs": [
      {
       "metadata": {},
       "output_type": "pyout",
       "prompt_number": 15,
       "text": [
        "(Array{Int64,1},BitArray{1})"
       ]
      }
     ],
     "prompt_number": 15
    },
    {
     "cell_type": "code",
     "collapsed": false,
     "input": [
      "v.data"
     ],
     "language": "python",
     "metadata": {},
     "outputs": [
      {
       "metadata": {},
       "output_type": "pyout",
       "prompt_number": 16,
       "text": [
        "4-element Array{Int64,1}:\n",
        " 2\n",
        " 1\n",
        " 2\n",
        " 4"
       ]
      }
     ],
     "prompt_number": 16
    },
    {
     "cell_type": "code",
     "collapsed": false,
     "input": [
      "v.na"
     ],
     "language": "python",
     "metadata": {},
     "outputs": [
      {
       "metadata": {},
       "output_type": "pyout",
       "prompt_number": 17,
       "text": [
        "4-element BitArray{1}:\n",
        " false\n",
        " false\n",
        "  true\n",
        " false"
       ]
      }
     ],
     "prompt_number": 17
    },
    {
     "cell_type": "code",
     "collapsed": false,
     "input": [
      "isna(v)"
     ],
     "language": "python",
     "metadata": {},
     "outputs": [
      {
       "metadata": {},
       "output_type": "pyout",
       "prompt_number": 18,
       "text": [
        "4-element BitArray{1}:\n",
        " false\n",
        " false\n",
        "  true\n",
        " false"
       ]
      }
     ],
     "prompt_number": 18
    },
    {
     "cell_type": "code",
     "collapsed": false,
     "input": [
      "dropna(v)"
     ],
     "language": "python",
     "metadata": {},
     "outputs": [
      {
       "metadata": {},
       "output_type": "pyout",
       "prompt_number": 19,
       "text": [
        "3-element Array{Int64,1}:\n",
        " 2\n",
        " 1\n",
        " 4"
       ]
      }
     ],
     "prompt_number": 19
    },
    {
     "cell_type": "markdown",
     "metadata": {},
     "source": [
      "The `PooledDataArray`, generated with the `@pdata` macro call, consists of a `pool` array (similar to the `levels` in an `R` `factor` object) and a unsigned integer vector `refs`."
     ]
    },
    {
     "cell_type": "code",
     "collapsed": false,
     "input": [
      "d = Bernoulli()\n",
      "sex = @pdata [bool(rand(d)) ? 'F' : 'M' for i in 1:1000]"
     ],
     "language": "python",
     "metadata": {},
     "outputs": [
      {
       "metadata": {},
       "output_type": "pyout",
       "prompt_number": 20,
       "text": [
        "1000-element PooledDataArray{Char,Uint32,1}:\n",
        " 'F'\n",
        " 'M'\n",
        " 'M'\n",
        " 'F'\n",
        " 'M'\n",
        " 'F'\n",
        " 'M'\n",
        " 'M'\n",
        " 'M'\n",
        " 'M'\n",
        " 'M'\n",
        " 'M'\n",
        " 'F'\n",
        "   \u22ee\n",
        " 'F'\n",
        " 'F'\n",
        " 'F'\n",
        " 'F'\n",
        " 'M'\n",
        " 'F'\n",
        " 'M'\n",
        " 'F'\n",
        " 'M'\n",
        " 'M'\n",
        " 'M'\n",
        " 'M'"
       ]
      }
     ],
     "prompt_number": 20
    },
    {
     "cell_type": "code",
     "collapsed": false,
     "input": [
      "sex.pool"
     ],
     "language": "python",
     "metadata": {},
     "outputs": [
      {
       "metadata": {},
       "output_type": "pyout",
       "prompt_number": 21,
       "text": [
        "2-element Array{Char,1}:\n",
        " 'F'\n",
        " 'M'"
       ]
      }
     ],
     "prompt_number": 21
    },
    {
     "cell_type": "code",
     "collapsed": false,
     "input": [
      "sex.refs"
     ],
     "language": "python",
     "metadata": {},
     "outputs": [
      {
       "metadata": {},
       "output_type": "pyout",
       "prompt_number": 22,
       "text": [
        "1000-element Array{Uint32,1}:\n",
        " 0x00000001\n",
        " 0x00000002\n",
        " 0x00000002\n",
        " 0x00000001\n",
        " 0x00000002\n",
        " 0x00000001\n",
        " 0x00000002\n",
        " 0x00000002\n",
        " 0x00000002\n",
        " 0x00000002\n",
        " 0x00000002\n",
        " 0x00000002\n",
        " 0x00000001\n",
        "          \u22ee\n",
        " 0x00000001\n",
        " 0x00000001\n",
        " 0x00000001\n",
        " 0x00000001\n",
        " 0x00000002\n",
        " 0x00000001\n",
        " 0x00000002\n",
        " 0x00000001\n",
        " 0x00000002\n",
        " 0x00000002\n",
        " 0x00000002\n",
        " 0x00000002"
       ]
      }
     ],
     "prompt_number": 22
    },
    {
     "cell_type": "code",
     "collapsed": false,
     "input": [
      "sex = compact(sex)  # provides a more compact representation, if possible"
     ],
     "language": "python",
     "metadata": {},
     "outputs": [
      {
       "metadata": {},
       "output_type": "pyout",
       "prompt_number": 23,
       "text": [
        "1000-element PooledDataArray{Char,Uint8,1}:\n",
        " 'F'\n",
        " 'M'\n",
        " 'M'\n",
        " 'F'\n",
        " 'M'\n",
        " 'F'\n",
        " 'M'\n",
        " 'M'\n",
        " 'M'\n",
        " 'M'\n",
        " 'M'\n",
        " 'M'\n",
        " 'F'\n",
        "   \u22ee\n",
        " 'F'\n",
        " 'F'\n",
        " 'F'\n",
        " 'F'\n",
        " 'M'\n",
        " 'F'\n",
        " 'M'\n",
        " 'F'\n",
        " 'M'\n",
        " 'M'\n",
        " 'M'\n",
        " 'M'"
       ]
      }
     ],
     "prompt_number": 23
    },
    {
     "cell_type": "code",
     "collapsed": false,
     "input": [
      "sex.refs"
     ],
     "language": "python",
     "metadata": {},
     "outputs": [
      {
       "metadata": {},
       "output_type": "pyout",
       "prompt_number": 24,
       "text": [
        "1000-element Array{Uint8,1}:\n",
        " 0x01\n",
        " 0x02\n",
        " 0x02\n",
        " 0x01\n",
        " 0x02\n",
        " 0x01\n",
        " 0x02\n",
        " 0x02\n",
        " 0x02\n",
        " 0x02\n",
        " 0x02\n",
        " 0x02\n",
        " 0x01\n",
        "    \u22ee\n",
        " 0x01\n",
        " 0x01\n",
        " 0x01\n",
        " 0x01\n",
        " 0x02\n",
        " 0x01\n",
        " 0x02\n",
        " 0x01\n",
        " 0x02\n",
        " 0x02\n",
        " 0x02\n",
        " 0x02"
       ]
      }
     ],
     "prompt_number": 24
    },
    {
     "cell_type": "markdown",
     "metadata": {},
     "source": [
      "A few other functions common to an `R` programmer, like `rep`, are in the `DataArrays` package."
     ]
    },
    {
     "cell_type": "code",
     "collapsed": false,
     "input": [
      "whos(DataArrays)"
     ],
     "language": "python",
     "metadata": {},
     "outputs": [
      {
       "output_type": "stream",
       "stream": "stdout",
       "text": [
        "/                             Function"
       ]
      },
      {
       "output_type": "stream",
       "stream": "stderr",
       "text": [
        "Warning: using StatsBase.loglikelihood in module Main conflicts with an existing identifier.\n"
       ]
      },
      {
       "output_type": "stream",
       "stream": "stdout",
       "text": [
        "\n",
        "@data                         Function\n",
        "@pdata                        Function\n",
        "AbstractDataArray             DataType\n",
        "AbstractDataMatrix            TypeConstructor\n",
        "AbstractDataVector            TypeConstructor\n",
        "DataArray                     DataType\n",
        "DataArrays                    Module\n",
        "DataMatrix                    TypeConstructor\n",
        "DataVector                    TypeConstructor\n",
        "EachDropNA                    DataType\n",
        "EachFailNA                    DataType\n",
        "EachReplaceNA                 DataType\n",
        "FastPerm                      DataType\n",
        "NA                            NAtype\n",
        "NAException                   DataType\n",
        "NAtype                        DataType\n",
        "Perm                          Function\n",
        "PooledDataArray               DataType\n",
        "PooledDataMatrix              TypeConstructor\n",
        "PooledDataVecs                Function\n",
        "PooledDataVector              TypeConstructor\n",
        "allna                         Function\n",
        "anyna                         Function\n",
        "array                         Function\n",
        "autocor                       Function\n",
        "compact                       Function\n",
        "cut                           Function\n",
        "data                          Function\n",
        "dropna                        Function\n",
        "each_dropna                   Function\n",
        "each_failNA                   Function\n",
        "each_replaceNA                Function\n",
        "getpoolidx                    Function\n",
        "gl                            Function\n",
        "head                          Function\n",
        "isna                          Function\n",
        "levels                        Function\n",
        "padNA                         Function\n",
        "pdata                         Function\n",
        "percent_change                Function\n",
        "reldiff                       Function\n",
        "removeNA                      Function\n",
        "reorder                       Function\n",
        "rep                           Function\n",
        "replace!                      Function\n",
        "set_levels                    Function\n",
        "set_levels!                   Function\n",
        "setlevels                     Function\n",
        "setlevels!                    Function\n",
        "tail                          Function\n",
        "xtab                          DataType\n",
        "xtabs                         Function\n"
       ]
      }
     ],
     "prompt_number": 25
    },
    {
     "cell_type": "heading",
     "level": 3,
     "metadata": {},
     "source": [
      "The `DataFrames` package"
     ]
    },
    {
     "cell_type": "markdown",
     "metadata": {},
     "source": [
      "The `DataFrame` type and methods for working with it are defined in the `DataFrames` package.  There is online documentation but, at least in my browser, the formatting is horrible. I would recommend reading the PDF file instead.\n",
      "\n",
      "The `DataFrames` package is where the formula language and types like `ModelFrame` and `ModelMatrix` are defined.  Many familiar examples of data frames are available in the `RDatasets` package."
     ]
    },
    {
     "cell_type": "code",
     "collapsed": false,
     "input": [
      "using DataFrames, RDatasets\n",
      "ds = dataset(\"lme4\",\"Dyestuff\")"
     ],
     "language": "python",
     "metadata": {},
     "outputs": [
      {
       "html": [
        "<table class=\"data-frame\"><tr><th></th><th>Batch</th><th>Yield</th></tr><tr><th>1</th><td>A</td><td>1545</td></tr><tr><th>2</th><td>A</td><td>1440</td></tr><tr><th>3</th><td>A</td><td>1440</td></tr><tr><th>4</th><td>A</td><td>1520</td></tr><tr><th>5</th><td>A</td><td>1580</td></tr><tr><th>6</th><td>B</td><td>1540</td></tr><tr><th>7</th><td>B</td><td>1555</td></tr><tr><th>8</th><td>B</td><td>1490</td></tr><tr><th>9</th><td>B</td><td>1560</td></tr><tr><th>10</th><td>B</td><td>1495</td></tr><tr><th>11</th><td>C</td><td>1595</td></tr><tr><th>12</th><td>C</td><td>1550</td></tr><tr><th>13</th><td>C</td><td>1605</td></tr><tr><th>14</th><td>C</td><td>1510</td></tr><tr><th>15</th><td>C</td><td>1560</td></tr><tr><th>16</th><td>D</td><td>1445</td></tr><tr><th>17</th><td>D</td><td>1440</td></tr><tr><th>18</th><td>D</td><td>1595</td></tr><tr><th>19</th><td>D</td><td>1465</td></tr><tr><th>20</th><td>D</td><td>1545</td></tr><tr><th>21</th><td>E</td><td>1595</td></tr><tr><th>22</th><td>E</td><td>1630</td></tr><tr><th>23</th><td>E</td><td>1515</td></tr><tr><th>24</th><td>E</td><td>1635</td></tr><tr><th>25</th><td>E</td><td>1625</td></tr><tr><th>26</th><td>F</td><td>1520</td></tr><tr><th>27</th><td>F</td><td>1455</td></tr><tr><th>28</th><td>F</td><td>1450</td></tr><tr><th>29</th><td>F</td><td>1480</td></tr><tr><th>30</th><td>F</td><td>1445</td></tr><tr><th>&vellip;</th><td>&vellip;</td><td>&vellip;</td></tr></table>"
       ],
       "metadata": {},
       "output_type": "pyout",
       "prompt_number": 26,
       "text": [
        "30x2 DataFrame\n",
        "|-------|-------|-------|\n",
        "| Row # | Batch | Yield |\n",
        "| 1     | \"A\"   | 1545  |\n",
        "| 2     | \"A\"   | 1440  |\n",
        "| 3     | \"A\"   | 1440  |\n",
        "| 4     | \"A\"   | 1520  |\n",
        "| 5     | \"A\"   | 1580  |\n",
        "| 6     | \"B\"   | 1540  |\n",
        "| 7     | \"B\"   | 1555  |\n",
        "| 8     | \"B\"   | 1490  |\n",
        "| 9     | \"B\"   | 1560  |\n",
        "| 10    | \"B\"   | 1495  |\n",
        "| 11    | \"C\"   | 1595  |\n",
        "\u22ee\n",
        "| 19    | \"D\"   | 1465  |\n",
        "| 20    | \"D\"   | 1545  |\n",
        "| 21    | \"E\"   | 1595  |\n",
        "| 22    | \"E\"   | 1630  |\n",
        "| 23    | \"E\"   | 1515  |\n",
        "| 24    | \"E\"   | 1635  |\n",
        "| 25    | \"E\"   | 1625  |\n",
        "| 26    | \"F\"   | 1520  |\n",
        "| 27    | \"F\"   | 1455  |\n",
        "| 28    | \"F\"   | 1450  |\n",
        "| 29    | \"F\"   | 1480  |\n",
        "| 30    | \"F\"   | 1445  |"
       ]
      }
     ],
     "prompt_number": 26
    },
    {
     "cell_type": "code",
     "collapsed": false,
     "input": [
      "names(ds)"
     ],
     "language": "python",
     "metadata": {},
     "outputs": [
      {
       "metadata": {},
       "output_type": "pyout",
       "prompt_number": 27,
       "text": [
        "2-element Array{Symbol,1}:\n",
        " :Batch\n",
        " :Yield"
       ]
      }
     ],
     "prompt_number": 27
    },
    {
     "cell_type": "markdown",
     "metadata": {},
     "source": [
      "Indivual columns can be accessed by name using symbols (e.g. `:Yield`).  This means that the column names should be valid Julia identifiers.  Among other things, they cannot contain the dot or period character (`.`)."
     ]
    },
    {
     "cell_type": "code",
     "collapsed": false,
     "input": [
      "ds[:Yield]"
     ],
     "language": "python",
     "metadata": {},
     "outputs": [
      {
       "metadata": {},
       "output_type": "pyout",
       "prompt_number": 28,
       "text": [
        "30-element DataArray{Int32,1}:\n",
        " 1545\n",
        " 1440\n",
        " 1440\n",
        " 1520\n",
        " 1580\n",
        " 1540\n",
        " 1555\n",
        " 1490\n",
        " 1560\n",
        " 1495\n",
        " 1595\n",
        " 1550\n",
        " 1605\n",
        "    \u22ee\n",
        " 1465\n",
        " 1545\n",
        " 1595\n",
        " 1630\n",
        " 1515\n",
        " 1635\n",
        " 1625\n",
        " 1520\n",
        " 1455\n",
        " 1450\n",
        " 1480\n",
        " 1445"
       ]
      }
     ],
     "prompt_number": 28
    },
    {
     "cell_type": "markdown",
     "metadata": {},
     "source": [
      "The `DataFrame` constructor can be given `<name>=<value>` pairs."
     ]
    },
    {
     "cell_type": "code",
     "collapsed": false,
     "input": [
      "x = 1.:10.;\n",
      "\u03f5 = rand(Normal(0.,0.1),length(x));\n",
      "\u03b2 = [4.2,1.1];\n",
      "ytrue = [ones(length(x)) x]*\u03b2;\n",
      "dd = DataFrame(x=x,ytrue = ytrue, y = ytrue + \u03f5)"
     ],
     "language": "python",
     "metadata": {},
     "outputs": [
      {
       "html": [
        "<table class=\"data-frame\"><tr><th></th><th>x</th><th>ytrue</th><th>y</th></tr><tr><th>1</th><td>1.0</td><td>5.300000000000001</td><td>5.303227856522185</td></tr><tr><th>2</th><td>2.0</td><td>6.4</td><td>6.389670433917465</td></tr><tr><th>3</th><td>3.0</td><td>7.5</td><td>7.3861905389925</td></tr><tr><th>4</th><td>4.0</td><td>8.600000000000001</td><td>8.652306312765747</td></tr><tr><th>5</th><td>5.0</td><td>9.7</td><td>9.750277832334463</td></tr><tr><th>6</th><td>6.0</td><td>10.8</td><td>10.791012856085263</td></tr><tr><th>7</th><td>7.0</td><td>11.900000000000002</td><td>11.836038050195825</td></tr><tr><th>8</th><td>8.0</td><td>13.0</td><td>13.060557985474738</td></tr><tr><th>9</th><td>9.0</td><td>14.100000000000001</td><td>14.113665379638103</td></tr><tr><th>10</th><td>10.0</td><td>15.2</td><td>15.122622250234093</td></tr></table>"
       ],
       "metadata": {},
       "output_type": "pyout",
       "prompt_number": 29,
       "text": [
        "10x3 DataFrame\n",
        "|-------|------|-------|---------|\n",
        "| Row # | x    | ytrue | y       |\n",
        "| 1     | 1.0  | 5.3   | 5.30323 |\n",
        "| 2     | 2.0  | 6.4   | 6.38967 |\n",
        "| 3     | 3.0  | 7.5   | 7.38619 |\n",
        "| 4     | 4.0  | 8.6   | 8.65231 |\n",
        "| 5     | 5.0  | 9.7   | 9.75028 |\n",
        "| 6     | 6.0  | 10.8  | 10.791  |\n",
        "| 7     | 7.0  | 11.9  | 11.836  |\n",
        "| 8     | 8.0  | 13.0  | 13.0606 |\n",
        "| 9     | 9.0  | 14.1  | 14.1137 |\n",
        "| 10    | 10.0 | 15.2  | 15.1226 |"
       ]
      }
     ],
     "prompt_number": 29
    },
    {
     "cell_type": "markdown",
     "metadata": {},
     "source": [
      "In `R` many modeling functions that use a formula/data representation first apply `model.frame` then `model.matrix`.  In the `DataFrames` package these are `ModelFrame` and `ModelMatrix`.  A `ModelFrame` is the reduction of the original `DataFrame` to only those columns that are used in the model and after application of the NA action.  It includes a `Terms` object, which describes the terms in the formula, again after some reduction and expansion.  Finally, a record is kept of which rows in the original data frame are represented in the derived frame."
     ]
    },
    {
     "cell_type": "code",
     "collapsed": false,
     "input": [
      "mf = ModelFrame(y ~ x, dd)\n"
     ],
     "language": "python",
     "metadata": {},
     "outputs": [
      {
       "metadata": {},
       "output_type": "pyout",
       "prompt_number": 30,
       "text": [
        "ModelFrame(10x2 DataFrame\n",
        "|-------|---------|------|\n",
        "| Row # | y       | x    |\n",
        "| 1     | 5.30323 | 1.0  |\n",
        "| 2     | 6.38967 | 2.0  |\n",
        "| 3     | 7.38619 | 3.0  |\n",
        "| 4     | 8.65231 | 4.0  |\n",
        "| 5     | 9.75028 | 5.0  |\n",
        "| 6     | 10.791  | 6.0  |\n",
        "| 7     | 11.836  | 7.0  |\n",
        "| 8     | 13.0606 | 8.0  |\n",
        "| 9     | 14.1137 | 9.0  |\n",
        "| 10    | 15.1226 | 10.0 |,Terms([:x],{:y,:x},2x2 Array{Int8,2}:\n",
        " 1  0\n",
        " 0  1,[1,1],true,true),Bool[true,true,true,true,true,true,true,true,true,true])"
       ]
      }
     ],
     "prompt_number": 30
    },
    {
     "cell_type": "markdown",
     "metadata": {},
     "source": [
      "The `ModelMatrix` is constructed from the `ModelFrame`."
     ]
    },
    {
     "cell_type": "code",
     "collapsed": false,
     "input": [
      "mm = ModelMatrix(mf)"
     ],
     "language": "python",
     "metadata": {},
     "outputs": [
      {
       "metadata": {},
       "output_type": "pyout",
       "prompt_number": 31,
       "text": [
        "ModelMatrix{Float64}(10x2 Array{Float64,2}:\n",
        " 1.0   1.0\n",
        " 1.0   2.0\n",
        " 1.0   3.0\n",
        " 1.0   4.0\n",
        " 1.0   5.0\n",
        " 1.0   6.0\n",
        " 1.0   7.0\n",
        " 1.0   8.0\n",
        " 1.0   9.0\n",
        " 1.0  10.0,[0,1])"
       ]
      }
     ],
     "prompt_number": 31
    },
    {
     "cell_type": "markdown",
     "metadata": {},
     "source": [
      "The `assign` vector in this object maps columns to terms.  It is used when performing hypothesis tests, like `anova`.  At present the `model_response` function returns the value of the expression on the left-hand side of the formula."
     ]
    },
    {
     "cell_type": "code",
     "collapsed": false,
     "input": [
      "model_response(mf)"
     ],
     "language": "python",
     "metadata": {},
     "outputs": [
      {
       "metadata": {},
       "output_type": "pyout",
       "prompt_number": 32,
       "text": [
        "10-element Array{Float64,1}:\n",
        "  5.30323\n",
        "  6.38967\n",
        "  7.38619\n",
        "  8.65231\n",
        "  9.75028\n",
        " 10.791  \n",
        " 11.836  \n",
        " 13.0606 \n",
        " 14.1137 \n",
        " 15.1226 "
       ]
      }
     ],
     "prompt_number": 32
    },
    {
     "cell_type": "markdown",
     "metadata": {},
     "source": [
      "These facilities are not developed as fully as those in `R`."
     ]
    },
    {
     "cell_type": "heading",
     "level": 3,
     "metadata": {},
     "source": [
      "The GLM Package"
     ]
    },
    {
     "cell_type": "markdown",
     "metadata": {},
     "source": [
      "The `GLM` package provides functions to fit and analyse the linear models and generalized linear models."
     ]
    },
    {
     "cell_type": "code",
     "collapsed": false,
     "input": [
      "using GLM\n",
      "fm = lm(y ~ x, dd)"
     ],
     "language": "python",
     "metadata": {},
     "outputs": [
      {
       "metadata": {},
       "output_type": "pyout",
       "prompt_number": 34,
       "text": [
        "DataFrameRegressionModel{LinearModel{DensePredQR{Float64}},Float64}:\n",
        "\n",
        "Coefficients:\n",
        "             Estimate  Std.Error t value Pr(>|t|)\n",
        "(Intercept)   4.19368  0.0428173 97.9435   <1e-12\n",
        "x             1.09943 0.00690064 159.323   <1e-14\n"
       ]
      }
     ],
     "prompt_number": 34
    },
    {
     "cell_type": "code",
     "collapsed": false,
     "input": [
      "fm = fit(LinearModel,y ~ x,dd)"
     ],
     "language": "python",
     "metadata": {},
     "outputs": [
      {
       "metadata": {},
       "output_type": "pyout",
       "prompt_number": 35,
       "text": [
        "DataFrameRegressionModel{LinearModel{DensePredQR{Float64}},Float64}:\n",
        "\n",
        "Coefficients:\n",
        "             Estimate  Std.Error t value Pr(>|t|)\n",
        "(Intercept)   4.19368  0.0428173 97.9435   <1e-12\n",
        "x             1.09943 0.00690064 159.323   <1e-14\n"
       ]
      }
     ],
     "prompt_number": 35
    },
    {
     "cell_type": "heading",
     "level": 3,
     "metadata": {},
     "source": [
      "StatsBase"
     ]
    },
    {
     "cell_type": "markdown",
     "metadata": {},
     "source": [
      "The `StatsBase` package contains functions for sample statistics and many utilities.  There is online documentation.  Much of the design and implementation is by Dahua Lin who is a stickler for extracting every last ounce of performance."
     ]
    },
    {
     "cell_type": "heading",
     "level": 3,
     "metadata": {},
     "source": [
      "MLBase"
     ]
    },
    {
     "cell_type": "markdown",
     "metadata": {},
     "source": [
      "The `MLBase` package contains many functions for data manipulation and reduction.  It uses the Machine Learning (ML) terminology."
     ]
    },
    {
     "cell_type": "heading",
     "level": 2,
     "metadata": {},
     "source": [
      "[JuliaOpt](http://www.juliaopt.org) packages"
     ]
    },
    {
     "cell_type": "markdown",
     "metadata": {},
     "source": [
      "One of the areas in which Julia shines is optimization packages.  I mostly do nonlinear optimization subject to box constraints and use the `NLopt` package.  Many other types of optimization problems can be addressed with the `JuMP` package.\n",
      "\n",
      "A recent addition is the [JuliaDiff](http://www.juliadiff.org) organization that provides several types of automatic differentiation packages for Julia."
     ]
    }
   ],
   "metadata": {}
  }
 ]
}