{
 "cells": [
  {
   "cell_type": "markdown",
   "metadata": {},
   "source": [
    "# Contributed packages worth knowing about"
   ]
  },
  {
   "cell_type": "markdown",
   "metadata": {},
   "source": [
    "## Packages from [JuliaStats](https://github.com/JuliaStats/)"
   ]
  },
  {
   "cell_type": "markdown",
   "metadata": {},
   "source": [
    "### The `Distributions` package"
   ]
  },
  {
   "cell_type": "markdown",
   "metadata": {},
   "source": [
    "The `Distributions` package provides a comprehensive list of univariate, multivariate and matrix distributions and a set of generic functions that can be applied to them.  See the [documentation](http://distributionsjl.readthedocs.org/en/latest/) for details on the coverage.\n",
    "\n",
    "Note that some methods refer to the distribution __type__ (e.g. `Normal`) instead of a distribution __instance__ (e.g. `Normal(0.,1.)`)"
   ]
  },
  {
   "cell_type": "code",
   "execution_count": 1,
   "metadata": {
    "collapsed": false
   },
   "outputs": [
    {
     "data": {
      "text/plain": [
       "Distributions.Normal(μ=0.0, σ=1.0)"
      ]
     },
     "execution_count": 1,
     "metadata": {},
     "output_type": "execute_result"
    }
   ],
   "source": [
    "using Distributions\n",
    "d = Normal()        # standard normal (Gaussian) distribution"
   ]
  },
  {
   "cell_type": "code",
   "execution_count": 2,
   "metadata": {
    "collapsed": false
   },
   "outputs": [
    {
     "data": {
      "text/plain": [
       "20-element Array{Float64,1}:\n",
       " -1.37163 \n",
       "  0.108703\n",
       " -0.614373\n",
       "  0.908453\n",
       " -0.616237\n",
       "  1.30055 \n",
       "  1.82147 \n",
       "  1.56462 \n",
       "  1.27457 \n",
       " -0.407733\n",
       " -0.691858\n",
       " -1.49719 \n",
       "  0.850856\n",
       " -0.250366\n",
       "  1.22701 \n",
       " -1.0103  \n",
       " -0.47893 \n",
       "  0.512367\n",
       " -0.433555\n",
       "  0.818587"
      ]
     },
     "execution_count": 2,
     "metadata": {},
     "output_type": "execute_result"
    }
   ],
   "source": [
    "x = rand(d,20)     # sample of size 20 from a standard normal"
   ]
  },
  {
   "cell_type": "code",
   "execution_count": 3,
   "metadata": {
    "collapsed": false
   },
   "outputs": [
    {
     "data": {
      "text/plain": [
       "Distributions.Normal(μ=0.15075083842683862, σ=0.9912678731753393)"
      ]
     },
     "execution_count": 3,
     "metadata": {},
     "output_type": "execute_result"
    }
   ],
   "source": [
    "de = fit_mle(Normal,x)   # maximum likelihood estimates of normal dist. pars."
   ]
  },
  {
   "cell_type": "code",
   "execution_count": 4,
   "metadata": {
    "collapsed": false
   },
   "outputs": [
    {
     "data": {
      "text/plain": [
       "0.15075083842683862"
      ]
     },
     "execution_count": 4,
     "metadata": {},
     "output_type": "execute_result"
    }
   ],
   "source": [
    "mean(de)"
   ]
  },
  {
   "cell_type": "code",
   "execution_count": 5,
   "metadata": {
    "collapsed": false
   },
   "outputs": [
    {
     "data": {
      "text/plain": [
       "0.9912678731753393"
      ]
     },
     "execution_count": 5,
     "metadata": {},
     "output_type": "execute_result"
    }
   ],
   "source": [
    "std(de)"
   ]
  },
  {
   "cell_type": "code",
   "execution_count": 6,
   "metadata": {
    "collapsed": false
   },
   "outputs": [
    {
     "data": {
      "text/plain": [
       "0.9826119963895605"
      ]
     },
     "execution_count": 6,
     "metadata": {},
     "output_type": "execute_result"
    }
   ],
   "source": [
    "var(de)"
   ]
  },
  {
   "cell_type": "code",
   "execution_count": 7,
   "metadata": {
    "collapsed": false
   },
   "outputs": [
    {
     "data": {
      "text/plain": [
       "0.0"
      ]
     },
     "execution_count": 7,
     "metadata": {},
     "output_type": "execute_result"
    }
   ],
   "source": [
    "kurtosis(de)"
   ]
  },
  {
   "cell_type": "code",
   "execution_count": 8,
   "metadata": {
    "collapsed": false
   },
   "outputs": [
    {
     "data": {
      "text/plain": [
       "0.0"
      ]
     },
     "execution_count": 8,
     "metadata": {},
     "output_type": "execute_result"
    }
   ],
   "source": [
    "skewness(de)"
   ]
  },
  {
   "cell_type": "code",
   "execution_count": 9,
   "metadata": {
    "collapsed": false
   },
   "outputs": [
    {
     "data": {
      "text/plain": [
       "-28.203361159103117"
      ]
     },
     "execution_count": 9,
     "metadata": {},
     "output_type": "execute_result"
    }
   ],
   "source": [
    "loglikelihood(de,x)"
   ]
  },
  {
   "cell_type": "code",
   "execution_count": 10,
   "metadata": {
    "collapsed": false
   },
   "outputs": [
    {
     "data": {
      "text/plain": [
       "Distributions.NormalStats(3.0150167685367726,0.15075083842683862,19.65223992779121,20.0)"
      ]
     },
     "execution_count": 10,
     "metadata": {},
     "output_type": "execute_result"
    }
   ],
   "source": [
    "ss = suffstats(Normal,x)"
   ]
  },
  {
   "cell_type": "code",
   "execution_count": 11,
   "metadata": {
    "collapsed": false
   },
   "outputs": [
    {
     "data": {
      "text/plain": [
       "1x4 Array{Symbol,2}:\n",
       " :s  :m  :s2  :tw"
      ]
     },
     "execution_count": 11,
     "metadata": {},
     "output_type": "execute_result"
    }
   ],
   "source": [
    "fieldnames(ss)'"
   ]
  },
  {
   "cell_type": "code",
   "execution_count": 12,
   "metadata": {
    "collapsed": false
   },
   "outputs": [
    {
     "data": {
      "text/plain": [
       "Distributions.Normal(μ=0.15075083842683862, σ=0.9912678731753393)"
      ]
     },
     "execution_count": 12,
     "metadata": {},
     "output_type": "execute_result"
    }
   ],
   "source": [
    "fit_mle(Normal,ss)   # can fit from sufficient statistics"
   ]
  },
  {
   "cell_type": "markdown",
   "metadata": {},
   "source": [
    "It is also possible to do `map` (maximum a posteriori) estimation using a conjugate prior.  Again, see the documentation."
   ]
  },
  {
   "cell_type": "markdown",
   "metadata": {},
   "source": [
    "### The `DataArrays` package"
   ]
  },
  {
   "cell_type": "markdown",
   "metadata": {},
   "source": [
    "This is a lightweight package to define types that can contain `NA`'s.  It was split off from the `DataFrames` package because loading the whole of `DataFrames` takes a while.  (This will change when pre-compiled packages are more easily constructed.)\n",
    "\n",
    "The basic types defined in `DataArrays` are `NA`, used for literal NA input, the `DataArray`, like a numeric or integer vector in `R`, and the `PooledDataVector`, like a `factor` in `R`.\n",
    "\n",
    "The concept of an `NA` is built into many of the `R` types.  In `Julia` a `DataArray` or `PooledDataArray` is composed of the data and a separate `bitarray` of indicators of missingness."
   ]
  },
  {
   "cell_type": "code",
   "execution_count": 2,
   "metadata": {
    "collapsed": false
   },
   "outputs": [
    {
     "data": {
      "text/plain": [
       "4-element DataArrays.DataArray{Int64,1}:\n",
       " 2  \n",
       " 1  \n",
       "  NA\n",
       " 4  "
      ]
     },
     "execution_count": 2,
     "metadata": {},
     "output_type": "execute_result"
    }
   ],
   "source": [
    "using DataArrays\n",
    "v = @data([2,1,NA,4])"
   ]
  },
  {
   "cell_type": "code",
   "execution_count": 14,
   "metadata": {
    "collapsed": false
   },
   "outputs": [
    {
     "data": {
      "text/plain": [
       "2-element Array{Symbol,1}:\n",
       " :data\n",
       " :na  "
      ]
     },
     "execution_count": 14,
     "metadata": {},
     "output_type": "execute_result"
    }
   ],
   "source": [
    "fieldnames(v)"
   ]
  },
  {
   "cell_type": "code",
   "execution_count": 15,
   "metadata": {
    "collapsed": false
   },
   "outputs": [
    {
     "data": {
      "text/plain": [
       "svec(Array{Int64,1},BitArray{1})"
      ]
     },
     "execution_count": 15,
     "metadata": {},
     "output_type": "execute_result"
    }
   ],
   "source": [
    "typeof(v).types"
   ]
  },
  {
   "cell_type": "code",
   "execution_count": 16,
   "metadata": {
    "collapsed": false
   },
   "outputs": [
    {
     "data": {
      "text/plain": [
       "4-element Array{Int64,1}:\n",
       " 2\n",
       " 1\n",
       " 2\n",
       " 4"
      ]
     },
     "execution_count": 16,
     "metadata": {},
     "output_type": "execute_result"
    }
   ],
   "source": [
    "v.data"
   ]
  },
  {
   "cell_type": "code",
   "execution_count": 17,
   "metadata": {
    "collapsed": false
   },
   "outputs": [
    {
     "data": {
      "text/plain": [
       "4-element BitArray{1}:\n",
       " false\n",
       " false\n",
       "  true\n",
       " false"
      ]
     },
     "execution_count": 17,
     "metadata": {},
     "output_type": "execute_result"
    }
   ],
   "source": [
    "v.na"
   ]
  },
  {
   "cell_type": "code",
   "execution_count": 18,
   "metadata": {
    "collapsed": false
   },
   "outputs": [
    {
     "data": {
      "text/plain": [
       "4-element BitArray{1}:\n",
       " false\n",
       " false\n",
       "  true\n",
       " false"
      ]
     },
     "execution_count": 18,
     "metadata": {},
     "output_type": "execute_result"
    }
   ],
   "source": [
    "isna(v)"
   ]
  },
  {
   "cell_type": "code",
   "execution_count": 19,
   "metadata": {
    "collapsed": false
   },
   "outputs": [
    {
     "data": {
      "text/plain": [
       "3-element Array{Int64,1}:\n",
       " 2\n",
       " 1\n",
       " 4"
      ]
     },
     "execution_count": 19,
     "metadata": {},
     "output_type": "execute_result"
    }
   ],
   "source": [
    "dropna(v)"
   ]
  },
  {
   "cell_type": "markdown",
   "metadata": {},
   "source": [
    "The `PooledDataArray`, generated with the `@pdata` macro call, consists of a `pool` array (similar to the `levels` in an `R` `factor` object) and a unsigned integer vector `refs`."
   ]
  },
  {
   "cell_type": "code",
   "execution_count": 20,
   "metadata": {
    "collapsed": false
   },
   "outputs": [
    {
     "data": {
      "text/plain": [
       "1000-element DataArrays.PooledDataArray{Char,UInt32,1}:\n",
       " 'M'\n",
       " 'F'\n",
       " 'M'\n",
       " 'M'\n",
       " 'M'\n",
       " 'F'\n",
       " 'F'\n",
       " 'F'\n",
       " 'M'\n",
       " 'F'\n",
       " 'M'\n",
       " 'F'\n",
       " 'F'\n",
       " ⋮  \n",
       " 'M'\n",
       " 'F'\n",
       " 'M'\n",
       " 'F'\n",
       " 'F'\n",
       " 'F'\n",
       " 'M'\n",
       " 'F'\n",
       " 'F'\n",
       " 'F'\n",
       " 'F'\n",
       " 'M'"
      ]
     },
     "execution_count": 20,
     "metadata": {},
     "output_type": "execute_result"
    }
   ],
   "source": [
    "d = Bernoulli()\n",
    "sex = @pdata [rand(d) ≠ 0 ? 'F' : 'M' for i in 1:1000]"
   ]
  },
  {
   "cell_type": "code",
   "execution_count": 21,
   "metadata": {
    "collapsed": false
   },
   "outputs": [
    {
     "data": {
      "text/plain": [
       "2-element Array{Char,1}:\n",
       " 'F'\n",
       " 'M'"
      ]
     },
     "execution_count": 21,
     "metadata": {},
     "output_type": "execute_result"
    }
   ],
   "source": [
    "sex.pool"
   ]
  },
  {
   "cell_type": "code",
   "execution_count": 22,
   "metadata": {
    "collapsed": false
   },
   "outputs": [
    {
     "data": {
      "text/plain": [
       "1000-element Array{UInt32,1}:\n",
       " 0x00000002\n",
       " 0x00000001\n",
       " 0x00000002\n",
       " 0x00000002\n",
       " 0x00000002\n",
       " 0x00000001\n",
       " 0x00000001\n",
       " 0x00000001\n",
       " 0x00000002\n",
       " 0x00000001\n",
       " 0x00000002\n",
       " 0x00000001\n",
       " 0x00000001\n",
       "          ⋮\n",
       " 0x00000002\n",
       " 0x00000001\n",
       " 0x00000002\n",
       " 0x00000001\n",
       " 0x00000001\n",
       " 0x00000001\n",
       " 0x00000002\n",
       " 0x00000001\n",
       " 0x00000001\n",
       " 0x00000001\n",
       " 0x00000001\n",
       " 0x00000002"
      ]
     },
     "execution_count": 22,
     "metadata": {},
     "output_type": "execute_result"
    }
   ],
   "source": [
    "sex.refs"
   ]
  },
  {
   "cell_type": "code",
   "execution_count": 23,
   "metadata": {
    "collapsed": false
   },
   "outputs": [
    {
     "data": {
      "text/plain": [
       "1000-element DataArrays.PooledDataArray{Char,UInt8,1}:\n",
       " 'M'\n",
       " 'F'\n",
       " 'M'\n",
       " 'M'\n",
       " 'M'\n",
       " 'F'\n",
       " 'F'\n",
       " 'F'\n",
       " 'M'\n",
       " 'F'\n",
       " 'M'\n",
       " 'F'\n",
       " 'F'\n",
       " ⋮  \n",
       " 'M'\n",
       " 'F'\n",
       " 'M'\n",
       " 'F'\n",
       " 'F'\n",
       " 'F'\n",
       " 'M'\n",
       " 'F'\n",
       " 'F'\n",
       " 'F'\n",
       " 'F'\n",
       " 'M'"
      ]
     },
     "execution_count": 23,
     "metadata": {},
     "output_type": "execute_result"
    }
   ],
   "source": [
    "sex = compact(sex)  # provides a more compact representation, if possible"
   ]
  },
  {
   "cell_type": "code",
   "execution_count": 24,
   "metadata": {
    "collapsed": false
   },
   "outputs": [
    {
     "data": {
      "text/plain": [
       "1000-element Array{UInt8,1}:\n",
       " 0x02\n",
       " 0x01\n",
       " 0x02\n",
       " 0x02\n",
       " 0x02\n",
       " 0x01\n",
       " 0x01\n",
       " 0x01\n",
       " 0x02\n",
       " 0x01\n",
       " 0x02\n",
       " 0x01\n",
       " 0x01\n",
       "    ⋮\n",
       " 0x02\n",
       " 0x01\n",
       " 0x02\n",
       " 0x01\n",
       " 0x01\n",
       " 0x01\n",
       " 0x02\n",
       " 0x01\n",
       " 0x01\n",
       " 0x01\n",
       " 0x01\n",
       " 0x02"
      ]
     },
     "execution_count": 24,
     "metadata": {},
     "output_type": "execute_result"
    }
   ],
   "source": [
    "sex.refs"
   ]
  },
  {
   "cell_type": "markdown",
   "metadata": {},
   "source": [
    "A few other functions common to an `R` programmer, like `rep`, are in the `DataArrays` package."
   ]
  },
  {
   "cell_type": "code",
   "execution_count": 3,
   "metadata": {
    "collapsed": false
   },
   "outputs": [
    {
     "name": "stdout",
     "output_type": "stream",
     "text": [
      "                             /     38 KB     Function\n"
     ]
    },
    {
     "name": "stderr",
     "output_type": "stream",
     "text": [
      "WARNING: both StatsBase and Base export \"histrange\"; uses of it in module DataArrays must be qualified\n",
      "WARNING: both StatsBase and Base export \"midpoints\"; uses of it in module DataArrays must be qualified\n"
     ]
    },
    {
     "name": "stdout",
     "output_type": "stream",
     "text": [
      "                         @data   1533 bytes  Function\n",
      "                        @pdata   1249 bytes  Function\n",
      "             AbstractDataArray    188 bytes  DataType\n",
      "            AbstractDataMatrix     80 bytes  TypeConstructor\n",
      "            AbstractDataVector     80 bytes  TypeConstructor\n",
      "             AbstractHistogram    228 bytes  DataType\n",
      "                     CoefTable    284 bytes  DataType\n",
      "                     DataArray    220 bytes  DataType\n",
      "                    DataArrays    674 KB     Module\n",
      "                    DataMatrix     80 bytes  TypeConstructor\n",
      "                    DataVector     80 bytes  TypeConstructor\n",
      "                    EachDropNA    168 bytes  DataType\n",
      "                    EachFailNA    168 bytes  DataType\n",
      "                 EachReplaceNA    220 bytes  DataType\n",
      "                      FastPerm    284 bytes  DataType\n",
      "                     Histogram    272 bytes  DataType\n",
      "                        L1dist   1279 bytes  Function\n",
      "                        L2dist    577 bytes  Function\n",
      "                      Linfdist   1450 bytes  Function\n",
      "                            NA      0 bytes  DataArrays.NAtype\n",
      "                   NAException    112 bytes  DataType\n",
      "                        NAtype     92 bytes  DataType\n",
      "               PooledDataArray    260 bytes  DataType\n",
      "              PooledDataMatrix    120 bytes  TypeConstructor\n",
      "                PooledDataVecs   8507 bytes  Function\n",
      "              PooledDataVector    120 bytes  TypeConstructor\n",
      "               RegressionModel     92 bytes  DataType\n",
      "              StatisticalModel     92 bytes  DataType\n",
      "                     StatsBase    476 KB     Module\n",
      "                     WeightVec    284 bytes  DataType\n",
      "                    addcounts!     14 KB     Function\n",
      "                         allna   1744 bytes  Function\n",
      "                         anyna   1708 bytes  Function\n",
      "                         array   5595 bytes  Function\n",
      "                       autocor   1089 bytes  Function\n",
      "                      autocor!   3572 bytes  Function\n",
      "                       autocov   4814 bytes  Function\n",
      "                      autocov!   3572 bytes  Function\n",
      "                          coef    516 bytes  Function\n",
      "                     coeftable    516 bytes  Function\n",
      "                       compact   1438 bytes  Function\n",
      "                   competerank    649 bytes  Function\n",
      "                       confint    516 bytes  Function\n",
      "                    corkendall   5773 bytes  Function\n",
      "                   corspearman   3260 bytes  Function\n",
      "                       counteq   1287 bytes  Function\n",
      "                      countmap   2176 bytes  Function\n",
      "                       countne   1287 bytes  Function\n",
      "                        counts   8052 bytes  Function\n",
      "                      crosscor   8202 bytes  Function\n",
      "                     crosscor!   6952 bytes  Function\n",
      "                      crosscov   8202 bytes  Function\n",
      "                     crosscov!   6952 bytes  Function\n",
      "                  crossentropy   2134 bytes  Function\n",
      "                           cut   3992 bytes  Function\n",
      "                          data    504 bytes  Function\n",
      "                     denserank    647 bytes  Function\n",
      "                      describe    560 bytes  Function\n",
      "                      deviance    516 bytes  Function\n",
      "                   df_residual    516 bytes  Function\n",
      "                        dropna   2555 bytes  Function\n",
      "                   each_dropna    557 bytes  Function\n",
      "                   each_failNA    617 bytes  Function\n",
      "                   each_failna    557 bytes  Function\n",
      "                each_replaceNA    629 bytes  Function\n",
      "                each_replacena   1015 bytes  Function\n",
      "                          ecdf    948 bytes  Function\n",
      "                       entropy   1799 bytes  Function\n",
      "                        findat    538 bytes  Function\n",
      "                           fit     13 KB     Function\n",
      "                          fit!    548 bytes  Function\n",
      "                        fitted    516 bytes  Function\n",
      "                       geomean   1163 bytes  Function\n",
      "                    getpoolidx   2027 bytes  Function\n",
      "                        gkldiv   1559 bytes  Function\n",
      "                            gl   2271 bytes  Function\n",
      "                      harmmean   1153 bytes  Function\n",
      "                          head    592 bytes  Function\n",
      "                          hist   2683 bytes  Function\n",
      "                      indexmap   1184 bytes  Function\n",
      "                  indicatormat   4556 bytes  Function\n",
      "                   inverse_rle   1942 bytes  Function\n",
      "                   invsoftplus   5037 bytes  Function\n",
      "                           iqr    608 bytes  Function\n",
      "                          isna   4945 bytes  Function\n",
      "                  kldivergence   2138 bytes  Function\n",
      "                      kurtosis   5279 bytes  Function\n",
      "                        levels   1717 bytes  Function\n",
      "                     levelsmap   1320 bytes  Function\n",
      "                      logistic   4468 bytes  Function\n",
      "                         logit   4441 bytes  Function\n",
      "                 loglikelihood    516 bytes  Function\n",
      "                     logsumexp   2785 bytes  Function\n",
      "                           mad   3645 bytes  Function\n",
      "                         maxad    570 bytes  Function\n",
      "                  mean_and_cov   2938 bytes  Function\n",
      "                  mean_and_std   2120 bytes  Function\n",
      "                  mean_and_var   2120 bytes  Function\n",
      "                        meanad    585 bytes  Function\n",
      "                        middle   3053 bytes  Function\n",
      "                          mode   4046 bytes  Function\n",
      "                model_response    516 bytes  Function\n",
      "                         modes   4963 bytes  Function\n",
      "                        moment   2360 bytes  Function\n",
      "                           msd    587 bytes  Function\n",
      "                          nobs    516 bytes  Function\n",
      "                     nquantile    590 bytes  Function\n",
      "                   ordinalrank    645 bytes  Function\n",
      "                          pacf   3226 bytes  Function\n",
      "                         pacf!   1893 bytes  Function\n",
      "                         padNA   1240 bytes  Function\n",
      "                         pdata    516 bytes  Function\n",
      "                percent_change   1169 bytes  Function\n",
      "                    percentile    583 bytes  Function\n",
      "                       predict    516 bytes  Function\n",
      "                      predict!    516 bytes  Function\n",
      "                 proportionmap   1003 bytes  Function\n",
      "                   proportions   7036 bytes  Function\n",
      "                          psnr    655 bytes  Function\n",
      "                       reldiff   1140 bytes  Function\n",
      "                      removeNA    601 bytes  Function\n",
      "                       reorder   1040 bytes  Function\n",
      "                           rep   6024 bytes  Function\n",
      "                      replace!   4684 bytes  Function\n",
      "                     residuals    516 bytes  Function\n",
      "                           rle   6285 bytes  Function\n",
      "                          rmsd   1691 bytes  Function\n",
      "                        sample   9170 bytes  Function\n",
      "                       sample!   3510 bytes  Function\n",
      "                    samplepair   1447 bytes  Function\n",
      "                    scattermat   3208 bytes  Function\n",
      "                           sem    568 bytes  Function\n",
      "                    set_levels    611 bytes  Function\n",
      "                   set_levels!    615 bytes  Function\n",
      "                     setlevels   3164 bytes  Function\n",
      "                    setlevels!   4791 bytes  Function\n",
      "                      skewness   5199 bytes  Function\n",
      "                       softmax    560 bytes  Function\n",
      "                      softmax!   2515 bytes  Function\n",
      "                      softplus   5021 bytes  Function\n",
      "                          span    742 bytes  Function\n",
      "                      sqL2dist   1276 bytes  Function\n",
      "                        stderr    517 bytes  Function\n",
      "                  summarystats   1004 bytes  Function\n",
      "                          tail    607 bytes  Function\n",
      "                      tiedrank    646 bytes  Function\n",
      "                      trimmean   1904 bytes  Function\n",
      "                     variation   1035 bytes  Function\n",
      "                          vcov    516 bytes  Function\n",
      "                          view   4098 bytes  Function\n",
      "                       weights   1086 bytes  Function\n",
      "                         wmean    723 bytes  Function\n",
      "                       wmedian   1071 bytes  Function\n",
      "                     wquantile   2130 bytes  Function\n",
      "                       wsample   4621 bytes  Function\n",
      "                      wsample!   1945 bytes  Function\n",
      "                          wsum   1775 bytes  Function\n",
      "                         wsum!   1904 bytes  Function\n",
      "                         xlogx   4467 bytes  Function\n",
      "                         xlogy   5141 bytes  Function\n",
      "                          xtab    180 bytes  DataType\n",
      "                         xtabs   1041 bytes  Function\n",
      "                        zscore   3008 bytes  Function\n",
      "                       zscore!   2904 bytes  Function\n"
     ]
    }
   ],
   "source": [
    "whos(DataArrays)"
   ]
  },
  {
   "cell_type": "markdown",
   "metadata": {},
   "source": [
    "### The `DataFrames` package"
   ]
  },
  {
   "cell_type": "markdown",
   "metadata": {},
   "source": [
    "The `DataFrame` type and methods for working with it are defined in the `DataFrames` package.  There is online documentation but, at least in my browser, the formatting is horrible. I would recommend reading the PDF file instead.\n",
    "\n",
    "The `DataFrames` package is where the formula language and types like `ModelFrame` and `ModelMatrix` are defined.  Many familiar examples of data frames are available in the `RDatasets` package."
   ]
  },
  {
   "cell_type": "code",
   "execution_count": 26,
   "metadata": {
    "collapsed": false
   },
   "outputs": [
    {
     "data": {
      "text/html": [
       "<table class=\"data-frame\"><tr><th></th><th>Batch</th><th>Yield</th></tr><tr><th>1</th><td>A</td><td>1545</td></tr><tr><th>2</th><td>A</td><td>1440</td></tr><tr><th>3</th><td>A</td><td>1440</td></tr><tr><th>4</th><td>A</td><td>1520</td></tr><tr><th>5</th><td>A</td><td>1580</td></tr><tr><th>6</th><td>B</td><td>1540</td></tr><tr><th>7</th><td>B</td><td>1555</td></tr><tr><th>8</th><td>B</td><td>1490</td></tr><tr><th>9</th><td>B</td><td>1560</td></tr><tr><th>10</th><td>B</td><td>1495</td></tr><tr><th>11</th><td>C</td><td>1595</td></tr><tr><th>12</th><td>C</td><td>1550</td></tr><tr><th>13</th><td>C</td><td>1605</td></tr><tr><th>14</th><td>C</td><td>1510</td></tr><tr><th>15</th><td>C</td><td>1560</td></tr><tr><th>16</th><td>D</td><td>1445</td></tr><tr><th>17</th><td>D</td><td>1440</td></tr><tr><th>18</th><td>D</td><td>1595</td></tr><tr><th>19</th><td>D</td><td>1465</td></tr><tr><th>20</th><td>D</td><td>1545</td></tr><tr><th>21</th><td>E</td><td>1595</td></tr><tr><th>22</th><td>E</td><td>1630</td></tr><tr><th>23</th><td>E</td><td>1515</td></tr><tr><th>24</th><td>E</td><td>1635</td></tr><tr><th>25</th><td>E</td><td>1625</td></tr><tr><th>26</th><td>F</td><td>1520</td></tr><tr><th>27</th><td>F</td><td>1455</td></tr><tr><th>28</th><td>F</td><td>1450</td></tr><tr><th>29</th><td>F</td><td>1480</td></tr><tr><th>30</th><td>F</td><td>1445</td></tr></table>"
      ],
      "text/plain": [
       "30x2 DataFrames.DataFrame\n",
       "| Row | Batch | Yield |\n",
       "|-----|-------|-------|\n",
       "| 1   | \"A\"   | 1545  |\n",
       "| 2   | \"A\"   | 1440  |\n",
       "| 3   | \"A\"   | 1440  |\n",
       "| 4   | \"A\"   | 1520  |\n",
       "| 5   | \"A\"   | 1580  |\n",
       "| 6   | \"B\"   | 1540  |\n",
       "| 7   | \"B\"   | 1555  |\n",
       "| 8   | \"B\"   | 1490  |\n",
       "| 9   | \"B\"   | 1560  |\n",
       "| 10  | \"B\"   | 1495  |\n",
       "| 11  | \"C\"   | 1595  |\n",
       "⋮\n",
       "| 19  | \"D\"   | 1465  |\n",
       "| 20  | \"D\"   | 1545  |\n",
       "| 21  | \"E\"   | 1595  |\n",
       "| 22  | \"E\"   | 1630  |\n",
       "| 23  | \"E\"   | 1515  |\n",
       "| 24  | \"E\"   | 1635  |\n",
       "| 25  | \"E\"   | 1625  |\n",
       "| 26  | \"F\"   | 1520  |\n",
       "| 27  | \"F\"   | 1455  |\n",
       "| 28  | \"F\"   | 1450  |\n",
       "| 29  | \"F\"   | 1480  |\n",
       "| 30  | \"F\"   | 1445  |"
      ]
     },
     "execution_count": 26,
     "metadata": {},
     "output_type": "execute_result"
    },
    {
     "name": "stdout",
     "output_type": "stream",
     "text": [
      "                         @data   1533 bytes  Function\n",
      "                        @pdata   1545 bytes  Function\n",
      "             AbstractDataArray    188 bytes  DataType\n",
      "            AbstractDataMatrix     80 bytes  TypeConstructor\n",
      "            AbstractDataVector     80 bytes  TypeConstructor\n",
      "             AbstractHistogram    228 bytes  DataType\n",
      "                     CoefTable    284 bytes  DataType\n",
      "                     DataArray    220 bytes  DataType\n",
      "                    DataArrays    803 KB     Module\n",
      "                    DataMatrix     80 bytes  TypeConstructor\n",
      "                    DataVector     80 bytes  TypeConstructor\n",
      "                    EachDropNA    168 bytes  DataType\n",
      "                    EachFailNA    168 bytes  DataType\n",
      "                 EachReplaceNA    220 bytes  DataType\n",
      "                      FastPerm    284 bytes  DataType\n",
      "                     Histogram    272 bytes  DataType\n",
      "                        L1dist   1279 bytes  Function\n",
      "                        L2dist    577 bytes  Function\n",
      "                      Linfdist   1450 bytes  Function\n",
      "                            NA      0 bytes  DataArrays.NAtype\n",
      "                   NAException    112 bytes  DataType\n",
      "                        NAtype     92 bytes  DataType\n",
      "               PooledDataArray    260 bytes  DataType\n",
      "              PooledDataMatrix    120 bytes  TypeConstructor\n",
      "                PooledDataVecs   8507 bytes  Function\n",
      "              PooledDataVector    120 bytes  TypeConstructor\n",
      "               RegressionModel     92 bytes  DataType\n",
      "              StatisticalModel     92 bytes  DataType\n",
      "                     StatsBase    601 KB     Module\n",
      "                     WeightVec    284 bytes  DataType\n",
      "                    addcounts!     14 KB     Function\n",
      "                         allna   1744 bytes  Function\n",
      "                         anyna   1708 bytes  Function\n",
      "                         array   5595 bytes  Function\n",
      "                       autocor   1089 bytes  Function\n",
      "                      autocor!   3572 bytes  Function\n",
      "                       autocov   4814 bytes  Function\n",
      "                      autocov!   3572 bytes  Function\n",
      "                          coef    516 bytes  Function\n",
      "                     coeftable    516 bytes  Function\n",
      "                       compact   3324 bytes  Function\n",
      "                   competerank    649 bytes  Function\n",
      "                       confint    516 bytes  Function\n",
      "                    corkendall   5773 bytes  Function\n",
      "                   corspearman   3260 bytes  Function\n",
      "                       counteq   1287 bytes  Function\n",
      "                      countmap   2176 bytes  Function\n",
      "                       countne   1287 bytes  Function\n",
      "                        counts   8052 bytes  Function\n",
      "                      crosscor   8202 bytes  Function\n",
      "                     crosscor!   6952 bytes  Function\n",
      "                      crosscov   8202 bytes  Function\n",
      "                     crosscov!   6952 bytes  Function\n",
      "                  crossentropy   2134 bytes  Function\n",
      "                           cut   3992 bytes  Function\n",
      "                          data    504 bytes  Function\n",
      "                     denserank    647 bytes  Function\n",
      "                      describe    560 bytes  Function\n",
      "                      deviance    516 bytes  Function\n",
      "                   df_residual    516 bytes  Function\n",
      "                        dropna   3439 bytes  Function\n",
      "                   each_dropna    557 bytes  Function\n",
      "                   each_failNA    617 bytes  Function\n",
      "                   each_failna    557 bytes  Function\n",
      "                each_replaceNA    629 bytes  Function\n",
      "                each_replacena   1015 bytes  Function\n",
      "                          ecdf    948 bytes  Function\n",
      "                       entropy     31 KB     Function\n",
      "                        findat    538 bytes  Function\n",
      "                           fit     18 KB     Function\n",
      "                          fit!    548 bytes  Function\n",
      "                        fitted    516 bytes  Function\n",
      "                       geomean   1163 bytes  Function\n",
      "                    getpoolidx   2027 bytes  Function\n",
      "                        gkldiv   1559 bytes  Function\n",
      "                            gl   2271 bytes  Function\n",
      "                      harmmean   1153 bytes  Function\n",
      "                          head    592 bytes  Function\n",
      "                          hist   2683 bytes  Function\n",
      "                      indexmap   1184 bytes  Function\n",
      "                  indicatormat   4556 bytes  Function\n",
      "                   inverse_rle   1942 bytes  Function\n",
      "                   invsoftplus   5037 bytes  Function\n",
      "                           iqr    608 bytes  Function\n",
      "                          isna   5623 bytes  Function\n",
      "                  kldivergence   2638 bytes  Function\n",
      "                      kurtosis     38 KB     Function\n",
      "                        levels   1717 bytes  Function\n",
      "                     levelsmap   1320 bytes  Function\n",
      "                      logistic   4468 bytes  Function\n",
      "                         logit   4441 bytes  Function\n",
      "                 loglikelihood   2394 bytes  Function\n",
      "                     logsumexp   2785 bytes  Function\n",
      "                           mad   3645 bytes  Function\n",
      "                         maxad    570 bytes  Function\n",
      "                  mean_and_cov   2938 bytes  Function\n",
      "                  mean_and_std   2120 bytes  Function\n",
      "                  mean_and_var   2120 bytes  Function\n",
      "                        meanad    585 bytes  Function\n",
      "                        middle   3053 bytes  Function\n",
      "                          mode     31 KB     Function\n",
      "                model_response    516 bytes  Function\n",
      "                         modes     14 KB     Function\n",
      "                        moment   2360 bytes  Function\n",
      "                           msd    587 bytes  Function\n",
      "                          nobs    516 bytes  Function\n",
      "                     nquantile    590 bytes  Function\n",
      "                   ordinalrank    645 bytes  Function\n",
      "                          pacf   3226 bytes  Function\n",
      "                         pacf!   1893 bytes  Function\n",
      "                         padNA   1240 bytes  Function\n",
      "                         pdata    516 bytes  Function\n",
      "                percent_change   1169 bytes  Function\n",
      "                    percentile    583 bytes  Function\n",
      "                       predict    516 bytes  Function\n",
      "                      predict!    516 bytes  Function\n",
      "                 proportionmap   1003 bytes  Function\n",
      "                   proportions   7036 bytes  Function\n",
      "                          psnr    655 bytes  Function\n",
      "                       reldiff   1140 bytes  Function\n",
      "                      removeNA    601 bytes  Function\n",
      "                       reorder   1040 bytes  Function\n",
      "                           rep   6024 bytes  Function\n",
      "                      replace!   4684 bytes  Function\n",
      "                     residuals    516 bytes  Function\n",
      "                           rle   6285 bytes  Function\n",
      "                          rmsd   1691 bytes  Function\n",
      "                        sample   9170 bytes  Function\n",
      "                       sample!   3510 bytes  Function\n",
      "                    samplepair   1447 bytes  Function\n",
      "                    scattermat   3208 bytes  Function\n",
      "                           sem    568 bytes  Function\n",
      "                    set_levels    611 bytes  Function\n",
      "                   set_levels!    615 bytes  Function\n",
      "                     setlevels   3164 bytes  Function\n",
      "                    setlevels!   4791 bytes  Function\n",
      "                      skewness     36 KB     Function\n",
      "                       softmax    560 bytes  Function\n",
      "                      softmax!   2515 bytes  Function\n",
      "                      softplus   5021 bytes  Function\n",
      "                          span    742 bytes  Function\n",
      "                      sqL2dist   1276 bytes  Function\n",
      "                        stderr    517 bytes  Function\n",
      "                  summarystats   1004 bytes  Function\n",
      "                          tail    607 bytes  Function\n",
      "                      tiedrank    646 bytes  Function\n",
      "                      trimmean   1904 bytes  Function\n",
      "                     variation   1035 bytes  Function\n",
      "                          vcov    516 bytes  Function\n",
      "                          view   4098 bytes  Function\n",
      "                       weights   1086 bytes  Function\n",
      "                         wmean    723 bytes  Function\n",
      "                       wmedian   1071 bytes  Function\n",
      "                     wquantile   2130 bytes  Function\n",
      "                       wsample   4621 bytes  Function\n",
      "                      wsample!   1945 bytes  Function\n",
      "                          wsum   1775 bytes  Function\n",
      "                         wsum!   1904 bytes  Function\n",
      "                         xlogx   4467 bytes  Function\n",
      "                         xlogy   5141 bytes  Function\n",
      "                          xtab    180 bytes  DataType\n",
      "                         xtabs   1041 bytes  Function\n",
      "                        zscore   3008 bytes  Function\n",
      "                       zscore!   2904 bytes  Function\n"
     ]
    },
    {
     "name": "stderr",
     "output_type": "stream",
     "text": [
      "WARNING: Base.String is deprecated, use AbstractString instead.\n",
      "  likely near /home/bates/.julia/v0.4/RDatasets/src/dataset.jl:1\n",
      "WARNING: Base.String is deprecated, use AbstractString instead.\n",
      "  likely near /home/bates/.julia/v0.4/RDatasets/src/dataset.jl:1\n",
      "WARNING: Base.String is deprecated, use AbstractString instead.\n",
      "  likely near /home/bates/.julia/v0.4/RDatasets/src/datasets.jl:1\n"
     ]
    }
   ],
   "source": [
    "using DataFrames, RDatasets\n",
    "ds = dataset(\"lme4\",\"Dyestuff\")"
   ]
  },
  {
   "cell_type": "code",
   "execution_count": 27,
   "metadata": {
    "collapsed": false
   },
   "outputs": [
    {
     "data": {
      "text/plain": [
       "2-element Array{Symbol,1}:\n",
       " :Batch\n",
       " :Yield"
      ]
     },
     "execution_count": 27,
     "metadata": {},
     "output_type": "execute_result"
    }
   ],
   "source": [
    "names(ds)"
   ]
  },
  {
   "cell_type": "markdown",
   "metadata": {},
   "source": [
    "Indivual columns can be accessed by name using symbols (e.g. `:Yield`).  This means that the column names should be valid Julia identifiers.  Among other things, they cannot contain the dot or period character (`.`)."
   ]
  },
  {
   "cell_type": "code",
   "execution_count": 28,
   "metadata": {
    "collapsed": false
   },
   "outputs": [
    {
     "data": {
      "text/plain": [
       "30-element DataArrays.DataArray{Int32,1}:\n",
       " 1545\n",
       " 1440\n",
       " 1440\n",
       " 1520\n",
       " 1580\n",
       " 1540\n",
       " 1555\n",
       " 1490\n",
       " 1560\n",
       " 1495\n",
       " 1595\n",
       " 1550\n",
       " 1605\n",
       "    ⋮\n",
       " 1465\n",
       " 1545\n",
       " 1595\n",
       " 1630\n",
       " 1515\n",
       " 1635\n",
       " 1625\n",
       " 1520\n",
       " 1455\n",
       " 1450\n",
       " 1480\n",
       " 1445"
      ]
     },
     "execution_count": 28,
     "metadata": {},
     "output_type": "execute_result"
    }
   ],
   "source": [
    "ds[:Yield]"
   ]
  },
  {
   "cell_type": "markdown",
   "metadata": {},
   "source": [
    "The `DataFrame` constructor can be given `<name>=<value>` pairs."
   ]
  },
  {
   "cell_type": "code",
   "execution_count": 29,
   "metadata": {
    "collapsed": false
   },
   "outputs": [
    {
     "data": {
      "text/html": [
       "<table class=\"data-frame\"><tr><th></th><th>x</th><th>ytrue</th><th>y</th></tr><tr><th>1</th><td>1.0</td><td>5.300000000000001</td><td>5.4266459954573465</td></tr><tr><th>2</th><td>2.0</td><td>6.4</td><td>6.547618585779938</td></tr><tr><th>3</th><td>3.0</td><td>7.5</td><td>7.4126925420952325</td></tr><tr><th>4</th><td>4.0</td><td>8.600000000000001</td><td>8.502478506094308</td></tr><tr><th>5</th><td>5.0</td><td>9.7</td><td>9.459142933970893</td></tr><tr><th>6</th><td>6.0</td><td>10.8</td><td>10.798058744556116</td></tr><tr><th>7</th><td>7.0</td><td>11.900000000000002</td><td>11.791803744236113</td></tr><tr><th>8</th><td>8.0</td><td>13.0</td><td>13.131877566162375</td></tr><tr><th>9</th><td>9.0</td><td>14.100000000000001</td><td>14.145992654678988</td></tr><tr><th>10</th><td>10.0</td><td>15.2</td><td>15.120811027815394</td></tr></table>"
      ],
      "text/plain": [
       "10x3 DataFrames.DataFrame\n",
       "| Row | x    | ytrue | y       |\n",
       "|-----|------|-------|---------|\n",
       "| 1   | 1.0  | 5.3   | 5.42665 |\n",
       "| 2   | 2.0  | 6.4   | 6.54762 |\n",
       "| 3   | 3.0  | 7.5   | 7.41269 |\n",
       "| 4   | 4.0  | 8.6   | 8.50248 |\n",
       "| 5   | 5.0  | 9.7   | 9.45914 |\n",
       "| 6   | 6.0  | 10.8  | 10.7981 |\n",
       "| 7   | 7.0  | 11.9  | 11.7918 |\n",
       "| 8   | 8.0  | 13.0  | 13.1319 |\n",
       "| 9   | 9.0  | 14.1  | 14.146  |\n",
       "| 10  | 10.0 | 15.2  | 15.1208 |"
      ]
     },
     "execution_count": 29,
     "metadata": {},
     "output_type": "execute_result"
    }
   ],
   "source": [
    "x = 1.:10.;\n",
    "ϵ = rand(Normal(0.,0.1),length(x));\n",
    "β = [4.2,1.1];\n",
    "ytrue = [ones(length(x)) x]*β;\n",
    "dd = DataFrame(x=x,ytrue = ytrue, y = ytrue + ϵ)"
   ]
  },
  {
   "cell_type": "markdown",
   "metadata": {},
   "source": [
    "In `R` many modeling functions that use a formula/data representation first apply `model.frame` then `model.matrix`.  In the `DataFrames` package these are `ModelFrame` and `ModelMatrix`.  A `ModelFrame` is the reduction of the original `DataFrame` to only those columns that are used in the model and after application of the NA action.  It includes a `Terms` object, which describes the terms in the formula, again after some reduction and expansion.  Finally, a record is kept of which rows in the original data frame are represented in the derived frame."
   ]
  },
  {
   "cell_type": "code",
   "execution_count": 30,
   "metadata": {
    "collapsed": false
   },
   "outputs": [
    {
     "data": {
      "text/plain": [
       "DataFrames.ModelFrame(10x2 DataFrames.DataFrame\n",
       "| Row | y       | x    |\n",
       "|-----|---------|------|\n",
       "| 1   | 5.42665 | 1.0  |\n",
       "| 2   | 6.54762 | 2.0  |\n",
       "| 3   | 7.41269 | 3.0  |\n",
       "| 4   | 8.50248 | 4.0  |\n",
       "| 5   | 9.45914 | 5.0  |\n",
       "| 6   | 10.7981 | 6.0  |\n",
       "| 7   | 11.7918 | 7.0  |\n",
       "| 8   | 13.1319 | 8.0  |\n",
       "| 9   | 14.146  | 9.0  |\n",
       "| 10  | 15.1208 | 10.0 |,DataFrames.Terms(Any[:x],Any[:y,:x],2x2 Array{Int8,2}:\n",
       " 1  0\n",
       " 0  1,[1,1],true,true),Bool[true,true,true,true,true,true,true,true,true,true])"
      ]
     },
     "execution_count": 30,
     "metadata": {},
     "output_type": "execute_result"
    }
   ],
   "source": [
    "mf = ModelFrame(y ~ x, dd)\n"
   ]
  },
  {
   "cell_type": "markdown",
   "metadata": {},
   "source": [
    "The `ModelMatrix` is constructed from the `ModelFrame`."
   ]
  },
  {
   "cell_type": "code",
   "execution_count": 31,
   "metadata": {
    "collapsed": false
   },
   "outputs": [
    {
     "data": {
      "text/plain": [
       "DataFrames.ModelMatrix{Float64}(10x2 Array{Float64,2}:\n",
       " 1.0   1.0\n",
       " 1.0   2.0\n",
       " 1.0   3.0\n",
       " 1.0   4.0\n",
       " 1.0   5.0\n",
       " 1.0   6.0\n",
       " 1.0   7.0\n",
       " 1.0   8.0\n",
       " 1.0   9.0\n",
       " 1.0  10.0,[0,1])"
      ]
     },
     "execution_count": 31,
     "metadata": {},
     "output_type": "execute_result"
    }
   ],
   "source": [
    "mm = ModelMatrix(mf)"
   ]
  },
  {
   "cell_type": "markdown",
   "metadata": {},
   "source": [
    "The `assign` vector in this object maps columns to terms.  It is used when performing hypothesis tests, like `anova`.  At present the `model_response` function returns the value of the expression on the left-hand side of the formula."
   ]
  },
  {
   "cell_type": "code",
   "execution_count": 32,
   "metadata": {
    "collapsed": false
   },
   "outputs": [
    {
     "data": {
      "text/plain": [
       "10-element Array{Float64,1}:\n",
       "  5.42665\n",
       "  6.54762\n",
       "  7.41269\n",
       "  8.50248\n",
       "  9.45914\n",
       " 10.7981 \n",
       " 11.7918 \n",
       " 13.1319 \n",
       " 14.146  \n",
       " 15.1208 "
      ]
     },
     "execution_count": 32,
     "metadata": {},
     "output_type": "execute_result"
    }
   ],
   "source": [
    "model_response(mf)"
   ]
  },
  {
   "cell_type": "markdown",
   "metadata": {},
   "source": [
    "These facilities are not developed as fully as those in `R`."
   ]
  },
  {
   "cell_type": "markdown",
   "metadata": {},
   "source": [
    "### The GLM Package"
   ]
  },
  {
   "cell_type": "markdown",
   "metadata": {},
   "source": [
    "The `GLM` package provides functions to fit and analyse the linear models and generalized linear models."
   ]
  },
  {
   "cell_type": "code",
   "execution_count": 33,
   "metadata": {
    "collapsed": false
   },
   "outputs": [
    {
     "data": {
      "text/plain": [
       "DataFrames.DataFrameRegressionModel{GLM.LinearModel{GLM.LmResp{Array{Float64,1}},GLM.DensePredQR{Float64}},Float64}:\n",
       "\n",
       "Coefficients:\n",
       "             Estimate Std.Error t value Pr(>|t|)\n",
       "(Intercept)   4.22575 0.0913301  46.269   <1e-10\n",
       "x             1.09236 0.0147192 74.2132   <1e-11\n"
      ]
     },
     "execution_count": 33,
     "metadata": {},
     "output_type": "execute_result"
    }
   ],
   "source": [
    "using GLM\n",
    "fm = lm(y ~ x, dd)"
   ]
  },
  {
   "cell_type": "code",
   "execution_count": 34,
   "metadata": {
    "collapsed": false
   },
   "outputs": [
    {
     "data": {
      "text/plain": [
       "DataFrames.DataFrameRegressionModel{GLM.LinearModel{GLM.LmResp{Array{Float64,1}},GLM.DensePredQR{Float64}},Float64}:\n",
       "\n",
       "Coefficients:\n",
       "             Estimate Std.Error t value Pr(>|t|)\n",
       "(Intercept)   4.22575 0.0913301  46.269   <1e-10\n",
       "x             1.09236 0.0147192 74.2132   <1e-11\n"
      ]
     },
     "execution_count": 34,
     "metadata": {},
     "output_type": "execute_result"
    }
   ],
   "source": [
    "fm = fit(LinearModel,y ~ x,dd)"
   ]
  },
  {
   "cell_type": "markdown",
   "metadata": {},
   "source": [
    "### StatsBase"
   ]
  },
  {
   "cell_type": "markdown",
   "metadata": {},
   "source": [
    "The `StatsBase` package contains functions for sample statistics and many utilities.  There is online documentation.  Much of the design and implementation is by Dahua Lin who is a stickler for extracting every last ounce of performance."
   ]
  },
  {
   "cell_type": "markdown",
   "metadata": {},
   "source": [
    "### MLBase"
   ]
  },
  {
   "cell_type": "markdown",
   "metadata": {},
   "source": [
    "The `MLBase` package contains many functions for data manipulation and reduction.  It uses the Machine Learning (ML) terminology."
   ]
  },
  {
   "cell_type": "markdown",
   "metadata": {},
   "source": [
    "## [JuliaOpt](http://www.juliaopt.org) packages"
   ]
  },
  {
   "cell_type": "markdown",
   "metadata": {},
   "source": [
    "One of the areas in which Julia shines is optimization packages.  I mostly do nonlinear optimization subject to box constraints and use the `NLopt` package.  Many other types of optimization problems can be addressed with the `JuMP` package.\n",
    "\n",
    "A recent addition is the [JuliaDiff](http://www.juliadiff.org) organization that provides several types of automatic differentiation packages for Julia."
   ]
  }
 ],
 "metadata": {
  "kernelspec": {
   "display_name": "Julia 0.4.2",
   "language": "julia",
   "name": "julia-0.4"
  },
  "language_info": {
   "file_extension": ".jl",
   "mimetype": "application/julia",
   "name": "julia",
   "version": "0.4.2"
  }
 },
 "nbformat": 4,
 "nbformat_minor": 0
}
